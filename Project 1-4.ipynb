{
  "cells": [
    {
      "cell_type": "markdown",
      "source": [
        "Project 1 Problem 4"
      ],
      "metadata": {
        "nteract": {
          "transient": {
            "deleting": false
          }
        }
      }
    },
    {
      "cell_type": "code",
      "source": [
        "using LinearAlgebra\n",
        "using Plots\n",
        "using Clustering\n",
        "using CSV\n",
        "\n",
        "plotly()"
      ],
      "outputs": [
        {
          "output_type": "stream",
          "name": "stderr",
          "text": [
            "┌ Info: Precompiling Clustering [aaaa29a8-35af-508c-8bc3-b662a17a0fe5]\n",
            "└ @ Base loading.jl:1278\n",
            "┌ Info: For saving to png with the Plotly backend ORCA has to be installed.\n",
            "└ @ Plots C:\\Users\\lane\\.julia\\packages\\Plots\\4EfKl\\src\\backends.jl:373\n"
          ]
        },
        {
          "output_type": "execute_result",
          "execution_count": 1,
          "data": {
            "text/plain": "Plots.PlotlyBackend()"
          },
          "metadata": {}
        }
      ],
      "execution_count": 1,
      "metadata": {
        "collapsed": true,
        "jupyter": {
          "source_hidden": false,
          "outputs_hidden": false
        },
        "nteract": {
          "transient": {
            "deleting": false
          }
        },
        "execution": {
          "iopub.status.busy": "2020-10-27T19:36:23.145Z",
          "iopub.execute_input": "2020-10-27T19:36:23.824Z",
          "iopub.status.idle": "2020-10-27T19:37:21.572Z"
        }
      }
    },
    {
      "cell_type": "code",
      "source": [
        "wine=CSV.read(\"C:\\\\Users\\\\lane\\\\Documents\\\\Julia\\\\wine.csv\")\n",
        "\n",
        "x=wine.Alcohol_Content\n",
        "y=wine.Color_Intensity\n",
        "Type=wine.Type\n",
        "\n",
        "M=Matrix(wine)\n",
        "k=3\n",
        "\n",
        "results=kmeans(M',k)\n",
        "\n",
        "#By Alcohol Content v Color Intensity\n",
        "plotly()\n",
        "scatter(M'[2,:], M'[3,:], marker_z=results.assignments, color=:lightrainbow, legend=false)"
      ],
      "outputs": [
        {
          "output_type": "execute_result",
          "execution_count": 3,
          "data": {
            "text/html": "<!DOCTYPE html>\n<html>\n    <head>\n        <title>Plots.jl</title>\n        <meta http-equiv=\"content-type\" content=\"text/html; charset=UTF-8\">\n        <script src=\"https://cdn.plot.ly/plotly-1.54.2.min.js\"></script>\n    </head>\n    <body>\n            <div id=\"e7f52674-2860-4c96-9473-08284ed0bc52\" style=\"width:600px;height:400px;\"></div>\n    <script>\n    PLOT = document.getElementById('e7f52674-2860-4c96-9473-08284ed0bc52');\n    Plotly.plot(PLOT, [\n    {\n        \"xaxis\": \"x1\",\n        \"colorbar\": {\n            \"title\": \"\"\n        },\n        \"yaxis\": \"y1\",\n        \"x\": [\n            14.23\n        ],\n        \"showlegend\": true,\n        \"mode\": \"markers\",\n        \"name\": \"y1\",\n        \"zmin\": 1.0,\n        \"legendgroup\": \"y1\",\n        \"marker\": {\n            \"symbol\": \"circle\",\n            \"color\": \"rgba(255, 76, 76, 1.000)\",\n            \"line\": {\n                \"color\": \"rgba(0, 0, 0, 1.000)\",\n                \"width\": 1\n            },\n            \"size\": 8\n        },\n        \"zmax\": 3.0,\n        \"y\": [\n            5.64\n        ],\n        \"type\": \"scatter\"\n    },\n    {\n        \"xaxis\": \"x1\",\n        \"colorbar\": {\n            \"title\": \"\"\n        },\n        \"yaxis\": \"y1\",\n        \"x\": [\n            13.2\n        ],\n        \"showlegend\": false,\n        \"mode\": \"markers\",\n        \"name\": \"y1\",\n        \"zmin\": 1.0,\n        \"legendgroup\": \"y1\",\n        \"marker\": {\n            \"symbol\": \"circle\",\n            \"color\": \"rgba(255, 76, 76, 1.000)\",\n            \"line\": {\n                \"color\": \"rgba(0, 0, 0, 1.000)\",\n                \"width\": 1\n            },\n            \"size\": 8\n        },\n        \"zmax\": 3.0,\n        \"y\": [\n            4.38\n        ],\n        \"type\": \"scatter\"\n    },\n    {\n        \"xaxis\": \"x1\",\n        \"colorbar\": {\n            \"title\": \"\"\n        },\n        \"yaxis\": \"y1\",\n        \"x\": [\n            13.16\n        ],\n        \"showlegend\": false,\n        \"mode\": \"markers\",\n        \"name\": \"y1\",\n        \"zmin\": 1.0,\n        \"legendgroup\": \"y1\",\n        \"marker\": {\n            \"symbol\": \"circle\",\n            \"color\": \"rgba(255, 76, 76, 1.000)\",\n            \"line\": {\n                \"color\": \"rgba(0, 0, 0, 1.000)\",\n                \"width\": 1\n            },\n            \"size\": 8\n        },\n        \"zmax\": 3.0,\n        \"y\": [\n            5.68\n        ],\n        \"type\": \"scatter\"\n    },\n    {\n        \"xaxis\": \"x1\",\n        \"colorbar\": {\n            \"title\": \"\"\n        },\n        \"yaxis\": \"y1\",\n        \"x\": [\n            14.37\n        ],\n        \"showlegend\": false,\n        \"mode\": \"markers\",\n        \"name\": \"y1\",\n        \"zmin\": 1.0,\n        \"legendgroup\": \"y1\",\n        \"marker\": {\n            \"symbol\": \"circle\",\n            \"color\": \"rgba(76, 204, 76, 1.000)\",\n            \"line\": {\n                \"color\": \"rgba(0, 0, 0, 1.000)\",\n                \"width\": 1\n            },\n            \"size\": 8\n        },\n        \"zmax\": 3.0,\n        \"y\": [\n            7.8\n        ],\n        \"type\": \"scatter\"\n    },\n    {\n        \"xaxis\": \"x1\",\n        \"colorbar\": {\n            \"title\": \"\"\n        },\n        \"yaxis\": \"y1\",\n        \"x\": [\n            13.24\n        ],\n        \"showlegend\": false,\n        \"mode\": \"markers\",\n        \"name\": \"y1\",\n        \"zmin\": 1.0,\n        \"legendgroup\": \"y1\",\n        \"marker\": {\n            \"symbol\": \"circle\",\n            \"color\": \"rgba(255, 76, 76, 1.000)\",\n            \"line\": {\n                \"color\": \"rgba(0, 0, 0, 1.000)\",\n                \"width\": 1\n            },\n            \"size\": 8\n        },\n        \"zmax\": 3.0,\n        \"y\": [\n            4.32\n        ],\n        \"type\": \"scatter\"\n    },\n    {\n        \"xaxis\": \"x1\",\n        \"colorbar\": {\n            \"title\": \"\"\n        },\n        \"yaxis\": \"y1\",\n        \"x\": [\n            14.2\n        ],\n        \"showlegend\": false,\n        \"mode\": \"markers\",\n        \"name\": \"y1\",\n        \"zmin\": 1.0,\n        \"legendgroup\": \"y1\",\n        \"marker\": {\n            \"symbol\": \"circle\",\n            \"color\": \"rgba(255, 76, 76, 1.000)\",\n            \"line\": {\n                \"color\": \"rgba(0, 0, 0, 1.000)\",\n                \"width\": 1\n            },\n            \"size\": 8\n        },\n        \"zmax\": 3.0,\n        \"y\": [\n            6.75\n        ],\n        \"type\": \"scatter\"\n    },\n    {\n        \"xaxis\": \"x1\",\n        \"colorbar\": {\n            \"title\": \"\"\n        },\n        \"yaxis\": \"y1\",\n        \"x\": [\n            14.39\n        ],\n        \"showlegend\": false,\n        \"mode\": \"markers\",\n        \"name\": \"y1\",\n        \"zmin\": 1.0,\n        \"legendgroup\": \"y1\",\n        \"marker\": {\n            \"symbol\": \"circle\",\n            \"color\": \"rgba(255, 76, 76, 1.000)\",\n            \"line\": {\n                \"color\": \"rgba(0, 0, 0, 1.000)\",\n                \"width\": 1\n            },\n            \"size\": 8\n        },\n        \"zmax\": 3.0,\n        \"y\": [\n            5.25\n        ],\n        \"type\": \"scatter\"\n    },\n    {\n        \"xaxis\": \"x1\",\n        \"colorbar\": {\n            \"title\": \"\"\n        },\n        \"yaxis\": \"y1\",\n        \"x\": [\n            14.06\n        ],\n        \"showlegend\": false,\n        \"mode\": \"markers\",\n        \"name\": \"y1\",\n        \"zmin\": 1.0,\n        \"legendgroup\": \"y1\",\n        \"marker\": {\n            \"symbol\": \"circle\",\n            \"color\": \"rgba(255, 76, 76, 1.000)\",\n            \"line\": {\n                \"color\": \"rgba(0, 0, 0, 1.000)\",\n                \"width\": 1\n            },\n            \"size\": 8\n        },\n        \"zmax\": 3.0,\n        \"y\": [\n            5.05\n        ],\n        \"type\": \"scatter\"\n    },\n    {\n        \"xaxis\": \"x1\",\n        \"colorbar\": {\n            \"title\": \"\"\n        },\n        \"yaxis\": \"y1\",\n        \"x\": [\n            14.83\n        ],\n        \"showlegend\": false,\n        \"mode\": \"markers\",\n        \"name\": \"y1\",\n        \"zmin\": 1.0,\n        \"legendgroup\": \"y1\",\n        \"marker\": {\n            \"symbol\": \"circle\",\n            \"color\": \"rgba(255, 76, 76, 1.000)\",\n            \"line\": {\n                \"color\": \"rgba(0, 0, 0, 1.000)\",\n                \"width\": 1\n            },\n            \"size\": 8\n        },\n        \"zmax\": 3.0,\n        \"y\": [\n            5.2\n        ],\n        \"type\": \"scatter\"\n    },\n    {\n        \"xaxis\": \"x1\",\n        \"colorbar\": {\n            \"title\": \"\"\n        },\n        \"yaxis\": \"y1\",\n        \"x\": [\n            13.86\n        ],\n        \"showlegend\": false,\n        \"mode\": \"markers\",\n        \"name\": \"y1\",\n        \"zmin\": 1.0,\n        \"legendgroup\": \"y1\",\n        \"marker\": {\n            \"symbol\": \"circle\",\n            \"color\": \"rgba(255, 76, 76, 1.000)\",\n            \"line\": {\n                \"color\": \"rgba(0, 0, 0, 1.000)\",\n                \"width\": 1\n            },\n            \"size\": 8\n        },\n        \"zmax\": 3.0,\n        \"y\": [\n            7.22\n        ],\n        \"type\": \"scatter\"\n    },\n    {\n        \"xaxis\": \"x1\",\n        \"colorbar\": {\n            \"title\": \"\"\n        },\n        \"yaxis\": \"y1\",\n        \"x\": [\n            14.1\n        ],\n        \"showlegend\": false,\n        \"mode\": \"markers\",\n        \"name\": \"y1\",\n        \"zmin\": 1.0,\n        \"legendgroup\": \"y1\",\n        \"marker\": {\n            \"symbol\": \"circle\",\n            \"color\": \"rgba(255, 76, 76, 1.000)\",\n            \"line\": {\n                \"color\": \"rgba(0, 0, 0, 1.000)\",\n                \"width\": 1\n            },\n            \"size\": 8\n        },\n        \"zmax\": 3.0,\n        \"y\": [\n            5.75\n        ],\n        \"type\": \"scatter\"\n    },\n    {\n        \"xaxis\": \"x1\",\n        \"colorbar\": {\n            \"title\": \"\"\n        },\n        \"yaxis\": \"y1\",\n        \"x\": [\n            14.12\n        ],\n        \"showlegend\": false,\n        \"mode\": \"markers\",\n        \"name\": \"y1\",\n        \"zmin\": 1.0,\n        \"legendgroup\": \"y1\",\n        \"marker\": {\n            \"symbol\": \"circle\",\n            \"color\": \"rgba(255, 76, 76, 1.000)\",\n            \"line\": {\n                \"color\": \"rgba(0, 0, 0, 1.000)\",\n                \"width\": 1\n            },\n            \"size\": 8\n        },\n        \"zmax\": 3.0,\n        \"y\": [\n            5.0\n        ],\n        \"type\": \"scatter\"\n    },\n    {\n        \"xaxis\": \"x1\",\n        \"colorbar\": {\n            \"title\": \"\"\n        },\n        \"yaxis\": \"y1\",\n        \"x\": [\n            13.75\n        ],\n        \"showlegend\": false,\n        \"mode\": \"markers\",\n        \"name\": \"y1\",\n        \"zmin\": 1.0,\n        \"legendgroup\": \"y1\",\n        \"marker\": {\n            \"symbol\": \"circle\",\n            \"color\": \"rgba(255, 76, 76, 1.000)\",\n            \"line\": {\n                \"color\": \"rgba(0, 0, 0, 1.000)\",\n                \"width\": 1\n            },\n            \"size\": 8\n        },\n        \"zmax\": 3.0,\n        \"y\": [\n            5.6\n        ],\n        \"type\": \"scatter\"\n    },\n    {\n        \"xaxis\": \"x1\",\n        \"colorbar\": {\n            \"title\": \"\"\n        },\n        \"yaxis\": \"y1\",\n        \"x\": [\n            14.75\n        ],\n        \"showlegend\": false,\n        \"mode\": \"markers\",\n        \"name\": \"y1\",\n        \"zmin\": 1.0,\n        \"legendgroup\": \"y1\",\n        \"marker\": {\n            \"symbol\": \"circle\",\n            \"color\": \"rgba(255, 76, 76, 1.000)\",\n            \"line\": {\n                \"color\": \"rgba(0, 0, 0, 1.000)\",\n                \"width\": 1\n            },\n            \"size\": 8\n        },\n        \"zmax\": 3.0,\n        \"y\": [\n            5.4\n        ],\n        \"type\": \"scatter\"\n    },\n    {\n        \"xaxis\": \"x1\",\n        \"colorbar\": {\n            \"title\": \"\"\n        },\n        \"yaxis\": \"y1\",\n        \"x\": [\n            14.38\n        ],\n        \"showlegend\": false,\n        \"mode\": \"markers\",\n        \"name\": \"y1\",\n        \"zmin\": 1.0,\n        \"legendgroup\": \"y1\",\n        \"marker\": {\n            \"symbol\": \"circle\",\n            \"color\": \"rgba(255, 76, 76, 1.000)\",\n            \"line\": {\n                \"color\": \"rgba(0, 0, 0, 1.000)\",\n                \"width\": 1\n            },\n            \"size\": 8\n        },\n        \"zmax\": 3.0,\n        \"y\": [\n            7.5\n        ],\n        \"type\": \"scatter\"\n    },\n    {\n        \"xaxis\": \"x1\",\n        \"colorbar\": {\n            \"title\": \"\"\n        },\n        \"yaxis\": \"y1\",\n        \"x\": [\n            13.63\n        ],\n        \"showlegend\": false,\n        \"mode\": \"markers\",\n        \"name\": \"y1\",\n        \"zmin\": 1.0,\n        \"legendgroup\": \"y1\",\n        \"marker\": {\n            \"symbol\": \"circle\",\n            \"color\": \"rgba(255, 76, 76, 1.000)\",\n            \"line\": {\n                \"color\": \"rgba(0, 0, 0, 1.000)\",\n                \"width\": 1\n            },\n            \"size\": 8\n        },\n        \"zmax\": 3.0,\n        \"y\": [\n            7.3\n        ],\n        \"type\": \"scatter\"\n    },\n    {\n        \"xaxis\": \"x1\",\n        \"colorbar\": {\n            \"title\": \"\"\n        },\n        \"yaxis\": \"y1\",\n        \"x\": [\n            14.3\n        ],\n        \"showlegend\": false,\n        \"mode\": \"markers\",\n        \"name\": \"y1\",\n        \"zmin\": 1.0,\n        \"legendgroup\": \"y1\",\n        \"marker\": {\n            \"symbol\": \"circle\",\n            \"color\": \"rgba(255, 76, 76, 1.000)\",\n            \"line\": {\n                \"color\": \"rgba(0, 0, 0, 1.000)\",\n                \"width\": 1\n            },\n            \"size\": 8\n        },\n        \"zmax\": 3.0,\n        \"y\": [\n            6.2\n        ],\n        \"type\": \"scatter\"\n    },\n    {\n        \"xaxis\": \"x1\",\n        \"colorbar\": {\n            \"title\": \"\"\n        },\n        \"yaxis\": \"y1\",\n        \"x\": [\n            13.83\n        ],\n        \"showlegend\": false,\n        \"mode\": \"markers\",\n        \"name\": \"y1\",\n        \"zmin\": 1.0,\n        \"legendgroup\": \"y1\",\n        \"marker\": {\n            \"symbol\": \"circle\",\n            \"color\": \"rgba(255, 76, 76, 1.000)\",\n            \"line\": {\n                \"color\": \"rgba(0, 0, 0, 1.000)\",\n                \"width\": 1\n            },\n            \"size\": 8\n        },\n        \"zmax\": 3.0,\n        \"y\": [\n            6.6\n        ],\n        \"type\": \"scatter\"\n    },\n    {\n        \"xaxis\": \"x1\",\n        \"colorbar\": {\n            \"title\": \"\"\n        },\n        \"yaxis\": \"y1\",\n        \"x\": [\n            14.19\n        ],\n        \"showlegend\": false,\n        \"mode\": \"markers\",\n        \"name\": \"y1\",\n        \"zmin\": 1.0,\n        \"legendgroup\": \"y1\",\n        \"marker\": {\n            \"symbol\": \"circle\",\n            \"color\": \"rgba(76, 204, 76, 1.000)\",\n            \"line\": {\n                \"color\": \"rgba(0, 0, 0, 1.000)\",\n                \"width\": 1\n            },\n            \"size\": 8\n        },\n        \"zmax\": 3.0,\n        \"y\": [\n            8.7\n        ],\n        \"type\": \"scatter\"\n    },\n    {\n        \"xaxis\": \"x1\",\n        \"colorbar\": {\n            \"title\": \"\"\n        },\n        \"yaxis\": \"y1\",\n        \"x\": [\n            13.64\n        ],\n        \"showlegend\": false,\n        \"mode\": \"markers\",\n        \"name\": \"y1\",\n        \"zmin\": 1.0,\n        \"legendgroup\": \"y1\",\n        \"marker\": {\n            \"symbol\": \"circle\",\n            \"color\": \"rgba(255, 76, 76, 1.000)\",\n            \"line\": {\n                \"color\": \"rgba(0, 0, 0, 1.000)\",\n                \"width\": 1\n            },\n            \"size\": 8\n        },\n        \"zmax\": 3.0,\n        \"y\": [\n            5.1\n        ],\n        \"type\": \"scatter\"\n    },\n    {\n        \"xaxis\": \"x1\",\n        \"colorbar\": {\n            \"title\": \"\"\n        },\n        \"yaxis\": \"y1\",\n        \"x\": [\n            14.06\n        ],\n        \"showlegend\": false,\n        \"mode\": \"markers\",\n        \"name\": \"y1\",\n        \"zmin\": 1.0,\n        \"legendgroup\": \"y1\",\n        \"marker\": {\n            \"symbol\": \"circle\",\n            \"color\": \"rgba(255, 76, 76, 1.000)\",\n            \"line\": {\n                \"color\": \"rgba(0, 0, 0, 1.000)\",\n                \"width\": 1\n            },\n            \"size\": 8\n        },\n        \"zmax\": 3.0,\n        \"y\": [\n            5.65\n        ],\n        \"type\": \"scatter\"\n    },\n    {\n        \"xaxis\": \"x1\",\n        \"colorbar\": {\n            \"title\": \"\"\n        },\n        \"yaxis\": \"y1\",\n        \"x\": [\n            12.93\n        ],\n        \"showlegend\": false,\n        \"mode\": \"markers\",\n        \"name\": \"y1\",\n        \"zmin\": 1.0,\n        \"legendgroup\": \"y1\",\n        \"marker\": {\n            \"symbol\": \"circle\",\n            \"color\": \"rgba(255, 76, 76, 1.000)\",\n            \"line\": {\n                \"color\": \"rgba(0, 0, 0, 1.000)\",\n                \"width\": 1\n            },\n            \"size\": 8\n        },\n        \"zmax\": 3.0,\n        \"y\": [\n            4.5\n        ],\n        \"type\": \"scatter\"\n    },\n    {\n        \"xaxis\": \"x1\",\n        \"colorbar\": {\n            \"title\": \"\"\n        },\n        \"yaxis\": \"y1\",\n        \"x\": [\n            13.71\n        ],\n        \"showlegend\": false,\n        \"mode\": \"markers\",\n        \"name\": \"y1\",\n        \"zmin\": 1.0,\n        \"legendgroup\": \"y1\",\n        \"marker\": {\n            \"symbol\": \"circle\",\n            \"color\": \"rgba(255, 76, 76, 1.000)\",\n            \"line\": {\n                \"color\": \"rgba(0, 0, 0, 1.000)\",\n                \"width\": 1\n            },\n            \"size\": 8\n        },\n        \"zmax\": 3.0,\n        \"y\": [\n            3.8\n        ],\n        \"type\": \"scatter\"\n    },\n    {\n        \"xaxis\": \"x1\",\n        \"colorbar\": {\n            \"title\": \"\"\n        },\n        \"yaxis\": \"y1\",\n        \"x\": [\n            12.85\n        ],\n        \"showlegend\": false,\n        \"mode\": \"markers\",\n        \"name\": \"y1\",\n        \"zmin\": 1.0,\n        \"legendgroup\": \"y1\",\n        \"marker\": {\n            \"symbol\": \"circle\",\n            \"color\": \"rgba(204, 76, 204, 1.000)\",\n            \"line\": {\n                \"color\": \"rgba(0, 0, 0, 1.000)\",\n                \"width\": 1\n            },\n            \"size\": 8\n        },\n        \"zmax\": 3.0,\n        \"y\": [\n            3.93\n        ],\n        \"type\": \"scatter\"\n    },\n    {\n        \"xaxis\": \"x1\",\n        \"colorbar\": {\n            \"title\": \"\"\n        },\n        \"yaxis\": \"y1\",\n        \"x\": [\n            13.5\n        ],\n        \"showlegend\": false,\n        \"mode\": \"markers\",\n        \"name\": \"y1\",\n        \"zmin\": 1.0,\n        \"legendgroup\": \"y1\",\n        \"marker\": {\n            \"symbol\": \"circle\",\n            \"color\": \"rgba(204, 76, 204, 1.000)\",\n            \"line\": {\n                \"color\": \"rgba(0, 0, 0, 1.000)\",\n                \"width\": 1\n            },\n            \"size\": 8\n        },\n        \"zmax\": 3.0,\n        \"y\": [\n            3.52\n        ],\n        \"type\": \"scatter\"\n    },\n    {\n        \"xaxis\": \"x1\",\n        \"colorbar\": {\n            \"title\": \"\"\n        },\n        \"yaxis\": \"y1\",\n        \"x\": [\n            13.05\n        ],\n        \"showlegend\": false,\n        \"mode\": \"markers\",\n        \"name\": \"y1\",\n        \"zmin\": 1.0,\n        \"legendgroup\": \"y1\",\n        \"marker\": {\n            \"symbol\": \"circle\",\n            \"color\": \"rgba(204, 76, 204, 1.000)\",\n            \"line\": {\n                \"color\": \"rgba(0, 0, 0, 1.000)\",\n                \"width\": 1\n            },\n            \"size\": 8\n        },\n        \"zmax\": 3.0,\n        \"y\": [\n            3.58\n        ],\n        \"type\": \"scatter\"\n    },\n    {\n        \"xaxis\": \"x1\",\n        \"colorbar\": {\n            \"title\": \"\"\n        },\n        \"yaxis\": \"y1\",\n        \"x\": [\n            13.39\n        ],\n        \"showlegend\": false,\n        \"mode\": \"markers\",\n        \"name\": \"y1\",\n        \"zmin\": 1.0,\n        \"legendgroup\": \"y1\",\n        \"marker\": {\n            \"symbol\": \"circle\",\n            \"color\": \"rgba(255, 76, 76, 1.000)\",\n            \"line\": {\n                \"color\": \"rgba(0, 0, 0, 1.000)\",\n                \"width\": 1\n            },\n            \"size\": 8\n        },\n        \"zmax\": 3.0,\n        \"y\": [\n            4.8\n        ],\n        \"type\": \"scatter\"\n    },\n    {\n        \"xaxis\": \"x1\",\n        \"colorbar\": {\n            \"title\": \"\"\n        },\n        \"yaxis\": \"y1\",\n        \"x\": [\n            13.3\n        ],\n        \"showlegend\": false,\n        \"mode\": \"markers\",\n        \"name\": \"y1\",\n        \"zmin\": 1.0,\n        \"legendgroup\": \"y1\",\n        \"marker\": {\n            \"symbol\": \"circle\",\n            \"color\": \"rgba(255, 76, 76, 1.000)\",\n            \"line\": {\n                \"color\": \"rgba(0, 0, 0, 1.000)\",\n                \"width\": 1\n            },\n            \"size\": 8\n        },\n        \"zmax\": 3.0,\n        \"y\": [\n            3.95\n        ],\n        \"type\": \"scatter\"\n    },\n    {\n        \"xaxis\": \"x1\",\n        \"colorbar\": {\n            \"title\": \"\"\n        },\n        \"yaxis\": \"y1\",\n        \"x\": [\n            13.87\n        ],\n        \"showlegend\": false,\n        \"mode\": \"markers\",\n        \"name\": \"y1\",\n        \"zmin\": 1.0,\n        \"legendgroup\": \"y1\",\n        \"marker\": {\n            \"symbol\": \"circle\",\n            \"color\": \"rgba(255, 76, 76, 1.000)\",\n            \"line\": {\n                \"color\": \"rgba(0, 0, 0, 1.000)\",\n                \"width\": 1\n            },\n            \"size\": 8\n        },\n        \"zmax\": 3.0,\n        \"y\": [\n            4.5\n        ],\n        \"type\": \"scatter\"\n    },\n    {\n        \"xaxis\": \"x1\",\n        \"colorbar\": {\n            \"title\": \"\"\n        },\n        \"yaxis\": \"y1\",\n        \"x\": [\n            14.02\n        ],\n        \"showlegend\": false,\n        \"mode\": \"markers\",\n        \"name\": \"y1\",\n        \"zmin\": 1.0,\n        \"legendgroup\": \"y1\",\n        \"marker\": {\n            \"symbol\": \"circle\",\n            \"color\": \"rgba(255, 76, 76, 1.000)\",\n            \"line\": {\n                \"color\": \"rgba(0, 0, 0, 1.000)\",\n                \"width\": 1\n            },\n            \"size\": 8\n        },\n        \"zmax\": 3.0,\n        \"y\": [\n            4.7\n        ],\n        \"type\": \"scatter\"\n    },\n    {\n        \"xaxis\": \"x1\",\n        \"colorbar\": {\n            \"title\": \"\"\n        },\n        \"yaxis\": \"y1\",\n        \"x\": [\n            13.73\n        ],\n        \"showlegend\": false,\n        \"mode\": \"markers\",\n        \"name\": \"y1\",\n        \"zmin\": 1.0,\n        \"legendgroup\": \"y1\",\n        \"marker\": {\n            \"symbol\": \"circle\",\n            \"color\": \"rgba(255, 76, 76, 1.000)\",\n            \"line\": {\n                \"color\": \"rgba(0, 0, 0, 1.000)\",\n                \"width\": 1\n            },\n            \"size\": 8\n        },\n        \"zmax\": 3.0,\n        \"y\": [\n            5.7\n        ],\n        \"type\": \"scatter\"\n    },\n    {\n        \"xaxis\": \"x1\",\n        \"colorbar\": {\n            \"title\": \"\"\n        },\n        \"yaxis\": \"y1\",\n        \"x\": [\n            13.58\n        ],\n        \"showlegend\": false,\n        \"mode\": \"markers\",\n        \"name\": \"y1\",\n        \"zmin\": 1.0,\n        \"legendgroup\": \"y1\",\n        \"marker\": {\n            \"symbol\": \"circle\",\n            \"color\": \"rgba(255, 76, 76, 1.000)\",\n            \"line\": {\n                \"color\": \"rgba(0, 0, 0, 1.000)\",\n                \"width\": 1\n            },\n            \"size\": 8\n        },\n        \"zmax\": 3.0,\n        \"y\": [\n            6.9\n        ],\n        \"type\": \"scatter\"\n    },\n    {\n        \"xaxis\": \"x1\",\n        \"colorbar\": {\n            \"title\": \"\"\n        },\n        \"yaxis\": \"y1\",\n        \"x\": [\n            13.68\n        ],\n        \"showlegend\": false,\n        \"mode\": \"markers\",\n        \"name\": \"y1\",\n        \"zmin\": 1.0,\n        \"legendgroup\": \"y1\",\n        \"marker\": {\n            \"symbol\": \"circle\",\n            \"color\": \"rgba(255, 76, 76, 1.000)\",\n            \"line\": {\n                \"color\": \"rgba(0, 0, 0, 1.000)\",\n                \"width\": 1\n            },\n            \"size\": 8\n        },\n        \"zmax\": 3.0,\n        \"y\": [\n            3.84\n        ],\n        \"type\": \"scatter\"\n    },\n    {\n        \"xaxis\": \"x1\",\n        \"colorbar\": {\n            \"title\": \"\"\n        },\n        \"yaxis\": \"y1\",\n        \"x\": [\n            13.76\n        ],\n        \"showlegend\": false,\n        \"mode\": \"markers\",\n        \"name\": \"y1\",\n        \"zmin\": 1.0,\n        \"legendgroup\": \"y1\",\n        \"marker\": {\n            \"symbol\": \"circle\",\n            \"color\": \"rgba(255, 76, 76, 1.000)\",\n            \"line\": {\n                \"color\": \"rgba(0, 0, 0, 1.000)\",\n                \"width\": 1\n            },\n            \"size\": 8\n        },\n        \"zmax\": 3.0,\n        \"y\": [\n            5.4\n        ],\n        \"type\": \"scatter\"\n    },\n    {\n        \"xaxis\": \"x1\",\n        \"colorbar\": {\n            \"title\": \"\"\n        },\n        \"yaxis\": \"y1\",\n        \"x\": [\n            13.51\n        ],\n        \"showlegend\": false,\n        \"mode\": \"markers\",\n        \"name\": \"y1\",\n        \"zmin\": 1.0,\n        \"legendgroup\": \"y1\",\n        \"marker\": {\n            \"symbol\": \"circle\",\n            \"color\": \"rgba(255, 76, 76, 1.000)\",\n            \"line\": {\n                \"color\": \"rgba(0, 0, 0, 1.000)\",\n                \"width\": 1\n            },\n            \"size\": 8\n        },\n        \"zmax\": 3.0,\n        \"y\": [\n            4.2\n        ],\n        \"type\": \"scatter\"\n    },\n    {\n        \"xaxis\": \"x1\",\n        \"colorbar\": {\n            \"title\": \"\"\n        },\n        \"yaxis\": \"y1\",\n        \"x\": [\n            13.48\n        ],\n        \"showlegend\": false,\n        \"mode\": \"markers\",\n        \"name\": \"y1\",\n        \"zmin\": 1.0,\n        \"legendgroup\": \"y1\",\n        \"marker\": {\n            \"symbol\": \"circle\",\n            \"color\": \"rgba(255, 76, 76, 1.000)\",\n            \"line\": {\n                \"color\": \"rgba(0, 0, 0, 1.000)\",\n                \"width\": 1\n            },\n            \"size\": 8\n        },\n        \"zmax\": 3.0,\n        \"y\": [\n            5.1\n        ],\n        \"type\": \"scatter\"\n    },\n    {\n        \"xaxis\": \"x1\",\n        \"colorbar\": {\n            \"title\": \"\"\n        },\n        \"yaxis\": \"y1\",\n        \"x\": [\n            13.28\n        ],\n        \"showlegend\": false,\n        \"mode\": \"markers\",\n        \"name\": \"y1\",\n        \"zmin\": 1.0,\n        \"legendgroup\": \"y1\",\n        \"marker\": {\n            \"symbol\": \"circle\",\n            \"color\": \"rgba(255, 76, 76, 1.000)\",\n            \"line\": {\n                \"color\": \"rgba(0, 0, 0, 1.000)\",\n                \"width\": 1\n            },\n            \"size\": 8\n        },\n        \"zmax\": 3.0,\n        \"y\": [\n            4.6\n        ],\n        \"type\": \"scatter\"\n    },\n    {\n        \"xaxis\": \"x1\",\n        \"colorbar\": {\n            \"title\": \"\"\n        },\n        \"yaxis\": \"y1\",\n        \"x\": [\n            13.05\n        ],\n        \"showlegend\": false,\n        \"mode\": \"markers\",\n        \"name\": \"y1\",\n        \"zmin\": 1.0,\n        \"legendgroup\": \"y1\",\n        \"marker\": {\n            \"symbol\": \"circle\",\n            \"color\": \"rgba(255, 76, 76, 1.000)\",\n            \"line\": {\n                \"color\": \"rgba(0, 0, 0, 1.000)\",\n                \"width\": 1\n            },\n            \"size\": 8\n        },\n        \"zmax\": 3.0,\n        \"y\": [\n            4.25\n        ],\n        \"type\": \"scatter\"\n    },\n    {\n        \"xaxis\": \"x1\",\n        \"colorbar\": {\n            \"title\": \"\"\n        },\n        \"yaxis\": \"y1\",\n        \"x\": [\n            13.07\n        ],\n        \"showlegend\": false,\n        \"mode\": \"markers\",\n        \"name\": \"y1\",\n        \"zmin\": 1.0,\n        \"legendgroup\": \"y1\",\n        \"marker\": {\n            \"symbol\": \"circle\",\n            \"color\": \"rgba(204, 76, 204, 1.000)\",\n            \"line\": {\n                \"color\": \"rgba(0, 0, 0, 1.000)\",\n                \"width\": 1\n            },\n            \"size\": 8\n        },\n        \"zmax\": 3.0,\n        \"y\": [\n            3.7\n        ],\n        \"type\": \"scatter\"\n    },\n    {\n        \"xaxis\": \"x1\",\n        \"colorbar\": {\n            \"title\": \"\"\n        },\n        \"yaxis\": \"y1\",\n        \"x\": [\n            14.22\n        ],\n        \"showlegend\": false,\n        \"mode\": \"markers\",\n        \"name\": \"y1\",\n        \"zmin\": 1.0,\n        \"legendgroup\": \"y1\",\n        \"marker\": {\n            \"symbol\": \"circle\",\n            \"color\": \"rgba(255, 76, 76, 1.000)\",\n            \"line\": {\n                \"color\": \"rgba(0, 0, 0, 1.000)\",\n                \"width\": 1\n            },\n            \"size\": 8\n        },\n        \"zmax\": 3.0,\n        \"y\": [\n            5.1\n        ],\n        \"type\": \"scatter\"\n    },\n    {\n        \"xaxis\": \"x1\",\n        \"colorbar\": {\n            \"title\": \"\"\n        },\n        \"yaxis\": \"y1\",\n        \"x\": [\n            13.56\n        ],\n        \"showlegend\": false,\n        \"mode\": \"markers\",\n        \"name\": \"y1\",\n        \"zmin\": 1.0,\n        \"legendgroup\": \"y1\",\n        \"marker\": {\n            \"symbol\": \"circle\",\n            \"color\": \"rgba(255, 76, 76, 1.000)\",\n            \"line\": {\n                \"color\": \"rgba(0, 0, 0, 1.000)\",\n                \"width\": 1\n            },\n            \"size\": 8\n        },\n        \"zmax\": 3.0,\n        \"y\": [\n            6.13\n        ],\n        \"type\": \"scatter\"\n    },\n    {\n        \"xaxis\": \"x1\",\n        \"colorbar\": {\n            \"title\": \"\"\n        },\n        \"yaxis\": \"y1\",\n        \"x\": [\n            13.41\n        ],\n        \"showlegend\": false,\n        \"mode\": \"markers\",\n        \"name\": \"y1\",\n        \"zmin\": 1.0,\n        \"legendgroup\": \"y1\",\n        \"marker\": {\n            \"symbol\": \"circle\",\n            \"color\": \"rgba(255, 76, 76, 1.000)\",\n            \"line\": {\n                \"color\": \"rgba(0, 0, 0, 1.000)\",\n                \"width\": 1\n            },\n            \"size\": 8\n        },\n        \"zmax\": 3.0,\n        \"y\": [\n            4.28\n        ],\n        \"type\": \"scatter\"\n    },\n    {\n        \"xaxis\": \"x1\",\n        \"colorbar\": {\n            \"title\": \"\"\n        },\n        \"yaxis\": \"y1\",\n        \"x\": [\n            13.88\n        ],\n        \"showlegend\": false,\n        \"mode\": \"markers\",\n        \"name\": \"y1\",\n        \"zmin\": 1.0,\n        \"legendgroup\": \"y1\",\n        \"marker\": {\n            \"symbol\": \"circle\",\n            \"color\": \"rgba(255, 76, 76, 1.000)\",\n            \"line\": {\n                \"color\": \"rgba(0, 0, 0, 1.000)\",\n                \"width\": 1\n            },\n            \"size\": 8\n        },\n        \"zmax\": 3.0,\n        \"y\": [\n            5.43\n        ],\n        \"type\": \"scatter\"\n    },\n    {\n        \"xaxis\": \"x1\",\n        \"colorbar\": {\n            \"title\": \"\"\n        },\n        \"yaxis\": \"y1\",\n        \"x\": [\n            13.24\n        ],\n        \"showlegend\": false,\n        \"mode\": \"markers\",\n        \"name\": \"y1\",\n        \"zmin\": 1.0,\n        \"legendgroup\": \"y1\",\n        \"marker\": {\n            \"symbol\": \"circle\",\n            \"color\": \"rgba(255, 76, 76, 1.000)\",\n            \"line\": {\n                \"color\": \"rgba(0, 0, 0, 1.000)\",\n                \"width\": 1\n            },\n            \"size\": 8\n        },\n        \"zmax\": 3.0,\n        \"y\": [\n            4.36\n        ],\n        \"type\": \"scatter\"\n    },\n    {\n        \"xaxis\": \"x1\",\n        \"colorbar\": {\n            \"title\": \"\"\n        },\n        \"yaxis\": \"y1\",\n        \"x\": [\n            13.05\n        ],\n        \"showlegend\": false,\n        \"mode\": \"markers\",\n        \"name\": \"y1\",\n        \"zmin\": 1.0,\n        \"legendgroup\": \"y1\",\n        \"marker\": {\n            \"symbol\": \"circle\",\n            \"color\": \"rgba(255, 76, 76, 1.000)\",\n            \"line\": {\n                \"color\": \"rgba(0, 0, 0, 1.000)\",\n                \"width\": 1\n            },\n            \"size\": 8\n        },\n        \"zmax\": 3.0,\n        \"y\": [\n            5.04\n        ],\n        \"type\": \"scatter\"\n    },\n    {\n        \"xaxis\": \"x1\",\n        \"colorbar\": {\n            \"title\": \"\"\n        },\n        \"yaxis\": \"y1\",\n        \"x\": [\n            14.21\n        ],\n        \"showlegend\": false,\n        \"mode\": \"markers\",\n        \"name\": \"y1\",\n        \"zmin\": 1.0,\n        \"legendgroup\": \"y1\",\n        \"marker\": {\n            \"symbol\": \"circle\",\n            \"color\": \"rgba(255, 76, 76, 1.000)\",\n            \"line\": {\n                \"color\": \"rgba(0, 0, 0, 1.000)\",\n                \"width\": 1\n            },\n            \"size\": 8\n        },\n        \"zmax\": 3.0,\n        \"y\": [\n            5.24\n        ],\n        \"type\": \"scatter\"\n    },\n    {\n        \"xaxis\": \"x1\",\n        \"colorbar\": {\n            \"title\": \"\"\n        },\n        \"yaxis\": \"y1\",\n        \"x\": [\n            14.38\n        ],\n        \"showlegend\": false,\n        \"mode\": \"markers\",\n        \"name\": \"y1\",\n        \"zmin\": 1.0,\n        \"legendgroup\": \"y1\",\n        \"marker\": {\n            \"symbol\": \"circle\",\n            \"color\": \"rgba(255, 76, 76, 1.000)\",\n            \"line\": {\n                \"color\": \"rgba(0, 0, 0, 1.000)\",\n                \"width\": 1\n            },\n            \"size\": 8\n        },\n        \"zmax\": 3.0,\n        \"y\": [\n            4.9\n        ],\n        \"type\": \"scatter\"\n    },\n    {\n        \"xaxis\": \"x1\",\n        \"colorbar\": {\n            \"title\": \"\"\n        },\n        \"yaxis\": \"y1\",\n        \"x\": [\n            13.9\n        ],\n        \"showlegend\": false,\n        \"mode\": \"markers\",\n        \"name\": \"y1\",\n        \"zmin\": 1.0,\n        \"legendgroup\": \"y1\",\n        \"marker\": {\n            \"symbol\": \"circle\",\n            \"color\": \"rgba(255, 76, 76, 1.000)\",\n            \"line\": {\n                \"color\": \"rgba(0, 0, 0, 1.000)\",\n                \"width\": 1\n            },\n            \"size\": 8\n        },\n        \"zmax\": 3.0,\n        \"y\": [\n            6.1\n        ],\n        \"type\": \"scatter\"\n    },\n    {\n        \"xaxis\": \"x1\",\n        \"colorbar\": {\n            \"title\": \"\"\n        },\n        \"yaxis\": \"y1\",\n        \"x\": [\n            14.1\n        ],\n        \"showlegend\": false,\n        \"mode\": \"markers\",\n        \"name\": \"y1\",\n        \"zmin\": 1.0,\n        \"legendgroup\": \"y1\",\n        \"marker\": {\n            \"symbol\": \"circle\",\n            \"color\": \"rgba(255, 76, 76, 1.000)\",\n            \"line\": {\n                \"color\": \"rgba(0, 0, 0, 1.000)\",\n                \"width\": 1\n            },\n            \"size\": 8\n        },\n        \"zmax\": 3.0,\n        \"y\": [\n            6.2\n        ],\n        \"type\": \"scatter\"\n    },\n    {\n        \"xaxis\": \"x1\",\n        \"colorbar\": {\n            \"title\": \"\"\n        },\n        \"yaxis\": \"y1\",\n        \"x\": [\n            13.94\n        ],\n        \"showlegend\": false,\n        \"mode\": \"markers\",\n        \"name\": \"y1\",\n        \"zmin\": 1.0,\n        \"legendgroup\": \"y1\",\n        \"marker\": {\n            \"symbol\": \"circle\",\n            \"color\": \"rgba(76, 204, 76, 1.000)\",\n            \"line\": {\n                \"color\": \"rgba(0, 0, 0, 1.000)\",\n                \"width\": 1\n            },\n            \"size\": 8\n        },\n        \"zmax\": 3.0,\n        \"y\": [\n            8.9\n        ],\n        \"type\": \"scatter\"\n    },\n    {\n        \"xaxis\": \"x1\",\n        \"colorbar\": {\n            \"title\": \"\"\n        },\n        \"yaxis\": \"y1\",\n        \"x\": [\n            13.05\n        ],\n        \"showlegend\": false,\n        \"mode\": \"markers\",\n        \"name\": \"y1\",\n        \"zmin\": 1.0,\n        \"legendgroup\": \"y1\",\n        \"marker\": {\n            \"symbol\": \"circle\",\n            \"color\": \"rgba(255, 76, 76, 1.000)\",\n            \"line\": {\n                \"color\": \"rgba(0, 0, 0, 1.000)\",\n                \"width\": 1\n            },\n            \"size\": 8\n        },\n        \"zmax\": 3.0,\n        \"y\": [\n            7.2\n        ],\n        \"type\": \"scatter\"\n    },\n    {\n        \"xaxis\": \"x1\",\n        \"colorbar\": {\n            \"title\": \"\"\n        },\n        \"yaxis\": \"y1\",\n        \"x\": [\n            13.83\n        ],\n        \"showlegend\": false,\n        \"mode\": \"markers\",\n        \"name\": \"y1\",\n        \"zmin\": 1.0,\n        \"legendgroup\": \"y1\",\n        \"marker\": {\n            \"symbol\": \"circle\",\n            \"color\": \"rgba(255, 76, 76, 1.000)\",\n            \"line\": {\n                \"color\": \"rgba(0, 0, 0, 1.000)\",\n                \"width\": 1\n            },\n            \"size\": 8\n        },\n        \"zmax\": 3.0,\n        \"y\": [\n            5.6\n        ],\n        \"type\": \"scatter\"\n    },\n    {\n        \"xaxis\": \"x1\",\n        \"colorbar\": {\n            \"title\": \"\"\n        },\n        \"yaxis\": \"y1\",\n        \"x\": [\n            13.82\n        ],\n        \"showlegend\": false,\n        \"mode\": \"markers\",\n        \"name\": \"y1\",\n        \"zmin\": 1.0,\n        \"legendgroup\": \"y1\",\n        \"marker\": {\n            \"symbol\": \"circle\",\n            \"color\": \"rgba(255, 76, 76, 1.000)\",\n            \"line\": {\n                \"color\": \"rgba(0, 0, 0, 1.000)\",\n                \"width\": 1\n            },\n            \"size\": 8\n        },\n        \"zmax\": 3.0,\n        \"y\": [\n            7.05\n        ],\n        \"type\": \"scatter\"\n    },\n    {\n        \"xaxis\": \"x1\",\n        \"colorbar\": {\n            \"title\": \"\"\n        },\n        \"yaxis\": \"y1\",\n        \"x\": [\n            13.77\n        ],\n        \"showlegend\": false,\n        \"mode\": \"markers\",\n        \"name\": \"y1\",\n        \"zmin\": 1.0,\n        \"legendgroup\": \"y1\",\n        \"marker\": {\n            \"symbol\": \"circle\",\n            \"color\": \"rgba(255, 76, 76, 1.000)\",\n            \"line\": {\n                \"color\": \"rgba(0, 0, 0, 1.000)\",\n                \"width\": 1\n            },\n            \"size\": 8\n        },\n        \"zmax\": 3.0,\n        \"y\": [\n            6.3\n        ],\n        \"type\": \"scatter\"\n    },\n    {\n        \"xaxis\": \"x1\",\n        \"colorbar\": {\n            \"title\": \"\"\n        },\n        \"yaxis\": \"y1\",\n        \"x\": [\n            13.74\n        ],\n        \"showlegend\": false,\n        \"mode\": \"markers\",\n        \"name\": \"y1\",\n        \"zmin\": 1.0,\n        \"legendgroup\": \"y1\",\n        \"marker\": {\n            \"symbol\": \"circle\",\n            \"color\": \"rgba(255, 76, 76, 1.000)\",\n            \"line\": {\n                \"color\": \"rgba(0, 0, 0, 1.000)\",\n                \"width\": 1\n            },\n            \"size\": 8\n        },\n        \"zmax\": 3.0,\n        \"y\": [\n            5.85\n        ],\n        \"type\": \"scatter\"\n    },\n    {\n        \"xaxis\": \"x1\",\n        \"colorbar\": {\n            \"title\": \"\"\n        },\n        \"yaxis\": \"y1\",\n        \"x\": [\n            13.56\n        ],\n        \"showlegend\": false,\n        \"mode\": \"markers\",\n        \"name\": \"y1\",\n        \"zmin\": 1.0,\n        \"legendgroup\": \"y1\",\n        \"marker\": {\n            \"symbol\": \"circle\",\n            \"color\": \"rgba(255, 76, 76, 1.000)\",\n            \"line\": {\n                \"color\": \"rgba(0, 0, 0, 1.000)\",\n                \"width\": 1\n            },\n            \"size\": 8\n        },\n        \"zmax\": 3.0,\n        \"y\": [\n            6.25\n        ],\n        \"type\": \"scatter\"\n    },\n    {\n        \"xaxis\": \"x1\",\n        \"colorbar\": {\n            \"title\": \"\"\n        },\n        \"yaxis\": \"y1\",\n        \"x\": [\n            14.22\n        ],\n        \"showlegend\": false,\n        \"mode\": \"markers\",\n        \"name\": \"y1\",\n        \"zmin\": 1.0,\n        \"legendgroup\": \"y1\",\n        \"marker\": {\n            \"symbol\": \"circle\",\n            \"color\": \"rgba(255, 76, 76, 1.000)\",\n            \"line\": {\n                \"color\": \"rgba(0, 0, 0, 1.000)\",\n                \"width\": 1\n            },\n            \"size\": 8\n        },\n        \"zmax\": 3.0,\n        \"y\": [\n            6.38\n        ],\n        \"type\": \"scatter\"\n    },\n    {\n        \"xaxis\": \"x1\",\n        \"colorbar\": {\n            \"title\": \"\"\n        },\n        \"yaxis\": \"y1\",\n        \"x\": [\n            13.29\n        ],\n        \"showlegend\": false,\n        \"mode\": \"markers\",\n        \"name\": \"y1\",\n        \"zmin\": 1.0,\n        \"legendgroup\": \"y1\",\n        \"marker\": {\n            \"symbol\": \"circle\",\n            \"color\": \"rgba(255, 76, 76, 1.000)\",\n            \"line\": {\n                \"color\": \"rgba(0, 0, 0, 1.000)\",\n                \"width\": 1\n            },\n            \"size\": 8\n        },\n        \"zmax\": 3.0,\n        \"y\": [\n            6.0\n        ],\n        \"type\": \"scatter\"\n    },\n    {\n        \"xaxis\": \"x1\",\n        \"colorbar\": {\n            \"title\": \"\"\n        },\n        \"yaxis\": \"y1\",\n        \"x\": [\n            13.72\n        ],\n        \"showlegend\": false,\n        \"mode\": \"markers\",\n        \"name\": \"y1\",\n        \"zmin\": 1.0,\n        \"legendgroup\": \"y1\",\n        \"marker\": {\n            \"symbol\": \"circle\",\n            \"color\": \"rgba(255, 76, 76, 1.000)\",\n            \"line\": {\n                \"color\": \"rgba(0, 0, 0, 1.000)\",\n                \"width\": 1\n            },\n            \"size\": 8\n        },\n        \"zmax\": 3.0,\n        \"y\": [\n            6.8\n        ],\n        \"type\": \"scatter\"\n    },\n    {\n        \"xaxis\": \"x1\",\n        \"colorbar\": {\n            \"title\": \"\"\n        },\n        \"yaxis\": \"y1\",\n        \"x\": [\n            12.37\n        ],\n        \"showlegend\": false,\n        \"mode\": \"markers\",\n        \"name\": \"y1\",\n        \"zmin\": 1.0,\n        \"legendgroup\": \"y1\",\n        \"marker\": {\n            \"symbol\": \"circle\",\n            \"color\": \"rgba(204, 76, 204, 1.000)\",\n            \"line\": {\n                \"color\": \"rgba(0, 0, 0, 1.000)\",\n                \"width\": 1\n            },\n            \"size\": 8\n        },\n        \"zmax\": 3.0,\n        \"y\": [\n            1.95\n        ],\n        \"type\": \"scatter\"\n    },\n    {\n        \"xaxis\": \"x1\",\n        \"colorbar\": {\n            \"title\": \"\"\n        },\n        \"yaxis\": \"y1\",\n        \"x\": [\n            12.33\n        ],\n        \"showlegend\": false,\n        \"mode\": \"markers\",\n        \"name\": \"y1\",\n        \"zmin\": 1.0,\n        \"legendgroup\": \"y1\",\n        \"marker\": {\n            \"symbol\": \"circle\",\n            \"color\": \"rgba(204, 76, 204, 1.000)\",\n            \"line\": {\n                \"color\": \"rgba(0, 0, 0, 1.000)\",\n                \"width\": 1\n            },\n            \"size\": 8\n        },\n        \"zmax\": 3.0,\n        \"y\": [\n            3.27\n        ],\n        \"type\": \"scatter\"\n    },\n    {\n        \"xaxis\": \"x1\",\n        \"colorbar\": {\n            \"title\": \"\"\n        },\n        \"yaxis\": \"y1\",\n        \"x\": [\n            12.64\n        ],\n        \"showlegend\": false,\n        \"mode\": \"markers\",\n        \"name\": \"y1\",\n        \"zmin\": 1.0,\n        \"legendgroup\": \"y1\",\n        \"marker\": {\n            \"symbol\": \"circle\",\n            \"color\": \"rgba(255, 76, 76, 1.000)\",\n            \"line\": {\n                \"color\": \"rgba(0, 0, 0, 1.000)\",\n                \"width\": 1\n            },\n            \"size\": 8\n        },\n        \"zmax\": 3.0,\n        \"y\": [\n            5.75\n        ],\n        \"type\": \"scatter\"\n    },\n    {\n        \"xaxis\": \"x1\",\n        \"colorbar\": {\n            \"title\": \"\"\n        },\n        \"yaxis\": \"y1\",\n        \"x\": [\n            13.67\n        ],\n        \"showlegend\": false,\n        \"mode\": \"markers\",\n        \"name\": \"y1\",\n        \"zmin\": 1.0,\n        \"legendgroup\": \"y1\",\n        \"marker\": {\n            \"symbol\": \"circle\",\n            \"color\": \"rgba(204, 76, 204, 1.000)\",\n            \"line\": {\n                \"color\": \"rgba(0, 0, 0, 1.000)\",\n                \"width\": 1\n            },\n            \"size\": 8\n        },\n        \"zmax\": 3.0,\n        \"y\": [\n            3.8\n        ],\n        \"type\": \"scatter\"\n    },\n    {\n        \"xaxis\": \"x1\",\n        \"colorbar\": {\n            \"title\": \"\"\n        },\n        \"yaxis\": \"y1\",\n        \"x\": [\n            12.37\n        ],\n        \"showlegend\": false,\n        \"mode\": \"markers\",\n        \"name\": \"y1\",\n        \"zmin\": 1.0,\n        \"legendgroup\": \"y1\",\n        \"marker\": {\n            \"symbol\": \"circle\",\n            \"color\": \"rgba(255, 76, 76, 1.000)\",\n            \"line\": {\n                \"color\": \"rgba(0, 0, 0, 1.000)\",\n                \"width\": 1\n            },\n            \"size\": 8\n        },\n        \"zmax\": 3.0,\n        \"y\": [\n            4.45\n        ],\n        \"type\": \"scatter\"\n    },\n    {\n        \"xaxis\": \"x1\",\n        \"colorbar\": {\n            \"title\": \"\"\n        },\n        \"yaxis\": \"y1\",\n        \"x\": [\n            12.17\n        ],\n        \"showlegend\": false,\n        \"mode\": \"markers\",\n        \"name\": \"y1\",\n        \"zmin\": 1.0,\n        \"legendgroup\": \"y1\",\n        \"marker\": {\n            \"symbol\": \"circle\",\n            \"color\": \"rgba(204, 76, 204, 1.000)\",\n            \"line\": {\n                \"color\": \"rgba(0, 0, 0, 1.000)\",\n                \"width\": 1\n            },\n            \"size\": 8\n        },\n        \"zmax\": 3.0,\n        \"y\": [\n            2.95\n        ],\n        \"type\": \"scatter\"\n    },\n    {\n        \"xaxis\": \"x1\",\n        \"colorbar\": {\n            \"title\": \"\"\n        },\n        \"yaxis\": \"y1\",\n        \"x\": [\n            12.37\n        ],\n        \"showlegend\": false,\n        \"mode\": \"markers\",\n        \"name\": \"y1\",\n        \"zmin\": 1.0,\n        \"legendgroup\": \"y1\",\n        \"marker\": {\n            \"symbol\": \"circle\",\n            \"color\": \"rgba(255, 76, 76, 1.000)\",\n            \"line\": {\n                \"color\": \"rgba(0, 0, 0, 1.000)\",\n                \"width\": 1\n            },\n            \"size\": 8\n        },\n        \"zmax\": 3.0,\n        \"y\": [\n            4.6\n        ],\n        \"type\": \"scatter\"\n    },\n    {\n        \"xaxis\": \"x1\",\n        \"colorbar\": {\n            \"title\": \"\"\n        },\n        \"yaxis\": \"y1\",\n        \"x\": [\n            13.11\n        ],\n        \"showlegend\": false,\n        \"mode\": \"markers\",\n        \"name\": \"y1\",\n        \"zmin\": 1.0,\n        \"legendgroup\": \"y1\",\n        \"marker\": {\n            \"symbol\": \"circle\",\n            \"color\": \"rgba(255, 76, 76, 1.000)\",\n            \"line\": {\n                \"color\": \"rgba(0, 0, 0, 1.000)\",\n                \"width\": 1\n            },\n            \"size\": 8\n        },\n        \"zmax\": 3.0,\n        \"y\": [\n            5.3\n        ],\n        \"type\": \"scatter\"\n    },\n    {\n        \"xaxis\": \"x1\",\n        \"colorbar\": {\n            \"title\": \"\"\n        },\n        \"yaxis\": \"y1\",\n        \"x\": [\n            12.37\n        ],\n        \"showlegend\": false,\n        \"mode\": \"markers\",\n        \"name\": \"y1\",\n        \"zmin\": 1.0,\n        \"legendgroup\": \"y1\",\n        \"marker\": {\n            \"symbol\": \"circle\",\n            \"color\": \"rgba(255, 76, 76, 1.000)\",\n            \"line\": {\n                \"color\": \"rgba(0, 0, 0, 1.000)\",\n                \"width\": 1\n            },\n            \"size\": 8\n        },\n        \"zmax\": 3.0,\n        \"y\": [\n            4.68\n        ],\n        \"type\": \"scatter\"\n    },\n    {\n        \"xaxis\": \"x1\",\n        \"colorbar\": {\n            \"title\": \"\"\n        },\n        \"yaxis\": \"y1\",\n        \"x\": [\n            13.34\n        ],\n        \"showlegend\": false,\n        \"mode\": \"markers\",\n        \"name\": \"y1\",\n        \"zmin\": 1.0,\n        \"legendgroup\": \"y1\",\n        \"marker\": {\n            \"symbol\": \"circle\",\n            \"color\": \"rgba(204, 76, 204, 1.000)\",\n            \"line\": {\n                \"color\": \"rgba(0, 0, 0, 1.000)\",\n                \"width\": 1\n            },\n            \"size\": 8\n        },\n        \"zmax\": 3.0,\n        \"y\": [\n            3.17\n        ],\n        \"type\": \"scatter\"\n    },\n    {\n        \"xaxis\": \"x1\",\n        \"colorbar\": {\n            \"title\": \"\"\n        },\n        \"yaxis\": \"y1\",\n        \"x\": [\n            12.21\n        ],\n        \"showlegend\": false,\n        \"mode\": \"markers\",\n        \"name\": \"y1\",\n        \"zmin\": 1.0,\n        \"legendgroup\": \"y1\",\n        \"marker\": {\n            \"symbol\": \"circle\",\n            \"color\": \"rgba(204, 76, 204, 1.000)\",\n            \"line\": {\n                \"color\": \"rgba(0, 0, 0, 1.000)\",\n                \"width\": 1\n            },\n            \"size\": 8\n        },\n        \"zmax\": 3.0,\n        \"y\": [\n            2.85\n        ],\n        \"type\": \"scatter\"\n    },\n    {\n        \"xaxis\": \"x1\",\n        \"colorbar\": {\n            \"title\": \"\"\n        },\n        \"yaxis\": \"y1\",\n        \"x\": [\n            12.29\n        ],\n        \"showlegend\": false,\n        \"mode\": \"markers\",\n        \"name\": \"y1\",\n        \"zmin\": 1.0,\n        \"legendgroup\": \"y1\",\n        \"marker\": {\n            \"symbol\": \"circle\",\n            \"color\": \"rgba(204, 76, 204, 1.000)\",\n            \"line\": {\n                \"color\": \"rgba(0, 0, 0, 1.000)\",\n                \"width\": 1\n            },\n            \"size\": 8\n        },\n        \"zmax\": 3.0,\n        \"y\": [\n            3.05\n        ],\n        \"type\": \"scatter\"\n    },\n    {\n        \"xaxis\": \"x1\",\n        \"colorbar\": {\n            \"title\": \"\"\n        },\n        \"yaxis\": \"y1\",\n        \"x\": [\n            13.86\n        ],\n        \"showlegend\": false,\n        \"mode\": \"markers\",\n        \"name\": \"y1\",\n        \"zmin\": 1.0,\n        \"legendgroup\": \"y1\",\n        \"marker\": {\n            \"symbol\": \"circle\",\n            \"color\": \"rgba(204, 76, 204, 1.000)\",\n            \"line\": {\n                \"color\": \"rgba(0, 0, 0, 1.000)\",\n                \"width\": 1\n            },\n            \"size\": 8\n        },\n        \"zmax\": 3.0,\n        \"y\": [\n            3.38\n        ],\n        \"type\": \"scatter\"\n    },\n    {\n        \"xaxis\": \"x1\",\n        \"colorbar\": {\n            \"title\": \"\"\n        },\n        \"yaxis\": \"y1\",\n        \"x\": [\n            13.49\n        ],\n        \"showlegend\": false,\n        \"mode\": \"markers\",\n        \"name\": \"y1\",\n        \"zmin\": 1.0,\n        \"legendgroup\": \"y1\",\n        \"marker\": {\n            \"symbol\": \"circle\",\n            \"color\": \"rgba(204, 76, 204, 1.000)\",\n            \"line\": {\n                \"color\": \"rgba(0, 0, 0, 1.000)\",\n                \"width\": 1\n            },\n            \"size\": 8\n        },\n        \"zmax\": 3.0,\n        \"y\": [\n            3.74\n        ],\n        \"type\": \"scatter\"\n    },\n    {\n        \"xaxis\": \"x1\",\n        \"colorbar\": {\n            \"title\": \"\"\n        },\n        \"yaxis\": \"y1\",\n        \"x\": [\n            12.99\n        ],\n        \"showlegend\": false,\n        \"mode\": \"markers\",\n        \"name\": \"y1\",\n        \"zmin\": 1.0,\n        \"legendgroup\": \"y1\",\n        \"marker\": {\n            \"symbol\": \"circle\",\n            \"color\": \"rgba(204, 76, 204, 1.000)\",\n            \"line\": {\n                \"color\": \"rgba(0, 0, 0, 1.000)\",\n                \"width\": 1\n            },\n            \"size\": 8\n        },\n        \"zmax\": 3.0,\n        \"y\": [\n            3.35\n        ],\n        \"type\": \"scatter\"\n    },\n    {\n        \"xaxis\": \"x1\",\n        \"colorbar\": {\n            \"title\": \"\"\n        },\n        \"yaxis\": \"y1\",\n        \"x\": [\n            11.96\n        ],\n        \"showlegend\": false,\n        \"mode\": \"markers\",\n        \"name\": \"y1\",\n        \"zmin\": 1.0,\n        \"legendgroup\": \"y1\",\n        \"marker\": {\n            \"symbol\": \"circle\",\n            \"color\": \"rgba(204, 76, 204, 1.000)\",\n            \"line\": {\n                \"color\": \"rgba(0, 0, 0, 1.000)\",\n                \"width\": 1\n            },\n            \"size\": 8\n        },\n        \"zmax\": 3.0,\n        \"y\": [\n            3.21\n        ],\n        \"type\": \"scatter\"\n    },\n    {\n        \"xaxis\": \"x1\",\n        \"colorbar\": {\n            \"title\": \"\"\n        },\n        \"yaxis\": \"y1\",\n        \"x\": [\n            11.66\n        ],\n        \"showlegend\": false,\n        \"mode\": \"markers\",\n        \"name\": \"y1\",\n        \"zmin\": 1.0,\n        \"legendgroup\": \"y1\",\n        \"marker\": {\n            \"symbol\": \"circle\",\n            \"color\": \"rgba(204, 76, 204, 1.000)\",\n            \"line\": {\n                \"color\": \"rgba(0, 0, 0, 1.000)\",\n                \"width\": 1\n            },\n            \"size\": 8\n        },\n        \"zmax\": 3.0,\n        \"y\": [\n            3.8\n        ],\n        \"type\": \"scatter\"\n    },\n    {\n        \"xaxis\": \"x1\",\n        \"colorbar\": {\n            \"title\": \"\"\n        },\n        \"yaxis\": \"y1\",\n        \"x\": [\n            13.03\n        ],\n        \"showlegend\": false,\n        \"mode\": \"markers\",\n        \"name\": \"y1\",\n        \"zmin\": 1.0,\n        \"legendgroup\": \"y1\",\n        \"marker\": {\n            \"symbol\": \"circle\",\n            \"color\": \"rgba(255, 76, 76, 1.000)\",\n            \"line\": {\n                \"color\": \"rgba(0, 0, 0, 1.000)\",\n                \"width\": 1\n            },\n            \"size\": 8\n        },\n        \"zmax\": 3.0,\n        \"y\": [\n            4.6\n        ],\n        \"type\": \"scatter\"\n    },\n    {\n        \"xaxis\": \"x1\",\n        \"colorbar\": {\n            \"title\": \"\"\n        },\n        \"yaxis\": \"y1\",\n        \"x\": [\n            11.84\n        ],\n        \"showlegend\": false,\n        \"mode\": \"markers\",\n        \"name\": \"y1\",\n        \"zmin\": 1.0,\n        \"legendgroup\": \"y1\",\n        \"marker\": {\n            \"symbol\": \"circle\",\n            \"color\": \"rgba(204, 76, 204, 1.000)\",\n            \"line\": {\n                \"color\": \"rgba(0, 0, 0, 1.000)\",\n                \"width\": 1\n            },\n            \"size\": 8\n        },\n        \"zmax\": 3.0,\n        \"y\": [\n            2.65\n        ],\n        \"type\": \"scatter\"\n    },\n    {\n        \"xaxis\": \"x1\",\n        \"colorbar\": {\n            \"title\": \"\"\n        },\n        \"yaxis\": \"y1\",\n        \"x\": [\n            12.33\n        ],\n        \"showlegend\": false,\n        \"mode\": \"markers\",\n        \"name\": \"y1\",\n        \"zmin\": 1.0,\n        \"legendgroup\": \"y1\",\n        \"marker\": {\n            \"symbol\": \"circle\",\n            \"color\": \"rgba(204, 76, 204, 1.000)\",\n            \"line\": {\n                \"color\": \"rgba(0, 0, 0, 1.000)\",\n                \"width\": 1\n            },\n            \"size\": 8\n        },\n        \"zmax\": 3.0,\n        \"y\": [\n            3.4\n        ],\n        \"type\": \"scatter\"\n    },\n    {\n        \"xaxis\": \"x1\",\n        \"colorbar\": {\n            \"title\": \"\"\n        },\n        \"yaxis\": \"y1\",\n        \"x\": [\n            12.7\n        ],\n        \"showlegend\": false,\n        \"mode\": \"markers\",\n        \"name\": \"y1\",\n        \"zmin\": 1.0,\n        \"legendgroup\": \"y1\",\n        \"marker\": {\n            \"symbol\": \"circle\",\n            \"color\": \"rgba(204, 76, 204, 1.000)\",\n            \"line\": {\n                \"color\": \"rgba(0, 0, 0, 1.000)\",\n                \"width\": 1\n            },\n            \"size\": 8\n        },\n        \"zmax\": 3.0,\n        \"y\": [\n            2.57\n        ],\n        \"type\": \"scatter\"\n    },\n    {\n        \"xaxis\": \"x1\",\n        \"colorbar\": {\n            \"title\": \"\"\n        },\n        \"yaxis\": \"y1\",\n        \"x\": [\n            12.0\n        ],\n        \"showlegend\": false,\n        \"mode\": \"markers\",\n        \"name\": \"y1\",\n        \"zmin\": 1.0,\n        \"legendgroup\": \"y1\",\n        \"marker\": {\n            \"symbol\": \"circle\",\n            \"color\": \"rgba(204, 76, 204, 1.000)\",\n            \"line\": {\n                \"color\": \"rgba(0, 0, 0, 1.000)\",\n                \"width\": 1\n            },\n            \"size\": 8\n        },\n        \"zmax\": 3.0,\n        \"y\": [\n            2.5\n        ],\n        \"type\": \"scatter\"\n    },\n    {\n        \"xaxis\": \"x1\",\n        \"colorbar\": {\n            \"title\": \"\"\n        },\n        \"yaxis\": \"y1\",\n        \"x\": [\n            12.72\n        ],\n        \"showlegend\": false,\n        \"mode\": \"markers\",\n        \"name\": \"y1\",\n        \"zmin\": 1.0,\n        \"legendgroup\": \"y1\",\n        \"marker\": {\n            \"symbol\": \"circle\",\n            \"color\": \"rgba(204, 76, 204, 1.000)\",\n            \"line\": {\n                \"color\": \"rgba(0, 0, 0, 1.000)\",\n                \"width\": 1\n            },\n            \"size\": 8\n        },\n        \"zmax\": 3.0,\n        \"y\": [\n            3.9\n        ],\n        \"type\": \"scatter\"\n    },\n    {\n        \"xaxis\": \"x1\",\n        \"colorbar\": {\n            \"title\": \"\"\n        },\n        \"yaxis\": \"y1\",\n        \"x\": [\n            12.08\n        ],\n        \"showlegend\": false,\n        \"mode\": \"markers\",\n        \"name\": \"y1\",\n        \"zmin\": 1.0,\n        \"legendgroup\": \"y1\",\n        \"marker\": {\n            \"symbol\": \"circle\",\n            \"color\": \"rgba(204, 76, 204, 1.000)\",\n            \"line\": {\n                \"color\": \"rgba(0, 0, 0, 1.000)\",\n                \"width\": 1\n            },\n            \"size\": 8\n        },\n        \"zmax\": 3.0,\n        \"y\": [\n            2.2\n        ],\n        \"type\": \"scatter\"\n    },\n    {\n        \"xaxis\": \"x1\",\n        \"colorbar\": {\n            \"title\": \"\"\n        },\n        \"yaxis\": \"y1\",\n        \"x\": [\n            13.05\n        ],\n        \"showlegend\": false,\n        \"mode\": \"markers\",\n        \"name\": \"y1\",\n        \"zmin\": 1.0,\n        \"legendgroup\": \"y1\",\n        \"marker\": {\n            \"symbol\": \"circle\",\n            \"color\": \"rgba(255, 76, 76, 1.000)\",\n            \"line\": {\n                \"color\": \"rgba(0, 0, 0, 1.000)\",\n                \"width\": 1\n            },\n            \"size\": 8\n        },\n        \"zmax\": 3.0,\n        \"y\": [\n            4.8\n        ],\n        \"type\": \"scatter\"\n    },\n    {\n        \"xaxis\": \"x1\",\n        \"colorbar\": {\n            \"title\": \"\"\n        },\n        \"yaxis\": \"y1\",\n        \"x\": [\n            11.84\n        ],\n        \"showlegend\": false,\n        \"mode\": \"markers\",\n        \"name\": \"y1\",\n        \"zmin\": 1.0,\n        \"legendgroup\": \"y1\",\n        \"marker\": {\n            \"symbol\": \"circle\",\n            \"color\": \"rgba(204, 76, 204, 1.000)\",\n            \"line\": {\n                \"color\": \"rgba(0, 0, 0, 1.000)\",\n                \"width\": 1\n            },\n            \"size\": 8\n        },\n        \"zmax\": 3.0,\n        \"y\": [\n            3.05\n        ],\n        \"type\": \"scatter\"\n    },\n    {\n        \"xaxis\": \"x1\",\n        \"colorbar\": {\n            \"title\": \"\"\n        },\n        \"yaxis\": \"y1\",\n        \"x\": [\n            12.67\n        ],\n        \"showlegend\": false,\n        \"mode\": \"markers\",\n        \"name\": \"y1\",\n        \"zmin\": 1.0,\n        \"legendgroup\": \"y1\",\n        \"marker\": {\n            \"symbol\": \"circle\",\n            \"color\": \"rgba(204, 76, 204, 1.000)\",\n            \"line\": {\n                \"color\": \"rgba(0, 0, 0, 1.000)\",\n                \"width\": 1\n            },\n            \"size\": 8\n        },\n        \"zmax\": 3.0,\n        \"y\": [\n            2.62\n        ],\n        \"type\": \"scatter\"\n    },\n    {\n        \"xaxis\": \"x1\",\n        \"colorbar\": {\n            \"title\": \"\"\n        },\n        \"yaxis\": \"y1\",\n        \"x\": [\n            12.16\n        ],\n        \"showlegend\": false,\n        \"mode\": \"markers\",\n        \"name\": \"y1\",\n        \"zmin\": 1.0,\n        \"legendgroup\": \"y1\",\n        \"marker\": {\n            \"symbol\": \"circle\",\n            \"color\": \"rgba(204, 76, 204, 1.000)\",\n            \"line\": {\n                \"color\": \"rgba(0, 0, 0, 1.000)\",\n                \"width\": 1\n            },\n            \"size\": 8\n        },\n        \"zmax\": 3.0,\n        \"y\": [\n            2.45\n        ],\n        \"type\": \"scatter\"\n    },\n    {\n        \"xaxis\": \"x1\",\n        \"colorbar\": {\n            \"title\": \"\"\n        },\n        \"yaxis\": \"y1\",\n        \"x\": [\n            11.65\n        ],\n        \"showlegend\": false,\n        \"mode\": \"markers\",\n        \"name\": \"y1\",\n        \"zmin\": 1.0,\n        \"legendgroup\": \"y1\",\n        \"marker\": {\n            \"symbol\": \"circle\",\n            \"color\": \"rgba(204, 76, 204, 1.000)\",\n            \"line\": {\n                \"color\": \"rgba(0, 0, 0, 1.000)\",\n                \"width\": 1\n            },\n            \"size\": 8\n        },\n        \"zmax\": 3.0,\n        \"y\": [\n            2.6\n        ],\n        \"type\": \"scatter\"\n    },\n    {\n        \"xaxis\": \"x1\",\n        \"colorbar\": {\n            \"title\": \"\"\n        },\n        \"yaxis\": \"y1\",\n        \"x\": [\n            11.64\n        ],\n        \"showlegend\": false,\n        \"mode\": \"markers\",\n        \"name\": \"y1\",\n        \"zmin\": 1.0,\n        \"legendgroup\": \"y1\",\n        \"marker\": {\n            \"symbol\": \"circle\",\n            \"color\": \"rgba(204, 76, 204, 1.000)\",\n            \"line\": {\n                \"color\": \"rgba(0, 0, 0, 1.000)\",\n                \"width\": 1\n            },\n            \"size\": 8\n        },\n        \"zmax\": 3.0,\n        \"y\": [\n            2.8\n        ],\n        \"type\": \"scatter\"\n    },\n    {\n        \"xaxis\": \"x1\",\n        \"colorbar\": {\n            \"title\": \"\"\n        },\n        \"yaxis\": \"y1\",\n        \"x\": [\n            12.08\n        ],\n        \"showlegend\": false,\n        \"mode\": \"markers\",\n        \"name\": \"y1\",\n        \"zmin\": 1.0,\n        \"legendgroup\": \"y1\",\n        \"marker\": {\n            \"symbol\": \"circle\",\n            \"color\": \"rgba(204, 76, 204, 1.000)\",\n            \"line\": {\n                \"color\": \"rgba(0, 0, 0, 1.000)\",\n                \"width\": 1\n            },\n            \"size\": 8\n        },\n        \"zmax\": 3.0,\n        \"y\": [\n            1.74\n        ],\n        \"type\": \"scatter\"\n    },\n    {\n        \"xaxis\": \"x1\",\n        \"colorbar\": {\n            \"title\": \"\"\n        },\n        \"yaxis\": \"y1\",\n        \"x\": [\n            12.08\n        ],\n        \"showlegend\": false,\n        \"mode\": \"markers\",\n        \"name\": \"y1\",\n        \"zmin\": 1.0,\n        \"legendgroup\": \"y1\",\n        \"marker\": {\n            \"symbol\": \"circle\",\n            \"color\": \"rgba(204, 76, 204, 1.000)\",\n            \"line\": {\n                \"color\": \"rgba(0, 0, 0, 1.000)\",\n                \"width\": 1\n            },\n            \"size\": 8\n        },\n        \"zmax\": 3.0,\n        \"y\": [\n            2.4\n        ],\n        \"type\": \"scatter\"\n    },\n    {\n        \"xaxis\": \"x1\",\n        \"colorbar\": {\n            \"title\": \"\"\n        },\n        \"yaxis\": \"y1\",\n        \"x\": [\n            12.0\n        ],\n        \"showlegend\": false,\n        \"mode\": \"markers\",\n        \"name\": \"y1\",\n        \"zmin\": 1.0,\n        \"legendgroup\": \"y1\",\n        \"marker\": {\n            \"symbol\": \"circle\",\n            \"color\": \"rgba(204, 76, 204, 1.000)\",\n            \"line\": {\n                \"color\": \"rgba(0, 0, 0, 1.000)\",\n                \"width\": 1\n            },\n            \"size\": 8\n        },\n        \"zmax\": 3.0,\n        \"y\": [\n            3.6\n        ],\n        \"type\": \"scatter\"\n    },\n    {\n        \"xaxis\": \"x1\",\n        \"colorbar\": {\n            \"title\": \"\"\n        },\n        \"yaxis\": \"y1\",\n        \"x\": [\n            12.69\n        ],\n        \"showlegend\": false,\n        \"mode\": \"markers\",\n        \"name\": \"y1\",\n        \"zmin\": 1.0,\n        \"legendgroup\": \"y1\",\n        \"marker\": {\n            \"symbol\": \"circle\",\n            \"color\": \"rgba(204, 76, 204, 1.000)\",\n            \"line\": {\n                \"color\": \"rgba(0, 0, 0, 1.000)\",\n                \"width\": 1\n            },\n            \"size\": 8\n        },\n        \"zmax\": 3.0,\n        \"y\": [\n            3.05\n        ],\n        \"type\": \"scatter\"\n    },\n    {\n        \"xaxis\": \"x1\",\n        \"colorbar\": {\n            \"title\": \"\"\n        },\n        \"yaxis\": \"y1\",\n        \"x\": [\n            12.29\n        ],\n        \"showlegend\": false,\n        \"mode\": \"markers\",\n        \"name\": \"y1\",\n        \"zmin\": 1.0,\n        \"legendgroup\": \"y1\",\n        \"marker\": {\n            \"symbol\": \"circle\",\n            \"color\": \"rgba(204, 76, 204, 1.000)\",\n            \"line\": {\n                \"color\": \"rgba(0, 0, 0, 1.000)\",\n                \"width\": 1\n            },\n            \"size\": 8\n        },\n        \"zmax\": 3.0,\n        \"y\": [\n            2.15\n        ],\n        \"type\": \"scatter\"\n    },\n    {\n        \"xaxis\": \"x1\",\n        \"colorbar\": {\n            \"title\": \"\"\n        },\n        \"yaxis\": \"y1\",\n        \"x\": [\n            11.62\n        ],\n        \"showlegend\": false,\n        \"mode\": \"markers\",\n        \"name\": \"y1\",\n        \"zmin\": 1.0,\n        \"legendgroup\": \"y1\",\n        \"marker\": {\n            \"symbol\": \"circle\",\n            \"color\": \"rgba(204, 76, 204, 1.000)\",\n            \"line\": {\n                \"color\": \"rgba(0, 0, 0, 1.000)\",\n                \"width\": 1\n            },\n            \"size\": 8\n        },\n        \"zmax\": 3.0,\n        \"y\": [\n            3.25\n        ],\n        \"type\": \"scatter\"\n    },\n    {\n        \"xaxis\": \"x1\",\n        \"colorbar\": {\n            \"title\": \"\"\n        },\n        \"yaxis\": \"y1\",\n        \"x\": [\n            12.47\n        ],\n        \"showlegend\": false,\n        \"mode\": \"markers\",\n        \"name\": \"y1\",\n        \"zmin\": 1.0,\n        \"legendgroup\": \"y1\",\n        \"marker\": {\n            \"symbol\": \"circle\",\n            \"color\": \"rgba(204, 76, 204, 1.000)\",\n            \"line\": {\n                \"color\": \"rgba(0, 0, 0, 1.000)\",\n                \"width\": 1\n            },\n            \"size\": 8\n        },\n        \"zmax\": 3.0,\n        \"y\": [\n            2.6\n        ],\n        \"type\": \"scatter\"\n    },\n    {\n        \"xaxis\": \"x1\",\n        \"colorbar\": {\n            \"title\": \"\"\n        },\n        \"yaxis\": \"y1\",\n        \"x\": [\n            11.81\n        ],\n        \"showlegend\": false,\n        \"mode\": \"markers\",\n        \"name\": \"y1\",\n        \"zmin\": 1.0,\n        \"legendgroup\": \"y1\",\n        \"marker\": {\n            \"symbol\": \"circle\",\n            \"color\": \"rgba(204, 76, 204, 1.000)\",\n            \"line\": {\n                \"color\": \"rgba(0, 0, 0, 1.000)\",\n                \"width\": 1\n            },\n            \"size\": 8\n        },\n        \"zmax\": 3.0,\n        \"y\": [\n            2.5\n        ],\n        \"type\": \"scatter\"\n    },\n    {\n        \"xaxis\": \"x1\",\n        \"colorbar\": {\n            \"title\": \"\"\n        },\n        \"yaxis\": \"y1\",\n        \"x\": [\n            12.29\n        ],\n        \"showlegend\": false,\n        \"mode\": \"markers\",\n        \"name\": \"y1\",\n        \"zmin\": 1.0,\n        \"legendgroup\": \"y1\",\n        \"marker\": {\n            \"symbol\": \"circle\",\n            \"color\": \"rgba(204, 76, 204, 1.000)\",\n            \"line\": {\n                \"color\": \"rgba(0, 0, 0, 1.000)\",\n                \"width\": 1\n            },\n            \"size\": 8\n        },\n        \"zmax\": 3.0,\n        \"y\": [\n            2.9\n        ],\n        \"type\": \"scatter\"\n    },\n    {\n        \"xaxis\": \"x1\",\n        \"colorbar\": {\n            \"title\": \"\"\n        },\n        \"yaxis\": \"y1\",\n        \"x\": [\n            12.37\n        ],\n        \"showlegend\": false,\n        \"mode\": \"markers\",\n        \"name\": \"y1\",\n        \"zmin\": 1.0,\n        \"legendgroup\": \"y1\",\n        \"marker\": {\n            \"symbol\": \"circle\",\n            \"color\": \"rgba(255, 76, 76, 1.000)\",\n            \"line\": {\n                \"color\": \"rgba(0, 0, 0, 1.000)\",\n                \"width\": 1\n            },\n            \"size\": 8\n        },\n        \"zmax\": 3.0,\n        \"y\": [\n            4.5\n        ],\n        \"type\": \"scatter\"\n    },\n    {\n        \"xaxis\": \"x1\",\n        \"colorbar\": {\n            \"title\": \"\"\n        },\n        \"yaxis\": \"y1\",\n        \"x\": [\n            12.29\n        ],\n        \"showlegend\": false,\n        \"mode\": \"markers\",\n        \"name\": \"y1\",\n        \"zmin\": 1.0,\n        \"legendgroup\": \"y1\",\n        \"marker\": {\n            \"symbol\": \"circle\",\n            \"color\": \"rgba(204, 76, 204, 1.000)\",\n            \"line\": {\n                \"color\": \"rgba(0, 0, 0, 1.000)\",\n                \"width\": 1\n            },\n            \"size\": 8\n        },\n        \"zmax\": 3.0,\n        \"y\": [\n            2.3\n        ],\n        \"type\": \"scatter\"\n    },\n    {\n        \"xaxis\": \"x1\",\n        \"colorbar\": {\n            \"title\": \"\"\n        },\n        \"yaxis\": \"y1\",\n        \"x\": [\n            12.08\n        ],\n        \"showlegend\": false,\n        \"mode\": \"markers\",\n        \"name\": \"y1\",\n        \"zmin\": 1.0,\n        \"legendgroup\": \"y1\",\n        \"marker\": {\n            \"symbol\": \"circle\",\n            \"color\": \"rgba(204, 76, 204, 1.000)\",\n            \"line\": {\n                \"color\": \"rgba(0, 0, 0, 1.000)\",\n                \"width\": 1\n            },\n            \"size\": 8\n        },\n        \"zmax\": 3.0,\n        \"y\": [\n            3.3\n        ],\n        \"type\": \"scatter\"\n    },\n    {\n        \"xaxis\": \"x1\",\n        \"colorbar\": {\n            \"title\": \"\"\n        },\n        \"yaxis\": \"y1\",\n        \"x\": [\n            12.6\n        ],\n        \"showlegend\": false,\n        \"mode\": \"markers\",\n        \"name\": \"y1\",\n        \"zmin\": 1.0,\n        \"legendgroup\": \"y1\",\n        \"marker\": {\n            \"symbol\": \"circle\",\n            \"color\": \"rgba(204, 76, 204, 1.000)\",\n            \"line\": {\n                \"color\": \"rgba(0, 0, 0, 1.000)\",\n                \"width\": 1\n            },\n            \"size\": 8\n        },\n        \"zmax\": 3.0,\n        \"y\": [\n            2.45\n        ],\n        \"type\": \"scatter\"\n    },\n    {\n        \"xaxis\": \"x1\",\n        \"colorbar\": {\n            \"title\": \"\"\n        },\n        \"yaxis\": \"y1\",\n        \"x\": [\n            12.34\n        ],\n        \"showlegend\": false,\n        \"mode\": \"markers\",\n        \"name\": \"y1\",\n        \"zmin\": 1.0,\n        \"legendgroup\": \"y1\",\n        \"marker\": {\n            \"symbol\": \"circle\",\n            \"color\": \"rgba(204, 76, 204, 1.000)\",\n            \"line\": {\n                \"color\": \"rgba(0, 0, 0, 1.000)\",\n                \"width\": 1\n            },\n            \"size\": 8\n        },\n        \"zmax\": 3.0,\n        \"y\": [\n            2.8\n        ],\n        \"type\": \"scatter\"\n    },\n    {\n        \"xaxis\": \"x1\",\n        \"colorbar\": {\n            \"title\": \"\"\n        },\n        \"yaxis\": \"y1\",\n        \"x\": [\n            11.82\n        ],\n        \"showlegend\": false,\n        \"mode\": \"markers\",\n        \"name\": \"y1\",\n        \"zmin\": 1.0,\n        \"legendgroup\": \"y1\",\n        \"marker\": {\n            \"symbol\": \"circle\",\n            \"color\": \"rgba(204, 76, 204, 1.000)\",\n            \"line\": {\n                \"color\": \"rgba(0, 0, 0, 1.000)\",\n                \"width\": 1\n            },\n            \"size\": 8\n        },\n        \"zmax\": 3.0,\n        \"y\": [\n            2.06\n        ],\n        \"type\": \"scatter\"\n    },\n    {\n        \"xaxis\": \"x1\",\n        \"colorbar\": {\n            \"title\": \"\"\n        },\n        \"yaxis\": \"y1\",\n        \"x\": [\n            12.51\n        ],\n        \"showlegend\": false,\n        \"mode\": \"markers\",\n        \"name\": \"y1\",\n        \"zmin\": 1.0,\n        \"legendgroup\": \"y1\",\n        \"marker\": {\n            \"symbol\": \"circle\",\n            \"color\": \"rgba(204, 76, 204, 1.000)\",\n            \"line\": {\n                \"color\": \"rgba(0, 0, 0, 1.000)\",\n                \"width\": 1\n            },\n            \"size\": 8\n        },\n        \"zmax\": 3.0,\n        \"y\": [\n            2.94\n        ],\n        \"type\": \"scatter\"\n    },\n    {\n        \"xaxis\": \"x1\",\n        \"colorbar\": {\n            \"title\": \"\"\n        },\n        \"yaxis\": \"y1\",\n        \"x\": [\n            12.42\n        ],\n        \"showlegend\": false,\n        \"mode\": \"markers\",\n        \"name\": \"y1\",\n        \"zmin\": 1.0,\n        \"legendgroup\": \"y1\",\n        \"marker\": {\n            \"symbol\": \"circle\",\n            \"color\": \"rgba(204, 76, 204, 1.000)\",\n            \"line\": {\n                \"color\": \"rgba(0, 0, 0, 1.000)\",\n                \"width\": 1\n            },\n            \"size\": 8\n        },\n        \"zmax\": 3.0,\n        \"y\": [\n            2.7\n        ],\n        \"type\": \"scatter\"\n    },\n    {\n        \"xaxis\": \"x1\",\n        \"colorbar\": {\n            \"title\": \"\"\n        },\n        \"yaxis\": \"y1\",\n        \"x\": [\n            12.25\n        ],\n        \"showlegend\": false,\n        \"mode\": \"markers\",\n        \"name\": \"y1\",\n        \"zmin\": 1.0,\n        \"legendgroup\": \"y1\",\n        \"marker\": {\n            \"symbol\": \"circle\",\n            \"color\": \"rgba(204, 76, 204, 1.000)\",\n            \"line\": {\n                \"color\": \"rgba(0, 0, 0, 1.000)\",\n                \"width\": 1\n            },\n            \"size\": 8\n        },\n        \"zmax\": 3.0,\n        \"y\": [\n            3.4\n        ],\n        \"type\": \"scatter\"\n    },\n    {\n        \"xaxis\": \"x1\",\n        \"colorbar\": {\n            \"title\": \"\"\n        },\n        \"yaxis\": \"y1\",\n        \"x\": [\n            12.72\n        ],\n        \"showlegend\": false,\n        \"mode\": \"markers\",\n        \"name\": \"y1\",\n        \"zmin\": 1.0,\n        \"legendgroup\": \"y1\",\n        \"marker\": {\n            \"symbol\": \"circle\",\n            \"color\": \"rgba(204, 76, 204, 1.000)\",\n            \"line\": {\n                \"color\": \"rgba(0, 0, 0, 1.000)\",\n                \"width\": 1\n            },\n            \"size\": 8\n        },\n        \"zmax\": 3.0,\n        \"y\": [\n            3.3\n        ],\n        \"type\": \"scatter\"\n    },\n    {\n        \"xaxis\": \"x1\",\n        \"colorbar\": {\n            \"title\": \"\"\n        },\n        \"yaxis\": \"y1\",\n        \"x\": [\n            12.22\n        ],\n        \"showlegend\": false,\n        \"mode\": \"markers\",\n        \"name\": \"y1\",\n        \"zmin\": 1.0,\n        \"legendgroup\": \"y1\",\n        \"marker\": {\n            \"symbol\": \"circle\",\n            \"color\": \"rgba(204, 76, 204, 1.000)\",\n            \"line\": {\n                \"color\": \"rgba(0, 0, 0, 1.000)\",\n                \"width\": 1\n            },\n            \"size\": 8\n        },\n        \"zmax\": 3.0,\n        \"y\": [\n            2.7\n        ],\n        \"type\": \"scatter\"\n    },\n    {\n        \"xaxis\": \"x1\",\n        \"colorbar\": {\n            \"title\": \"\"\n        },\n        \"yaxis\": \"y1\",\n        \"x\": [\n            11.61\n        ],\n        \"showlegend\": false,\n        \"mode\": \"markers\",\n        \"name\": \"y1\",\n        \"zmin\": 1.0,\n        \"legendgroup\": \"y1\",\n        \"marker\": {\n            \"symbol\": \"circle\",\n            \"color\": \"rgba(204, 76, 204, 1.000)\",\n            \"line\": {\n                \"color\": \"rgba(0, 0, 0, 1.000)\",\n                \"width\": 1\n            },\n            \"size\": 8\n        },\n        \"zmax\": 3.0,\n        \"y\": [\n            2.65\n        ],\n        \"type\": \"scatter\"\n    },\n    {\n        \"xaxis\": \"x1\",\n        \"colorbar\": {\n            \"title\": \"\"\n        },\n        \"yaxis\": \"y1\",\n        \"x\": [\n            11.46\n        ],\n        \"showlegend\": false,\n        \"mode\": \"markers\",\n        \"name\": \"y1\",\n        \"zmin\": 1.0,\n        \"legendgroup\": \"y1\",\n        \"marker\": {\n            \"symbol\": \"circle\",\n            \"color\": \"rgba(204, 76, 204, 1.000)\",\n            \"line\": {\n                \"color\": \"rgba(0, 0, 0, 1.000)\",\n                \"width\": 1\n            },\n            \"size\": 8\n        },\n        \"zmax\": 3.0,\n        \"y\": [\n            2.9\n        ],\n        \"type\": \"scatter\"\n    },\n    {\n        \"xaxis\": \"x1\",\n        \"colorbar\": {\n            \"title\": \"\"\n        },\n        \"yaxis\": \"y1\",\n        \"x\": [\n            12.52\n        ],\n        \"showlegend\": false,\n        \"mode\": \"markers\",\n        \"name\": \"y1\",\n        \"zmin\": 1.0,\n        \"legendgroup\": \"y1\",\n        \"marker\": {\n            \"symbol\": \"circle\",\n            \"color\": \"rgba(204, 76, 204, 1.000)\",\n            \"line\": {\n                \"color\": \"rgba(0, 0, 0, 1.000)\",\n                \"width\": 1\n            },\n            \"size\": 8\n        },\n        \"zmax\": 3.0,\n        \"y\": [\n            2.0\n        ],\n        \"type\": \"scatter\"\n    },\n    {\n        \"xaxis\": \"x1\",\n        \"colorbar\": {\n            \"title\": \"\"\n        },\n        \"yaxis\": \"y1\",\n        \"x\": [\n            11.76\n        ],\n        \"showlegend\": false,\n        \"mode\": \"markers\",\n        \"name\": \"y1\",\n        \"zmin\": 1.0,\n        \"legendgroup\": \"y1\",\n        \"marker\": {\n            \"symbol\": \"circle\",\n            \"color\": \"rgba(204, 76, 204, 1.000)\",\n            \"line\": {\n                \"color\": \"rgba(0, 0, 0, 1.000)\",\n                \"width\": 1\n            },\n            \"size\": 8\n        },\n        \"zmax\": 3.0,\n        \"y\": [\n            3.8\n        ],\n        \"type\": \"scatter\"\n    },\n    {\n        \"xaxis\": \"x1\",\n        \"colorbar\": {\n            \"title\": \"\"\n        },\n        \"yaxis\": \"y1\",\n        \"x\": [\n            11.41\n        ],\n        \"showlegend\": false,\n        \"mode\": \"markers\",\n        \"name\": \"y1\",\n        \"zmin\": 1.0,\n        \"legendgroup\": \"y1\",\n        \"marker\": {\n            \"symbol\": \"circle\",\n            \"color\": \"rgba(204, 76, 204, 1.000)\",\n            \"line\": {\n                \"color\": \"rgba(0, 0, 0, 1.000)\",\n                \"width\": 1\n            },\n            \"size\": 8\n        },\n        \"zmax\": 3.0,\n        \"y\": [\n            3.08\n        ],\n        \"type\": \"scatter\"\n    },\n    {\n        \"xaxis\": \"x1\",\n        \"colorbar\": {\n            \"title\": \"\"\n        },\n        \"yaxis\": \"y1\",\n        \"x\": [\n            12.08\n        ],\n        \"showlegend\": false,\n        \"mode\": \"markers\",\n        \"name\": \"y1\",\n        \"zmin\": 1.0,\n        \"legendgroup\": \"y1\",\n        \"marker\": {\n            \"symbol\": \"circle\",\n            \"color\": \"rgba(204, 76, 204, 1.000)\",\n            \"line\": {\n                \"color\": \"rgba(0, 0, 0, 1.000)\",\n                \"width\": 1\n            },\n            \"size\": 8\n        },\n        \"zmax\": 3.0,\n        \"y\": [\n            2.9\n        ],\n        \"type\": \"scatter\"\n    },\n    {\n        \"xaxis\": \"x1\",\n        \"colorbar\": {\n            \"title\": \"\"\n        },\n        \"yaxis\": \"y1\",\n        \"x\": [\n            11.03\n        ],\n        \"showlegend\": false,\n        \"mode\": \"markers\",\n        \"name\": \"y1\",\n        \"zmin\": 1.0,\n        \"legendgroup\": \"y1\",\n        \"marker\": {\n            \"symbol\": \"circle\",\n            \"color\": \"rgba(204, 76, 204, 1.000)\",\n            \"line\": {\n                \"color\": \"rgba(0, 0, 0, 1.000)\",\n                \"width\": 1\n            },\n            \"size\": 8\n        },\n        \"zmax\": 3.0,\n        \"y\": [\n            1.9\n        ],\n        \"type\": \"scatter\"\n    },\n    {\n        \"xaxis\": \"x1\",\n        \"colorbar\": {\n            \"title\": \"\"\n        },\n        \"yaxis\": \"y1\",\n        \"x\": [\n            11.82\n        ],\n        \"showlegend\": false,\n        \"mode\": \"markers\",\n        \"name\": \"y1\",\n        \"zmin\": 1.0,\n        \"legendgroup\": \"y1\",\n        \"marker\": {\n            \"symbol\": \"circle\",\n            \"color\": \"rgba(204, 76, 204, 1.000)\",\n            \"line\": {\n                \"color\": \"rgba(0, 0, 0, 1.000)\",\n                \"width\": 1\n            },\n            \"size\": 8\n        },\n        \"zmax\": 3.0,\n        \"y\": [\n            1.95\n        ],\n        \"type\": \"scatter\"\n    },\n    {\n        \"xaxis\": \"x1\",\n        \"colorbar\": {\n            \"title\": \"\"\n        },\n        \"yaxis\": \"y1\",\n        \"x\": [\n            12.42\n        ],\n        \"showlegend\": false,\n        \"mode\": \"markers\",\n        \"name\": \"y1\",\n        \"zmin\": 1.0,\n        \"legendgroup\": \"y1\",\n        \"marker\": {\n            \"symbol\": \"circle\",\n            \"color\": \"rgba(204, 76, 204, 1.000)\",\n            \"line\": {\n                \"color\": \"rgba(0, 0, 0, 1.000)\",\n                \"width\": 1\n            },\n            \"size\": 8\n        },\n        \"zmax\": 3.0,\n        \"y\": [\n            2.06\n        ],\n        \"type\": \"scatter\"\n    },\n    {\n        \"xaxis\": \"x1\",\n        \"colorbar\": {\n            \"title\": \"\"\n        },\n        \"yaxis\": \"y1\",\n        \"x\": [\n            12.77\n        ],\n        \"showlegend\": false,\n        \"mode\": \"markers\",\n        \"name\": \"y1\",\n        \"zmin\": 1.0,\n        \"legendgroup\": \"y1\",\n        \"marker\": {\n            \"symbol\": \"circle\",\n            \"color\": \"rgba(204, 76, 204, 1.000)\",\n            \"line\": {\n                \"color\": \"rgba(0, 0, 0, 1.000)\",\n                \"width\": 1\n            },\n            \"size\": 8\n        },\n        \"zmax\": 3.0,\n        \"y\": [\n            3.4\n        ],\n        \"type\": \"scatter\"\n    },\n    {\n        \"xaxis\": \"x1\",\n        \"colorbar\": {\n            \"title\": \"\"\n        },\n        \"yaxis\": \"y1\",\n        \"x\": [\n            12.0\n        ],\n        \"showlegend\": false,\n        \"mode\": \"markers\",\n        \"name\": \"y1\",\n        \"zmin\": 1.0,\n        \"legendgroup\": \"y1\",\n        \"marker\": {\n            \"symbol\": \"circle\",\n            \"color\": \"rgba(204, 76, 204, 1.000)\",\n            \"line\": {\n                \"color\": \"rgba(0, 0, 0, 1.000)\",\n                \"width\": 1\n            },\n            \"size\": 8\n        },\n        \"zmax\": 3.0,\n        \"y\": [\n            1.28\n        ],\n        \"type\": \"scatter\"\n    },\n    {\n        \"xaxis\": \"x1\",\n        \"colorbar\": {\n            \"title\": \"\"\n        },\n        \"yaxis\": \"y1\",\n        \"x\": [\n            11.45\n        ],\n        \"showlegend\": false,\n        \"mode\": \"markers\",\n        \"name\": \"y1\",\n        \"zmin\": 1.0,\n        \"legendgroup\": \"y1\",\n        \"marker\": {\n            \"symbol\": \"circle\",\n            \"color\": \"rgba(204, 76, 204, 1.000)\",\n            \"line\": {\n                \"color\": \"rgba(0, 0, 0, 1.000)\",\n                \"width\": 1\n            },\n            \"size\": 8\n        },\n        \"zmax\": 3.0,\n        \"y\": [\n            3.25\n        ],\n        \"type\": \"scatter\"\n    },\n    {\n        \"xaxis\": \"x1\",\n        \"colorbar\": {\n            \"title\": \"\"\n        },\n        \"yaxis\": \"y1\",\n        \"x\": [\n            11.56\n        ],\n        \"showlegend\": false,\n        \"mode\": \"markers\",\n        \"name\": \"y1\",\n        \"zmin\": 1.0,\n        \"legendgroup\": \"y1\",\n        \"marker\": {\n            \"symbol\": \"circle\",\n            \"color\": \"rgba(255, 76, 76, 1.000)\",\n            \"line\": {\n                \"color\": \"rgba(0, 0, 0, 1.000)\",\n                \"width\": 1\n            },\n            \"size\": 8\n        },\n        \"zmax\": 3.0,\n        \"y\": [\n            6.0\n        ],\n        \"type\": \"scatter\"\n    },\n    {\n        \"xaxis\": \"x1\",\n        \"colorbar\": {\n            \"title\": \"\"\n        },\n        \"yaxis\": \"y1\",\n        \"x\": [\n            12.42\n        ],\n        \"showlegend\": false,\n        \"mode\": \"markers\",\n        \"name\": \"y1\",\n        \"zmin\": 1.0,\n        \"legendgroup\": \"y1\",\n        \"marker\": {\n            \"symbol\": \"circle\",\n            \"color\": \"rgba(204, 76, 204, 1.000)\",\n            \"line\": {\n                \"color\": \"rgba(0, 0, 0, 1.000)\",\n                \"width\": 1\n            },\n            \"size\": 8\n        },\n        \"zmax\": 3.0,\n        \"y\": [\n            2.08\n        ],\n        \"type\": \"scatter\"\n    },\n    {\n        \"xaxis\": \"x1\",\n        \"colorbar\": {\n            \"title\": \"\"\n        },\n        \"yaxis\": \"y1\",\n        \"x\": [\n            13.05\n        ],\n        \"showlegend\": false,\n        \"mode\": \"markers\",\n        \"name\": \"y1\",\n        \"zmin\": 1.0,\n        \"legendgroup\": \"y1\",\n        \"marker\": {\n            \"symbol\": \"circle\",\n            \"color\": \"rgba(204, 76, 204, 1.000)\",\n            \"line\": {\n                \"color\": \"rgba(0, 0, 0, 1.000)\",\n                \"width\": 1\n            },\n            \"size\": 8\n        },\n        \"zmax\": 3.0,\n        \"y\": [\n            2.6\n        ],\n        \"type\": \"scatter\"\n    },\n    {\n        \"xaxis\": \"x1\",\n        \"colorbar\": {\n            \"title\": \"\"\n        },\n        \"yaxis\": \"y1\",\n        \"x\": [\n            11.87\n        ],\n        \"showlegend\": false,\n        \"mode\": \"markers\",\n        \"name\": \"y1\",\n        \"zmin\": 1.0,\n        \"legendgroup\": \"y1\",\n        \"marker\": {\n            \"symbol\": \"circle\",\n            \"color\": \"rgba(204, 76, 204, 1.000)\",\n            \"line\": {\n                \"color\": \"rgba(0, 0, 0, 1.000)\",\n                \"width\": 1\n            },\n            \"size\": 8\n        },\n        \"zmax\": 3.0,\n        \"y\": [\n            2.8\n        ],\n        \"type\": \"scatter\"\n    },\n    {\n        \"xaxis\": \"x1\",\n        \"colorbar\": {\n            \"title\": \"\"\n        },\n        \"yaxis\": \"y1\",\n        \"x\": [\n            12.07\n        ],\n        \"showlegend\": false,\n        \"mode\": \"markers\",\n        \"name\": \"y1\",\n        \"zmin\": 1.0,\n        \"legendgroup\": \"y1\",\n        \"marker\": {\n            \"symbol\": \"circle\",\n            \"color\": \"rgba(204, 76, 204, 1.000)\",\n            \"line\": {\n                \"color\": \"rgba(0, 0, 0, 1.000)\",\n                \"width\": 1\n            },\n            \"size\": 8\n        },\n        \"zmax\": 3.0,\n        \"y\": [\n            2.76\n        ],\n        \"type\": \"scatter\"\n    },\n    {\n        \"xaxis\": \"x1\",\n        \"colorbar\": {\n            \"title\": \"\"\n        },\n        \"yaxis\": \"y1\",\n        \"x\": [\n            12.43\n        ],\n        \"showlegend\": false,\n        \"mode\": \"markers\",\n        \"name\": \"y1\",\n        \"zmin\": 1.0,\n        \"legendgroup\": \"y1\",\n        \"marker\": {\n            \"symbol\": \"circle\",\n            \"color\": \"rgba(204, 76, 204, 1.000)\",\n            \"line\": {\n                \"color\": \"rgba(0, 0, 0, 1.000)\",\n                \"width\": 1\n            },\n            \"size\": 8\n        },\n        \"zmax\": 3.0,\n        \"y\": [\n            3.94\n        ],\n        \"type\": \"scatter\"\n    },\n    {\n        \"xaxis\": \"x1\",\n        \"colorbar\": {\n            \"title\": \"\"\n        },\n        \"yaxis\": \"y1\",\n        \"x\": [\n            11.79\n        ],\n        \"showlegend\": false,\n        \"mode\": \"markers\",\n        \"name\": \"y1\",\n        \"zmin\": 1.0,\n        \"legendgroup\": \"y1\",\n        \"marker\": {\n            \"symbol\": \"circle\",\n            \"color\": \"rgba(204, 76, 204, 1.000)\",\n            \"line\": {\n                \"color\": \"rgba(0, 0, 0, 1.000)\",\n                \"width\": 1\n            },\n            \"size\": 8\n        },\n        \"zmax\": 3.0,\n        \"y\": [\n            3.0\n        ],\n        \"type\": \"scatter\"\n    },\n    {\n        \"xaxis\": \"x1\",\n        \"colorbar\": {\n            \"title\": \"\"\n        },\n        \"yaxis\": \"y1\",\n        \"x\": [\n            12.37\n        ],\n        \"showlegend\": false,\n        \"mode\": \"markers\",\n        \"name\": \"y1\",\n        \"zmin\": 1.0,\n        \"legendgroup\": \"y1\",\n        \"marker\": {\n            \"symbol\": \"circle\",\n            \"color\": \"rgba(204, 76, 204, 1.000)\",\n            \"line\": {\n                \"color\": \"rgba(0, 0, 0, 1.000)\",\n                \"width\": 1\n            },\n            \"size\": 8\n        },\n        \"zmax\": 3.0,\n        \"y\": [\n            2.12\n        ],\n        \"type\": \"scatter\"\n    },\n    {\n        \"xaxis\": \"x1\",\n        \"colorbar\": {\n            \"title\": \"\"\n        },\n        \"yaxis\": \"y1\",\n        \"x\": [\n            12.04\n        ],\n        \"showlegend\": false,\n        \"mode\": \"markers\",\n        \"name\": \"y1\",\n        \"zmin\": 1.0,\n        \"legendgroup\": \"y1\",\n        \"marker\": {\n            \"symbol\": \"circle\",\n            \"color\": \"rgba(204, 76, 204, 1.000)\",\n            \"line\": {\n                \"color\": \"rgba(0, 0, 0, 1.000)\",\n                \"width\": 1\n            },\n            \"size\": 8\n        },\n        \"zmax\": 3.0,\n        \"y\": [\n            2.6\n        ],\n        \"type\": \"scatter\"\n    },\n    {\n        \"xaxis\": \"x1\",\n        \"colorbar\": {\n            \"title\": \"\"\n        },\n        \"yaxis\": \"y1\",\n        \"x\": [\n            12.86\n        ],\n        \"showlegend\": false,\n        \"mode\": \"markers\",\n        \"name\": \"y1\",\n        \"zmin\": 1.0,\n        \"legendgroup\": \"y1\",\n        \"marker\": {\n            \"symbol\": \"circle\",\n            \"color\": \"rgba(204, 76, 204, 1.000)\",\n            \"line\": {\n                \"color\": \"rgba(0, 0, 0, 1.000)\",\n                \"width\": 1\n            },\n            \"size\": 8\n        },\n        \"zmax\": 3.0,\n        \"y\": [\n            4.1\n        ],\n        \"type\": \"scatter\"\n    },\n    {\n        \"xaxis\": \"x1\",\n        \"colorbar\": {\n            \"title\": \"\"\n        },\n        \"yaxis\": \"y1\",\n        \"x\": [\n            12.88\n        ],\n        \"showlegend\": false,\n        \"mode\": \"markers\",\n        \"name\": \"y1\",\n        \"zmin\": 1.0,\n        \"legendgroup\": \"y1\",\n        \"marker\": {\n            \"symbol\": \"circle\",\n            \"color\": \"rgba(255, 76, 76, 1.000)\",\n            \"line\": {\n                \"color\": \"rgba(0, 0, 0, 1.000)\",\n                \"width\": 1\n            },\n            \"size\": 8\n        },\n        \"zmax\": 3.0,\n        \"y\": [\n            5.4\n        ],\n        \"type\": \"scatter\"\n    },\n    {\n        \"xaxis\": \"x1\",\n        \"colorbar\": {\n            \"title\": \"\"\n        },\n        \"yaxis\": \"y1\",\n        \"x\": [\n            12.81\n        ],\n        \"showlegend\": false,\n        \"mode\": \"markers\",\n        \"name\": \"y1\",\n        \"zmin\": 1.0,\n        \"legendgroup\": \"y1\",\n        \"marker\": {\n            \"symbol\": \"circle\",\n            \"color\": \"rgba(255, 76, 76, 1.000)\",\n            \"line\": {\n                \"color\": \"rgba(0, 0, 0, 1.000)\",\n                \"width\": 1\n            },\n            \"size\": 8\n        },\n        \"zmax\": 3.0,\n        \"y\": [\n            5.7\n        ],\n        \"type\": \"scatter\"\n    },\n    {\n        \"xaxis\": \"x1\",\n        \"colorbar\": {\n            \"title\": \"\"\n        },\n        \"yaxis\": \"y1\",\n        \"x\": [\n            12.7\n        ],\n        \"showlegend\": false,\n        \"mode\": \"markers\",\n        \"name\": \"y1\",\n        \"zmin\": 1.0,\n        \"legendgroup\": \"y1\",\n        \"marker\": {\n            \"symbol\": \"circle\",\n            \"color\": \"rgba(255, 76, 76, 1.000)\",\n            \"line\": {\n                \"color\": \"rgba(0, 0, 0, 1.000)\",\n                \"width\": 1\n            },\n            \"size\": 8\n        },\n        \"zmax\": 3.0,\n        \"y\": [\n            5.0\n        ],\n        \"type\": \"scatter\"\n    },\n    {\n        \"xaxis\": \"x1\",\n        \"colorbar\": {\n            \"title\": \"\"\n        },\n        \"yaxis\": \"y1\",\n        \"x\": [\n            12.51\n        ],\n        \"showlegend\": false,\n        \"mode\": \"markers\",\n        \"name\": \"y1\",\n        \"zmin\": 1.0,\n        \"legendgroup\": \"y1\",\n        \"marker\": {\n            \"symbol\": \"circle\",\n            \"color\": \"rgba(255, 76, 76, 1.000)\",\n            \"line\": {\n                \"color\": \"rgba(0, 0, 0, 1.000)\",\n                \"width\": 1\n            },\n            \"size\": 8\n        },\n        \"zmax\": 3.0,\n        \"y\": [\n            5.45\n        ],\n        \"type\": \"scatter\"\n    },\n    {\n        \"xaxis\": \"x1\",\n        \"colorbar\": {\n            \"title\": \"\"\n        },\n        \"yaxis\": \"y1\",\n        \"x\": [\n            12.6\n        ],\n        \"showlegend\": false,\n        \"mode\": \"markers\",\n        \"name\": \"y1\",\n        \"zmin\": 1.0,\n        \"legendgroup\": \"y1\",\n        \"marker\": {\n            \"symbol\": \"circle\",\n            \"color\": \"rgba(76, 204, 76, 1.000)\",\n            \"line\": {\n                \"color\": \"rgba(0, 0, 0, 1.000)\",\n                \"width\": 1\n            },\n            \"size\": 8\n        },\n        \"zmax\": 3.0,\n        \"y\": [\n            7.1\n        ],\n        \"type\": \"scatter\"\n    },\n    {\n        \"xaxis\": \"x1\",\n        \"colorbar\": {\n            \"title\": \"\"\n        },\n        \"yaxis\": \"y1\",\n        \"x\": [\n            12.25\n        ],\n        \"showlegend\": false,\n        \"mode\": \"markers\",\n        \"name\": \"y1\",\n        \"zmin\": 1.0,\n        \"legendgroup\": \"y1\",\n        \"marker\": {\n            \"symbol\": \"circle\",\n            \"color\": \"rgba(204, 76, 204, 1.000)\",\n            \"line\": {\n                \"color\": \"rgba(0, 0, 0, 1.000)\",\n                \"width\": 1\n            },\n            \"size\": 8\n        },\n        \"zmax\": 3.0,\n        \"y\": [\n            3.85\n        ],\n        \"type\": \"scatter\"\n    },\n    {\n        \"xaxis\": \"x1\",\n        \"colorbar\": {\n            \"title\": \"\"\n        },\n        \"yaxis\": \"y1\",\n        \"x\": [\n            12.53\n        ],\n        \"showlegend\": false,\n        \"mode\": \"markers\",\n        \"name\": \"y1\",\n        \"zmin\": 1.0,\n        \"legendgroup\": \"y1\",\n        \"marker\": {\n            \"symbol\": \"circle\",\n            \"color\": \"rgba(255, 76, 76, 1.000)\",\n            \"line\": {\n                \"color\": \"rgba(0, 0, 0, 1.000)\",\n                \"width\": 1\n            },\n            \"size\": 8\n        },\n        \"zmax\": 3.0,\n        \"y\": [\n            5.0\n        ],\n        \"type\": \"scatter\"\n    },\n    {\n        \"xaxis\": \"x1\",\n        \"colorbar\": {\n            \"title\": \"\"\n        },\n        \"yaxis\": \"y1\",\n        \"x\": [\n            13.49\n        ],\n        \"showlegend\": false,\n        \"mode\": \"markers\",\n        \"name\": \"y1\",\n        \"zmin\": 1.0,\n        \"legendgroup\": \"y1\",\n        \"marker\": {\n            \"symbol\": \"circle\",\n            \"color\": \"rgba(255, 76, 76, 1.000)\",\n            \"line\": {\n                \"color\": \"rgba(0, 0, 0, 1.000)\",\n                \"width\": 1\n            },\n            \"size\": 8\n        },\n        \"zmax\": 3.0,\n        \"y\": [\n            5.7\n        ],\n        \"type\": \"scatter\"\n    },\n    {\n        \"xaxis\": \"x1\",\n        \"colorbar\": {\n            \"title\": \"\"\n        },\n        \"yaxis\": \"y1\",\n        \"x\": [\n            12.84\n        ],\n        \"showlegend\": false,\n        \"mode\": \"markers\",\n        \"name\": \"y1\",\n        \"zmin\": 1.0,\n        \"legendgroup\": \"y1\",\n        \"marker\": {\n            \"symbol\": \"circle\",\n            \"color\": \"rgba(255, 76, 76, 1.000)\",\n            \"line\": {\n                \"color\": \"rgba(0, 0, 0, 1.000)\",\n                \"width\": 1\n            },\n            \"size\": 8\n        },\n        \"zmax\": 3.0,\n        \"y\": [\n            4.92\n        ],\n        \"type\": \"scatter\"\n    },\n    {\n        \"xaxis\": \"x1\",\n        \"colorbar\": {\n            \"title\": \"\"\n        },\n        \"yaxis\": \"y1\",\n        \"x\": [\n            12.93\n        ],\n        \"showlegend\": false,\n        \"mode\": \"markers\",\n        \"name\": \"y1\",\n        \"zmin\": 1.0,\n        \"legendgroup\": \"y1\",\n        \"marker\": {\n            \"symbol\": \"circle\",\n            \"color\": \"rgba(255, 76, 76, 1.000)\",\n            \"line\": {\n                \"color\": \"rgba(0, 0, 0, 1.000)\",\n                \"width\": 1\n            },\n            \"size\": 8\n        },\n        \"zmax\": 3.0,\n        \"y\": [\n            4.6\n        ],\n        \"type\": \"scatter\"\n    },\n    {\n        \"xaxis\": \"x1\",\n        \"colorbar\": {\n            \"title\": \"\"\n        },\n        \"yaxis\": \"y1\",\n        \"x\": [\n            13.36\n        ],\n        \"showlegend\": false,\n        \"mode\": \"markers\",\n        \"name\": \"y1\",\n        \"zmin\": 1.0,\n        \"legendgroup\": \"y1\",\n        \"marker\": {\n            \"symbol\": \"circle\",\n            \"color\": \"rgba(255, 76, 76, 1.000)\",\n            \"line\": {\n                \"color\": \"rgba(0, 0, 0, 1.000)\",\n                \"width\": 1\n            },\n            \"size\": 8\n        },\n        \"zmax\": 3.0,\n        \"y\": [\n            5.6\n        ],\n        \"type\": \"scatter\"\n    },\n    {\n        \"xaxis\": \"x1\",\n        \"colorbar\": {\n            \"title\": \"\"\n        },\n        \"yaxis\": \"y1\",\n        \"x\": [\n            13.52\n        ],\n        \"showlegend\": false,\n        \"mode\": \"markers\",\n        \"name\": \"y1\",\n        \"zmin\": 1.0,\n        \"legendgroup\": \"y1\",\n        \"marker\": {\n            \"symbol\": \"circle\",\n            \"color\": \"rgba(255, 76, 76, 1.000)\",\n            \"line\": {\n                \"color\": \"rgba(0, 0, 0, 1.000)\",\n                \"width\": 1\n            },\n            \"size\": 8\n        },\n        \"zmax\": 3.0,\n        \"y\": [\n            4.35\n        ],\n        \"type\": \"scatter\"\n    },\n    {\n        \"xaxis\": \"x1\",\n        \"colorbar\": {\n            \"title\": \"\"\n        },\n        \"yaxis\": \"y1\",\n        \"x\": [\n            13.62\n        ],\n        \"showlegend\": false,\n        \"mode\": \"markers\",\n        \"name\": \"y1\",\n        \"zmin\": 1.0,\n        \"legendgroup\": \"y1\",\n        \"marker\": {\n            \"symbol\": \"circle\",\n            \"color\": \"rgba(255, 76, 76, 1.000)\",\n            \"line\": {\n                \"color\": \"rgba(0, 0, 0, 1.000)\",\n                \"width\": 1\n            },\n            \"size\": 8\n        },\n        \"zmax\": 3.0,\n        \"y\": [\n            4.4\n        ],\n        \"type\": \"scatter\"\n    },\n    {\n        \"xaxis\": \"x1\",\n        \"colorbar\": {\n            \"title\": \"\"\n        },\n        \"yaxis\": \"y1\",\n        \"x\": [\n            12.25\n        ],\n        \"showlegend\": false,\n        \"mode\": \"markers\",\n        \"name\": \"y1\",\n        \"zmin\": 1.0,\n        \"legendgroup\": \"y1\",\n        \"marker\": {\n            \"symbol\": \"circle\",\n            \"color\": \"rgba(76, 204, 76, 1.000)\",\n            \"line\": {\n                \"color\": \"rgba(0, 0, 0, 1.000)\",\n                \"width\": 1\n            },\n            \"size\": 8\n        },\n        \"zmax\": 3.0,\n        \"y\": [\n            8.21\n        ],\n        \"type\": \"scatter\"\n    },\n    {\n        \"xaxis\": \"x1\",\n        \"colorbar\": {\n            \"title\": \"\"\n        },\n        \"yaxis\": \"y1\",\n        \"x\": [\n            13.16\n        ],\n        \"showlegend\": false,\n        \"mode\": \"markers\",\n        \"name\": \"y1\",\n        \"zmin\": 1.0,\n        \"legendgroup\": \"y1\",\n        \"marker\": {\n            \"symbol\": \"circle\",\n            \"color\": \"rgba(204, 76, 204, 1.000)\",\n            \"line\": {\n                \"color\": \"rgba(0, 0, 0, 1.000)\",\n                \"width\": 1\n            },\n            \"size\": 8\n        },\n        \"zmax\": 3.0,\n        \"y\": [\n            4.0\n        ],\n        \"type\": \"scatter\"\n    },\n    {\n        \"xaxis\": \"x1\",\n        \"colorbar\": {\n            \"title\": \"\"\n        },\n        \"yaxis\": \"y1\",\n        \"x\": [\n            13.88\n        ],\n        \"showlegend\": false,\n        \"mode\": \"markers\",\n        \"name\": \"y1\",\n        \"zmin\": 1.0,\n        \"legendgroup\": \"y1\",\n        \"marker\": {\n            \"symbol\": \"circle\",\n            \"color\": \"rgba(255, 76, 76, 1.000)\",\n            \"line\": {\n                \"color\": \"rgba(0, 0, 0, 1.000)\",\n                \"width\": 1\n            },\n            \"size\": 8\n        },\n        \"zmax\": 3.0,\n        \"y\": [\n            4.9\n        ],\n        \"type\": \"scatter\"\n    },\n    {\n        \"xaxis\": \"x1\",\n        \"colorbar\": {\n            \"title\": \"\"\n        },\n        \"yaxis\": \"y1\",\n        \"x\": [\n            12.87\n        ],\n        \"showlegend\": false,\n        \"mode\": \"markers\",\n        \"name\": \"y1\",\n        \"zmin\": 1.0,\n        \"legendgroup\": \"y1\",\n        \"marker\": {\n            \"symbol\": \"circle\",\n            \"color\": \"rgba(76, 204, 76, 1.000)\",\n            \"line\": {\n                \"color\": \"rgba(0, 0, 0, 1.000)\",\n                \"width\": 1\n            },\n            \"size\": 8\n        },\n        \"zmax\": 3.0,\n        \"y\": [\n            7.65\n        ],\n        \"type\": \"scatter\"\n    },\n    {\n        \"xaxis\": \"x1\",\n        \"colorbar\": {\n            \"title\": \"\"\n        },\n        \"yaxis\": \"y1\",\n        \"x\": [\n            13.32\n        ],\n        \"showlegend\": false,\n        \"mode\": \"markers\",\n        \"name\": \"y1\",\n        \"zmin\": 1.0,\n        \"legendgroup\": \"y1\",\n        \"marker\": {\n            \"symbol\": \"circle\",\n            \"color\": \"rgba(76, 204, 76, 1.000)\",\n            \"line\": {\n                \"color\": \"rgba(0, 0, 0, 1.000)\",\n                \"width\": 1\n            },\n            \"size\": 8\n        },\n        \"zmax\": 3.0,\n        \"y\": [\n            8.42\n        ],\n        \"type\": \"scatter\"\n    },\n    {\n        \"xaxis\": \"x1\",\n        \"colorbar\": {\n            \"title\": \"\"\n        },\n        \"yaxis\": \"y1\",\n        \"x\": [\n            13.08\n        ],\n        \"showlegend\": false,\n        \"mode\": \"markers\",\n        \"name\": \"y1\",\n        \"zmin\": 1.0,\n        \"legendgroup\": \"y1\",\n        \"marker\": {\n            \"symbol\": \"circle\",\n            \"color\": \"rgba(76, 204, 76, 1.000)\",\n            \"line\": {\n                \"color\": \"rgba(0, 0, 0, 1.000)\",\n                \"width\": 1\n            },\n            \"size\": 8\n        },\n        \"zmax\": 3.0,\n        \"y\": [\n            9.4\n        ],\n        \"type\": \"scatter\"\n    },\n    {\n        \"xaxis\": \"x1\",\n        \"colorbar\": {\n            \"title\": \"\"\n        },\n        \"yaxis\": \"y1\",\n        \"x\": [\n            13.5\n        ],\n        \"showlegend\": false,\n        \"mode\": \"markers\",\n        \"name\": \"y1\",\n        \"zmin\": 1.0,\n        \"legendgroup\": \"y1\",\n        \"marker\": {\n            \"symbol\": \"circle\",\n            \"color\": \"rgba(76, 204, 76, 1.000)\",\n            \"line\": {\n                \"color\": \"rgba(0, 0, 0, 1.000)\",\n                \"width\": 1\n            },\n            \"size\": 8\n        },\n        \"zmax\": 3.0,\n        \"y\": [\n            8.6\n        ],\n        \"type\": \"scatter\"\n    },\n    {\n        \"xaxis\": \"x1\",\n        \"colorbar\": {\n            \"title\": \"\"\n        },\n        \"yaxis\": \"y1\",\n        \"x\": [\n            12.79\n        ],\n        \"showlegend\": false,\n        \"mode\": \"markers\",\n        \"name\": \"y1\",\n        \"zmin\": 1.0,\n        \"legendgroup\": \"y1\",\n        \"marker\": {\n            \"symbol\": \"circle\",\n            \"color\": \"rgba(76, 204, 76, 1.000)\",\n            \"line\": {\n                \"color\": \"rgba(0, 0, 0, 1.000)\",\n                \"width\": 1\n            },\n            \"size\": 8\n        },\n        \"zmax\": 3.0,\n        \"y\": [\n            10.8\n        ],\n        \"type\": \"scatter\"\n    },\n    {\n        \"xaxis\": \"x1\",\n        \"colorbar\": {\n            \"title\": \"\"\n        },\n        \"yaxis\": \"y1\",\n        \"x\": [\n            13.11\n        ],\n        \"showlegend\": false,\n        \"mode\": \"markers\",\n        \"name\": \"y1\",\n        \"zmin\": 1.0,\n        \"legendgroup\": \"y1\",\n        \"marker\": {\n            \"symbol\": \"circle\",\n            \"color\": \"rgba(76, 204, 76, 1.000)\",\n            \"line\": {\n                \"color\": \"rgba(0, 0, 0, 1.000)\",\n                \"width\": 1\n            },\n            \"size\": 8\n        },\n        \"zmax\": 3.0,\n        \"y\": [\n            7.1\n        ],\n        \"type\": \"scatter\"\n    },\n    {\n        \"xaxis\": \"x1\",\n        \"colorbar\": {\n            \"title\": \"\"\n        },\n        \"yaxis\": \"y1\",\n        \"x\": [\n            13.23\n        ],\n        \"showlegend\": false,\n        \"mode\": \"markers\",\n        \"name\": \"y1\",\n        \"zmin\": 1.0,\n        \"legendgroup\": \"y1\",\n        \"marker\": {\n            \"symbol\": \"circle\",\n            \"color\": \"rgba(76, 204, 76, 1.000)\",\n            \"line\": {\n                \"color\": \"rgba(0, 0, 0, 1.000)\",\n                \"width\": 1\n            },\n            \"size\": 8\n        },\n        \"zmax\": 3.0,\n        \"y\": [\n            10.52\n        ],\n        \"type\": \"scatter\"\n    },\n    {\n        \"xaxis\": \"x1\",\n        \"colorbar\": {\n            \"title\": \"\"\n        },\n        \"yaxis\": \"y1\",\n        \"x\": [\n            12.58\n        ],\n        \"showlegend\": false,\n        \"mode\": \"markers\",\n        \"name\": \"y1\",\n        \"zmin\": 1.0,\n        \"legendgroup\": \"y1\",\n        \"marker\": {\n            \"symbol\": \"circle\",\n            \"color\": \"rgba(76, 204, 76, 1.000)\",\n            \"line\": {\n                \"color\": \"rgba(0, 0, 0, 1.000)\",\n                \"width\": 1\n            },\n            \"size\": 8\n        },\n        \"zmax\": 3.0,\n        \"y\": [\n            7.6\n        ],\n        \"type\": \"scatter\"\n    },\n    {\n        \"xaxis\": \"x1\",\n        \"colorbar\": {\n            \"title\": \"\"\n        },\n        \"yaxis\": \"y1\",\n        \"x\": [\n            13.17\n        ],\n        \"showlegend\": false,\n        \"mode\": \"markers\",\n        \"name\": \"y1\",\n        \"zmin\": 1.0,\n        \"legendgroup\": \"y1\",\n        \"marker\": {\n            \"symbol\": \"circle\",\n            \"color\": \"rgba(76, 204, 76, 1.000)\",\n            \"line\": {\n                \"color\": \"rgba(0, 0, 0, 1.000)\",\n                \"width\": 1\n            },\n            \"size\": 8\n        },\n        \"zmax\": 3.0,\n        \"y\": [\n            7.9\n        ],\n        \"type\": \"scatter\"\n    },\n    {\n        \"xaxis\": \"x1\",\n        \"colorbar\": {\n            \"title\": \"\"\n        },\n        \"yaxis\": \"y1\",\n        \"x\": [\n            13.84\n        ],\n        \"showlegend\": false,\n        \"mode\": \"markers\",\n        \"name\": \"y1\",\n        \"zmin\": 1.0,\n        \"legendgroup\": \"y1\",\n        \"marker\": {\n            \"symbol\": \"circle\",\n            \"color\": \"rgba(76, 204, 76, 1.000)\",\n            \"line\": {\n                \"color\": \"rgba(0, 0, 0, 1.000)\",\n                \"width\": 1\n            },\n            \"size\": 8\n        },\n        \"zmax\": 3.0,\n        \"y\": [\n            9.01\n        ],\n        \"type\": \"scatter\"\n    },\n    {\n        \"xaxis\": \"x1\",\n        \"colorbar\": {\n            \"title\": \"\"\n        },\n        \"yaxis\": \"y1\",\n        \"x\": [\n            12.45\n        ],\n        \"showlegend\": false,\n        \"mode\": \"markers\",\n        \"name\": \"y1\",\n        \"zmin\": 1.0,\n        \"legendgroup\": \"y1\",\n        \"marker\": {\n            \"symbol\": \"circle\",\n            \"color\": \"rgba(76, 204, 76, 1.000)\",\n            \"line\": {\n                \"color\": \"rgba(0, 0, 0, 1.000)\",\n                \"width\": 1\n            },\n            \"size\": 8\n        },\n        \"zmax\": 3.0,\n        \"y\": [\n            7.5\n        ],\n        \"type\": \"scatter\"\n    },\n    {\n        \"xaxis\": \"x1\",\n        \"colorbar\": {\n            \"title\": \"\"\n        },\n        \"yaxis\": \"y1\",\n        \"x\": [\n            14.34\n        ],\n        \"showlegend\": false,\n        \"mode\": \"markers\",\n        \"name\": \"y1\",\n        \"zmin\": 1.0,\n        \"legendgroup\": \"y1\",\n        \"marker\": {\n            \"symbol\": \"circle\",\n            \"color\": \"rgba(76, 204, 76, 1.000)\",\n            \"line\": {\n                \"color\": \"rgba(0, 0, 0, 1.000)\",\n                \"width\": 1\n            },\n            \"size\": 8\n        },\n        \"zmax\": 3.0,\n        \"y\": [\n            13.0\n        ],\n        \"type\": \"scatter\"\n    },\n    {\n        \"xaxis\": \"x1\",\n        \"colorbar\": {\n            \"title\": \"\"\n        },\n        \"yaxis\": \"y1\",\n        \"x\": [\n            13.48\n        ],\n        \"showlegend\": false,\n        \"mode\": \"markers\",\n        \"name\": \"y1\",\n        \"zmin\": 1.0,\n        \"legendgroup\": \"y1\",\n        \"marker\": {\n            \"symbol\": \"circle\",\n            \"color\": \"rgba(76, 204, 76, 1.000)\",\n            \"line\": {\n                \"color\": \"rgba(0, 0, 0, 1.000)\",\n                \"width\": 1\n            },\n            \"size\": 8\n        },\n        \"zmax\": 3.0,\n        \"y\": [\n            11.75\n        ],\n        \"type\": \"scatter\"\n    },\n    {\n        \"xaxis\": \"x1\",\n        \"colorbar\": {\n            \"title\": \"\"\n        },\n        \"yaxis\": \"y1\",\n        \"x\": [\n            12.36\n        ],\n        \"showlegend\": false,\n        \"mode\": \"markers\",\n        \"name\": \"y1\",\n        \"zmin\": 1.0,\n        \"legendgroup\": \"y1\",\n        \"marker\": {\n            \"symbol\": \"circle\",\n            \"color\": \"rgba(76, 204, 76, 1.000)\",\n            \"line\": {\n                \"color\": \"rgba(0, 0, 0, 1.000)\",\n                \"width\": 1\n            },\n            \"size\": 8\n        },\n        \"zmax\": 3.0,\n        \"y\": [\n            7.65\n        ],\n        \"type\": \"scatter\"\n    },\n    {\n        \"xaxis\": \"x1\",\n        \"colorbar\": {\n            \"title\": \"\"\n        },\n        \"yaxis\": \"y1\",\n        \"x\": [\n            13.69\n        ],\n        \"showlegend\": false,\n        \"mode\": \"markers\",\n        \"name\": \"y1\",\n        \"zmin\": 1.0,\n        \"legendgroup\": \"y1\",\n        \"marker\": {\n            \"symbol\": \"circle\",\n            \"color\": \"rgba(255, 76, 76, 1.000)\",\n            \"line\": {\n                \"color\": \"rgba(0, 0, 0, 1.000)\",\n                \"width\": 1\n            },\n            \"size\": 8\n        },\n        \"zmax\": 3.0,\n        \"y\": [\n            5.88\n        ],\n        \"type\": \"scatter\"\n    },\n    {\n        \"xaxis\": \"x1\",\n        \"colorbar\": {\n            \"title\": \"\"\n        },\n        \"yaxis\": \"y1\",\n        \"x\": [\n            12.85\n        ],\n        \"showlegend\": false,\n        \"mode\": \"markers\",\n        \"name\": \"y1\",\n        \"zmin\": 1.0,\n        \"legendgroup\": \"y1\",\n        \"marker\": {\n            \"symbol\": \"circle\",\n            \"color\": \"rgba(255, 76, 76, 1.000)\",\n            \"line\": {\n                \"color\": \"rgba(0, 0, 0, 1.000)\",\n                \"width\": 1\n            },\n            \"size\": 8\n        },\n        \"zmax\": 3.0,\n        \"y\": [\n            5.58\n        ],\n        \"type\": \"scatter\"\n    },\n    {\n        \"xaxis\": \"x1\",\n        \"colorbar\": {\n            \"title\": \"\"\n        },\n        \"yaxis\": \"y1\",\n        \"x\": [\n            12.96\n        ],\n        \"showlegend\": false,\n        \"mode\": \"markers\",\n        \"name\": \"y1\",\n        \"zmin\": 1.0,\n        \"legendgroup\": \"y1\",\n        \"marker\": {\n            \"symbol\": \"circle\",\n            \"color\": \"rgba(255, 76, 76, 1.000)\",\n            \"line\": {\n                \"color\": \"rgba(0, 0, 0, 1.000)\",\n                \"width\": 1\n            },\n            \"size\": 8\n        },\n        \"zmax\": 3.0,\n        \"y\": [\n            5.28\n        ],\n        \"type\": \"scatter\"\n    },\n    {\n        \"xaxis\": \"x1\",\n        \"colorbar\": {\n            \"title\": \"\"\n        },\n        \"yaxis\": \"y1\",\n        \"x\": [\n            13.78\n        ],\n        \"showlegend\": false,\n        \"mode\": \"markers\",\n        \"name\": \"y1\",\n        \"zmin\": 1.0,\n        \"legendgroup\": \"y1\",\n        \"marker\": {\n            \"symbol\": \"circle\",\n            \"color\": \"rgba(76, 204, 76, 1.000)\",\n            \"line\": {\n                \"color\": \"rgba(0, 0, 0, 1.000)\",\n                \"width\": 1\n            },\n            \"size\": 8\n        },\n        \"zmax\": 3.0,\n        \"y\": [\n            9.58\n        ],\n        \"type\": \"scatter\"\n    },\n    {\n        \"xaxis\": \"x1\",\n        \"colorbar\": {\n            \"title\": \"\"\n        },\n        \"yaxis\": \"y1\",\n        \"x\": [\n            13.73\n        ],\n        \"showlegend\": false,\n        \"mode\": \"markers\",\n        \"name\": \"y1\",\n        \"zmin\": 1.0,\n        \"legendgroup\": \"y1\",\n        \"marker\": {\n            \"symbol\": \"circle\",\n            \"color\": \"rgba(255, 76, 76, 1.000)\",\n            \"line\": {\n                \"color\": \"rgba(0, 0, 0, 1.000)\",\n                \"width\": 1\n            },\n            \"size\": 8\n        },\n        \"zmax\": 3.0,\n        \"y\": [\n            6.62\n        ],\n        \"type\": \"scatter\"\n    },\n    {\n        \"xaxis\": \"x1\",\n        \"colorbar\": {\n            \"title\": \"\"\n        },\n        \"yaxis\": \"y1\",\n        \"x\": [\n            13.45\n        ],\n        \"showlegend\": false,\n        \"mode\": \"markers\",\n        \"name\": \"y1\",\n        \"zmin\": 1.0,\n        \"legendgroup\": \"y1\",\n        \"marker\": {\n            \"symbol\": \"circle\",\n            \"color\": \"rgba(76, 204, 76, 1.000)\",\n            \"line\": {\n                \"color\": \"rgba(0, 0, 0, 1.000)\",\n                \"width\": 1\n            },\n            \"size\": 8\n        },\n        \"zmax\": 3.0,\n        \"y\": [\n            10.68\n        ],\n        \"type\": \"scatter\"\n    },\n    {\n        \"xaxis\": \"x1\",\n        \"colorbar\": {\n            \"title\": \"\"\n        },\n        \"yaxis\": \"y1\",\n        \"x\": [\n            12.82\n        ],\n        \"showlegend\": false,\n        \"mode\": \"markers\",\n        \"name\": \"y1\",\n        \"zmin\": 1.0,\n        \"legendgroup\": \"y1\",\n        \"marker\": {\n            \"symbol\": \"circle\",\n            \"color\": \"rgba(76, 204, 76, 1.000)\",\n            \"line\": {\n                \"color\": \"rgba(0, 0, 0, 1.000)\",\n                \"width\": 1\n            },\n            \"size\": 8\n        },\n        \"zmax\": 3.0,\n        \"y\": [\n            10.26\n        ],\n        \"type\": \"scatter\"\n    },\n    {\n        \"xaxis\": \"x1\",\n        \"colorbar\": {\n            \"title\": \"\"\n        },\n        \"yaxis\": \"y1\",\n        \"x\": [\n            13.58\n        ],\n        \"showlegend\": false,\n        \"mode\": \"markers\",\n        \"name\": \"y1\",\n        \"zmin\": 1.0,\n        \"legendgroup\": \"y1\",\n        \"marker\": {\n            \"symbol\": \"circle\",\n            \"color\": \"rgba(76, 204, 76, 1.000)\",\n            \"line\": {\n                \"color\": \"rgba(0, 0, 0, 1.000)\",\n                \"width\": 1\n            },\n            \"size\": 8\n        },\n        \"zmax\": 3.0,\n        \"y\": [\n            8.66\n        ],\n        \"type\": \"scatter\"\n    },\n    {\n        \"xaxis\": \"x1\",\n        \"colorbar\": {\n            \"title\": \"\"\n        },\n        \"yaxis\": \"y1\",\n        \"x\": [\n            13.4\n        ],\n        \"showlegend\": false,\n        \"mode\": \"markers\",\n        \"name\": \"y1\",\n        \"zmin\": 1.0,\n        \"legendgroup\": \"y1\",\n        \"marker\": {\n            \"symbol\": \"circle\",\n            \"color\": \"rgba(76, 204, 76, 1.000)\",\n            \"line\": {\n                \"color\": \"rgba(0, 0, 0, 1.000)\",\n                \"width\": 1\n            },\n            \"size\": 8\n        },\n        \"zmax\": 3.0,\n        \"y\": [\n            8.5\n        ],\n        \"type\": \"scatter\"\n    },\n    {\n        \"xaxis\": \"x1\",\n        \"colorbar\": {\n            \"title\": \"\"\n        },\n        \"yaxis\": \"y1\",\n        \"x\": [\n            12.2\n        ],\n        \"showlegend\": false,\n        \"mode\": \"markers\",\n        \"name\": \"y1\",\n        \"zmin\": 1.0,\n        \"legendgroup\": \"y1\",\n        \"marker\": {\n            \"symbol\": \"circle\",\n            \"color\": \"rgba(255, 76, 76, 1.000)\",\n            \"line\": {\n                \"color\": \"rgba(0, 0, 0, 1.000)\",\n                \"width\": 1\n            },\n            \"size\": 8\n        },\n        \"zmax\": 3.0,\n        \"y\": [\n            5.5\n        ],\n        \"type\": \"scatter\"\n    },\n    {\n        \"xaxis\": \"x1\",\n        \"colorbar\": {\n            \"title\": \"\"\n        },\n        \"yaxis\": \"y1\",\n        \"x\": [\n            12.77\n        ],\n        \"showlegend\": false,\n        \"mode\": \"markers\",\n        \"name\": \"y1\",\n        \"zmin\": 1.0,\n        \"legendgroup\": \"y1\",\n        \"marker\": {\n            \"symbol\": \"circle\",\n            \"color\": \"rgba(76, 204, 76, 1.000)\",\n            \"line\": {\n                \"color\": \"rgba(0, 0, 0, 1.000)\",\n                \"width\": 1\n            },\n            \"size\": 8\n        },\n        \"zmax\": 3.0,\n        \"y\": [\n            9.9\n        ],\n        \"type\": \"scatter\"\n    },\n    {\n        \"xaxis\": \"x1\",\n        \"colorbar\": {\n            \"title\": \"\"\n        },\n        \"yaxis\": \"y1\",\n        \"x\": [\n            14.16\n        ],\n        \"showlegend\": false,\n        \"mode\": \"markers\",\n        \"name\": \"y1\",\n        \"zmin\": 1.0,\n        \"legendgroup\": \"y1\",\n        \"marker\": {\n            \"symbol\": \"circle\",\n            \"color\": \"rgba(76, 204, 76, 1.000)\",\n            \"line\": {\n                \"color\": \"rgba(0, 0, 0, 1.000)\",\n                \"width\": 1\n            },\n            \"size\": 8\n        },\n        \"zmax\": 3.0,\n        \"y\": [\n            9.7\n        ],\n        \"type\": \"scatter\"\n    },\n    {\n        \"xaxis\": \"x1\",\n        \"colorbar\": {\n            \"title\": \"\"\n        },\n        \"yaxis\": \"y1\",\n        \"x\": [\n            13.71\n        ],\n        \"showlegend\": false,\n        \"mode\": \"markers\",\n        \"name\": \"y1\",\n        \"zmin\": 1.0,\n        \"legendgroup\": \"y1\",\n        \"marker\": {\n            \"symbol\": \"circle\",\n            \"color\": \"rgba(76, 204, 76, 1.000)\",\n            \"line\": {\n                \"color\": \"rgba(0, 0, 0, 1.000)\",\n                \"width\": 1\n            },\n            \"size\": 8\n        },\n        \"zmax\": 3.0,\n        \"y\": [\n            7.7\n        ],\n        \"type\": \"scatter\"\n    },\n    {\n        \"xaxis\": \"x1\",\n        \"colorbar\": {\n            \"title\": \"\"\n        },\n        \"yaxis\": \"y1\",\n        \"x\": [\n            13.4\n        ],\n        \"showlegend\": false,\n        \"mode\": \"markers\",\n        \"name\": \"y1\",\n        \"zmin\": 1.0,\n        \"legendgroup\": \"y1\",\n        \"marker\": {\n            \"symbol\": \"circle\",\n            \"color\": \"rgba(76, 204, 76, 1.000)\",\n            \"line\": {\n                \"color\": \"rgba(0, 0, 0, 1.000)\",\n                \"width\": 1\n            },\n            \"size\": 8\n        },\n        \"zmax\": 3.0,\n        \"y\": [\n            7.3\n        ],\n        \"type\": \"scatter\"\n    },\n    {\n        \"xaxis\": \"x1\",\n        \"colorbar\": {\n            \"title\": \"\"\n        },\n        \"yaxis\": \"y1\",\n        \"x\": [\n            13.27\n        ],\n        \"showlegend\": false,\n        \"mode\": \"markers\",\n        \"name\": \"y1\",\n        \"zmin\": 1.0,\n        \"legendgroup\": \"y1\",\n        \"marker\": {\n            \"symbol\": \"circle\",\n            \"color\": \"rgba(76, 204, 76, 1.000)\",\n            \"line\": {\n                \"color\": \"rgba(0, 0, 0, 1.000)\",\n                \"width\": 1\n            },\n            \"size\": 8\n        },\n        \"zmax\": 3.0,\n        \"y\": [\n            10.2\n        ],\n        \"type\": \"scatter\"\n    },\n    {\n        \"xaxis\": \"x1\",\n        \"colorbar\": {\n            \"title\": \"\"\n        },\n        \"yaxis\": \"y1\",\n        \"x\": [\n            13.17\n        ],\n        \"showlegend\": false,\n        \"mode\": \"markers\",\n        \"name\": \"y1\",\n        \"zmin\": 1.0,\n        \"legendgroup\": \"y1\",\n        \"marker\": {\n            \"symbol\": \"circle\",\n            \"color\": \"rgba(76, 204, 76, 1.000)\",\n            \"line\": {\n                \"color\": \"rgba(0, 0, 0, 1.000)\",\n                \"width\": 1\n            },\n            \"size\": 8\n        },\n        \"zmax\": 3.0,\n        \"y\": [\n            9.3\n        ],\n        \"type\": \"scatter\"\n    },\n    {\n        \"xaxis\": \"x1\",\n        \"colorbar\": {\n            \"title\": \"\"\n        },\n        \"yaxis\": \"y1\",\n        \"x\": [\n            14.13\n        ],\n        \"showlegend\": false,\n        \"mode\": \"markers\",\n        \"name\": \"y1\",\n        \"zmin\": 1.0,\n        \"legendgroup\": \"y1\",\n        \"marker\": {\n            \"symbol\": \"circle\",\n            \"color\": \"rgba(76, 204, 76, 1.000)\",\n            \"line\": {\n                \"color\": \"rgba(0, 0, 0, 1.000)\",\n                \"width\": 1\n            },\n            \"size\": 8\n        },\n        \"zmax\": 3.0,\n        \"y\": [\n            9.2\n        ],\n        \"type\": \"scatter\"\n    },\n    {\n        \"xaxis\": \"x1\",\n        \"colorbar\": {\n            \"title\": \"\"\n        },\n        \"yaxis\": \"y1\",\n        \"x\": [\n            14.23\n        ],\n        \"showlegend\": false,\n        \"mode\": \"markers\",\n        \"name\": \"y1\",\n        \"zmin\": 1.0,\n        \"marker\": {\n            \"color\": [\n                0.5\n            ],\n            \"cmin\": 1.0,\n            \"opacity\": 0,\n            \"size\": 0,\n            \"colorscale\": [\n                [\n                    0.0,\n                    \"rgba(204, 76, 204, 1.000)\"\n                ],\n                [\n                    0.25,\n                    \"rgba(76, 76, 255, 1.000)\"\n                ],\n                [\n                    0.5,\n                    \"rgba(76, 204, 76, 1.000)\"\n                ],\n                [\n                    0.75,\n                    \"rgba(255, 242, 76, 1.000)\"\n                ],\n                [\n                    1.0,\n                    \"rgba(255, 76, 76, 1.000)\"\n                ]\n            ],\n            \"cmax\": 3.0,\n            \"showscale\": false\n        },\n        \"zmax\": 3.0,\n        \"y\": [\n            5.64\n        ],\n        \"type\": \"scatter\",\n        \"hoverinfo\": \"none\"\n    }\n]\n, {\n    \"showlegend\": false,\n    \"xaxis\": {\n        \"showticklabels\": true,\n        \"gridwidth\": 0.5,\n        \"tickvals\": [\n            11.0,\n            12.0,\n            13.0,\n            14.0\n        ],\n        \"visible\": true,\n        \"ticks\": \"inside\",\n        \"range\": [\n            10.915999999999999,\n            14.944\n        ],\n        \"domain\": [\n            0.0658209390492855,\n            0.9934383202099738\n        ],\n        \"tickmode\": \"array\",\n        \"linecolor\": \"rgba(0, 0, 0, 1.000)\",\n        \"showgrid\": true,\n        \"title\": \"\",\n        \"mirror\": false,\n        \"tickangle\": 0,\n        \"showline\": true,\n        \"gridcolor\": \"rgba(0, 0, 0, 0.100)\",\n        \"titlefont\": {\n            \"color\": \"rgba(0, 0, 0, 1.000)\",\n            \"family\": \"sans-serif\",\n            \"size\": 15\n        },\n        \"tickcolor\": \"rgb(0, 0, 0)\",\n        \"ticktext\": [\n            \"11\",\n            \"12\",\n            \"13\",\n            \"14\"\n        ],\n        \"zeroline\": false,\n        \"type\": \"-\",\n        \"tickfont\": {\n            \"color\": \"rgba(0, 0, 0, 1.000)\",\n            \"family\": \"sans-serif\",\n            \"size\": 11\n        },\n        \"zerolinecolor\": \"rgba(0, 0, 0, 1.000)\",\n        \"anchor\": \"y1\"\n    },\n    \"paper_bgcolor\": \"rgba(255, 255, 255, 1.000)\",\n    \"annotations\": [],\n    \"height\": 400,\n    \"margin\": {\n        \"l\": 0,\n        \"b\": 20,\n        \"r\": 0,\n        \"t\": 20\n    },\n    \"plot_bgcolor\": \"rgba(255, 255, 255, 1.000)\",\n    \"yaxis\": {\n        \"showticklabels\": true,\n        \"gridwidth\": 0.5,\n        \"tickvals\": [\n            2.5,\n            5.0,\n            7.5,\n            10.0,\n            12.5\n        ],\n        \"visible\": true,\n        \"ticks\": \"inside\",\n        \"range\": [\n            0.9284,\n            13.3516\n        ],\n        \"domain\": [\n            0.03762029746281716,\n            0.9901574803149606\n        ],\n        \"tickmode\": \"array\",\n        \"linecolor\": \"rgba(0, 0, 0, 1.000)\",\n        \"showgrid\": true,\n        \"title\": \"\",\n        \"mirror\": false,\n        \"tickangle\": 0,\n        \"showline\": true,\n        \"gridcolor\": \"rgba(0, 0, 0, 0.100)\",\n        \"titlefont\": {\n            \"color\": \"rgba(0, 0, 0, 1.000)\",\n            \"family\": \"sans-serif\",\n            \"size\": 15\n        },\n        \"tickcolor\": \"rgb(0, 0, 0)\",\n        \"ticktext\": [\n            \"2.5\",\n            \"5.0\",\n            \"7.5\",\n            \"10.0\",\n            \"12.5\"\n        ],\n        \"zeroline\": false,\n        \"type\": \"-\",\n        \"tickfont\": {\n            \"color\": \"rgba(0, 0, 0, 1.000)\",\n            \"family\": \"sans-serif\",\n            \"size\": 11\n        },\n        \"zerolinecolor\": \"rgba(0, 0, 0, 1.000)\",\n        \"anchor\": \"x1\"\n    },\n    \"width\": 600\n}\n);\n    </script>\n\n    </body>\n</html>\n",
            "application/vnd.plotly.v1+json": {
              "layout": {
                "showlegend": false,
                "xaxis": {
                  "showticklabels": true,
                  "gridwidth": 0.5,
                  "tickvals": [
                    11,
                    12,
                    13,
                    14
                  ],
                  "visible": true,
                  "ticks": "inside",
                  "range": [
                    10.915999999999999,
                    14.944
                  ],
                  "domain": [
                    0.0658209390492855,
                    0.9934383202099738
                  ],
                  "tickmode": "array",
                  "linecolor": "rgba(0, 0, 0, 1.000)",
                  "showgrid": true,
                  "title": "",
                  "mirror": false,
                  "tickangle": 0,
                  "showline": true,
                  "gridcolor": "rgba(0, 0, 0, 0.100)",
                  "titlefont": {
                    "color": "rgba(0, 0, 0, 1.000)",
                    "family": "sans-serif",
                    "size": 15
                  },
                  "tickcolor": "rgb(0, 0, 0)",
                  "ticktext": [
                    "11",
                    "12",
                    "13",
                    "14"
                  ],
                  "zeroline": false,
                  "type": "-",
                  "tickfont": {
                    "color": "rgba(0, 0, 0, 1.000)",
                    "family": "sans-serif",
                    "size": 11
                  },
                  "zerolinecolor": "rgba(0, 0, 0, 1.000)",
                  "anchor": "y1"
                },
                "paper_bgcolor": "rgba(255, 255, 255, 1.000)",
                "annotations": [],
                "height": 400,
                "margin": {
                  "l": 0,
                  "b": 20,
                  "r": 0,
                  "t": 20
                },
                "plot_bgcolor": "rgba(255, 255, 255, 1.000)",
                "yaxis": {
                  "showticklabels": true,
                  "gridwidth": 0.5,
                  "tickvals": [
                    2.5,
                    5,
                    7.5,
                    10,
                    12.5
                  ],
                  "visible": true,
                  "ticks": "inside",
                  "range": [
                    0.9284,
                    13.3516
                  ],
                  "domain": [
                    0.03762029746281716,
                    0.9901574803149606
                  ],
                  "tickmode": "array",
                  "linecolor": "rgba(0, 0, 0, 1.000)",
                  "showgrid": true,
                  "title": "",
                  "mirror": false,
                  "tickangle": 0,
                  "showline": true,
                  "gridcolor": "rgba(0, 0, 0, 0.100)",
                  "titlefont": {
                    "color": "rgba(0, 0, 0, 1.000)",
                    "family": "sans-serif",
                    "size": 15
                  },
                  "tickcolor": "rgb(0, 0, 0)",
                  "ticktext": [
                    "2.5",
                    "5.0",
                    "7.5",
                    "10.0",
                    "12.5"
                  ],
                  "zeroline": false,
                  "type": "-",
                  "tickfont": {
                    "color": "rgba(0, 0, 0, 1.000)",
                    "family": "sans-serif",
                    "size": 11
                  },
                  "zerolinecolor": "rgba(0, 0, 0, 1.000)",
                  "anchor": "x1"
                },
                "width": 600
              },
              "data": [
                {
                  "xaxis": "x1",
                  "colorbar": {
                    "title": ""
                  },
                  "yaxis": "y1",
                  "x": [
                    14.23
                  ],
                  "showlegend": true,
                  "mode": "markers",
                  "name": "y1",
                  "zmin": 1,
                  "legendgroup": "y1",
                  "marker": {
                    "symbol": "circle",
                    "color": "rgba(255, 76, 76, 1.000)",
                    "line": {
                      "color": "rgba(0, 0, 0, 1.000)",
                      "width": 1
                    },
                    "size": 8
                  },
                  "zmax": 3,
                  "y": [
                    5.64
                  ],
                  "type": "scatter"
                },
                {
                  "xaxis": "x1",
                  "colorbar": {
                    "title": ""
                  },
                  "yaxis": "y1",
                  "x": [
                    13.2
                  ],
                  "showlegend": false,
                  "mode": "markers",
                  "name": "y1",
                  "zmin": 1,
                  "legendgroup": "y1",
                  "marker": {
                    "symbol": "circle",
                    "color": "rgba(255, 76, 76, 1.000)",
                    "line": {
                      "color": "rgba(0, 0, 0, 1.000)",
                      "width": 1
                    },
                    "size": 8
                  },
                  "zmax": 3,
                  "y": [
                    4.38
                  ],
                  "type": "scatter"
                },
                {
                  "xaxis": "x1",
                  "colorbar": {
                    "title": ""
                  },
                  "yaxis": "y1",
                  "x": [
                    13.16
                  ],
                  "showlegend": false,
                  "mode": "markers",
                  "name": "y1",
                  "zmin": 1,
                  "legendgroup": "y1",
                  "marker": {
                    "symbol": "circle",
                    "color": "rgba(255, 76, 76, 1.000)",
                    "line": {
                      "color": "rgba(0, 0, 0, 1.000)",
                      "width": 1
                    },
                    "size": 8
                  },
                  "zmax": 3,
                  "y": [
                    5.68
                  ],
                  "type": "scatter"
                },
                {
                  "xaxis": "x1",
                  "colorbar": {
                    "title": ""
                  },
                  "yaxis": "y1",
                  "x": [
                    14.37
                  ],
                  "showlegend": false,
                  "mode": "markers",
                  "name": "y1",
                  "zmin": 1,
                  "legendgroup": "y1",
                  "marker": {
                    "symbol": "circle",
                    "color": "rgba(76, 204, 76, 1.000)",
                    "line": {
                      "color": "rgba(0, 0, 0, 1.000)",
                      "width": 1
                    },
                    "size": 8
                  },
                  "zmax": 3,
                  "y": [
                    7.8
                  ],
                  "type": "scatter"
                },
                {
                  "xaxis": "x1",
                  "colorbar": {
                    "title": ""
                  },
                  "yaxis": "y1",
                  "x": [
                    13.24
                  ],
                  "showlegend": false,
                  "mode": "markers",
                  "name": "y1",
                  "zmin": 1,
                  "legendgroup": "y1",
                  "marker": {
                    "symbol": "circle",
                    "color": "rgba(255, 76, 76, 1.000)",
                    "line": {
                      "color": "rgba(0, 0, 0, 1.000)",
                      "width": 1
                    },
                    "size": 8
                  },
                  "zmax": 3,
                  "y": [
                    4.32
                  ],
                  "type": "scatter"
                },
                {
                  "xaxis": "x1",
                  "colorbar": {
                    "title": ""
                  },
                  "yaxis": "y1",
                  "x": [
                    14.2
                  ],
                  "showlegend": false,
                  "mode": "markers",
                  "name": "y1",
                  "zmin": 1,
                  "legendgroup": "y1",
                  "marker": {
                    "symbol": "circle",
                    "color": "rgba(255, 76, 76, 1.000)",
                    "line": {
                      "color": "rgba(0, 0, 0, 1.000)",
                      "width": 1
                    },
                    "size": 8
                  },
                  "zmax": 3,
                  "y": [
                    6.75
                  ],
                  "type": "scatter"
                },
                {
                  "xaxis": "x1",
                  "colorbar": {
                    "title": ""
                  },
                  "yaxis": "y1",
                  "x": [
                    14.39
                  ],
                  "showlegend": false,
                  "mode": "markers",
                  "name": "y1",
                  "zmin": 1,
                  "legendgroup": "y1",
                  "marker": {
                    "symbol": "circle",
                    "color": "rgba(255, 76, 76, 1.000)",
                    "line": {
                      "color": "rgba(0, 0, 0, 1.000)",
                      "width": 1
                    },
                    "size": 8
                  },
                  "zmax": 3,
                  "y": [
                    5.25
                  ],
                  "type": "scatter"
                },
                {
                  "xaxis": "x1",
                  "colorbar": {
                    "title": ""
                  },
                  "yaxis": "y1",
                  "x": [
                    14.06
                  ],
                  "showlegend": false,
                  "mode": "markers",
                  "name": "y1",
                  "zmin": 1,
                  "legendgroup": "y1",
                  "marker": {
                    "symbol": "circle",
                    "color": "rgba(255, 76, 76, 1.000)",
                    "line": {
                      "color": "rgba(0, 0, 0, 1.000)",
                      "width": 1
                    },
                    "size": 8
                  },
                  "zmax": 3,
                  "y": [
                    5.05
                  ],
                  "type": "scatter"
                },
                {
                  "xaxis": "x1",
                  "colorbar": {
                    "title": ""
                  },
                  "yaxis": "y1",
                  "x": [
                    14.83
                  ],
                  "showlegend": false,
                  "mode": "markers",
                  "name": "y1",
                  "zmin": 1,
                  "legendgroup": "y1",
                  "marker": {
                    "symbol": "circle",
                    "color": "rgba(255, 76, 76, 1.000)",
                    "line": {
                      "color": "rgba(0, 0, 0, 1.000)",
                      "width": 1
                    },
                    "size": 8
                  },
                  "zmax": 3,
                  "y": [
                    5.2
                  ],
                  "type": "scatter"
                },
                {
                  "xaxis": "x1",
                  "colorbar": {
                    "title": ""
                  },
                  "yaxis": "y1",
                  "x": [
                    13.86
                  ],
                  "showlegend": false,
                  "mode": "markers",
                  "name": "y1",
                  "zmin": 1,
                  "legendgroup": "y1",
                  "marker": {
                    "symbol": "circle",
                    "color": "rgba(255, 76, 76, 1.000)",
                    "line": {
                      "color": "rgba(0, 0, 0, 1.000)",
                      "width": 1
                    },
                    "size": 8
                  },
                  "zmax": 3,
                  "y": [
                    7.22
                  ],
                  "type": "scatter"
                },
                {
                  "xaxis": "x1",
                  "colorbar": {
                    "title": ""
                  },
                  "yaxis": "y1",
                  "x": [
                    14.1
                  ],
                  "showlegend": false,
                  "mode": "markers",
                  "name": "y1",
                  "zmin": 1,
                  "legendgroup": "y1",
                  "marker": {
                    "symbol": "circle",
                    "color": "rgba(255, 76, 76, 1.000)",
                    "line": {
                      "color": "rgba(0, 0, 0, 1.000)",
                      "width": 1
                    },
                    "size": 8
                  },
                  "zmax": 3,
                  "y": [
                    5.75
                  ],
                  "type": "scatter"
                },
                {
                  "xaxis": "x1",
                  "colorbar": {
                    "title": ""
                  },
                  "yaxis": "y1",
                  "x": [
                    14.12
                  ],
                  "showlegend": false,
                  "mode": "markers",
                  "name": "y1",
                  "zmin": 1,
                  "legendgroup": "y1",
                  "marker": {
                    "symbol": "circle",
                    "color": "rgba(255, 76, 76, 1.000)",
                    "line": {
                      "color": "rgba(0, 0, 0, 1.000)",
                      "width": 1
                    },
                    "size": 8
                  },
                  "zmax": 3,
                  "y": [
                    5
                  ],
                  "type": "scatter"
                },
                {
                  "xaxis": "x1",
                  "colorbar": {
                    "title": ""
                  },
                  "yaxis": "y1",
                  "x": [
                    13.75
                  ],
                  "showlegend": false,
                  "mode": "markers",
                  "name": "y1",
                  "zmin": 1,
                  "legendgroup": "y1",
                  "marker": {
                    "symbol": "circle",
                    "color": "rgba(255, 76, 76, 1.000)",
                    "line": {
                      "color": "rgba(0, 0, 0, 1.000)",
                      "width": 1
                    },
                    "size": 8
                  },
                  "zmax": 3,
                  "y": [
                    5.6
                  ],
                  "type": "scatter"
                },
                {
                  "xaxis": "x1",
                  "colorbar": {
                    "title": ""
                  },
                  "yaxis": "y1",
                  "x": [
                    14.75
                  ],
                  "showlegend": false,
                  "mode": "markers",
                  "name": "y1",
                  "zmin": 1,
                  "legendgroup": "y1",
                  "marker": {
                    "symbol": "circle",
                    "color": "rgba(255, 76, 76, 1.000)",
                    "line": {
                      "color": "rgba(0, 0, 0, 1.000)",
                      "width": 1
                    },
                    "size": 8
                  },
                  "zmax": 3,
                  "y": [
                    5.4
                  ],
                  "type": "scatter"
                },
                {
                  "xaxis": "x1",
                  "colorbar": {
                    "title": ""
                  },
                  "yaxis": "y1",
                  "x": [
                    14.38
                  ],
                  "showlegend": false,
                  "mode": "markers",
                  "name": "y1",
                  "zmin": 1,
                  "legendgroup": "y1",
                  "marker": {
                    "symbol": "circle",
                    "color": "rgba(255, 76, 76, 1.000)",
                    "line": {
                      "color": "rgba(0, 0, 0, 1.000)",
                      "width": 1
                    },
                    "size": 8
                  },
                  "zmax": 3,
                  "y": [
                    7.5
                  ],
                  "type": "scatter"
                },
                {
                  "xaxis": "x1",
                  "colorbar": {
                    "title": ""
                  },
                  "yaxis": "y1",
                  "x": [
                    13.63
                  ],
                  "showlegend": false,
                  "mode": "markers",
                  "name": "y1",
                  "zmin": 1,
                  "legendgroup": "y1",
                  "marker": {
                    "symbol": "circle",
                    "color": "rgba(255, 76, 76, 1.000)",
                    "line": {
                      "color": "rgba(0, 0, 0, 1.000)",
                      "width": 1
                    },
                    "size": 8
                  },
                  "zmax": 3,
                  "y": [
                    7.3
                  ],
                  "type": "scatter"
                },
                {
                  "xaxis": "x1",
                  "colorbar": {
                    "title": ""
                  },
                  "yaxis": "y1",
                  "x": [
                    14.3
                  ],
                  "showlegend": false,
                  "mode": "markers",
                  "name": "y1",
                  "zmin": 1,
                  "legendgroup": "y1",
                  "marker": {
                    "symbol": "circle",
                    "color": "rgba(255, 76, 76, 1.000)",
                    "line": {
                      "color": "rgba(0, 0, 0, 1.000)",
                      "width": 1
                    },
                    "size": 8
                  },
                  "zmax": 3,
                  "y": [
                    6.2
                  ],
                  "type": "scatter"
                },
                {
                  "xaxis": "x1",
                  "colorbar": {
                    "title": ""
                  },
                  "yaxis": "y1",
                  "x": [
                    13.83
                  ],
                  "showlegend": false,
                  "mode": "markers",
                  "name": "y1",
                  "zmin": 1,
                  "legendgroup": "y1",
                  "marker": {
                    "symbol": "circle",
                    "color": "rgba(255, 76, 76, 1.000)",
                    "line": {
                      "color": "rgba(0, 0, 0, 1.000)",
                      "width": 1
                    },
                    "size": 8
                  },
                  "zmax": 3,
                  "y": [
                    6.6
                  ],
                  "type": "scatter"
                },
                {
                  "xaxis": "x1",
                  "colorbar": {
                    "title": ""
                  },
                  "yaxis": "y1",
                  "x": [
                    14.19
                  ],
                  "showlegend": false,
                  "mode": "markers",
                  "name": "y1",
                  "zmin": 1,
                  "legendgroup": "y1",
                  "marker": {
                    "symbol": "circle",
                    "color": "rgba(76, 204, 76, 1.000)",
                    "line": {
                      "color": "rgba(0, 0, 0, 1.000)",
                      "width": 1
                    },
                    "size": 8
                  },
                  "zmax": 3,
                  "y": [
                    8.7
                  ],
                  "type": "scatter"
                },
                {
                  "xaxis": "x1",
                  "colorbar": {
                    "title": ""
                  },
                  "yaxis": "y1",
                  "x": [
                    13.64
                  ],
                  "showlegend": false,
                  "mode": "markers",
                  "name": "y1",
                  "zmin": 1,
                  "legendgroup": "y1",
                  "marker": {
                    "symbol": "circle",
                    "color": "rgba(255, 76, 76, 1.000)",
                    "line": {
                      "color": "rgba(0, 0, 0, 1.000)",
                      "width": 1
                    },
                    "size": 8
                  },
                  "zmax": 3,
                  "y": [
                    5.1
                  ],
                  "type": "scatter"
                },
                {
                  "xaxis": "x1",
                  "colorbar": {
                    "title": ""
                  },
                  "yaxis": "y1",
                  "x": [
                    14.06
                  ],
                  "showlegend": false,
                  "mode": "markers",
                  "name": "y1",
                  "zmin": 1,
                  "legendgroup": "y1",
                  "marker": {
                    "symbol": "circle",
                    "color": "rgba(255, 76, 76, 1.000)",
                    "line": {
                      "color": "rgba(0, 0, 0, 1.000)",
                      "width": 1
                    },
                    "size": 8
                  },
                  "zmax": 3,
                  "y": [
                    5.65
                  ],
                  "type": "scatter"
                },
                {
                  "xaxis": "x1",
                  "colorbar": {
                    "title": ""
                  },
                  "yaxis": "y1",
                  "x": [
                    12.93
                  ],
                  "showlegend": false,
                  "mode": "markers",
                  "name": "y1",
                  "zmin": 1,
                  "legendgroup": "y1",
                  "marker": {
                    "symbol": "circle",
                    "color": "rgba(255, 76, 76, 1.000)",
                    "line": {
                      "color": "rgba(0, 0, 0, 1.000)",
                      "width": 1
                    },
                    "size": 8
                  },
                  "zmax": 3,
                  "y": [
                    4.5
                  ],
                  "type": "scatter"
                },
                {
                  "xaxis": "x1",
                  "colorbar": {
                    "title": ""
                  },
                  "yaxis": "y1",
                  "x": [
                    13.71
                  ],
                  "showlegend": false,
                  "mode": "markers",
                  "name": "y1",
                  "zmin": 1,
                  "legendgroup": "y1",
                  "marker": {
                    "symbol": "circle",
                    "color": "rgba(255, 76, 76, 1.000)",
                    "line": {
                      "color": "rgba(0, 0, 0, 1.000)",
                      "width": 1
                    },
                    "size": 8
                  },
                  "zmax": 3,
                  "y": [
                    3.8
                  ],
                  "type": "scatter"
                },
                {
                  "xaxis": "x1",
                  "colorbar": {
                    "title": ""
                  },
                  "yaxis": "y1",
                  "x": [
                    12.85
                  ],
                  "showlegend": false,
                  "mode": "markers",
                  "name": "y1",
                  "zmin": 1,
                  "legendgroup": "y1",
                  "marker": {
                    "symbol": "circle",
                    "color": "rgba(204, 76, 204, 1.000)",
                    "line": {
                      "color": "rgba(0, 0, 0, 1.000)",
                      "width": 1
                    },
                    "size": 8
                  },
                  "zmax": 3,
                  "y": [
                    3.93
                  ],
                  "type": "scatter"
                },
                {
                  "xaxis": "x1",
                  "colorbar": {
                    "title": ""
                  },
                  "yaxis": "y1",
                  "x": [
                    13.5
                  ],
                  "showlegend": false,
                  "mode": "markers",
                  "name": "y1",
                  "zmin": 1,
                  "legendgroup": "y1",
                  "marker": {
                    "symbol": "circle",
                    "color": "rgba(204, 76, 204, 1.000)",
                    "line": {
                      "color": "rgba(0, 0, 0, 1.000)",
                      "width": 1
                    },
                    "size": 8
                  },
                  "zmax": 3,
                  "y": [
                    3.52
                  ],
                  "type": "scatter"
                },
                {
                  "xaxis": "x1",
                  "colorbar": {
                    "title": ""
                  },
                  "yaxis": "y1",
                  "x": [
                    13.05
                  ],
                  "showlegend": false,
                  "mode": "markers",
                  "name": "y1",
                  "zmin": 1,
                  "legendgroup": "y1",
                  "marker": {
                    "symbol": "circle",
                    "color": "rgba(204, 76, 204, 1.000)",
                    "line": {
                      "color": "rgba(0, 0, 0, 1.000)",
                      "width": 1
                    },
                    "size": 8
                  },
                  "zmax": 3,
                  "y": [
                    3.58
                  ],
                  "type": "scatter"
                },
                {
                  "xaxis": "x1",
                  "colorbar": {
                    "title": ""
                  },
                  "yaxis": "y1",
                  "x": [
                    13.39
                  ],
                  "showlegend": false,
                  "mode": "markers",
                  "name": "y1",
                  "zmin": 1,
                  "legendgroup": "y1",
                  "marker": {
                    "symbol": "circle",
                    "color": "rgba(255, 76, 76, 1.000)",
                    "line": {
                      "color": "rgba(0, 0, 0, 1.000)",
                      "width": 1
                    },
                    "size": 8
                  },
                  "zmax": 3,
                  "y": [
                    4.8
                  ],
                  "type": "scatter"
                },
                {
                  "xaxis": "x1",
                  "colorbar": {
                    "title": ""
                  },
                  "yaxis": "y1",
                  "x": [
                    13.3
                  ],
                  "showlegend": false,
                  "mode": "markers",
                  "name": "y1",
                  "zmin": 1,
                  "legendgroup": "y1",
                  "marker": {
                    "symbol": "circle",
                    "color": "rgba(255, 76, 76, 1.000)",
                    "line": {
                      "color": "rgba(0, 0, 0, 1.000)",
                      "width": 1
                    },
                    "size": 8
                  },
                  "zmax": 3,
                  "y": [
                    3.95
                  ],
                  "type": "scatter"
                },
                {
                  "xaxis": "x1",
                  "colorbar": {
                    "title": ""
                  },
                  "yaxis": "y1",
                  "x": [
                    13.87
                  ],
                  "showlegend": false,
                  "mode": "markers",
                  "name": "y1",
                  "zmin": 1,
                  "legendgroup": "y1",
                  "marker": {
                    "symbol": "circle",
                    "color": "rgba(255, 76, 76, 1.000)",
                    "line": {
                      "color": "rgba(0, 0, 0, 1.000)",
                      "width": 1
                    },
                    "size": 8
                  },
                  "zmax": 3,
                  "y": [
                    4.5
                  ],
                  "type": "scatter"
                },
                {
                  "xaxis": "x1",
                  "colorbar": {
                    "title": ""
                  },
                  "yaxis": "y1",
                  "x": [
                    14.02
                  ],
                  "showlegend": false,
                  "mode": "markers",
                  "name": "y1",
                  "zmin": 1,
                  "legendgroup": "y1",
                  "marker": {
                    "symbol": "circle",
                    "color": "rgba(255, 76, 76, 1.000)",
                    "line": {
                      "color": "rgba(0, 0, 0, 1.000)",
                      "width": 1
                    },
                    "size": 8
                  },
                  "zmax": 3,
                  "y": [
                    4.7
                  ],
                  "type": "scatter"
                },
                {
                  "xaxis": "x1",
                  "colorbar": {
                    "title": ""
                  },
                  "yaxis": "y1",
                  "x": [
                    13.73
                  ],
                  "showlegend": false,
                  "mode": "markers",
                  "name": "y1",
                  "zmin": 1,
                  "legendgroup": "y1",
                  "marker": {
                    "symbol": "circle",
                    "color": "rgba(255, 76, 76, 1.000)",
                    "line": {
                      "color": "rgba(0, 0, 0, 1.000)",
                      "width": 1
                    },
                    "size": 8
                  },
                  "zmax": 3,
                  "y": [
                    5.7
                  ],
                  "type": "scatter"
                },
                {
                  "xaxis": "x1",
                  "colorbar": {
                    "title": ""
                  },
                  "yaxis": "y1",
                  "x": [
                    13.58
                  ],
                  "showlegend": false,
                  "mode": "markers",
                  "name": "y1",
                  "zmin": 1,
                  "legendgroup": "y1",
                  "marker": {
                    "symbol": "circle",
                    "color": "rgba(255, 76, 76, 1.000)",
                    "line": {
                      "color": "rgba(0, 0, 0, 1.000)",
                      "width": 1
                    },
                    "size": 8
                  },
                  "zmax": 3,
                  "y": [
                    6.9
                  ],
                  "type": "scatter"
                },
                {
                  "xaxis": "x1",
                  "colorbar": {
                    "title": ""
                  },
                  "yaxis": "y1",
                  "x": [
                    13.68
                  ],
                  "showlegend": false,
                  "mode": "markers",
                  "name": "y1",
                  "zmin": 1,
                  "legendgroup": "y1",
                  "marker": {
                    "symbol": "circle",
                    "color": "rgba(255, 76, 76, 1.000)",
                    "line": {
                      "color": "rgba(0, 0, 0, 1.000)",
                      "width": 1
                    },
                    "size": 8
                  },
                  "zmax": 3,
                  "y": [
                    3.84
                  ],
                  "type": "scatter"
                },
                {
                  "xaxis": "x1",
                  "colorbar": {
                    "title": ""
                  },
                  "yaxis": "y1",
                  "x": [
                    13.76
                  ],
                  "showlegend": false,
                  "mode": "markers",
                  "name": "y1",
                  "zmin": 1,
                  "legendgroup": "y1",
                  "marker": {
                    "symbol": "circle",
                    "color": "rgba(255, 76, 76, 1.000)",
                    "line": {
                      "color": "rgba(0, 0, 0, 1.000)",
                      "width": 1
                    },
                    "size": 8
                  },
                  "zmax": 3,
                  "y": [
                    5.4
                  ],
                  "type": "scatter"
                },
                {
                  "xaxis": "x1",
                  "colorbar": {
                    "title": ""
                  },
                  "yaxis": "y1",
                  "x": [
                    13.51
                  ],
                  "showlegend": false,
                  "mode": "markers",
                  "name": "y1",
                  "zmin": 1,
                  "legendgroup": "y1",
                  "marker": {
                    "symbol": "circle",
                    "color": "rgba(255, 76, 76, 1.000)",
                    "line": {
                      "color": "rgba(0, 0, 0, 1.000)",
                      "width": 1
                    },
                    "size": 8
                  },
                  "zmax": 3,
                  "y": [
                    4.2
                  ],
                  "type": "scatter"
                },
                {
                  "xaxis": "x1",
                  "colorbar": {
                    "title": ""
                  },
                  "yaxis": "y1",
                  "x": [
                    13.48
                  ],
                  "showlegend": false,
                  "mode": "markers",
                  "name": "y1",
                  "zmin": 1,
                  "legendgroup": "y1",
                  "marker": {
                    "symbol": "circle",
                    "color": "rgba(255, 76, 76, 1.000)",
                    "line": {
                      "color": "rgba(0, 0, 0, 1.000)",
                      "width": 1
                    },
                    "size": 8
                  },
                  "zmax": 3,
                  "y": [
                    5.1
                  ],
                  "type": "scatter"
                },
                {
                  "xaxis": "x1",
                  "colorbar": {
                    "title": ""
                  },
                  "yaxis": "y1",
                  "x": [
                    13.28
                  ],
                  "showlegend": false,
                  "mode": "markers",
                  "name": "y1",
                  "zmin": 1,
                  "legendgroup": "y1",
                  "marker": {
                    "symbol": "circle",
                    "color": "rgba(255, 76, 76, 1.000)",
                    "line": {
                      "color": "rgba(0, 0, 0, 1.000)",
                      "width": 1
                    },
                    "size": 8
                  },
                  "zmax": 3,
                  "y": [
                    4.6
                  ],
                  "type": "scatter"
                },
                {
                  "xaxis": "x1",
                  "colorbar": {
                    "title": ""
                  },
                  "yaxis": "y1",
                  "x": [
                    13.05
                  ],
                  "showlegend": false,
                  "mode": "markers",
                  "name": "y1",
                  "zmin": 1,
                  "legendgroup": "y1",
                  "marker": {
                    "symbol": "circle",
                    "color": "rgba(255, 76, 76, 1.000)",
                    "line": {
                      "color": "rgba(0, 0, 0, 1.000)",
                      "width": 1
                    },
                    "size": 8
                  },
                  "zmax": 3,
                  "y": [
                    4.25
                  ],
                  "type": "scatter"
                },
                {
                  "xaxis": "x1",
                  "colorbar": {
                    "title": ""
                  },
                  "yaxis": "y1",
                  "x": [
                    13.07
                  ],
                  "showlegend": false,
                  "mode": "markers",
                  "name": "y1",
                  "zmin": 1,
                  "legendgroup": "y1",
                  "marker": {
                    "symbol": "circle",
                    "color": "rgba(204, 76, 204, 1.000)",
                    "line": {
                      "color": "rgba(0, 0, 0, 1.000)",
                      "width": 1
                    },
                    "size": 8
                  },
                  "zmax": 3,
                  "y": [
                    3.7
                  ],
                  "type": "scatter"
                },
                {
                  "xaxis": "x1",
                  "colorbar": {
                    "title": ""
                  },
                  "yaxis": "y1",
                  "x": [
                    14.22
                  ],
                  "showlegend": false,
                  "mode": "markers",
                  "name": "y1",
                  "zmin": 1,
                  "legendgroup": "y1",
                  "marker": {
                    "symbol": "circle",
                    "color": "rgba(255, 76, 76, 1.000)",
                    "line": {
                      "color": "rgba(0, 0, 0, 1.000)",
                      "width": 1
                    },
                    "size": 8
                  },
                  "zmax": 3,
                  "y": [
                    5.1
                  ],
                  "type": "scatter"
                },
                {
                  "xaxis": "x1",
                  "colorbar": {
                    "title": ""
                  },
                  "yaxis": "y1",
                  "x": [
                    13.56
                  ],
                  "showlegend": false,
                  "mode": "markers",
                  "name": "y1",
                  "zmin": 1,
                  "legendgroup": "y1",
                  "marker": {
                    "symbol": "circle",
                    "color": "rgba(255, 76, 76, 1.000)",
                    "line": {
                      "color": "rgba(0, 0, 0, 1.000)",
                      "width": 1
                    },
                    "size": 8
                  },
                  "zmax": 3,
                  "y": [
                    6.13
                  ],
                  "type": "scatter"
                },
                {
                  "xaxis": "x1",
                  "colorbar": {
                    "title": ""
                  },
                  "yaxis": "y1",
                  "x": [
                    13.41
                  ],
                  "showlegend": false,
                  "mode": "markers",
                  "name": "y1",
                  "zmin": 1,
                  "legendgroup": "y1",
                  "marker": {
                    "symbol": "circle",
                    "color": "rgba(255, 76, 76, 1.000)",
                    "line": {
                      "color": "rgba(0, 0, 0, 1.000)",
                      "width": 1
                    },
                    "size": 8
                  },
                  "zmax": 3,
                  "y": [
                    4.28
                  ],
                  "type": "scatter"
                },
                {
                  "xaxis": "x1",
                  "colorbar": {
                    "title": ""
                  },
                  "yaxis": "y1",
                  "x": [
                    13.88
                  ],
                  "showlegend": false,
                  "mode": "markers",
                  "name": "y1",
                  "zmin": 1,
                  "legendgroup": "y1",
                  "marker": {
                    "symbol": "circle",
                    "color": "rgba(255, 76, 76, 1.000)",
                    "line": {
                      "color": "rgba(0, 0, 0, 1.000)",
                      "width": 1
                    },
                    "size": 8
                  },
                  "zmax": 3,
                  "y": [
                    5.43
                  ],
                  "type": "scatter"
                },
                {
                  "xaxis": "x1",
                  "colorbar": {
                    "title": ""
                  },
                  "yaxis": "y1",
                  "x": [
                    13.24
                  ],
                  "showlegend": false,
                  "mode": "markers",
                  "name": "y1",
                  "zmin": 1,
                  "legendgroup": "y1",
                  "marker": {
                    "symbol": "circle",
                    "color": "rgba(255, 76, 76, 1.000)",
                    "line": {
                      "color": "rgba(0, 0, 0, 1.000)",
                      "width": 1
                    },
                    "size": 8
                  },
                  "zmax": 3,
                  "y": [
                    4.36
                  ],
                  "type": "scatter"
                },
                {
                  "xaxis": "x1",
                  "colorbar": {
                    "title": ""
                  },
                  "yaxis": "y1",
                  "x": [
                    13.05
                  ],
                  "showlegend": false,
                  "mode": "markers",
                  "name": "y1",
                  "zmin": 1,
                  "legendgroup": "y1",
                  "marker": {
                    "symbol": "circle",
                    "color": "rgba(255, 76, 76, 1.000)",
                    "line": {
                      "color": "rgba(0, 0, 0, 1.000)",
                      "width": 1
                    },
                    "size": 8
                  },
                  "zmax": 3,
                  "y": [
                    5.04
                  ],
                  "type": "scatter"
                },
                {
                  "xaxis": "x1",
                  "colorbar": {
                    "title": ""
                  },
                  "yaxis": "y1",
                  "x": [
                    14.21
                  ],
                  "showlegend": false,
                  "mode": "markers",
                  "name": "y1",
                  "zmin": 1,
                  "legendgroup": "y1",
                  "marker": {
                    "symbol": "circle",
                    "color": "rgba(255, 76, 76, 1.000)",
                    "line": {
                      "color": "rgba(0, 0, 0, 1.000)",
                      "width": 1
                    },
                    "size": 8
                  },
                  "zmax": 3,
                  "y": [
                    5.24
                  ],
                  "type": "scatter"
                },
                {
                  "xaxis": "x1",
                  "colorbar": {
                    "title": ""
                  },
                  "yaxis": "y1",
                  "x": [
                    14.38
                  ],
                  "showlegend": false,
                  "mode": "markers",
                  "name": "y1",
                  "zmin": 1,
                  "legendgroup": "y1",
                  "marker": {
                    "symbol": "circle",
                    "color": "rgba(255, 76, 76, 1.000)",
                    "line": {
                      "color": "rgba(0, 0, 0, 1.000)",
                      "width": 1
                    },
                    "size": 8
                  },
                  "zmax": 3,
                  "y": [
                    4.9
                  ],
                  "type": "scatter"
                },
                {
                  "xaxis": "x1",
                  "colorbar": {
                    "title": ""
                  },
                  "yaxis": "y1",
                  "x": [
                    13.9
                  ],
                  "showlegend": false,
                  "mode": "markers",
                  "name": "y1",
                  "zmin": 1,
                  "legendgroup": "y1",
                  "marker": {
                    "symbol": "circle",
                    "color": "rgba(255, 76, 76, 1.000)",
                    "line": {
                      "color": "rgba(0, 0, 0, 1.000)",
                      "width": 1
                    },
                    "size": 8
                  },
                  "zmax": 3,
                  "y": [
                    6.1
                  ],
                  "type": "scatter"
                },
                {
                  "xaxis": "x1",
                  "colorbar": {
                    "title": ""
                  },
                  "yaxis": "y1",
                  "x": [
                    14.1
                  ],
                  "showlegend": false,
                  "mode": "markers",
                  "name": "y1",
                  "zmin": 1,
                  "legendgroup": "y1",
                  "marker": {
                    "symbol": "circle",
                    "color": "rgba(255, 76, 76, 1.000)",
                    "line": {
                      "color": "rgba(0, 0, 0, 1.000)",
                      "width": 1
                    },
                    "size": 8
                  },
                  "zmax": 3,
                  "y": [
                    6.2
                  ],
                  "type": "scatter"
                },
                {
                  "xaxis": "x1",
                  "colorbar": {
                    "title": ""
                  },
                  "yaxis": "y1",
                  "x": [
                    13.94
                  ],
                  "showlegend": false,
                  "mode": "markers",
                  "name": "y1",
                  "zmin": 1,
                  "legendgroup": "y1",
                  "marker": {
                    "symbol": "circle",
                    "color": "rgba(76, 204, 76, 1.000)",
                    "line": {
                      "color": "rgba(0, 0, 0, 1.000)",
                      "width": 1
                    },
                    "size": 8
                  },
                  "zmax": 3,
                  "y": [
                    8.9
                  ],
                  "type": "scatter"
                },
                {
                  "xaxis": "x1",
                  "colorbar": {
                    "title": ""
                  },
                  "yaxis": "y1",
                  "x": [
                    13.05
                  ],
                  "showlegend": false,
                  "mode": "markers",
                  "name": "y1",
                  "zmin": 1,
                  "legendgroup": "y1",
                  "marker": {
                    "symbol": "circle",
                    "color": "rgba(255, 76, 76, 1.000)",
                    "line": {
                      "color": "rgba(0, 0, 0, 1.000)",
                      "width": 1
                    },
                    "size": 8
                  },
                  "zmax": 3,
                  "y": [
                    7.2
                  ],
                  "type": "scatter"
                },
                {
                  "xaxis": "x1",
                  "colorbar": {
                    "title": ""
                  },
                  "yaxis": "y1",
                  "x": [
                    13.83
                  ],
                  "showlegend": false,
                  "mode": "markers",
                  "name": "y1",
                  "zmin": 1,
                  "legendgroup": "y1",
                  "marker": {
                    "symbol": "circle",
                    "color": "rgba(255, 76, 76, 1.000)",
                    "line": {
                      "color": "rgba(0, 0, 0, 1.000)",
                      "width": 1
                    },
                    "size": 8
                  },
                  "zmax": 3,
                  "y": [
                    5.6
                  ],
                  "type": "scatter"
                },
                {
                  "xaxis": "x1",
                  "colorbar": {
                    "title": ""
                  },
                  "yaxis": "y1",
                  "x": [
                    13.82
                  ],
                  "showlegend": false,
                  "mode": "markers",
                  "name": "y1",
                  "zmin": 1,
                  "legendgroup": "y1",
                  "marker": {
                    "symbol": "circle",
                    "color": "rgba(255, 76, 76, 1.000)",
                    "line": {
                      "color": "rgba(0, 0, 0, 1.000)",
                      "width": 1
                    },
                    "size": 8
                  },
                  "zmax": 3,
                  "y": [
                    7.05
                  ],
                  "type": "scatter"
                },
                {
                  "xaxis": "x1",
                  "colorbar": {
                    "title": ""
                  },
                  "yaxis": "y1",
                  "x": [
                    13.77
                  ],
                  "showlegend": false,
                  "mode": "markers",
                  "name": "y1",
                  "zmin": 1,
                  "legendgroup": "y1",
                  "marker": {
                    "symbol": "circle",
                    "color": "rgba(255, 76, 76, 1.000)",
                    "line": {
                      "color": "rgba(0, 0, 0, 1.000)",
                      "width": 1
                    },
                    "size": 8
                  },
                  "zmax": 3,
                  "y": [
                    6.3
                  ],
                  "type": "scatter"
                },
                {
                  "xaxis": "x1",
                  "colorbar": {
                    "title": ""
                  },
                  "yaxis": "y1",
                  "x": [
                    13.74
                  ],
                  "showlegend": false,
                  "mode": "markers",
                  "name": "y1",
                  "zmin": 1,
                  "legendgroup": "y1",
                  "marker": {
                    "symbol": "circle",
                    "color": "rgba(255, 76, 76, 1.000)",
                    "line": {
                      "color": "rgba(0, 0, 0, 1.000)",
                      "width": 1
                    },
                    "size": 8
                  },
                  "zmax": 3,
                  "y": [
                    5.85
                  ],
                  "type": "scatter"
                },
                {
                  "xaxis": "x1",
                  "colorbar": {
                    "title": ""
                  },
                  "yaxis": "y1",
                  "x": [
                    13.56
                  ],
                  "showlegend": false,
                  "mode": "markers",
                  "name": "y1",
                  "zmin": 1,
                  "legendgroup": "y1",
                  "marker": {
                    "symbol": "circle",
                    "color": "rgba(255, 76, 76, 1.000)",
                    "line": {
                      "color": "rgba(0, 0, 0, 1.000)",
                      "width": 1
                    },
                    "size": 8
                  },
                  "zmax": 3,
                  "y": [
                    6.25
                  ],
                  "type": "scatter"
                },
                {
                  "xaxis": "x1",
                  "colorbar": {
                    "title": ""
                  },
                  "yaxis": "y1",
                  "x": [
                    14.22
                  ],
                  "showlegend": false,
                  "mode": "markers",
                  "name": "y1",
                  "zmin": 1,
                  "legendgroup": "y1",
                  "marker": {
                    "symbol": "circle",
                    "color": "rgba(255, 76, 76, 1.000)",
                    "line": {
                      "color": "rgba(0, 0, 0, 1.000)",
                      "width": 1
                    },
                    "size": 8
                  },
                  "zmax": 3,
                  "y": [
                    6.38
                  ],
                  "type": "scatter"
                },
                {
                  "xaxis": "x1",
                  "colorbar": {
                    "title": ""
                  },
                  "yaxis": "y1",
                  "x": [
                    13.29
                  ],
                  "showlegend": false,
                  "mode": "markers",
                  "name": "y1",
                  "zmin": 1,
                  "legendgroup": "y1",
                  "marker": {
                    "symbol": "circle",
                    "color": "rgba(255, 76, 76, 1.000)",
                    "line": {
                      "color": "rgba(0, 0, 0, 1.000)",
                      "width": 1
                    },
                    "size": 8
                  },
                  "zmax": 3,
                  "y": [
                    6
                  ],
                  "type": "scatter"
                },
                {
                  "xaxis": "x1",
                  "colorbar": {
                    "title": ""
                  },
                  "yaxis": "y1",
                  "x": [
                    13.72
                  ],
                  "showlegend": false,
                  "mode": "markers",
                  "name": "y1",
                  "zmin": 1,
                  "legendgroup": "y1",
                  "marker": {
                    "symbol": "circle",
                    "color": "rgba(255, 76, 76, 1.000)",
                    "line": {
                      "color": "rgba(0, 0, 0, 1.000)",
                      "width": 1
                    },
                    "size": 8
                  },
                  "zmax": 3,
                  "y": [
                    6.8
                  ],
                  "type": "scatter"
                },
                {
                  "xaxis": "x1",
                  "colorbar": {
                    "title": ""
                  },
                  "yaxis": "y1",
                  "x": [
                    12.37
                  ],
                  "showlegend": false,
                  "mode": "markers",
                  "name": "y1",
                  "zmin": 1,
                  "legendgroup": "y1",
                  "marker": {
                    "symbol": "circle",
                    "color": "rgba(204, 76, 204, 1.000)",
                    "line": {
                      "color": "rgba(0, 0, 0, 1.000)",
                      "width": 1
                    },
                    "size": 8
                  },
                  "zmax": 3,
                  "y": [
                    1.95
                  ],
                  "type": "scatter"
                },
                {
                  "xaxis": "x1",
                  "colorbar": {
                    "title": ""
                  },
                  "yaxis": "y1",
                  "x": [
                    12.33
                  ],
                  "showlegend": false,
                  "mode": "markers",
                  "name": "y1",
                  "zmin": 1,
                  "legendgroup": "y1",
                  "marker": {
                    "symbol": "circle",
                    "color": "rgba(204, 76, 204, 1.000)",
                    "line": {
                      "color": "rgba(0, 0, 0, 1.000)",
                      "width": 1
                    },
                    "size": 8
                  },
                  "zmax": 3,
                  "y": [
                    3.27
                  ],
                  "type": "scatter"
                },
                {
                  "xaxis": "x1",
                  "colorbar": {
                    "title": ""
                  },
                  "yaxis": "y1",
                  "x": [
                    12.64
                  ],
                  "showlegend": false,
                  "mode": "markers",
                  "name": "y1",
                  "zmin": 1,
                  "legendgroup": "y1",
                  "marker": {
                    "symbol": "circle",
                    "color": "rgba(255, 76, 76, 1.000)",
                    "line": {
                      "color": "rgba(0, 0, 0, 1.000)",
                      "width": 1
                    },
                    "size": 8
                  },
                  "zmax": 3,
                  "y": [
                    5.75
                  ],
                  "type": "scatter"
                },
                {
                  "xaxis": "x1",
                  "colorbar": {
                    "title": ""
                  },
                  "yaxis": "y1",
                  "x": [
                    13.67
                  ],
                  "showlegend": false,
                  "mode": "markers",
                  "name": "y1",
                  "zmin": 1,
                  "legendgroup": "y1",
                  "marker": {
                    "symbol": "circle",
                    "color": "rgba(204, 76, 204, 1.000)",
                    "line": {
                      "color": "rgba(0, 0, 0, 1.000)",
                      "width": 1
                    },
                    "size": 8
                  },
                  "zmax": 3,
                  "y": [
                    3.8
                  ],
                  "type": "scatter"
                },
                {
                  "xaxis": "x1",
                  "colorbar": {
                    "title": ""
                  },
                  "yaxis": "y1",
                  "x": [
                    12.37
                  ],
                  "showlegend": false,
                  "mode": "markers",
                  "name": "y1",
                  "zmin": 1,
                  "legendgroup": "y1",
                  "marker": {
                    "symbol": "circle",
                    "color": "rgba(255, 76, 76, 1.000)",
                    "line": {
                      "color": "rgba(0, 0, 0, 1.000)",
                      "width": 1
                    },
                    "size": 8
                  },
                  "zmax": 3,
                  "y": [
                    4.45
                  ],
                  "type": "scatter"
                },
                {
                  "xaxis": "x1",
                  "colorbar": {
                    "title": ""
                  },
                  "yaxis": "y1",
                  "x": [
                    12.17
                  ],
                  "showlegend": false,
                  "mode": "markers",
                  "name": "y1",
                  "zmin": 1,
                  "legendgroup": "y1",
                  "marker": {
                    "symbol": "circle",
                    "color": "rgba(204, 76, 204, 1.000)",
                    "line": {
                      "color": "rgba(0, 0, 0, 1.000)",
                      "width": 1
                    },
                    "size": 8
                  },
                  "zmax": 3,
                  "y": [
                    2.95
                  ],
                  "type": "scatter"
                },
                {
                  "xaxis": "x1",
                  "colorbar": {
                    "title": ""
                  },
                  "yaxis": "y1",
                  "x": [
                    12.37
                  ],
                  "showlegend": false,
                  "mode": "markers",
                  "name": "y1",
                  "zmin": 1,
                  "legendgroup": "y1",
                  "marker": {
                    "symbol": "circle",
                    "color": "rgba(255, 76, 76, 1.000)",
                    "line": {
                      "color": "rgba(0, 0, 0, 1.000)",
                      "width": 1
                    },
                    "size": 8
                  },
                  "zmax": 3,
                  "y": [
                    4.6
                  ],
                  "type": "scatter"
                },
                {
                  "xaxis": "x1",
                  "colorbar": {
                    "title": ""
                  },
                  "yaxis": "y1",
                  "x": [
                    13.11
                  ],
                  "showlegend": false,
                  "mode": "markers",
                  "name": "y1",
                  "zmin": 1,
                  "legendgroup": "y1",
                  "marker": {
                    "symbol": "circle",
                    "color": "rgba(255, 76, 76, 1.000)",
                    "line": {
                      "color": "rgba(0, 0, 0, 1.000)",
                      "width": 1
                    },
                    "size": 8
                  },
                  "zmax": 3,
                  "y": [
                    5.3
                  ],
                  "type": "scatter"
                },
                {
                  "xaxis": "x1",
                  "colorbar": {
                    "title": ""
                  },
                  "yaxis": "y1",
                  "x": [
                    12.37
                  ],
                  "showlegend": false,
                  "mode": "markers",
                  "name": "y1",
                  "zmin": 1,
                  "legendgroup": "y1",
                  "marker": {
                    "symbol": "circle",
                    "color": "rgba(255, 76, 76, 1.000)",
                    "line": {
                      "color": "rgba(0, 0, 0, 1.000)",
                      "width": 1
                    },
                    "size": 8
                  },
                  "zmax": 3,
                  "y": [
                    4.68
                  ],
                  "type": "scatter"
                },
                {
                  "xaxis": "x1",
                  "colorbar": {
                    "title": ""
                  },
                  "yaxis": "y1",
                  "x": [
                    13.34
                  ],
                  "showlegend": false,
                  "mode": "markers",
                  "name": "y1",
                  "zmin": 1,
                  "legendgroup": "y1",
                  "marker": {
                    "symbol": "circle",
                    "color": "rgba(204, 76, 204, 1.000)",
                    "line": {
                      "color": "rgba(0, 0, 0, 1.000)",
                      "width": 1
                    },
                    "size": 8
                  },
                  "zmax": 3,
                  "y": [
                    3.17
                  ],
                  "type": "scatter"
                },
                {
                  "xaxis": "x1",
                  "colorbar": {
                    "title": ""
                  },
                  "yaxis": "y1",
                  "x": [
                    12.21
                  ],
                  "showlegend": false,
                  "mode": "markers",
                  "name": "y1",
                  "zmin": 1,
                  "legendgroup": "y1",
                  "marker": {
                    "symbol": "circle",
                    "color": "rgba(204, 76, 204, 1.000)",
                    "line": {
                      "color": "rgba(0, 0, 0, 1.000)",
                      "width": 1
                    },
                    "size": 8
                  },
                  "zmax": 3,
                  "y": [
                    2.85
                  ],
                  "type": "scatter"
                },
                {
                  "xaxis": "x1",
                  "colorbar": {
                    "title": ""
                  },
                  "yaxis": "y1",
                  "x": [
                    12.29
                  ],
                  "showlegend": false,
                  "mode": "markers",
                  "name": "y1",
                  "zmin": 1,
                  "legendgroup": "y1",
                  "marker": {
                    "symbol": "circle",
                    "color": "rgba(204, 76, 204, 1.000)",
                    "line": {
                      "color": "rgba(0, 0, 0, 1.000)",
                      "width": 1
                    },
                    "size": 8
                  },
                  "zmax": 3,
                  "y": [
                    3.05
                  ],
                  "type": "scatter"
                },
                {
                  "xaxis": "x1",
                  "colorbar": {
                    "title": ""
                  },
                  "yaxis": "y1",
                  "x": [
                    13.86
                  ],
                  "showlegend": false,
                  "mode": "markers",
                  "name": "y1",
                  "zmin": 1,
                  "legendgroup": "y1",
                  "marker": {
                    "symbol": "circle",
                    "color": "rgba(204, 76, 204, 1.000)",
                    "line": {
                      "color": "rgba(0, 0, 0, 1.000)",
                      "width": 1
                    },
                    "size": 8
                  },
                  "zmax": 3,
                  "y": [
                    3.38
                  ],
                  "type": "scatter"
                },
                {
                  "xaxis": "x1",
                  "colorbar": {
                    "title": ""
                  },
                  "yaxis": "y1",
                  "x": [
                    13.49
                  ],
                  "showlegend": false,
                  "mode": "markers",
                  "name": "y1",
                  "zmin": 1,
                  "legendgroup": "y1",
                  "marker": {
                    "symbol": "circle",
                    "color": "rgba(204, 76, 204, 1.000)",
                    "line": {
                      "color": "rgba(0, 0, 0, 1.000)",
                      "width": 1
                    },
                    "size": 8
                  },
                  "zmax": 3,
                  "y": [
                    3.74
                  ],
                  "type": "scatter"
                },
                {
                  "xaxis": "x1",
                  "colorbar": {
                    "title": ""
                  },
                  "yaxis": "y1",
                  "x": [
                    12.99
                  ],
                  "showlegend": false,
                  "mode": "markers",
                  "name": "y1",
                  "zmin": 1,
                  "legendgroup": "y1",
                  "marker": {
                    "symbol": "circle",
                    "color": "rgba(204, 76, 204, 1.000)",
                    "line": {
                      "color": "rgba(0, 0, 0, 1.000)",
                      "width": 1
                    },
                    "size": 8
                  },
                  "zmax": 3,
                  "y": [
                    3.35
                  ],
                  "type": "scatter"
                },
                {
                  "xaxis": "x1",
                  "colorbar": {
                    "title": ""
                  },
                  "yaxis": "y1",
                  "x": [
                    11.96
                  ],
                  "showlegend": false,
                  "mode": "markers",
                  "name": "y1",
                  "zmin": 1,
                  "legendgroup": "y1",
                  "marker": {
                    "symbol": "circle",
                    "color": "rgba(204, 76, 204, 1.000)",
                    "line": {
                      "color": "rgba(0, 0, 0, 1.000)",
                      "width": 1
                    },
                    "size": 8
                  },
                  "zmax": 3,
                  "y": [
                    3.21
                  ],
                  "type": "scatter"
                },
                {
                  "xaxis": "x1",
                  "colorbar": {
                    "title": ""
                  },
                  "yaxis": "y1",
                  "x": [
                    11.66
                  ],
                  "showlegend": false,
                  "mode": "markers",
                  "name": "y1",
                  "zmin": 1,
                  "legendgroup": "y1",
                  "marker": {
                    "symbol": "circle",
                    "color": "rgba(204, 76, 204, 1.000)",
                    "line": {
                      "color": "rgba(0, 0, 0, 1.000)",
                      "width": 1
                    },
                    "size": 8
                  },
                  "zmax": 3,
                  "y": [
                    3.8
                  ],
                  "type": "scatter"
                },
                {
                  "xaxis": "x1",
                  "colorbar": {
                    "title": ""
                  },
                  "yaxis": "y1",
                  "x": [
                    13.03
                  ],
                  "showlegend": false,
                  "mode": "markers",
                  "name": "y1",
                  "zmin": 1,
                  "legendgroup": "y1",
                  "marker": {
                    "symbol": "circle",
                    "color": "rgba(255, 76, 76, 1.000)",
                    "line": {
                      "color": "rgba(0, 0, 0, 1.000)",
                      "width": 1
                    },
                    "size": 8
                  },
                  "zmax": 3,
                  "y": [
                    4.6
                  ],
                  "type": "scatter"
                },
                {
                  "xaxis": "x1",
                  "colorbar": {
                    "title": ""
                  },
                  "yaxis": "y1",
                  "x": [
                    11.84
                  ],
                  "showlegend": false,
                  "mode": "markers",
                  "name": "y1",
                  "zmin": 1,
                  "legendgroup": "y1",
                  "marker": {
                    "symbol": "circle",
                    "color": "rgba(204, 76, 204, 1.000)",
                    "line": {
                      "color": "rgba(0, 0, 0, 1.000)",
                      "width": 1
                    },
                    "size": 8
                  },
                  "zmax": 3,
                  "y": [
                    2.65
                  ],
                  "type": "scatter"
                },
                {
                  "xaxis": "x1",
                  "colorbar": {
                    "title": ""
                  },
                  "yaxis": "y1",
                  "x": [
                    12.33
                  ],
                  "showlegend": false,
                  "mode": "markers",
                  "name": "y1",
                  "zmin": 1,
                  "legendgroup": "y1",
                  "marker": {
                    "symbol": "circle",
                    "color": "rgba(204, 76, 204, 1.000)",
                    "line": {
                      "color": "rgba(0, 0, 0, 1.000)",
                      "width": 1
                    },
                    "size": 8
                  },
                  "zmax": 3,
                  "y": [
                    3.4
                  ],
                  "type": "scatter"
                },
                {
                  "xaxis": "x1",
                  "colorbar": {
                    "title": ""
                  },
                  "yaxis": "y1",
                  "x": [
                    12.7
                  ],
                  "showlegend": false,
                  "mode": "markers",
                  "name": "y1",
                  "zmin": 1,
                  "legendgroup": "y1",
                  "marker": {
                    "symbol": "circle",
                    "color": "rgba(204, 76, 204, 1.000)",
                    "line": {
                      "color": "rgba(0, 0, 0, 1.000)",
                      "width": 1
                    },
                    "size": 8
                  },
                  "zmax": 3,
                  "y": [
                    2.57
                  ],
                  "type": "scatter"
                },
                {
                  "xaxis": "x1",
                  "colorbar": {
                    "title": ""
                  },
                  "yaxis": "y1",
                  "x": [
                    12
                  ],
                  "showlegend": false,
                  "mode": "markers",
                  "name": "y1",
                  "zmin": 1,
                  "legendgroup": "y1",
                  "marker": {
                    "symbol": "circle",
                    "color": "rgba(204, 76, 204, 1.000)",
                    "line": {
                      "color": "rgba(0, 0, 0, 1.000)",
                      "width": 1
                    },
                    "size": 8
                  },
                  "zmax": 3,
                  "y": [
                    2.5
                  ],
                  "type": "scatter"
                },
                {
                  "xaxis": "x1",
                  "colorbar": {
                    "title": ""
                  },
                  "yaxis": "y1",
                  "x": [
                    12.72
                  ],
                  "showlegend": false,
                  "mode": "markers",
                  "name": "y1",
                  "zmin": 1,
                  "legendgroup": "y1",
                  "marker": {
                    "symbol": "circle",
                    "color": "rgba(204, 76, 204, 1.000)",
                    "line": {
                      "color": "rgba(0, 0, 0, 1.000)",
                      "width": 1
                    },
                    "size": 8
                  },
                  "zmax": 3,
                  "y": [
                    3.9
                  ],
                  "type": "scatter"
                },
                {
                  "xaxis": "x1",
                  "colorbar": {
                    "title": ""
                  },
                  "yaxis": "y1",
                  "x": [
                    12.08
                  ],
                  "showlegend": false,
                  "mode": "markers",
                  "name": "y1",
                  "zmin": 1,
                  "legendgroup": "y1",
                  "marker": {
                    "symbol": "circle",
                    "color": "rgba(204, 76, 204, 1.000)",
                    "line": {
                      "color": "rgba(0, 0, 0, 1.000)",
                      "width": 1
                    },
                    "size": 8
                  },
                  "zmax": 3,
                  "y": [
                    2.2
                  ],
                  "type": "scatter"
                },
                {
                  "xaxis": "x1",
                  "colorbar": {
                    "title": ""
                  },
                  "yaxis": "y1",
                  "x": [
                    13.05
                  ],
                  "showlegend": false,
                  "mode": "markers",
                  "name": "y1",
                  "zmin": 1,
                  "legendgroup": "y1",
                  "marker": {
                    "symbol": "circle",
                    "color": "rgba(255, 76, 76, 1.000)",
                    "line": {
                      "color": "rgba(0, 0, 0, 1.000)",
                      "width": 1
                    },
                    "size": 8
                  },
                  "zmax": 3,
                  "y": [
                    4.8
                  ],
                  "type": "scatter"
                },
                {
                  "xaxis": "x1",
                  "colorbar": {
                    "title": ""
                  },
                  "yaxis": "y1",
                  "x": [
                    11.84
                  ],
                  "showlegend": false,
                  "mode": "markers",
                  "name": "y1",
                  "zmin": 1,
                  "legendgroup": "y1",
                  "marker": {
                    "symbol": "circle",
                    "color": "rgba(204, 76, 204, 1.000)",
                    "line": {
                      "color": "rgba(0, 0, 0, 1.000)",
                      "width": 1
                    },
                    "size": 8
                  },
                  "zmax": 3,
                  "y": [
                    3.05
                  ],
                  "type": "scatter"
                },
                {
                  "xaxis": "x1",
                  "colorbar": {
                    "title": ""
                  },
                  "yaxis": "y1",
                  "x": [
                    12.67
                  ],
                  "showlegend": false,
                  "mode": "markers",
                  "name": "y1",
                  "zmin": 1,
                  "legendgroup": "y1",
                  "marker": {
                    "symbol": "circle",
                    "color": "rgba(204, 76, 204, 1.000)",
                    "line": {
                      "color": "rgba(0, 0, 0, 1.000)",
                      "width": 1
                    },
                    "size": 8
                  },
                  "zmax": 3,
                  "y": [
                    2.62
                  ],
                  "type": "scatter"
                },
                {
                  "xaxis": "x1",
                  "colorbar": {
                    "title": ""
                  },
                  "yaxis": "y1",
                  "x": [
                    12.16
                  ],
                  "showlegend": false,
                  "mode": "markers",
                  "name": "y1",
                  "zmin": 1,
                  "legendgroup": "y1",
                  "marker": {
                    "symbol": "circle",
                    "color": "rgba(204, 76, 204, 1.000)",
                    "line": {
                      "color": "rgba(0, 0, 0, 1.000)",
                      "width": 1
                    },
                    "size": 8
                  },
                  "zmax": 3,
                  "y": [
                    2.45
                  ],
                  "type": "scatter"
                },
                {
                  "xaxis": "x1",
                  "colorbar": {
                    "title": ""
                  },
                  "yaxis": "y1",
                  "x": [
                    11.65
                  ],
                  "showlegend": false,
                  "mode": "markers",
                  "name": "y1",
                  "zmin": 1,
                  "legendgroup": "y1",
                  "marker": {
                    "symbol": "circle",
                    "color": "rgba(204, 76, 204, 1.000)",
                    "line": {
                      "color": "rgba(0, 0, 0, 1.000)",
                      "width": 1
                    },
                    "size": 8
                  },
                  "zmax": 3,
                  "y": [
                    2.6
                  ],
                  "type": "scatter"
                },
                {
                  "xaxis": "x1",
                  "colorbar": {
                    "title": ""
                  },
                  "yaxis": "y1",
                  "x": [
                    11.64
                  ],
                  "showlegend": false,
                  "mode": "markers",
                  "name": "y1",
                  "zmin": 1,
                  "legendgroup": "y1",
                  "marker": {
                    "symbol": "circle",
                    "color": "rgba(204, 76, 204, 1.000)",
                    "line": {
                      "color": "rgba(0, 0, 0, 1.000)",
                      "width": 1
                    },
                    "size": 8
                  },
                  "zmax": 3,
                  "y": [
                    2.8
                  ],
                  "type": "scatter"
                },
                {
                  "xaxis": "x1",
                  "colorbar": {
                    "title": ""
                  },
                  "yaxis": "y1",
                  "x": [
                    12.08
                  ],
                  "showlegend": false,
                  "mode": "markers",
                  "name": "y1",
                  "zmin": 1,
                  "legendgroup": "y1",
                  "marker": {
                    "symbol": "circle",
                    "color": "rgba(204, 76, 204, 1.000)",
                    "line": {
                      "color": "rgba(0, 0, 0, 1.000)",
                      "width": 1
                    },
                    "size": 8
                  },
                  "zmax": 3,
                  "y": [
                    1.74
                  ],
                  "type": "scatter"
                },
                {
                  "xaxis": "x1",
                  "colorbar": {
                    "title": ""
                  },
                  "yaxis": "y1",
                  "x": [
                    12.08
                  ],
                  "showlegend": false,
                  "mode": "markers",
                  "name": "y1",
                  "zmin": 1,
                  "legendgroup": "y1",
                  "marker": {
                    "symbol": "circle",
                    "color": "rgba(204, 76, 204, 1.000)",
                    "line": {
                      "color": "rgba(0, 0, 0, 1.000)",
                      "width": 1
                    },
                    "size": 8
                  },
                  "zmax": 3,
                  "y": [
                    2.4
                  ],
                  "type": "scatter"
                },
                {
                  "xaxis": "x1",
                  "colorbar": {
                    "title": ""
                  },
                  "yaxis": "y1",
                  "x": [
                    12
                  ],
                  "showlegend": false,
                  "mode": "markers",
                  "name": "y1",
                  "zmin": 1,
                  "legendgroup": "y1",
                  "marker": {
                    "symbol": "circle",
                    "color": "rgba(204, 76, 204, 1.000)",
                    "line": {
                      "color": "rgba(0, 0, 0, 1.000)",
                      "width": 1
                    },
                    "size": 8
                  },
                  "zmax": 3,
                  "y": [
                    3.6
                  ],
                  "type": "scatter"
                },
                {
                  "xaxis": "x1",
                  "colorbar": {
                    "title": ""
                  },
                  "yaxis": "y1",
                  "x": [
                    12.69
                  ],
                  "showlegend": false,
                  "mode": "markers",
                  "name": "y1",
                  "zmin": 1,
                  "legendgroup": "y1",
                  "marker": {
                    "symbol": "circle",
                    "color": "rgba(204, 76, 204, 1.000)",
                    "line": {
                      "color": "rgba(0, 0, 0, 1.000)",
                      "width": 1
                    },
                    "size": 8
                  },
                  "zmax": 3,
                  "y": [
                    3.05
                  ],
                  "type": "scatter"
                },
                {
                  "xaxis": "x1",
                  "colorbar": {
                    "title": ""
                  },
                  "yaxis": "y1",
                  "x": [
                    12.29
                  ],
                  "showlegend": false,
                  "mode": "markers",
                  "name": "y1",
                  "zmin": 1,
                  "legendgroup": "y1",
                  "marker": {
                    "symbol": "circle",
                    "color": "rgba(204, 76, 204, 1.000)",
                    "line": {
                      "color": "rgba(0, 0, 0, 1.000)",
                      "width": 1
                    },
                    "size": 8
                  },
                  "zmax": 3,
                  "y": [
                    2.15
                  ],
                  "type": "scatter"
                },
                {
                  "xaxis": "x1",
                  "colorbar": {
                    "title": ""
                  },
                  "yaxis": "y1",
                  "x": [
                    11.62
                  ],
                  "showlegend": false,
                  "mode": "markers",
                  "name": "y1",
                  "zmin": 1,
                  "legendgroup": "y1",
                  "marker": {
                    "symbol": "circle",
                    "color": "rgba(204, 76, 204, 1.000)",
                    "line": {
                      "color": "rgba(0, 0, 0, 1.000)",
                      "width": 1
                    },
                    "size": 8
                  },
                  "zmax": 3,
                  "y": [
                    3.25
                  ],
                  "type": "scatter"
                },
                {
                  "xaxis": "x1",
                  "colorbar": {
                    "title": ""
                  },
                  "yaxis": "y1",
                  "x": [
                    12.47
                  ],
                  "showlegend": false,
                  "mode": "markers",
                  "name": "y1",
                  "zmin": 1,
                  "legendgroup": "y1",
                  "marker": {
                    "symbol": "circle",
                    "color": "rgba(204, 76, 204, 1.000)",
                    "line": {
                      "color": "rgba(0, 0, 0, 1.000)",
                      "width": 1
                    },
                    "size": 8
                  },
                  "zmax": 3,
                  "y": [
                    2.6
                  ],
                  "type": "scatter"
                },
                {
                  "xaxis": "x1",
                  "colorbar": {
                    "title": ""
                  },
                  "yaxis": "y1",
                  "x": [
                    11.81
                  ],
                  "showlegend": false,
                  "mode": "markers",
                  "name": "y1",
                  "zmin": 1,
                  "legendgroup": "y1",
                  "marker": {
                    "symbol": "circle",
                    "color": "rgba(204, 76, 204, 1.000)",
                    "line": {
                      "color": "rgba(0, 0, 0, 1.000)",
                      "width": 1
                    },
                    "size": 8
                  },
                  "zmax": 3,
                  "y": [
                    2.5
                  ],
                  "type": "scatter"
                },
                {
                  "xaxis": "x1",
                  "colorbar": {
                    "title": ""
                  },
                  "yaxis": "y1",
                  "x": [
                    12.29
                  ],
                  "showlegend": false,
                  "mode": "markers",
                  "name": "y1",
                  "zmin": 1,
                  "legendgroup": "y1",
                  "marker": {
                    "symbol": "circle",
                    "color": "rgba(204, 76, 204, 1.000)",
                    "line": {
                      "color": "rgba(0, 0, 0, 1.000)",
                      "width": 1
                    },
                    "size": 8
                  },
                  "zmax": 3,
                  "y": [
                    2.9
                  ],
                  "type": "scatter"
                },
                {
                  "xaxis": "x1",
                  "colorbar": {
                    "title": ""
                  },
                  "yaxis": "y1",
                  "x": [
                    12.37
                  ],
                  "showlegend": false,
                  "mode": "markers",
                  "name": "y1",
                  "zmin": 1,
                  "legendgroup": "y1",
                  "marker": {
                    "symbol": "circle",
                    "color": "rgba(255, 76, 76, 1.000)",
                    "line": {
                      "color": "rgba(0, 0, 0, 1.000)",
                      "width": 1
                    },
                    "size": 8
                  },
                  "zmax": 3,
                  "y": [
                    4.5
                  ],
                  "type": "scatter"
                },
                {
                  "xaxis": "x1",
                  "colorbar": {
                    "title": ""
                  },
                  "yaxis": "y1",
                  "x": [
                    12.29
                  ],
                  "showlegend": false,
                  "mode": "markers",
                  "name": "y1",
                  "zmin": 1,
                  "legendgroup": "y1",
                  "marker": {
                    "symbol": "circle",
                    "color": "rgba(204, 76, 204, 1.000)",
                    "line": {
                      "color": "rgba(0, 0, 0, 1.000)",
                      "width": 1
                    },
                    "size": 8
                  },
                  "zmax": 3,
                  "y": [
                    2.3
                  ],
                  "type": "scatter"
                },
                {
                  "xaxis": "x1",
                  "colorbar": {
                    "title": ""
                  },
                  "yaxis": "y1",
                  "x": [
                    12.08
                  ],
                  "showlegend": false,
                  "mode": "markers",
                  "name": "y1",
                  "zmin": 1,
                  "legendgroup": "y1",
                  "marker": {
                    "symbol": "circle",
                    "color": "rgba(204, 76, 204, 1.000)",
                    "line": {
                      "color": "rgba(0, 0, 0, 1.000)",
                      "width": 1
                    },
                    "size": 8
                  },
                  "zmax": 3,
                  "y": [
                    3.3
                  ],
                  "type": "scatter"
                },
                {
                  "xaxis": "x1",
                  "colorbar": {
                    "title": ""
                  },
                  "yaxis": "y1",
                  "x": [
                    12.6
                  ],
                  "showlegend": false,
                  "mode": "markers",
                  "name": "y1",
                  "zmin": 1,
                  "legendgroup": "y1",
                  "marker": {
                    "symbol": "circle",
                    "color": "rgba(204, 76, 204, 1.000)",
                    "line": {
                      "color": "rgba(0, 0, 0, 1.000)",
                      "width": 1
                    },
                    "size": 8
                  },
                  "zmax": 3,
                  "y": [
                    2.45
                  ],
                  "type": "scatter"
                },
                {
                  "xaxis": "x1",
                  "colorbar": {
                    "title": ""
                  },
                  "yaxis": "y1",
                  "x": [
                    12.34
                  ],
                  "showlegend": false,
                  "mode": "markers",
                  "name": "y1",
                  "zmin": 1,
                  "legendgroup": "y1",
                  "marker": {
                    "symbol": "circle",
                    "color": "rgba(204, 76, 204, 1.000)",
                    "line": {
                      "color": "rgba(0, 0, 0, 1.000)",
                      "width": 1
                    },
                    "size": 8
                  },
                  "zmax": 3,
                  "y": [
                    2.8
                  ],
                  "type": "scatter"
                },
                {
                  "xaxis": "x1",
                  "colorbar": {
                    "title": ""
                  },
                  "yaxis": "y1",
                  "x": [
                    11.82
                  ],
                  "showlegend": false,
                  "mode": "markers",
                  "name": "y1",
                  "zmin": 1,
                  "legendgroup": "y1",
                  "marker": {
                    "symbol": "circle",
                    "color": "rgba(204, 76, 204, 1.000)",
                    "line": {
                      "color": "rgba(0, 0, 0, 1.000)",
                      "width": 1
                    },
                    "size": 8
                  },
                  "zmax": 3,
                  "y": [
                    2.06
                  ],
                  "type": "scatter"
                },
                {
                  "xaxis": "x1",
                  "colorbar": {
                    "title": ""
                  },
                  "yaxis": "y1",
                  "x": [
                    12.51
                  ],
                  "showlegend": false,
                  "mode": "markers",
                  "name": "y1",
                  "zmin": 1,
                  "legendgroup": "y1",
                  "marker": {
                    "symbol": "circle",
                    "color": "rgba(204, 76, 204, 1.000)",
                    "line": {
                      "color": "rgba(0, 0, 0, 1.000)",
                      "width": 1
                    },
                    "size": 8
                  },
                  "zmax": 3,
                  "y": [
                    2.94
                  ],
                  "type": "scatter"
                },
                {
                  "xaxis": "x1",
                  "colorbar": {
                    "title": ""
                  },
                  "yaxis": "y1",
                  "x": [
                    12.42
                  ],
                  "showlegend": false,
                  "mode": "markers",
                  "name": "y1",
                  "zmin": 1,
                  "legendgroup": "y1",
                  "marker": {
                    "symbol": "circle",
                    "color": "rgba(204, 76, 204, 1.000)",
                    "line": {
                      "color": "rgba(0, 0, 0, 1.000)",
                      "width": 1
                    },
                    "size": 8
                  },
                  "zmax": 3,
                  "y": [
                    2.7
                  ],
                  "type": "scatter"
                },
                {
                  "xaxis": "x1",
                  "colorbar": {
                    "title": ""
                  },
                  "yaxis": "y1",
                  "x": [
                    12.25
                  ],
                  "showlegend": false,
                  "mode": "markers",
                  "name": "y1",
                  "zmin": 1,
                  "legendgroup": "y1",
                  "marker": {
                    "symbol": "circle",
                    "color": "rgba(204, 76, 204, 1.000)",
                    "line": {
                      "color": "rgba(0, 0, 0, 1.000)",
                      "width": 1
                    },
                    "size": 8
                  },
                  "zmax": 3,
                  "y": [
                    3.4
                  ],
                  "type": "scatter"
                },
                {
                  "xaxis": "x1",
                  "colorbar": {
                    "title": ""
                  },
                  "yaxis": "y1",
                  "x": [
                    12.72
                  ],
                  "showlegend": false,
                  "mode": "markers",
                  "name": "y1",
                  "zmin": 1,
                  "legendgroup": "y1",
                  "marker": {
                    "symbol": "circle",
                    "color": "rgba(204, 76, 204, 1.000)",
                    "line": {
                      "color": "rgba(0, 0, 0, 1.000)",
                      "width": 1
                    },
                    "size": 8
                  },
                  "zmax": 3,
                  "y": [
                    3.3
                  ],
                  "type": "scatter"
                },
                {
                  "xaxis": "x1",
                  "colorbar": {
                    "title": ""
                  },
                  "yaxis": "y1",
                  "x": [
                    12.22
                  ],
                  "showlegend": false,
                  "mode": "markers",
                  "name": "y1",
                  "zmin": 1,
                  "legendgroup": "y1",
                  "marker": {
                    "symbol": "circle",
                    "color": "rgba(204, 76, 204, 1.000)",
                    "line": {
                      "color": "rgba(0, 0, 0, 1.000)",
                      "width": 1
                    },
                    "size": 8
                  },
                  "zmax": 3,
                  "y": [
                    2.7
                  ],
                  "type": "scatter"
                },
                {
                  "xaxis": "x1",
                  "colorbar": {
                    "title": ""
                  },
                  "yaxis": "y1",
                  "x": [
                    11.61
                  ],
                  "showlegend": false,
                  "mode": "markers",
                  "name": "y1",
                  "zmin": 1,
                  "legendgroup": "y1",
                  "marker": {
                    "symbol": "circle",
                    "color": "rgba(204, 76, 204, 1.000)",
                    "line": {
                      "color": "rgba(0, 0, 0, 1.000)",
                      "width": 1
                    },
                    "size": 8
                  },
                  "zmax": 3,
                  "y": [
                    2.65
                  ],
                  "type": "scatter"
                },
                {
                  "xaxis": "x1",
                  "colorbar": {
                    "title": ""
                  },
                  "yaxis": "y1",
                  "x": [
                    11.46
                  ],
                  "showlegend": false,
                  "mode": "markers",
                  "name": "y1",
                  "zmin": 1,
                  "legendgroup": "y1",
                  "marker": {
                    "symbol": "circle",
                    "color": "rgba(204, 76, 204, 1.000)",
                    "line": {
                      "color": "rgba(0, 0, 0, 1.000)",
                      "width": 1
                    },
                    "size": 8
                  },
                  "zmax": 3,
                  "y": [
                    2.9
                  ],
                  "type": "scatter"
                },
                {
                  "xaxis": "x1",
                  "colorbar": {
                    "title": ""
                  },
                  "yaxis": "y1",
                  "x": [
                    12.52
                  ],
                  "showlegend": false,
                  "mode": "markers",
                  "name": "y1",
                  "zmin": 1,
                  "legendgroup": "y1",
                  "marker": {
                    "symbol": "circle",
                    "color": "rgba(204, 76, 204, 1.000)",
                    "line": {
                      "color": "rgba(0, 0, 0, 1.000)",
                      "width": 1
                    },
                    "size": 8
                  },
                  "zmax": 3,
                  "y": [
                    2
                  ],
                  "type": "scatter"
                },
                {
                  "xaxis": "x1",
                  "colorbar": {
                    "title": ""
                  },
                  "yaxis": "y1",
                  "x": [
                    11.76
                  ],
                  "showlegend": false,
                  "mode": "markers",
                  "name": "y1",
                  "zmin": 1,
                  "legendgroup": "y1",
                  "marker": {
                    "symbol": "circle",
                    "color": "rgba(204, 76, 204, 1.000)",
                    "line": {
                      "color": "rgba(0, 0, 0, 1.000)",
                      "width": 1
                    },
                    "size": 8
                  },
                  "zmax": 3,
                  "y": [
                    3.8
                  ],
                  "type": "scatter"
                },
                {
                  "xaxis": "x1",
                  "colorbar": {
                    "title": ""
                  },
                  "yaxis": "y1",
                  "x": [
                    11.41
                  ],
                  "showlegend": false,
                  "mode": "markers",
                  "name": "y1",
                  "zmin": 1,
                  "legendgroup": "y1",
                  "marker": {
                    "symbol": "circle",
                    "color": "rgba(204, 76, 204, 1.000)",
                    "line": {
                      "color": "rgba(0, 0, 0, 1.000)",
                      "width": 1
                    },
                    "size": 8
                  },
                  "zmax": 3,
                  "y": [
                    3.08
                  ],
                  "type": "scatter"
                },
                {
                  "xaxis": "x1",
                  "colorbar": {
                    "title": ""
                  },
                  "yaxis": "y1",
                  "x": [
                    12.08
                  ],
                  "showlegend": false,
                  "mode": "markers",
                  "name": "y1",
                  "zmin": 1,
                  "legendgroup": "y1",
                  "marker": {
                    "symbol": "circle",
                    "color": "rgba(204, 76, 204, 1.000)",
                    "line": {
                      "color": "rgba(0, 0, 0, 1.000)",
                      "width": 1
                    },
                    "size": 8
                  },
                  "zmax": 3,
                  "y": [
                    2.9
                  ],
                  "type": "scatter"
                },
                {
                  "xaxis": "x1",
                  "colorbar": {
                    "title": ""
                  },
                  "yaxis": "y1",
                  "x": [
                    11.03
                  ],
                  "showlegend": false,
                  "mode": "markers",
                  "name": "y1",
                  "zmin": 1,
                  "legendgroup": "y1",
                  "marker": {
                    "symbol": "circle",
                    "color": "rgba(204, 76, 204, 1.000)",
                    "line": {
                      "color": "rgba(0, 0, 0, 1.000)",
                      "width": 1
                    },
                    "size": 8
                  },
                  "zmax": 3,
                  "y": [
                    1.9
                  ],
                  "type": "scatter"
                },
                {
                  "xaxis": "x1",
                  "colorbar": {
                    "title": ""
                  },
                  "yaxis": "y1",
                  "x": [
                    11.82
                  ],
                  "showlegend": false,
                  "mode": "markers",
                  "name": "y1",
                  "zmin": 1,
                  "legendgroup": "y1",
                  "marker": {
                    "symbol": "circle",
                    "color": "rgba(204, 76, 204, 1.000)",
                    "line": {
                      "color": "rgba(0, 0, 0, 1.000)",
                      "width": 1
                    },
                    "size": 8
                  },
                  "zmax": 3,
                  "y": [
                    1.95
                  ],
                  "type": "scatter"
                },
                {
                  "xaxis": "x1",
                  "colorbar": {
                    "title": ""
                  },
                  "yaxis": "y1",
                  "x": [
                    12.42
                  ],
                  "showlegend": false,
                  "mode": "markers",
                  "name": "y1",
                  "zmin": 1,
                  "legendgroup": "y1",
                  "marker": {
                    "symbol": "circle",
                    "color": "rgba(204, 76, 204, 1.000)",
                    "line": {
                      "color": "rgba(0, 0, 0, 1.000)",
                      "width": 1
                    },
                    "size": 8
                  },
                  "zmax": 3,
                  "y": [
                    2.06
                  ],
                  "type": "scatter"
                },
                {
                  "xaxis": "x1",
                  "colorbar": {
                    "title": ""
                  },
                  "yaxis": "y1",
                  "x": [
                    12.77
                  ],
                  "showlegend": false,
                  "mode": "markers",
                  "name": "y1",
                  "zmin": 1,
                  "legendgroup": "y1",
                  "marker": {
                    "symbol": "circle",
                    "color": "rgba(204, 76, 204, 1.000)",
                    "line": {
                      "color": "rgba(0, 0, 0, 1.000)",
                      "width": 1
                    },
                    "size": 8
                  },
                  "zmax": 3,
                  "y": [
                    3.4
                  ],
                  "type": "scatter"
                },
                {
                  "xaxis": "x1",
                  "colorbar": {
                    "title": ""
                  },
                  "yaxis": "y1",
                  "x": [
                    12
                  ],
                  "showlegend": false,
                  "mode": "markers",
                  "name": "y1",
                  "zmin": 1,
                  "legendgroup": "y1",
                  "marker": {
                    "symbol": "circle",
                    "color": "rgba(204, 76, 204, 1.000)",
                    "line": {
                      "color": "rgba(0, 0, 0, 1.000)",
                      "width": 1
                    },
                    "size": 8
                  },
                  "zmax": 3,
                  "y": [
                    1.28
                  ],
                  "type": "scatter"
                },
                {
                  "xaxis": "x1",
                  "colorbar": {
                    "title": ""
                  },
                  "yaxis": "y1",
                  "x": [
                    11.45
                  ],
                  "showlegend": false,
                  "mode": "markers",
                  "name": "y1",
                  "zmin": 1,
                  "legendgroup": "y1",
                  "marker": {
                    "symbol": "circle",
                    "color": "rgba(204, 76, 204, 1.000)",
                    "line": {
                      "color": "rgba(0, 0, 0, 1.000)",
                      "width": 1
                    },
                    "size": 8
                  },
                  "zmax": 3,
                  "y": [
                    3.25
                  ],
                  "type": "scatter"
                },
                {
                  "xaxis": "x1",
                  "colorbar": {
                    "title": ""
                  },
                  "yaxis": "y1",
                  "x": [
                    11.56
                  ],
                  "showlegend": false,
                  "mode": "markers",
                  "name": "y1",
                  "zmin": 1,
                  "legendgroup": "y1",
                  "marker": {
                    "symbol": "circle",
                    "color": "rgba(255, 76, 76, 1.000)",
                    "line": {
                      "color": "rgba(0, 0, 0, 1.000)",
                      "width": 1
                    },
                    "size": 8
                  },
                  "zmax": 3,
                  "y": [
                    6
                  ],
                  "type": "scatter"
                },
                {
                  "xaxis": "x1",
                  "colorbar": {
                    "title": ""
                  },
                  "yaxis": "y1",
                  "x": [
                    12.42
                  ],
                  "showlegend": false,
                  "mode": "markers",
                  "name": "y1",
                  "zmin": 1,
                  "legendgroup": "y1",
                  "marker": {
                    "symbol": "circle",
                    "color": "rgba(204, 76, 204, 1.000)",
                    "line": {
                      "color": "rgba(0, 0, 0, 1.000)",
                      "width": 1
                    },
                    "size": 8
                  },
                  "zmax": 3,
                  "y": [
                    2.08
                  ],
                  "type": "scatter"
                },
                {
                  "xaxis": "x1",
                  "colorbar": {
                    "title": ""
                  },
                  "yaxis": "y1",
                  "x": [
                    13.05
                  ],
                  "showlegend": false,
                  "mode": "markers",
                  "name": "y1",
                  "zmin": 1,
                  "legendgroup": "y1",
                  "marker": {
                    "symbol": "circle",
                    "color": "rgba(204, 76, 204, 1.000)",
                    "line": {
                      "color": "rgba(0, 0, 0, 1.000)",
                      "width": 1
                    },
                    "size": 8
                  },
                  "zmax": 3,
                  "y": [
                    2.6
                  ],
                  "type": "scatter"
                },
                {
                  "xaxis": "x1",
                  "colorbar": {
                    "title": ""
                  },
                  "yaxis": "y1",
                  "x": [
                    11.87
                  ],
                  "showlegend": false,
                  "mode": "markers",
                  "name": "y1",
                  "zmin": 1,
                  "legendgroup": "y1",
                  "marker": {
                    "symbol": "circle",
                    "color": "rgba(204, 76, 204, 1.000)",
                    "line": {
                      "color": "rgba(0, 0, 0, 1.000)",
                      "width": 1
                    },
                    "size": 8
                  },
                  "zmax": 3,
                  "y": [
                    2.8
                  ],
                  "type": "scatter"
                },
                {
                  "xaxis": "x1",
                  "colorbar": {
                    "title": ""
                  },
                  "yaxis": "y1",
                  "x": [
                    12.07
                  ],
                  "showlegend": false,
                  "mode": "markers",
                  "name": "y1",
                  "zmin": 1,
                  "legendgroup": "y1",
                  "marker": {
                    "symbol": "circle",
                    "color": "rgba(204, 76, 204, 1.000)",
                    "line": {
                      "color": "rgba(0, 0, 0, 1.000)",
                      "width": 1
                    },
                    "size": 8
                  },
                  "zmax": 3,
                  "y": [
                    2.76
                  ],
                  "type": "scatter"
                },
                {
                  "xaxis": "x1",
                  "colorbar": {
                    "title": ""
                  },
                  "yaxis": "y1",
                  "x": [
                    12.43
                  ],
                  "showlegend": false,
                  "mode": "markers",
                  "name": "y1",
                  "zmin": 1,
                  "legendgroup": "y1",
                  "marker": {
                    "symbol": "circle",
                    "color": "rgba(204, 76, 204, 1.000)",
                    "line": {
                      "color": "rgba(0, 0, 0, 1.000)",
                      "width": 1
                    },
                    "size": 8
                  },
                  "zmax": 3,
                  "y": [
                    3.94
                  ],
                  "type": "scatter"
                },
                {
                  "xaxis": "x1",
                  "colorbar": {
                    "title": ""
                  },
                  "yaxis": "y1",
                  "x": [
                    11.79
                  ],
                  "showlegend": false,
                  "mode": "markers",
                  "name": "y1",
                  "zmin": 1,
                  "legendgroup": "y1",
                  "marker": {
                    "symbol": "circle",
                    "color": "rgba(204, 76, 204, 1.000)",
                    "line": {
                      "color": "rgba(0, 0, 0, 1.000)",
                      "width": 1
                    },
                    "size": 8
                  },
                  "zmax": 3,
                  "y": [
                    3
                  ],
                  "type": "scatter"
                },
                {
                  "xaxis": "x1",
                  "colorbar": {
                    "title": ""
                  },
                  "yaxis": "y1",
                  "x": [
                    12.37
                  ],
                  "showlegend": false,
                  "mode": "markers",
                  "name": "y1",
                  "zmin": 1,
                  "legendgroup": "y1",
                  "marker": {
                    "symbol": "circle",
                    "color": "rgba(204, 76, 204, 1.000)",
                    "line": {
                      "color": "rgba(0, 0, 0, 1.000)",
                      "width": 1
                    },
                    "size": 8
                  },
                  "zmax": 3,
                  "y": [
                    2.12
                  ],
                  "type": "scatter"
                },
                {
                  "xaxis": "x1",
                  "colorbar": {
                    "title": ""
                  },
                  "yaxis": "y1",
                  "x": [
                    12.04
                  ],
                  "showlegend": false,
                  "mode": "markers",
                  "name": "y1",
                  "zmin": 1,
                  "legendgroup": "y1",
                  "marker": {
                    "symbol": "circle",
                    "color": "rgba(204, 76, 204, 1.000)",
                    "line": {
                      "color": "rgba(0, 0, 0, 1.000)",
                      "width": 1
                    },
                    "size": 8
                  },
                  "zmax": 3,
                  "y": [
                    2.6
                  ],
                  "type": "scatter"
                },
                {
                  "xaxis": "x1",
                  "colorbar": {
                    "title": ""
                  },
                  "yaxis": "y1",
                  "x": [
                    12.86
                  ],
                  "showlegend": false,
                  "mode": "markers",
                  "name": "y1",
                  "zmin": 1,
                  "legendgroup": "y1",
                  "marker": {
                    "symbol": "circle",
                    "color": "rgba(204, 76, 204, 1.000)",
                    "line": {
                      "color": "rgba(0, 0, 0, 1.000)",
                      "width": 1
                    },
                    "size": 8
                  },
                  "zmax": 3,
                  "y": [
                    4.1
                  ],
                  "type": "scatter"
                },
                {
                  "xaxis": "x1",
                  "colorbar": {
                    "title": ""
                  },
                  "yaxis": "y1",
                  "x": [
                    12.88
                  ],
                  "showlegend": false,
                  "mode": "markers",
                  "name": "y1",
                  "zmin": 1,
                  "legendgroup": "y1",
                  "marker": {
                    "symbol": "circle",
                    "color": "rgba(255, 76, 76, 1.000)",
                    "line": {
                      "color": "rgba(0, 0, 0, 1.000)",
                      "width": 1
                    },
                    "size": 8
                  },
                  "zmax": 3,
                  "y": [
                    5.4
                  ],
                  "type": "scatter"
                },
                {
                  "xaxis": "x1",
                  "colorbar": {
                    "title": ""
                  },
                  "yaxis": "y1",
                  "x": [
                    12.81
                  ],
                  "showlegend": false,
                  "mode": "markers",
                  "name": "y1",
                  "zmin": 1,
                  "legendgroup": "y1",
                  "marker": {
                    "symbol": "circle",
                    "color": "rgba(255, 76, 76, 1.000)",
                    "line": {
                      "color": "rgba(0, 0, 0, 1.000)",
                      "width": 1
                    },
                    "size": 8
                  },
                  "zmax": 3,
                  "y": [
                    5.7
                  ],
                  "type": "scatter"
                },
                {
                  "xaxis": "x1",
                  "colorbar": {
                    "title": ""
                  },
                  "yaxis": "y1",
                  "x": [
                    12.7
                  ],
                  "showlegend": false,
                  "mode": "markers",
                  "name": "y1",
                  "zmin": 1,
                  "legendgroup": "y1",
                  "marker": {
                    "symbol": "circle",
                    "color": "rgba(255, 76, 76, 1.000)",
                    "line": {
                      "color": "rgba(0, 0, 0, 1.000)",
                      "width": 1
                    },
                    "size": 8
                  },
                  "zmax": 3,
                  "y": [
                    5
                  ],
                  "type": "scatter"
                },
                {
                  "xaxis": "x1",
                  "colorbar": {
                    "title": ""
                  },
                  "yaxis": "y1",
                  "x": [
                    12.51
                  ],
                  "showlegend": false,
                  "mode": "markers",
                  "name": "y1",
                  "zmin": 1,
                  "legendgroup": "y1",
                  "marker": {
                    "symbol": "circle",
                    "color": "rgba(255, 76, 76, 1.000)",
                    "line": {
                      "color": "rgba(0, 0, 0, 1.000)",
                      "width": 1
                    },
                    "size": 8
                  },
                  "zmax": 3,
                  "y": [
                    5.45
                  ],
                  "type": "scatter"
                },
                {
                  "xaxis": "x1",
                  "colorbar": {
                    "title": ""
                  },
                  "yaxis": "y1",
                  "x": [
                    12.6
                  ],
                  "showlegend": false,
                  "mode": "markers",
                  "name": "y1",
                  "zmin": 1,
                  "legendgroup": "y1",
                  "marker": {
                    "symbol": "circle",
                    "color": "rgba(76, 204, 76, 1.000)",
                    "line": {
                      "color": "rgba(0, 0, 0, 1.000)",
                      "width": 1
                    },
                    "size": 8
                  },
                  "zmax": 3,
                  "y": [
                    7.1
                  ],
                  "type": "scatter"
                },
                {
                  "xaxis": "x1",
                  "colorbar": {
                    "title": ""
                  },
                  "yaxis": "y1",
                  "x": [
                    12.25
                  ],
                  "showlegend": false,
                  "mode": "markers",
                  "name": "y1",
                  "zmin": 1,
                  "legendgroup": "y1",
                  "marker": {
                    "symbol": "circle",
                    "color": "rgba(204, 76, 204, 1.000)",
                    "line": {
                      "color": "rgba(0, 0, 0, 1.000)",
                      "width": 1
                    },
                    "size": 8
                  },
                  "zmax": 3,
                  "y": [
                    3.85
                  ],
                  "type": "scatter"
                },
                {
                  "xaxis": "x1",
                  "colorbar": {
                    "title": ""
                  },
                  "yaxis": "y1",
                  "x": [
                    12.53
                  ],
                  "showlegend": false,
                  "mode": "markers",
                  "name": "y1",
                  "zmin": 1,
                  "legendgroup": "y1",
                  "marker": {
                    "symbol": "circle",
                    "color": "rgba(255, 76, 76, 1.000)",
                    "line": {
                      "color": "rgba(0, 0, 0, 1.000)",
                      "width": 1
                    },
                    "size": 8
                  },
                  "zmax": 3,
                  "y": [
                    5
                  ],
                  "type": "scatter"
                },
                {
                  "xaxis": "x1",
                  "colorbar": {
                    "title": ""
                  },
                  "yaxis": "y1",
                  "x": [
                    13.49
                  ],
                  "showlegend": false,
                  "mode": "markers",
                  "name": "y1",
                  "zmin": 1,
                  "legendgroup": "y1",
                  "marker": {
                    "symbol": "circle",
                    "color": "rgba(255, 76, 76, 1.000)",
                    "line": {
                      "color": "rgba(0, 0, 0, 1.000)",
                      "width": 1
                    },
                    "size": 8
                  },
                  "zmax": 3,
                  "y": [
                    5.7
                  ],
                  "type": "scatter"
                },
                {
                  "xaxis": "x1",
                  "colorbar": {
                    "title": ""
                  },
                  "yaxis": "y1",
                  "x": [
                    12.84
                  ],
                  "showlegend": false,
                  "mode": "markers",
                  "name": "y1",
                  "zmin": 1,
                  "legendgroup": "y1",
                  "marker": {
                    "symbol": "circle",
                    "color": "rgba(255, 76, 76, 1.000)",
                    "line": {
                      "color": "rgba(0, 0, 0, 1.000)",
                      "width": 1
                    },
                    "size": 8
                  },
                  "zmax": 3,
                  "y": [
                    4.92
                  ],
                  "type": "scatter"
                },
                {
                  "xaxis": "x1",
                  "colorbar": {
                    "title": ""
                  },
                  "yaxis": "y1",
                  "x": [
                    12.93
                  ],
                  "showlegend": false,
                  "mode": "markers",
                  "name": "y1",
                  "zmin": 1,
                  "legendgroup": "y1",
                  "marker": {
                    "symbol": "circle",
                    "color": "rgba(255, 76, 76, 1.000)",
                    "line": {
                      "color": "rgba(0, 0, 0, 1.000)",
                      "width": 1
                    },
                    "size": 8
                  },
                  "zmax": 3,
                  "y": [
                    4.6
                  ],
                  "type": "scatter"
                },
                {
                  "xaxis": "x1",
                  "colorbar": {
                    "title": ""
                  },
                  "yaxis": "y1",
                  "x": [
                    13.36
                  ],
                  "showlegend": false,
                  "mode": "markers",
                  "name": "y1",
                  "zmin": 1,
                  "legendgroup": "y1",
                  "marker": {
                    "symbol": "circle",
                    "color": "rgba(255, 76, 76, 1.000)",
                    "line": {
                      "color": "rgba(0, 0, 0, 1.000)",
                      "width": 1
                    },
                    "size": 8
                  },
                  "zmax": 3,
                  "y": [
                    5.6
                  ],
                  "type": "scatter"
                },
                {
                  "xaxis": "x1",
                  "colorbar": {
                    "title": ""
                  },
                  "yaxis": "y1",
                  "x": [
                    13.52
                  ],
                  "showlegend": false,
                  "mode": "markers",
                  "name": "y1",
                  "zmin": 1,
                  "legendgroup": "y1",
                  "marker": {
                    "symbol": "circle",
                    "color": "rgba(255, 76, 76, 1.000)",
                    "line": {
                      "color": "rgba(0, 0, 0, 1.000)",
                      "width": 1
                    },
                    "size": 8
                  },
                  "zmax": 3,
                  "y": [
                    4.35
                  ],
                  "type": "scatter"
                },
                {
                  "xaxis": "x1",
                  "colorbar": {
                    "title": ""
                  },
                  "yaxis": "y1",
                  "x": [
                    13.62
                  ],
                  "showlegend": false,
                  "mode": "markers",
                  "name": "y1",
                  "zmin": 1,
                  "legendgroup": "y1",
                  "marker": {
                    "symbol": "circle",
                    "color": "rgba(255, 76, 76, 1.000)",
                    "line": {
                      "color": "rgba(0, 0, 0, 1.000)",
                      "width": 1
                    },
                    "size": 8
                  },
                  "zmax": 3,
                  "y": [
                    4.4
                  ],
                  "type": "scatter"
                },
                {
                  "xaxis": "x1",
                  "colorbar": {
                    "title": ""
                  },
                  "yaxis": "y1",
                  "x": [
                    12.25
                  ],
                  "showlegend": false,
                  "mode": "markers",
                  "name": "y1",
                  "zmin": 1,
                  "legendgroup": "y1",
                  "marker": {
                    "symbol": "circle",
                    "color": "rgba(76, 204, 76, 1.000)",
                    "line": {
                      "color": "rgba(0, 0, 0, 1.000)",
                      "width": 1
                    },
                    "size": 8
                  },
                  "zmax": 3,
                  "y": [
                    8.21
                  ],
                  "type": "scatter"
                },
                {
                  "xaxis": "x1",
                  "colorbar": {
                    "title": ""
                  },
                  "yaxis": "y1",
                  "x": [
                    13.16
                  ],
                  "showlegend": false,
                  "mode": "markers",
                  "name": "y1",
                  "zmin": 1,
                  "legendgroup": "y1",
                  "marker": {
                    "symbol": "circle",
                    "color": "rgba(204, 76, 204, 1.000)",
                    "line": {
                      "color": "rgba(0, 0, 0, 1.000)",
                      "width": 1
                    },
                    "size": 8
                  },
                  "zmax": 3,
                  "y": [
                    4
                  ],
                  "type": "scatter"
                },
                {
                  "xaxis": "x1",
                  "colorbar": {
                    "title": ""
                  },
                  "yaxis": "y1",
                  "x": [
                    13.88
                  ],
                  "showlegend": false,
                  "mode": "markers",
                  "name": "y1",
                  "zmin": 1,
                  "legendgroup": "y1",
                  "marker": {
                    "symbol": "circle",
                    "color": "rgba(255, 76, 76, 1.000)",
                    "line": {
                      "color": "rgba(0, 0, 0, 1.000)",
                      "width": 1
                    },
                    "size": 8
                  },
                  "zmax": 3,
                  "y": [
                    4.9
                  ],
                  "type": "scatter"
                },
                {
                  "xaxis": "x1",
                  "colorbar": {
                    "title": ""
                  },
                  "yaxis": "y1",
                  "x": [
                    12.87
                  ],
                  "showlegend": false,
                  "mode": "markers",
                  "name": "y1",
                  "zmin": 1,
                  "legendgroup": "y1",
                  "marker": {
                    "symbol": "circle",
                    "color": "rgba(76, 204, 76, 1.000)",
                    "line": {
                      "color": "rgba(0, 0, 0, 1.000)",
                      "width": 1
                    },
                    "size": 8
                  },
                  "zmax": 3,
                  "y": [
                    7.65
                  ],
                  "type": "scatter"
                },
                {
                  "xaxis": "x1",
                  "colorbar": {
                    "title": ""
                  },
                  "yaxis": "y1",
                  "x": [
                    13.32
                  ],
                  "showlegend": false,
                  "mode": "markers",
                  "name": "y1",
                  "zmin": 1,
                  "legendgroup": "y1",
                  "marker": {
                    "symbol": "circle",
                    "color": "rgba(76, 204, 76, 1.000)",
                    "line": {
                      "color": "rgba(0, 0, 0, 1.000)",
                      "width": 1
                    },
                    "size": 8
                  },
                  "zmax": 3,
                  "y": [
                    8.42
                  ],
                  "type": "scatter"
                },
                {
                  "xaxis": "x1",
                  "colorbar": {
                    "title": ""
                  },
                  "yaxis": "y1",
                  "x": [
                    13.08
                  ],
                  "showlegend": false,
                  "mode": "markers",
                  "name": "y1",
                  "zmin": 1,
                  "legendgroup": "y1",
                  "marker": {
                    "symbol": "circle",
                    "color": "rgba(76, 204, 76, 1.000)",
                    "line": {
                      "color": "rgba(0, 0, 0, 1.000)",
                      "width": 1
                    },
                    "size": 8
                  },
                  "zmax": 3,
                  "y": [
                    9.4
                  ],
                  "type": "scatter"
                },
                {
                  "xaxis": "x1",
                  "colorbar": {
                    "title": ""
                  },
                  "yaxis": "y1",
                  "x": [
                    13.5
                  ],
                  "showlegend": false,
                  "mode": "markers",
                  "name": "y1",
                  "zmin": 1,
                  "legendgroup": "y1",
                  "marker": {
                    "symbol": "circle",
                    "color": "rgba(76, 204, 76, 1.000)",
                    "line": {
                      "color": "rgba(0, 0, 0, 1.000)",
                      "width": 1
                    },
                    "size": 8
                  },
                  "zmax": 3,
                  "y": [
                    8.6
                  ],
                  "type": "scatter"
                },
                {
                  "xaxis": "x1",
                  "colorbar": {
                    "title": ""
                  },
                  "yaxis": "y1",
                  "x": [
                    12.79
                  ],
                  "showlegend": false,
                  "mode": "markers",
                  "name": "y1",
                  "zmin": 1,
                  "legendgroup": "y1",
                  "marker": {
                    "symbol": "circle",
                    "color": "rgba(76, 204, 76, 1.000)",
                    "line": {
                      "color": "rgba(0, 0, 0, 1.000)",
                      "width": 1
                    },
                    "size": 8
                  },
                  "zmax": 3,
                  "y": [
                    10.8
                  ],
                  "type": "scatter"
                },
                {
                  "xaxis": "x1",
                  "colorbar": {
                    "title": ""
                  },
                  "yaxis": "y1",
                  "x": [
                    13.11
                  ],
                  "showlegend": false,
                  "mode": "markers",
                  "name": "y1",
                  "zmin": 1,
                  "legendgroup": "y1",
                  "marker": {
                    "symbol": "circle",
                    "color": "rgba(76, 204, 76, 1.000)",
                    "line": {
                      "color": "rgba(0, 0, 0, 1.000)",
                      "width": 1
                    },
                    "size": 8
                  },
                  "zmax": 3,
                  "y": [
                    7.1
                  ],
                  "type": "scatter"
                },
                {
                  "xaxis": "x1",
                  "colorbar": {
                    "title": ""
                  },
                  "yaxis": "y1",
                  "x": [
                    13.23
                  ],
                  "showlegend": false,
                  "mode": "markers",
                  "name": "y1",
                  "zmin": 1,
                  "legendgroup": "y1",
                  "marker": {
                    "symbol": "circle",
                    "color": "rgba(76, 204, 76, 1.000)",
                    "line": {
                      "color": "rgba(0, 0, 0, 1.000)",
                      "width": 1
                    },
                    "size": 8
                  },
                  "zmax": 3,
                  "y": [
                    10.52
                  ],
                  "type": "scatter"
                },
                {
                  "xaxis": "x1",
                  "colorbar": {
                    "title": ""
                  },
                  "yaxis": "y1",
                  "x": [
                    12.58
                  ],
                  "showlegend": false,
                  "mode": "markers",
                  "name": "y1",
                  "zmin": 1,
                  "legendgroup": "y1",
                  "marker": {
                    "symbol": "circle",
                    "color": "rgba(76, 204, 76, 1.000)",
                    "line": {
                      "color": "rgba(0, 0, 0, 1.000)",
                      "width": 1
                    },
                    "size": 8
                  },
                  "zmax": 3,
                  "y": [
                    7.6
                  ],
                  "type": "scatter"
                },
                {
                  "xaxis": "x1",
                  "colorbar": {
                    "title": ""
                  },
                  "yaxis": "y1",
                  "x": [
                    13.17
                  ],
                  "showlegend": false,
                  "mode": "markers",
                  "name": "y1",
                  "zmin": 1,
                  "legendgroup": "y1",
                  "marker": {
                    "symbol": "circle",
                    "color": "rgba(76, 204, 76, 1.000)",
                    "line": {
                      "color": "rgba(0, 0, 0, 1.000)",
                      "width": 1
                    },
                    "size": 8
                  },
                  "zmax": 3,
                  "y": [
                    7.9
                  ],
                  "type": "scatter"
                },
                {
                  "xaxis": "x1",
                  "colorbar": {
                    "title": ""
                  },
                  "yaxis": "y1",
                  "x": [
                    13.84
                  ],
                  "showlegend": false,
                  "mode": "markers",
                  "name": "y1",
                  "zmin": 1,
                  "legendgroup": "y1",
                  "marker": {
                    "symbol": "circle",
                    "color": "rgba(76, 204, 76, 1.000)",
                    "line": {
                      "color": "rgba(0, 0, 0, 1.000)",
                      "width": 1
                    },
                    "size": 8
                  },
                  "zmax": 3,
                  "y": [
                    9.01
                  ],
                  "type": "scatter"
                },
                {
                  "xaxis": "x1",
                  "colorbar": {
                    "title": ""
                  },
                  "yaxis": "y1",
                  "x": [
                    12.45
                  ],
                  "showlegend": false,
                  "mode": "markers",
                  "name": "y1",
                  "zmin": 1,
                  "legendgroup": "y1",
                  "marker": {
                    "symbol": "circle",
                    "color": "rgba(76, 204, 76, 1.000)",
                    "line": {
                      "color": "rgba(0, 0, 0, 1.000)",
                      "width": 1
                    },
                    "size": 8
                  },
                  "zmax": 3,
                  "y": [
                    7.5
                  ],
                  "type": "scatter"
                },
                {
                  "xaxis": "x1",
                  "colorbar": {
                    "title": ""
                  },
                  "yaxis": "y1",
                  "x": [
                    14.34
                  ],
                  "showlegend": false,
                  "mode": "markers",
                  "name": "y1",
                  "zmin": 1,
                  "legendgroup": "y1",
                  "marker": {
                    "symbol": "circle",
                    "color": "rgba(76, 204, 76, 1.000)",
                    "line": {
                      "color": "rgba(0, 0, 0, 1.000)",
                      "width": 1
                    },
                    "size": 8
                  },
                  "zmax": 3,
                  "y": [
                    13
                  ],
                  "type": "scatter"
                },
                {
                  "xaxis": "x1",
                  "colorbar": {
                    "title": ""
                  },
                  "yaxis": "y1",
                  "x": [
                    13.48
                  ],
                  "showlegend": false,
                  "mode": "markers",
                  "name": "y1",
                  "zmin": 1,
                  "legendgroup": "y1",
                  "marker": {
                    "symbol": "circle",
                    "color": "rgba(76, 204, 76, 1.000)",
                    "line": {
                      "color": "rgba(0, 0, 0, 1.000)",
                      "width": 1
                    },
                    "size": 8
                  },
                  "zmax": 3,
                  "y": [
                    11.75
                  ],
                  "type": "scatter"
                },
                {
                  "xaxis": "x1",
                  "colorbar": {
                    "title": ""
                  },
                  "yaxis": "y1",
                  "x": [
                    12.36
                  ],
                  "showlegend": false,
                  "mode": "markers",
                  "name": "y1",
                  "zmin": 1,
                  "legendgroup": "y1",
                  "marker": {
                    "symbol": "circle",
                    "color": "rgba(76, 204, 76, 1.000)",
                    "line": {
                      "color": "rgba(0, 0, 0, 1.000)",
                      "width": 1
                    },
                    "size": 8
                  },
                  "zmax": 3,
                  "y": [
                    7.65
                  ],
                  "type": "scatter"
                },
                {
                  "xaxis": "x1",
                  "colorbar": {
                    "title": ""
                  },
                  "yaxis": "y1",
                  "x": [
                    13.69
                  ],
                  "showlegend": false,
                  "mode": "markers",
                  "name": "y1",
                  "zmin": 1,
                  "legendgroup": "y1",
                  "marker": {
                    "symbol": "circle",
                    "color": "rgba(255, 76, 76, 1.000)",
                    "line": {
                      "color": "rgba(0, 0, 0, 1.000)",
                      "width": 1
                    },
                    "size": 8
                  },
                  "zmax": 3,
                  "y": [
                    5.88
                  ],
                  "type": "scatter"
                },
                {
                  "xaxis": "x1",
                  "colorbar": {
                    "title": ""
                  },
                  "yaxis": "y1",
                  "x": [
                    12.85
                  ],
                  "showlegend": false,
                  "mode": "markers",
                  "name": "y1",
                  "zmin": 1,
                  "legendgroup": "y1",
                  "marker": {
                    "symbol": "circle",
                    "color": "rgba(255, 76, 76, 1.000)",
                    "line": {
                      "color": "rgba(0, 0, 0, 1.000)",
                      "width": 1
                    },
                    "size": 8
                  },
                  "zmax": 3,
                  "y": [
                    5.58
                  ],
                  "type": "scatter"
                },
                {
                  "xaxis": "x1",
                  "colorbar": {
                    "title": ""
                  },
                  "yaxis": "y1",
                  "x": [
                    12.96
                  ],
                  "showlegend": false,
                  "mode": "markers",
                  "name": "y1",
                  "zmin": 1,
                  "legendgroup": "y1",
                  "marker": {
                    "symbol": "circle",
                    "color": "rgba(255, 76, 76, 1.000)",
                    "line": {
                      "color": "rgba(0, 0, 0, 1.000)",
                      "width": 1
                    },
                    "size": 8
                  },
                  "zmax": 3,
                  "y": [
                    5.28
                  ],
                  "type": "scatter"
                },
                {
                  "xaxis": "x1",
                  "colorbar": {
                    "title": ""
                  },
                  "yaxis": "y1",
                  "x": [
                    13.78
                  ],
                  "showlegend": false,
                  "mode": "markers",
                  "name": "y1",
                  "zmin": 1,
                  "legendgroup": "y1",
                  "marker": {
                    "symbol": "circle",
                    "color": "rgba(76, 204, 76, 1.000)",
                    "line": {
                      "color": "rgba(0, 0, 0, 1.000)",
                      "width": 1
                    },
                    "size": 8
                  },
                  "zmax": 3,
                  "y": [
                    9.58
                  ],
                  "type": "scatter"
                },
                {
                  "xaxis": "x1",
                  "colorbar": {
                    "title": ""
                  },
                  "yaxis": "y1",
                  "x": [
                    13.73
                  ],
                  "showlegend": false,
                  "mode": "markers",
                  "name": "y1",
                  "zmin": 1,
                  "legendgroup": "y1",
                  "marker": {
                    "symbol": "circle",
                    "color": "rgba(255, 76, 76, 1.000)",
                    "line": {
                      "color": "rgba(0, 0, 0, 1.000)",
                      "width": 1
                    },
                    "size": 8
                  },
                  "zmax": 3,
                  "y": [
                    6.62
                  ],
                  "type": "scatter"
                },
                {
                  "xaxis": "x1",
                  "colorbar": {
                    "title": ""
                  },
                  "yaxis": "y1",
                  "x": [
                    13.45
                  ],
                  "showlegend": false,
                  "mode": "markers",
                  "name": "y1",
                  "zmin": 1,
                  "legendgroup": "y1",
                  "marker": {
                    "symbol": "circle",
                    "color": "rgba(76, 204, 76, 1.000)",
                    "line": {
                      "color": "rgba(0, 0, 0, 1.000)",
                      "width": 1
                    },
                    "size": 8
                  },
                  "zmax": 3,
                  "y": [
                    10.68
                  ],
                  "type": "scatter"
                },
                {
                  "xaxis": "x1",
                  "colorbar": {
                    "title": ""
                  },
                  "yaxis": "y1",
                  "x": [
                    12.82
                  ],
                  "showlegend": false,
                  "mode": "markers",
                  "name": "y1",
                  "zmin": 1,
                  "legendgroup": "y1",
                  "marker": {
                    "symbol": "circle",
                    "color": "rgba(76, 204, 76, 1.000)",
                    "line": {
                      "color": "rgba(0, 0, 0, 1.000)",
                      "width": 1
                    },
                    "size": 8
                  },
                  "zmax": 3,
                  "y": [
                    10.26
                  ],
                  "type": "scatter"
                },
                {
                  "xaxis": "x1",
                  "colorbar": {
                    "title": ""
                  },
                  "yaxis": "y1",
                  "x": [
                    13.58
                  ],
                  "showlegend": false,
                  "mode": "markers",
                  "name": "y1",
                  "zmin": 1,
                  "legendgroup": "y1",
                  "marker": {
                    "symbol": "circle",
                    "color": "rgba(76, 204, 76, 1.000)",
                    "line": {
                      "color": "rgba(0, 0, 0, 1.000)",
                      "width": 1
                    },
                    "size": 8
                  },
                  "zmax": 3,
                  "y": [
                    8.66
                  ],
                  "type": "scatter"
                },
                {
                  "xaxis": "x1",
                  "colorbar": {
                    "title": ""
                  },
                  "yaxis": "y1",
                  "x": [
                    13.4
                  ],
                  "showlegend": false,
                  "mode": "markers",
                  "name": "y1",
                  "zmin": 1,
                  "legendgroup": "y1",
                  "marker": {
                    "symbol": "circle",
                    "color": "rgba(76, 204, 76, 1.000)",
                    "line": {
                      "color": "rgba(0, 0, 0, 1.000)",
                      "width": 1
                    },
                    "size": 8
                  },
                  "zmax": 3,
                  "y": [
                    8.5
                  ],
                  "type": "scatter"
                },
                {
                  "xaxis": "x1",
                  "colorbar": {
                    "title": ""
                  },
                  "yaxis": "y1",
                  "x": [
                    12.2
                  ],
                  "showlegend": false,
                  "mode": "markers",
                  "name": "y1",
                  "zmin": 1,
                  "legendgroup": "y1",
                  "marker": {
                    "symbol": "circle",
                    "color": "rgba(255, 76, 76, 1.000)",
                    "line": {
                      "color": "rgba(0, 0, 0, 1.000)",
                      "width": 1
                    },
                    "size": 8
                  },
                  "zmax": 3,
                  "y": [
                    5.5
                  ],
                  "type": "scatter"
                },
                {
                  "xaxis": "x1",
                  "colorbar": {
                    "title": ""
                  },
                  "yaxis": "y1",
                  "x": [
                    12.77
                  ],
                  "showlegend": false,
                  "mode": "markers",
                  "name": "y1",
                  "zmin": 1,
                  "legendgroup": "y1",
                  "marker": {
                    "symbol": "circle",
                    "color": "rgba(76, 204, 76, 1.000)",
                    "line": {
                      "color": "rgba(0, 0, 0, 1.000)",
                      "width": 1
                    },
                    "size": 8
                  },
                  "zmax": 3,
                  "y": [
                    9.9
                  ],
                  "type": "scatter"
                },
                {
                  "xaxis": "x1",
                  "colorbar": {
                    "title": ""
                  },
                  "yaxis": "y1",
                  "x": [
                    14.16
                  ],
                  "showlegend": false,
                  "mode": "markers",
                  "name": "y1",
                  "zmin": 1,
                  "legendgroup": "y1",
                  "marker": {
                    "symbol": "circle",
                    "color": "rgba(76, 204, 76, 1.000)",
                    "line": {
                      "color": "rgba(0, 0, 0, 1.000)",
                      "width": 1
                    },
                    "size": 8
                  },
                  "zmax": 3,
                  "y": [
                    9.7
                  ],
                  "type": "scatter"
                },
                {
                  "xaxis": "x1",
                  "colorbar": {
                    "title": ""
                  },
                  "yaxis": "y1",
                  "x": [
                    13.71
                  ],
                  "showlegend": false,
                  "mode": "markers",
                  "name": "y1",
                  "zmin": 1,
                  "legendgroup": "y1",
                  "marker": {
                    "symbol": "circle",
                    "color": "rgba(76, 204, 76, 1.000)",
                    "line": {
                      "color": "rgba(0, 0, 0, 1.000)",
                      "width": 1
                    },
                    "size": 8
                  },
                  "zmax": 3,
                  "y": [
                    7.7
                  ],
                  "type": "scatter"
                },
                {
                  "xaxis": "x1",
                  "colorbar": {
                    "title": ""
                  },
                  "yaxis": "y1",
                  "x": [
                    13.4
                  ],
                  "showlegend": false,
                  "mode": "markers",
                  "name": "y1",
                  "zmin": 1,
                  "legendgroup": "y1",
                  "marker": {
                    "symbol": "circle",
                    "color": "rgba(76, 204, 76, 1.000)",
                    "line": {
                      "color": "rgba(0, 0, 0, 1.000)",
                      "width": 1
                    },
                    "size": 8
                  },
                  "zmax": 3,
                  "y": [
                    7.3
                  ],
                  "type": "scatter"
                },
                {
                  "xaxis": "x1",
                  "colorbar": {
                    "title": ""
                  },
                  "yaxis": "y1",
                  "x": [
                    13.27
                  ],
                  "showlegend": false,
                  "mode": "markers",
                  "name": "y1",
                  "zmin": 1,
                  "legendgroup": "y1",
                  "marker": {
                    "symbol": "circle",
                    "color": "rgba(76, 204, 76, 1.000)",
                    "line": {
                      "color": "rgba(0, 0, 0, 1.000)",
                      "width": 1
                    },
                    "size": 8
                  },
                  "zmax": 3,
                  "y": [
                    10.2
                  ],
                  "type": "scatter"
                },
                {
                  "xaxis": "x1",
                  "colorbar": {
                    "title": ""
                  },
                  "yaxis": "y1",
                  "x": [
                    13.17
                  ],
                  "showlegend": false,
                  "mode": "markers",
                  "name": "y1",
                  "zmin": 1,
                  "legendgroup": "y1",
                  "marker": {
                    "symbol": "circle",
                    "color": "rgba(76, 204, 76, 1.000)",
                    "line": {
                      "color": "rgba(0, 0, 0, 1.000)",
                      "width": 1
                    },
                    "size": 8
                  },
                  "zmax": 3,
                  "y": [
                    9.3
                  ],
                  "type": "scatter"
                },
                {
                  "xaxis": "x1",
                  "colorbar": {
                    "title": ""
                  },
                  "yaxis": "y1",
                  "x": [
                    14.13
                  ],
                  "showlegend": false,
                  "mode": "markers",
                  "name": "y1",
                  "zmin": 1,
                  "legendgroup": "y1",
                  "marker": {
                    "symbol": "circle",
                    "color": "rgba(76, 204, 76, 1.000)",
                    "line": {
                      "color": "rgba(0, 0, 0, 1.000)",
                      "width": 1
                    },
                    "size": 8
                  },
                  "zmax": 3,
                  "y": [
                    9.2
                  ],
                  "type": "scatter"
                },
                {
                  "xaxis": "x1",
                  "colorbar": {
                    "title": ""
                  },
                  "yaxis": "y1",
                  "x": [
                    14.23
                  ],
                  "showlegend": false,
                  "mode": "markers",
                  "name": "y1",
                  "zmin": 1,
                  "marker": {
                    "color": [
                      0.5
                    ],
                    "cmin": 1,
                    "opacity": 0,
                    "size": 0,
                    "colorscale": [
                      [
                        0,
                        "rgba(204, 76, 204, 1.000)"
                      ],
                      [
                        0.25,
                        "rgba(76, 76, 255, 1.000)"
                      ],
                      [
                        0.5,
                        "rgba(76, 204, 76, 1.000)"
                      ],
                      [
                        0.75,
                        "rgba(255, 242, 76, 1.000)"
                      ],
                      [
                        1,
                        "rgba(255, 76, 76, 1.000)"
                      ]
                    ],
                    "cmax": 3,
                    "showscale": false
                  },
                  "zmax": 3,
                  "y": [
                    5.64
                  ],
                  "type": "scatter",
                  "hoverinfo": "none"
                }
              ]
            }
          },
          "metadata": {}
        }
      ],
      "execution_count": 3,
      "metadata": {
        "collapsed": true,
        "jupyter": {
          "source_hidden": false,
          "outputs_hidden": false
        },
        "nteract": {
          "transient": {
            "deleting": false
          }
        },
        "execution": {
          "iopub.status.busy": "2020-10-27T19:38:26.599Z",
          "iopub.execute_input": "2020-10-27T19:38:26.607Z",
          "iopub.status.idle": "2020-10-27T19:38:27.039Z"
        }
      }
    },
    {
      "cell_type": "code",
      "source": [
        "#By Type v Alcohol Content\n",
        "scatter(M'[1,:], M'[2,:], marker_z=results.assignments, color=:lightrainbow, legend=false)"
      ],
      "outputs": [
        {
          "output_type": "execute_result",
          "execution_count": 4,
          "data": {
            "text/html": "<!DOCTYPE html>\n<html>\n    <head>\n        <title>Plots.jl</title>\n        <meta http-equiv=\"content-type\" content=\"text/html; charset=UTF-8\">\n        <script src=\"https://cdn.plot.ly/plotly-1.54.2.min.js\"></script>\n    </head>\n    <body>\n            <div id=\"d95275e3-7312-402f-8f3c-9f9cb528a8d1\" style=\"width:600px;height:400px;\"></div>\n    <script>\n    PLOT = document.getElementById('d95275e3-7312-402f-8f3c-9f9cb528a8d1');\n    Plotly.plot(PLOT, [\n    {\n        \"xaxis\": \"x1\",\n        \"colorbar\": {\n            \"title\": \"\"\n        },\n        \"yaxis\": \"y1\",\n        \"x\": [\n            1.0\n        ],\n        \"showlegend\": true,\n        \"mode\": \"markers\",\n        \"name\": \"y1\",\n        \"zmin\": 1.0,\n        \"legendgroup\": \"y1\",\n        \"marker\": {\n            \"symbol\": \"circle\",\n            \"color\": \"rgba(255, 76, 76, 1.000)\",\n            \"line\": {\n                \"color\": \"rgba(0, 0, 0, 1.000)\",\n                \"width\": 1\n            },\n            \"size\": 8\n        },\n        \"zmax\": 3.0,\n        \"y\": [\n            14.23\n        ],\n        \"type\": \"scatter\"\n    },\n    {\n        \"xaxis\": \"x1\",\n        \"colorbar\": {\n            \"title\": \"\"\n        },\n        \"yaxis\": \"y1\",\n        \"x\": [\n            1.0\n        ],\n        \"showlegend\": false,\n        \"mode\": \"markers\",\n        \"name\": \"y1\",\n        \"zmin\": 1.0,\n        \"legendgroup\": \"y1\",\n        \"marker\": {\n            \"symbol\": \"circle\",\n            \"color\": \"rgba(255, 76, 76, 1.000)\",\n            \"line\": {\n                \"color\": \"rgba(0, 0, 0, 1.000)\",\n                \"width\": 1\n            },\n            \"size\": 8\n        },\n        \"zmax\": 3.0,\n        \"y\": [\n            13.2\n        ],\n        \"type\": \"scatter\"\n    },\n    {\n        \"xaxis\": \"x1\",\n        \"colorbar\": {\n            \"title\": \"\"\n        },\n        \"yaxis\": \"y1\",\n        \"x\": [\n            1.0\n        ],\n        \"showlegend\": false,\n        \"mode\": \"markers\",\n        \"name\": \"y1\",\n        \"zmin\": 1.0,\n        \"legendgroup\": \"y1\",\n        \"marker\": {\n            \"symbol\": \"circle\",\n            \"color\": \"rgba(255, 76, 76, 1.000)\",\n            \"line\": {\n                \"color\": \"rgba(0, 0, 0, 1.000)\",\n                \"width\": 1\n            },\n            \"size\": 8\n        },\n        \"zmax\": 3.0,\n        \"y\": [\n            13.16\n        ],\n        \"type\": \"scatter\"\n    },\n    {\n        \"xaxis\": \"x1\",\n        \"colorbar\": {\n            \"title\": \"\"\n        },\n        \"yaxis\": \"y1\",\n        \"x\": [\n            1.0\n        ],\n        \"showlegend\": false,\n        \"mode\": \"markers\",\n        \"name\": \"y1\",\n        \"zmin\": 1.0,\n        \"legendgroup\": \"y1\",\n        \"marker\": {\n            \"symbol\": \"circle\",\n            \"color\": \"rgba(76, 204, 76, 1.000)\",\n            \"line\": {\n                \"color\": \"rgba(0, 0, 0, 1.000)\",\n                \"width\": 1\n            },\n            \"size\": 8\n        },\n        \"zmax\": 3.0,\n        \"y\": [\n            14.37\n        ],\n        \"type\": \"scatter\"\n    },\n    {\n        \"xaxis\": \"x1\",\n        \"colorbar\": {\n            \"title\": \"\"\n        },\n        \"yaxis\": \"y1\",\n        \"x\": [\n            1.0\n        ],\n        \"showlegend\": false,\n        \"mode\": \"markers\",\n        \"name\": \"y1\",\n        \"zmin\": 1.0,\n        \"legendgroup\": \"y1\",\n        \"marker\": {\n            \"symbol\": \"circle\",\n            \"color\": \"rgba(255, 76, 76, 1.000)\",\n            \"line\": {\n                \"color\": \"rgba(0, 0, 0, 1.000)\",\n                \"width\": 1\n            },\n            \"size\": 8\n        },\n        \"zmax\": 3.0,\n        \"y\": [\n            13.24\n        ],\n        \"type\": \"scatter\"\n    },\n    {\n        \"xaxis\": \"x1\",\n        \"colorbar\": {\n            \"title\": \"\"\n        },\n        \"yaxis\": \"y1\",\n        \"x\": [\n            1.0\n        ],\n        \"showlegend\": false,\n        \"mode\": \"markers\",\n        \"name\": \"y1\",\n        \"zmin\": 1.0,\n        \"legendgroup\": \"y1\",\n        \"marker\": {\n            \"symbol\": \"circle\",\n            \"color\": \"rgba(255, 76, 76, 1.000)\",\n            \"line\": {\n                \"color\": \"rgba(0, 0, 0, 1.000)\",\n                \"width\": 1\n            },\n            \"size\": 8\n        },\n        \"zmax\": 3.0,\n        \"y\": [\n            14.2\n        ],\n        \"type\": \"scatter\"\n    },\n    {\n        \"xaxis\": \"x1\",\n        \"colorbar\": {\n            \"title\": \"\"\n        },\n        \"yaxis\": \"y1\",\n        \"x\": [\n            1.0\n        ],\n        \"showlegend\": false,\n        \"mode\": \"markers\",\n        \"name\": \"y1\",\n        \"zmin\": 1.0,\n        \"legendgroup\": \"y1\",\n        \"marker\": {\n            \"symbol\": \"circle\",\n            \"color\": \"rgba(255, 76, 76, 1.000)\",\n            \"line\": {\n                \"color\": \"rgba(0, 0, 0, 1.000)\",\n                \"width\": 1\n            },\n            \"size\": 8\n        },\n        \"zmax\": 3.0,\n        \"y\": [\n            14.39\n        ],\n        \"type\": \"scatter\"\n    },\n    {\n        \"xaxis\": \"x1\",\n        \"colorbar\": {\n            \"title\": \"\"\n        },\n        \"yaxis\": \"y1\",\n        \"x\": [\n            1.0\n        ],\n        \"showlegend\": false,\n        \"mode\": \"markers\",\n        \"name\": \"y1\",\n        \"zmin\": 1.0,\n        \"legendgroup\": \"y1\",\n        \"marker\": {\n            \"symbol\": \"circle\",\n            \"color\": \"rgba(255, 76, 76, 1.000)\",\n            \"line\": {\n                \"color\": \"rgba(0, 0, 0, 1.000)\",\n                \"width\": 1\n            },\n            \"size\": 8\n        },\n        \"zmax\": 3.0,\n        \"y\": [\n            14.06\n        ],\n        \"type\": \"scatter\"\n    },\n    {\n        \"xaxis\": \"x1\",\n        \"colorbar\": {\n            \"title\": \"\"\n        },\n        \"yaxis\": \"y1\",\n        \"x\": [\n            1.0\n        ],\n        \"showlegend\": false,\n        \"mode\": \"markers\",\n        \"name\": \"y1\",\n        \"zmin\": 1.0,\n        \"legendgroup\": \"y1\",\n        \"marker\": {\n            \"symbol\": \"circle\",\n            \"color\": \"rgba(255, 76, 76, 1.000)\",\n            \"line\": {\n                \"color\": \"rgba(0, 0, 0, 1.000)\",\n                \"width\": 1\n            },\n            \"size\": 8\n        },\n        \"zmax\": 3.0,\n        \"y\": [\n            14.83\n        ],\n        \"type\": \"scatter\"\n    },\n    {\n        \"xaxis\": \"x1\",\n        \"colorbar\": {\n            \"title\": \"\"\n        },\n        \"yaxis\": \"y1\",\n        \"x\": [\n            1.0\n        ],\n        \"showlegend\": false,\n        \"mode\": \"markers\",\n        \"name\": \"y1\",\n        \"zmin\": 1.0,\n        \"legendgroup\": \"y1\",\n        \"marker\": {\n            \"symbol\": \"circle\",\n            \"color\": \"rgba(255, 76, 76, 1.000)\",\n            \"line\": {\n                \"color\": \"rgba(0, 0, 0, 1.000)\",\n                \"width\": 1\n            },\n            \"size\": 8\n        },\n        \"zmax\": 3.0,\n        \"y\": [\n            13.86\n        ],\n        \"type\": \"scatter\"\n    },\n    {\n        \"xaxis\": \"x1\",\n        \"colorbar\": {\n            \"title\": \"\"\n        },\n        \"yaxis\": \"y1\",\n        \"x\": [\n            1.0\n        ],\n        \"showlegend\": false,\n        \"mode\": \"markers\",\n        \"name\": \"y1\",\n        \"zmin\": 1.0,\n        \"legendgroup\": \"y1\",\n        \"marker\": {\n            \"symbol\": \"circle\",\n            \"color\": \"rgba(255, 76, 76, 1.000)\",\n            \"line\": {\n                \"color\": \"rgba(0, 0, 0, 1.000)\",\n                \"width\": 1\n            },\n            \"size\": 8\n        },\n        \"zmax\": 3.0,\n        \"y\": [\n            14.1\n        ],\n        \"type\": \"scatter\"\n    },\n    {\n        \"xaxis\": \"x1\",\n        \"colorbar\": {\n            \"title\": \"\"\n        },\n        \"yaxis\": \"y1\",\n        \"x\": [\n            1.0\n        ],\n        \"showlegend\": false,\n        \"mode\": \"markers\",\n        \"name\": \"y1\",\n        \"zmin\": 1.0,\n        \"legendgroup\": \"y1\",\n        \"marker\": {\n            \"symbol\": \"circle\",\n            \"color\": \"rgba(255, 76, 76, 1.000)\",\n            \"line\": {\n                \"color\": \"rgba(0, 0, 0, 1.000)\",\n                \"width\": 1\n            },\n            \"size\": 8\n        },\n        \"zmax\": 3.0,\n        \"y\": [\n            14.12\n        ],\n        \"type\": \"scatter\"\n    },\n    {\n        \"xaxis\": \"x1\",\n        \"colorbar\": {\n            \"title\": \"\"\n        },\n        \"yaxis\": \"y1\",\n        \"x\": [\n            1.0\n        ],\n        \"showlegend\": false,\n        \"mode\": \"markers\",\n        \"name\": \"y1\",\n        \"zmin\": 1.0,\n        \"legendgroup\": \"y1\",\n        \"marker\": {\n            \"symbol\": \"circle\",\n            \"color\": \"rgba(255, 76, 76, 1.000)\",\n            \"line\": {\n                \"color\": \"rgba(0, 0, 0, 1.000)\",\n                \"width\": 1\n            },\n            \"size\": 8\n        },\n        \"zmax\": 3.0,\n        \"y\": [\n            13.75\n        ],\n        \"type\": \"scatter\"\n    },\n    {\n        \"xaxis\": \"x1\",\n        \"colorbar\": {\n            \"title\": \"\"\n        },\n        \"yaxis\": \"y1\",\n        \"x\": [\n            1.0\n        ],\n        \"showlegend\": false,\n        \"mode\": \"markers\",\n        \"name\": \"y1\",\n        \"zmin\": 1.0,\n        \"legendgroup\": \"y1\",\n        \"marker\": {\n            \"symbol\": \"circle\",\n            \"color\": \"rgba(255, 76, 76, 1.000)\",\n            \"line\": {\n                \"color\": \"rgba(0, 0, 0, 1.000)\",\n                \"width\": 1\n            },\n            \"size\": 8\n        },\n        \"zmax\": 3.0,\n        \"y\": [\n            14.75\n        ],\n        \"type\": \"scatter\"\n    },\n    {\n        \"xaxis\": \"x1\",\n        \"colorbar\": {\n            \"title\": \"\"\n        },\n        \"yaxis\": \"y1\",\n        \"x\": [\n            1.0\n        ],\n        \"showlegend\": false,\n        \"mode\": \"markers\",\n        \"name\": \"y1\",\n        \"zmin\": 1.0,\n        \"legendgroup\": \"y1\",\n        \"marker\": {\n            \"symbol\": \"circle\",\n            \"color\": \"rgba(255, 76, 76, 1.000)\",\n            \"line\": {\n                \"color\": \"rgba(0, 0, 0, 1.000)\",\n                \"width\": 1\n            },\n            \"size\": 8\n        },\n        \"zmax\": 3.0,\n        \"y\": [\n            14.38\n        ],\n        \"type\": \"scatter\"\n    },\n    {\n        \"xaxis\": \"x1\",\n        \"colorbar\": {\n            \"title\": \"\"\n        },\n        \"yaxis\": \"y1\",\n        \"x\": [\n            1.0\n        ],\n        \"showlegend\": false,\n        \"mode\": \"markers\",\n        \"name\": \"y1\",\n        \"zmin\": 1.0,\n        \"legendgroup\": \"y1\",\n        \"marker\": {\n            \"symbol\": \"circle\",\n            \"color\": \"rgba(255, 76, 76, 1.000)\",\n            \"line\": {\n                \"color\": \"rgba(0, 0, 0, 1.000)\",\n                \"width\": 1\n            },\n            \"size\": 8\n        },\n        \"zmax\": 3.0,\n        \"y\": [\n            13.63\n        ],\n        \"type\": \"scatter\"\n    },\n    {\n        \"xaxis\": \"x1\",\n        \"colorbar\": {\n            \"title\": \"\"\n        },\n        \"yaxis\": \"y1\",\n        \"x\": [\n            1.0\n        ],\n        \"showlegend\": false,\n        \"mode\": \"markers\",\n        \"name\": \"y1\",\n        \"zmin\": 1.0,\n        \"legendgroup\": \"y1\",\n        \"marker\": {\n            \"symbol\": \"circle\",\n            \"color\": \"rgba(255, 76, 76, 1.000)\",\n            \"line\": {\n                \"color\": \"rgba(0, 0, 0, 1.000)\",\n                \"width\": 1\n            },\n            \"size\": 8\n        },\n        \"zmax\": 3.0,\n        \"y\": [\n            14.3\n        ],\n        \"type\": \"scatter\"\n    },\n    {\n        \"xaxis\": \"x1\",\n        \"colorbar\": {\n            \"title\": \"\"\n        },\n        \"yaxis\": \"y1\",\n        \"x\": [\n            1.0\n        ],\n        \"showlegend\": false,\n        \"mode\": \"markers\",\n        \"name\": \"y1\",\n        \"zmin\": 1.0,\n        \"legendgroup\": \"y1\",\n        \"marker\": {\n            \"symbol\": \"circle\",\n            \"color\": \"rgba(255, 76, 76, 1.000)\",\n            \"line\": {\n                \"color\": \"rgba(0, 0, 0, 1.000)\",\n                \"width\": 1\n            },\n            \"size\": 8\n        },\n        \"zmax\": 3.0,\n        \"y\": [\n            13.83\n        ],\n        \"type\": \"scatter\"\n    },\n    {\n        \"xaxis\": \"x1\",\n        \"colorbar\": {\n            \"title\": \"\"\n        },\n        \"yaxis\": \"y1\",\n        \"x\": [\n            1.0\n        ],\n        \"showlegend\": false,\n        \"mode\": \"markers\",\n        \"name\": \"y1\",\n        \"zmin\": 1.0,\n        \"legendgroup\": \"y1\",\n        \"marker\": {\n            \"symbol\": \"circle\",\n            \"color\": \"rgba(76, 204, 76, 1.000)\",\n            \"line\": {\n                \"color\": \"rgba(0, 0, 0, 1.000)\",\n                \"width\": 1\n            },\n            \"size\": 8\n        },\n        \"zmax\": 3.0,\n        \"y\": [\n            14.19\n        ],\n        \"type\": \"scatter\"\n    },\n    {\n        \"xaxis\": \"x1\",\n        \"colorbar\": {\n            \"title\": \"\"\n        },\n        \"yaxis\": \"y1\",\n        \"x\": [\n            1.0\n        ],\n        \"showlegend\": false,\n        \"mode\": \"markers\",\n        \"name\": \"y1\",\n        \"zmin\": 1.0,\n        \"legendgroup\": \"y1\",\n        \"marker\": {\n            \"symbol\": \"circle\",\n            \"color\": \"rgba(255, 76, 76, 1.000)\",\n            \"line\": {\n                \"color\": \"rgba(0, 0, 0, 1.000)\",\n                \"width\": 1\n            },\n            \"size\": 8\n        },\n        \"zmax\": 3.0,\n        \"y\": [\n            13.64\n        ],\n        \"type\": \"scatter\"\n    },\n    {\n        \"xaxis\": \"x1\",\n        \"colorbar\": {\n            \"title\": \"\"\n        },\n        \"yaxis\": \"y1\",\n        \"x\": [\n            1.0\n        ],\n        \"showlegend\": false,\n        \"mode\": \"markers\",\n        \"name\": \"y1\",\n        \"zmin\": 1.0,\n        \"legendgroup\": \"y1\",\n        \"marker\": {\n            \"symbol\": \"circle\",\n            \"color\": \"rgba(255, 76, 76, 1.000)\",\n            \"line\": {\n                \"color\": \"rgba(0, 0, 0, 1.000)\",\n                \"width\": 1\n            },\n            \"size\": 8\n        },\n        \"zmax\": 3.0,\n        \"y\": [\n            14.06\n        ],\n        \"type\": \"scatter\"\n    },\n    {\n        \"xaxis\": \"x1\",\n        \"colorbar\": {\n            \"title\": \"\"\n        },\n        \"yaxis\": \"y1\",\n        \"x\": [\n            1.0\n        ],\n        \"showlegend\": false,\n        \"mode\": \"markers\",\n        \"name\": \"y1\",\n        \"zmin\": 1.0,\n        \"legendgroup\": \"y1\",\n        \"marker\": {\n            \"symbol\": \"circle\",\n            \"color\": \"rgba(255, 76, 76, 1.000)\",\n            \"line\": {\n                \"color\": \"rgba(0, 0, 0, 1.000)\",\n                \"width\": 1\n            },\n            \"size\": 8\n        },\n        \"zmax\": 3.0,\n        \"y\": [\n            12.93\n        ],\n        \"type\": \"scatter\"\n    },\n    {\n        \"xaxis\": \"x1\",\n        \"colorbar\": {\n            \"title\": \"\"\n        },\n        \"yaxis\": \"y1\",\n        \"x\": [\n            1.0\n        ],\n        \"showlegend\": false,\n        \"mode\": \"markers\",\n        \"name\": \"y1\",\n        \"zmin\": 1.0,\n        \"legendgroup\": \"y1\",\n        \"marker\": {\n            \"symbol\": \"circle\",\n            \"color\": \"rgba(255, 76, 76, 1.000)\",\n            \"line\": {\n                \"color\": \"rgba(0, 0, 0, 1.000)\",\n                \"width\": 1\n            },\n            \"size\": 8\n        },\n        \"zmax\": 3.0,\n        \"y\": [\n            13.71\n        ],\n        \"type\": \"scatter\"\n    },\n    {\n        \"xaxis\": \"x1\",\n        \"colorbar\": {\n            \"title\": \"\"\n        },\n        \"yaxis\": \"y1\",\n        \"x\": [\n            1.0\n        ],\n        \"showlegend\": false,\n        \"mode\": \"markers\",\n        \"name\": \"y1\",\n        \"zmin\": 1.0,\n        \"legendgroup\": \"y1\",\n        \"marker\": {\n            \"symbol\": \"circle\",\n            \"color\": \"rgba(204, 76, 204, 1.000)\",\n            \"line\": {\n                \"color\": \"rgba(0, 0, 0, 1.000)\",\n                \"width\": 1\n            },\n            \"size\": 8\n        },\n        \"zmax\": 3.0,\n        \"y\": [\n            12.85\n        ],\n        \"type\": \"scatter\"\n    },\n    {\n        \"xaxis\": \"x1\",\n        \"colorbar\": {\n            \"title\": \"\"\n        },\n        \"yaxis\": \"y1\",\n        \"x\": [\n            1.0\n        ],\n        \"showlegend\": false,\n        \"mode\": \"markers\",\n        \"name\": \"y1\",\n        \"zmin\": 1.0,\n        \"legendgroup\": \"y1\",\n        \"marker\": {\n            \"symbol\": \"circle\",\n            \"color\": \"rgba(204, 76, 204, 1.000)\",\n            \"line\": {\n                \"color\": \"rgba(0, 0, 0, 1.000)\",\n                \"width\": 1\n            },\n            \"size\": 8\n        },\n        \"zmax\": 3.0,\n        \"y\": [\n            13.5\n        ],\n        \"type\": \"scatter\"\n    },\n    {\n        \"xaxis\": \"x1\",\n        \"colorbar\": {\n            \"title\": \"\"\n        },\n        \"yaxis\": \"y1\",\n        \"x\": [\n            1.0\n        ],\n        \"showlegend\": false,\n        \"mode\": \"markers\",\n        \"name\": \"y1\",\n        \"zmin\": 1.0,\n        \"legendgroup\": \"y1\",\n        \"marker\": {\n            \"symbol\": \"circle\",\n            \"color\": \"rgba(204, 76, 204, 1.000)\",\n            \"line\": {\n                \"color\": \"rgba(0, 0, 0, 1.000)\",\n                \"width\": 1\n            },\n            \"size\": 8\n        },\n        \"zmax\": 3.0,\n        \"y\": [\n            13.05\n        ],\n        \"type\": \"scatter\"\n    },\n    {\n        \"xaxis\": \"x1\",\n        \"colorbar\": {\n            \"title\": \"\"\n        },\n        \"yaxis\": \"y1\",\n        \"x\": [\n            1.0\n        ],\n        \"showlegend\": false,\n        \"mode\": \"markers\",\n        \"name\": \"y1\",\n        \"zmin\": 1.0,\n        \"legendgroup\": \"y1\",\n        \"marker\": {\n            \"symbol\": \"circle\",\n            \"color\": \"rgba(255, 76, 76, 1.000)\",\n            \"line\": {\n                \"color\": \"rgba(0, 0, 0, 1.000)\",\n                \"width\": 1\n            },\n            \"size\": 8\n        },\n        \"zmax\": 3.0,\n        \"y\": [\n            13.39\n        ],\n        \"type\": \"scatter\"\n    },\n    {\n        \"xaxis\": \"x1\",\n        \"colorbar\": {\n            \"title\": \"\"\n        },\n        \"yaxis\": \"y1\",\n        \"x\": [\n            1.0\n        ],\n        \"showlegend\": false,\n        \"mode\": \"markers\",\n        \"name\": \"y1\",\n        \"zmin\": 1.0,\n        \"legendgroup\": \"y1\",\n        \"marker\": {\n            \"symbol\": \"circle\",\n            \"color\": \"rgba(255, 76, 76, 1.000)\",\n            \"line\": {\n                \"color\": \"rgba(0, 0, 0, 1.000)\",\n                \"width\": 1\n            },\n            \"size\": 8\n        },\n        \"zmax\": 3.0,\n        \"y\": [\n            13.3\n        ],\n        \"type\": \"scatter\"\n    },\n    {\n        \"xaxis\": \"x1\",\n        \"colorbar\": {\n            \"title\": \"\"\n        },\n        \"yaxis\": \"y1\",\n        \"x\": [\n            1.0\n        ],\n        \"showlegend\": false,\n        \"mode\": \"markers\",\n        \"name\": \"y1\",\n        \"zmin\": 1.0,\n        \"legendgroup\": \"y1\",\n        \"marker\": {\n            \"symbol\": \"circle\",\n            \"color\": \"rgba(255, 76, 76, 1.000)\",\n            \"line\": {\n                \"color\": \"rgba(0, 0, 0, 1.000)\",\n                \"width\": 1\n            },\n            \"size\": 8\n        },\n        \"zmax\": 3.0,\n        \"y\": [\n            13.87\n        ],\n        \"type\": \"scatter\"\n    },\n    {\n        \"xaxis\": \"x1\",\n        \"colorbar\": {\n            \"title\": \"\"\n        },\n        \"yaxis\": \"y1\",\n        \"x\": [\n            1.0\n        ],\n        \"showlegend\": false,\n        \"mode\": \"markers\",\n        \"name\": \"y1\",\n        \"zmin\": 1.0,\n        \"legendgroup\": \"y1\",\n        \"marker\": {\n            \"symbol\": \"circle\",\n            \"color\": \"rgba(255, 76, 76, 1.000)\",\n            \"line\": {\n                \"color\": \"rgba(0, 0, 0, 1.000)\",\n                \"width\": 1\n            },\n            \"size\": 8\n        },\n        \"zmax\": 3.0,\n        \"y\": [\n            14.02\n        ],\n        \"type\": \"scatter\"\n    },\n    {\n        \"xaxis\": \"x1\",\n        \"colorbar\": {\n            \"title\": \"\"\n        },\n        \"yaxis\": \"y1\",\n        \"x\": [\n            1.0\n        ],\n        \"showlegend\": false,\n        \"mode\": \"markers\",\n        \"name\": \"y1\",\n        \"zmin\": 1.0,\n        \"legendgroup\": \"y1\",\n        \"marker\": {\n            \"symbol\": \"circle\",\n            \"color\": \"rgba(255, 76, 76, 1.000)\",\n            \"line\": {\n                \"color\": \"rgba(0, 0, 0, 1.000)\",\n                \"width\": 1\n            },\n            \"size\": 8\n        },\n        \"zmax\": 3.0,\n        \"y\": [\n            13.73\n        ],\n        \"type\": \"scatter\"\n    },\n    {\n        \"xaxis\": \"x1\",\n        \"colorbar\": {\n            \"title\": \"\"\n        },\n        \"yaxis\": \"y1\",\n        \"x\": [\n            1.0\n        ],\n        \"showlegend\": false,\n        \"mode\": \"markers\",\n        \"name\": \"y1\",\n        \"zmin\": 1.0,\n        \"legendgroup\": \"y1\",\n        \"marker\": {\n            \"symbol\": \"circle\",\n            \"color\": \"rgba(255, 76, 76, 1.000)\",\n            \"line\": {\n                \"color\": \"rgba(0, 0, 0, 1.000)\",\n                \"width\": 1\n            },\n            \"size\": 8\n        },\n        \"zmax\": 3.0,\n        \"y\": [\n            13.58\n        ],\n        \"type\": \"scatter\"\n    },\n    {\n        \"xaxis\": \"x1\",\n        \"colorbar\": {\n            \"title\": \"\"\n        },\n        \"yaxis\": \"y1\",\n        \"x\": [\n            1.0\n        ],\n        \"showlegend\": false,\n        \"mode\": \"markers\",\n        \"name\": \"y1\",\n        \"zmin\": 1.0,\n        \"legendgroup\": \"y1\",\n        \"marker\": {\n            \"symbol\": \"circle\",\n            \"color\": \"rgba(255, 76, 76, 1.000)\",\n            \"line\": {\n                \"color\": \"rgba(0, 0, 0, 1.000)\",\n                \"width\": 1\n            },\n            \"size\": 8\n        },\n        \"zmax\": 3.0,\n        \"y\": [\n            13.68\n        ],\n        \"type\": \"scatter\"\n    },\n    {\n        \"xaxis\": \"x1\",\n        \"colorbar\": {\n            \"title\": \"\"\n        },\n        \"yaxis\": \"y1\",\n        \"x\": [\n            1.0\n        ],\n        \"showlegend\": false,\n        \"mode\": \"markers\",\n        \"name\": \"y1\",\n        \"zmin\": 1.0,\n        \"legendgroup\": \"y1\",\n        \"marker\": {\n            \"symbol\": \"circle\",\n            \"color\": \"rgba(255, 76, 76, 1.000)\",\n            \"line\": {\n                \"color\": \"rgba(0, 0, 0, 1.000)\",\n                \"width\": 1\n            },\n            \"size\": 8\n        },\n        \"zmax\": 3.0,\n        \"y\": [\n            13.76\n        ],\n        \"type\": \"scatter\"\n    },\n    {\n        \"xaxis\": \"x1\",\n        \"colorbar\": {\n            \"title\": \"\"\n        },\n        \"yaxis\": \"y1\",\n        \"x\": [\n            1.0\n        ],\n        \"showlegend\": false,\n        \"mode\": \"markers\",\n        \"name\": \"y1\",\n        \"zmin\": 1.0,\n        \"legendgroup\": \"y1\",\n        \"marker\": {\n            \"symbol\": \"circle\",\n            \"color\": \"rgba(255, 76, 76, 1.000)\",\n            \"line\": {\n                \"color\": \"rgba(0, 0, 0, 1.000)\",\n                \"width\": 1\n            },\n            \"size\": 8\n        },\n        \"zmax\": 3.0,\n        \"y\": [\n            13.51\n        ],\n        \"type\": \"scatter\"\n    },\n    {\n        \"xaxis\": \"x1\",\n        \"colorbar\": {\n            \"title\": \"\"\n        },\n        \"yaxis\": \"y1\",\n        \"x\": [\n            1.0\n        ],\n        \"showlegend\": false,\n        \"mode\": \"markers\",\n        \"name\": \"y1\",\n        \"zmin\": 1.0,\n        \"legendgroup\": \"y1\",\n        \"marker\": {\n            \"symbol\": \"circle\",\n            \"color\": \"rgba(255, 76, 76, 1.000)\",\n            \"line\": {\n                \"color\": \"rgba(0, 0, 0, 1.000)\",\n                \"width\": 1\n            },\n            \"size\": 8\n        },\n        \"zmax\": 3.0,\n        \"y\": [\n            13.48\n        ],\n        \"type\": \"scatter\"\n    },\n    {\n        \"xaxis\": \"x1\",\n        \"colorbar\": {\n            \"title\": \"\"\n        },\n        \"yaxis\": \"y1\",\n        \"x\": [\n            1.0\n        ],\n        \"showlegend\": false,\n        \"mode\": \"markers\",\n        \"name\": \"y1\",\n        \"zmin\": 1.0,\n        \"legendgroup\": \"y1\",\n        \"marker\": {\n            \"symbol\": \"circle\",\n            \"color\": \"rgba(255, 76, 76, 1.000)\",\n            \"line\": {\n                \"color\": \"rgba(0, 0, 0, 1.000)\",\n                \"width\": 1\n            },\n            \"size\": 8\n        },\n        \"zmax\": 3.0,\n        \"y\": [\n            13.28\n        ],\n        \"type\": \"scatter\"\n    },\n    {\n        \"xaxis\": \"x1\",\n        \"colorbar\": {\n            \"title\": \"\"\n        },\n        \"yaxis\": \"y1\",\n        \"x\": [\n            1.0\n        ],\n        \"showlegend\": false,\n        \"mode\": \"markers\",\n        \"name\": \"y1\",\n        \"zmin\": 1.0,\n        \"legendgroup\": \"y1\",\n        \"marker\": {\n            \"symbol\": \"circle\",\n            \"color\": \"rgba(255, 76, 76, 1.000)\",\n            \"line\": {\n                \"color\": \"rgba(0, 0, 0, 1.000)\",\n                \"width\": 1\n            },\n            \"size\": 8\n        },\n        \"zmax\": 3.0,\n        \"y\": [\n            13.05\n        ],\n        \"type\": \"scatter\"\n    },\n    {\n        \"xaxis\": \"x1\",\n        \"colorbar\": {\n            \"title\": \"\"\n        },\n        \"yaxis\": \"y1\",\n        \"x\": [\n            1.0\n        ],\n        \"showlegend\": false,\n        \"mode\": \"markers\",\n        \"name\": \"y1\",\n        \"zmin\": 1.0,\n        \"legendgroup\": \"y1\",\n        \"marker\": {\n            \"symbol\": \"circle\",\n            \"color\": \"rgba(204, 76, 204, 1.000)\",\n            \"line\": {\n                \"color\": \"rgba(0, 0, 0, 1.000)\",\n                \"width\": 1\n            },\n            \"size\": 8\n        },\n        \"zmax\": 3.0,\n        \"y\": [\n            13.07\n        ],\n        \"type\": \"scatter\"\n    },\n    {\n        \"xaxis\": \"x1\",\n        \"colorbar\": {\n            \"title\": \"\"\n        },\n        \"yaxis\": \"y1\",\n        \"x\": [\n            1.0\n        ],\n        \"showlegend\": false,\n        \"mode\": \"markers\",\n        \"name\": \"y1\",\n        \"zmin\": 1.0,\n        \"legendgroup\": \"y1\",\n        \"marker\": {\n            \"symbol\": \"circle\",\n            \"color\": \"rgba(255, 76, 76, 1.000)\",\n            \"line\": {\n                \"color\": \"rgba(0, 0, 0, 1.000)\",\n                \"width\": 1\n            },\n            \"size\": 8\n        },\n        \"zmax\": 3.0,\n        \"y\": [\n            14.22\n        ],\n        \"type\": \"scatter\"\n    },\n    {\n        \"xaxis\": \"x1\",\n        \"colorbar\": {\n            \"title\": \"\"\n        },\n        \"yaxis\": \"y1\",\n        \"x\": [\n            1.0\n        ],\n        \"showlegend\": false,\n        \"mode\": \"markers\",\n        \"name\": \"y1\",\n        \"zmin\": 1.0,\n        \"legendgroup\": \"y1\",\n        \"marker\": {\n            \"symbol\": \"circle\",\n            \"color\": \"rgba(255, 76, 76, 1.000)\",\n            \"line\": {\n                \"color\": \"rgba(0, 0, 0, 1.000)\",\n                \"width\": 1\n            },\n            \"size\": 8\n        },\n        \"zmax\": 3.0,\n        \"y\": [\n            13.56\n        ],\n        \"type\": \"scatter\"\n    },\n    {\n        \"xaxis\": \"x1\",\n        \"colorbar\": {\n            \"title\": \"\"\n        },\n        \"yaxis\": \"y1\",\n        \"x\": [\n            1.0\n        ],\n        \"showlegend\": false,\n        \"mode\": \"markers\",\n        \"name\": \"y1\",\n        \"zmin\": 1.0,\n        \"legendgroup\": \"y1\",\n        \"marker\": {\n            \"symbol\": \"circle\",\n            \"color\": \"rgba(255, 76, 76, 1.000)\",\n            \"line\": {\n                \"color\": \"rgba(0, 0, 0, 1.000)\",\n                \"width\": 1\n            },\n            \"size\": 8\n        },\n        \"zmax\": 3.0,\n        \"y\": [\n            13.41\n        ],\n        \"type\": \"scatter\"\n    },\n    {\n        \"xaxis\": \"x1\",\n        \"colorbar\": {\n            \"title\": \"\"\n        },\n        \"yaxis\": \"y1\",\n        \"x\": [\n            1.0\n        ],\n        \"showlegend\": false,\n        \"mode\": \"markers\",\n        \"name\": \"y1\",\n        \"zmin\": 1.0,\n        \"legendgroup\": \"y1\",\n        \"marker\": {\n            \"symbol\": \"circle\",\n            \"color\": \"rgba(255, 76, 76, 1.000)\",\n            \"line\": {\n                \"color\": \"rgba(0, 0, 0, 1.000)\",\n                \"width\": 1\n            },\n            \"size\": 8\n        },\n        \"zmax\": 3.0,\n        \"y\": [\n            13.88\n        ],\n        \"type\": \"scatter\"\n    },\n    {\n        \"xaxis\": \"x1\",\n        \"colorbar\": {\n            \"title\": \"\"\n        },\n        \"yaxis\": \"y1\",\n        \"x\": [\n            1.0\n        ],\n        \"showlegend\": false,\n        \"mode\": \"markers\",\n        \"name\": \"y1\",\n        \"zmin\": 1.0,\n        \"legendgroup\": \"y1\",\n        \"marker\": {\n            \"symbol\": \"circle\",\n            \"color\": \"rgba(255, 76, 76, 1.000)\",\n            \"line\": {\n                \"color\": \"rgba(0, 0, 0, 1.000)\",\n                \"width\": 1\n            },\n            \"size\": 8\n        },\n        \"zmax\": 3.0,\n        \"y\": [\n            13.24\n        ],\n        \"type\": \"scatter\"\n    },\n    {\n        \"xaxis\": \"x1\",\n        \"colorbar\": {\n            \"title\": \"\"\n        },\n        \"yaxis\": \"y1\",\n        \"x\": [\n            1.0\n        ],\n        \"showlegend\": false,\n        \"mode\": \"markers\",\n        \"name\": \"y1\",\n        \"zmin\": 1.0,\n        \"legendgroup\": \"y1\",\n        \"marker\": {\n            \"symbol\": \"circle\",\n            \"color\": \"rgba(255, 76, 76, 1.000)\",\n            \"line\": {\n                \"color\": \"rgba(0, 0, 0, 1.000)\",\n                \"width\": 1\n            },\n            \"size\": 8\n        },\n        \"zmax\": 3.0,\n        \"y\": [\n            13.05\n        ],\n        \"type\": \"scatter\"\n    },\n    {\n        \"xaxis\": \"x1\",\n        \"colorbar\": {\n            \"title\": \"\"\n        },\n        \"yaxis\": \"y1\",\n        \"x\": [\n            1.0\n        ],\n        \"showlegend\": false,\n        \"mode\": \"markers\",\n        \"name\": \"y1\",\n        \"zmin\": 1.0,\n        \"legendgroup\": \"y1\",\n        \"marker\": {\n            \"symbol\": \"circle\",\n            \"color\": \"rgba(255, 76, 76, 1.000)\",\n            \"line\": {\n                \"color\": \"rgba(0, 0, 0, 1.000)\",\n                \"width\": 1\n            },\n            \"size\": 8\n        },\n        \"zmax\": 3.0,\n        \"y\": [\n            14.21\n        ],\n        \"type\": \"scatter\"\n    },\n    {\n        \"xaxis\": \"x1\",\n        \"colorbar\": {\n            \"title\": \"\"\n        },\n        \"yaxis\": \"y1\",\n        \"x\": [\n            1.0\n        ],\n        \"showlegend\": false,\n        \"mode\": \"markers\",\n        \"name\": \"y1\",\n        \"zmin\": 1.0,\n        \"legendgroup\": \"y1\",\n        \"marker\": {\n            \"symbol\": \"circle\",\n            \"color\": \"rgba(255, 76, 76, 1.000)\",\n            \"line\": {\n                \"color\": \"rgba(0, 0, 0, 1.000)\",\n                \"width\": 1\n            },\n            \"size\": 8\n        },\n        \"zmax\": 3.0,\n        \"y\": [\n            14.38\n        ],\n        \"type\": \"scatter\"\n    },\n    {\n        \"xaxis\": \"x1\",\n        \"colorbar\": {\n            \"title\": \"\"\n        },\n        \"yaxis\": \"y1\",\n        \"x\": [\n            1.0\n        ],\n        \"showlegend\": false,\n        \"mode\": \"markers\",\n        \"name\": \"y1\",\n        \"zmin\": 1.0,\n        \"legendgroup\": \"y1\",\n        \"marker\": {\n            \"symbol\": \"circle\",\n            \"color\": \"rgba(255, 76, 76, 1.000)\",\n            \"line\": {\n                \"color\": \"rgba(0, 0, 0, 1.000)\",\n                \"width\": 1\n            },\n            \"size\": 8\n        },\n        \"zmax\": 3.0,\n        \"y\": [\n            13.9\n        ],\n        \"type\": \"scatter\"\n    },\n    {\n        \"xaxis\": \"x1\",\n        \"colorbar\": {\n            \"title\": \"\"\n        },\n        \"yaxis\": \"y1\",\n        \"x\": [\n            1.0\n        ],\n        \"showlegend\": false,\n        \"mode\": \"markers\",\n        \"name\": \"y1\",\n        \"zmin\": 1.0,\n        \"legendgroup\": \"y1\",\n        \"marker\": {\n            \"symbol\": \"circle\",\n            \"color\": \"rgba(255, 76, 76, 1.000)\",\n            \"line\": {\n                \"color\": \"rgba(0, 0, 0, 1.000)\",\n                \"width\": 1\n            },\n            \"size\": 8\n        },\n        \"zmax\": 3.0,\n        \"y\": [\n            14.1\n        ],\n        \"type\": \"scatter\"\n    },\n    {\n        \"xaxis\": \"x1\",\n        \"colorbar\": {\n            \"title\": \"\"\n        },\n        \"yaxis\": \"y1\",\n        \"x\": [\n            1.0\n        ],\n        \"showlegend\": false,\n        \"mode\": \"markers\",\n        \"name\": \"y1\",\n        \"zmin\": 1.0,\n        \"legendgroup\": \"y1\",\n        \"marker\": {\n            \"symbol\": \"circle\",\n            \"color\": \"rgba(76, 204, 76, 1.000)\",\n            \"line\": {\n                \"color\": \"rgba(0, 0, 0, 1.000)\",\n                \"width\": 1\n            },\n            \"size\": 8\n        },\n        \"zmax\": 3.0,\n        \"y\": [\n            13.94\n        ],\n        \"type\": \"scatter\"\n    },\n    {\n        \"xaxis\": \"x1\",\n        \"colorbar\": {\n            \"title\": \"\"\n        },\n        \"yaxis\": \"y1\",\n        \"x\": [\n            1.0\n        ],\n        \"showlegend\": false,\n        \"mode\": \"markers\",\n        \"name\": \"y1\",\n        \"zmin\": 1.0,\n        \"legendgroup\": \"y1\",\n        \"marker\": {\n            \"symbol\": \"circle\",\n            \"color\": \"rgba(255, 76, 76, 1.000)\",\n            \"line\": {\n                \"color\": \"rgba(0, 0, 0, 1.000)\",\n                \"width\": 1\n            },\n            \"size\": 8\n        },\n        \"zmax\": 3.0,\n        \"y\": [\n            13.05\n        ],\n        \"type\": \"scatter\"\n    },\n    {\n        \"xaxis\": \"x1\",\n        \"colorbar\": {\n            \"title\": \"\"\n        },\n        \"yaxis\": \"y1\",\n        \"x\": [\n            1.0\n        ],\n        \"showlegend\": false,\n        \"mode\": \"markers\",\n        \"name\": \"y1\",\n        \"zmin\": 1.0,\n        \"legendgroup\": \"y1\",\n        \"marker\": {\n            \"symbol\": \"circle\",\n            \"color\": \"rgba(255, 76, 76, 1.000)\",\n            \"line\": {\n                \"color\": \"rgba(0, 0, 0, 1.000)\",\n                \"width\": 1\n            },\n            \"size\": 8\n        },\n        \"zmax\": 3.0,\n        \"y\": [\n            13.83\n        ],\n        \"type\": \"scatter\"\n    },\n    {\n        \"xaxis\": \"x1\",\n        \"colorbar\": {\n            \"title\": \"\"\n        },\n        \"yaxis\": \"y1\",\n        \"x\": [\n            1.0\n        ],\n        \"showlegend\": false,\n        \"mode\": \"markers\",\n        \"name\": \"y1\",\n        \"zmin\": 1.0,\n        \"legendgroup\": \"y1\",\n        \"marker\": {\n            \"symbol\": \"circle\",\n            \"color\": \"rgba(255, 76, 76, 1.000)\",\n            \"line\": {\n                \"color\": \"rgba(0, 0, 0, 1.000)\",\n                \"width\": 1\n            },\n            \"size\": 8\n        },\n        \"zmax\": 3.0,\n        \"y\": [\n            13.82\n        ],\n        \"type\": \"scatter\"\n    },\n    {\n        \"xaxis\": \"x1\",\n        \"colorbar\": {\n            \"title\": \"\"\n        },\n        \"yaxis\": \"y1\",\n        \"x\": [\n            1.0\n        ],\n        \"showlegend\": false,\n        \"mode\": \"markers\",\n        \"name\": \"y1\",\n        \"zmin\": 1.0,\n        \"legendgroup\": \"y1\",\n        \"marker\": {\n            \"symbol\": \"circle\",\n            \"color\": \"rgba(255, 76, 76, 1.000)\",\n            \"line\": {\n                \"color\": \"rgba(0, 0, 0, 1.000)\",\n                \"width\": 1\n            },\n            \"size\": 8\n        },\n        \"zmax\": 3.0,\n        \"y\": [\n            13.77\n        ],\n        \"type\": \"scatter\"\n    },\n    {\n        \"xaxis\": \"x1\",\n        \"colorbar\": {\n            \"title\": \"\"\n        },\n        \"yaxis\": \"y1\",\n        \"x\": [\n            1.0\n        ],\n        \"showlegend\": false,\n        \"mode\": \"markers\",\n        \"name\": \"y1\",\n        \"zmin\": 1.0,\n        \"legendgroup\": \"y1\",\n        \"marker\": {\n            \"symbol\": \"circle\",\n            \"color\": \"rgba(255, 76, 76, 1.000)\",\n            \"line\": {\n                \"color\": \"rgba(0, 0, 0, 1.000)\",\n                \"width\": 1\n            },\n            \"size\": 8\n        },\n        \"zmax\": 3.0,\n        \"y\": [\n            13.74\n        ],\n        \"type\": \"scatter\"\n    },\n    {\n        \"xaxis\": \"x1\",\n        \"colorbar\": {\n            \"title\": \"\"\n        },\n        \"yaxis\": \"y1\",\n        \"x\": [\n            1.0\n        ],\n        \"showlegend\": false,\n        \"mode\": \"markers\",\n        \"name\": \"y1\",\n        \"zmin\": 1.0,\n        \"legendgroup\": \"y1\",\n        \"marker\": {\n            \"symbol\": \"circle\",\n            \"color\": \"rgba(255, 76, 76, 1.000)\",\n            \"line\": {\n                \"color\": \"rgba(0, 0, 0, 1.000)\",\n                \"width\": 1\n            },\n            \"size\": 8\n        },\n        \"zmax\": 3.0,\n        \"y\": [\n            13.56\n        ],\n        \"type\": \"scatter\"\n    },\n    {\n        \"xaxis\": \"x1\",\n        \"colorbar\": {\n            \"title\": \"\"\n        },\n        \"yaxis\": \"y1\",\n        \"x\": [\n            1.0\n        ],\n        \"showlegend\": false,\n        \"mode\": \"markers\",\n        \"name\": \"y1\",\n        \"zmin\": 1.0,\n        \"legendgroup\": \"y1\",\n        \"marker\": {\n            \"symbol\": \"circle\",\n            \"color\": \"rgba(255, 76, 76, 1.000)\",\n            \"line\": {\n                \"color\": \"rgba(0, 0, 0, 1.000)\",\n                \"width\": 1\n            },\n            \"size\": 8\n        },\n        \"zmax\": 3.0,\n        \"y\": [\n            14.22\n        ],\n        \"type\": \"scatter\"\n    },\n    {\n        \"xaxis\": \"x1\",\n        \"colorbar\": {\n            \"title\": \"\"\n        },\n        \"yaxis\": \"y1\",\n        \"x\": [\n            1.0\n        ],\n        \"showlegend\": false,\n        \"mode\": \"markers\",\n        \"name\": \"y1\",\n        \"zmin\": 1.0,\n        \"legendgroup\": \"y1\",\n        \"marker\": {\n            \"symbol\": \"circle\",\n            \"color\": \"rgba(255, 76, 76, 1.000)\",\n            \"line\": {\n                \"color\": \"rgba(0, 0, 0, 1.000)\",\n                \"width\": 1\n            },\n            \"size\": 8\n        },\n        \"zmax\": 3.0,\n        \"y\": [\n            13.29\n        ],\n        \"type\": \"scatter\"\n    },\n    {\n        \"xaxis\": \"x1\",\n        \"colorbar\": {\n            \"title\": \"\"\n        },\n        \"yaxis\": \"y1\",\n        \"x\": [\n            1.0\n        ],\n        \"showlegend\": false,\n        \"mode\": \"markers\",\n        \"name\": \"y1\",\n        \"zmin\": 1.0,\n        \"legendgroup\": \"y1\",\n        \"marker\": {\n            \"symbol\": \"circle\",\n            \"color\": \"rgba(255, 76, 76, 1.000)\",\n            \"line\": {\n                \"color\": \"rgba(0, 0, 0, 1.000)\",\n                \"width\": 1\n            },\n            \"size\": 8\n        },\n        \"zmax\": 3.0,\n        \"y\": [\n            13.72\n        ],\n        \"type\": \"scatter\"\n    },\n    {\n        \"xaxis\": \"x1\",\n        \"colorbar\": {\n            \"title\": \"\"\n        },\n        \"yaxis\": \"y1\",\n        \"x\": [\n            2.0\n        ],\n        \"showlegend\": false,\n        \"mode\": \"markers\",\n        \"name\": \"y1\",\n        \"zmin\": 1.0,\n        \"legendgroup\": \"y1\",\n        \"marker\": {\n            \"symbol\": \"circle\",\n            \"color\": \"rgba(204, 76, 204, 1.000)\",\n            \"line\": {\n                \"color\": \"rgba(0, 0, 0, 1.000)\",\n                \"width\": 1\n            },\n            \"size\": 8\n        },\n        \"zmax\": 3.0,\n        \"y\": [\n            12.37\n        ],\n        \"type\": \"scatter\"\n    },\n    {\n        \"xaxis\": \"x1\",\n        \"colorbar\": {\n            \"title\": \"\"\n        },\n        \"yaxis\": \"y1\",\n        \"x\": [\n            2.0\n        ],\n        \"showlegend\": false,\n        \"mode\": \"markers\",\n        \"name\": \"y1\",\n        \"zmin\": 1.0,\n        \"legendgroup\": \"y1\",\n        \"marker\": {\n            \"symbol\": \"circle\",\n            \"color\": \"rgba(204, 76, 204, 1.000)\",\n            \"line\": {\n                \"color\": \"rgba(0, 0, 0, 1.000)\",\n                \"width\": 1\n            },\n            \"size\": 8\n        },\n        \"zmax\": 3.0,\n        \"y\": [\n            12.33\n        ],\n        \"type\": \"scatter\"\n    },\n    {\n        \"xaxis\": \"x1\",\n        \"colorbar\": {\n            \"title\": \"\"\n        },\n        \"yaxis\": \"y1\",\n        \"x\": [\n            2.0\n        ],\n        \"showlegend\": false,\n        \"mode\": \"markers\",\n        \"name\": \"y1\",\n        \"zmin\": 1.0,\n        \"legendgroup\": \"y1\",\n        \"marker\": {\n            \"symbol\": \"circle\",\n            \"color\": \"rgba(255, 76, 76, 1.000)\",\n            \"line\": {\n                \"color\": \"rgba(0, 0, 0, 1.000)\",\n                \"width\": 1\n            },\n            \"size\": 8\n        },\n        \"zmax\": 3.0,\n        \"y\": [\n            12.64\n        ],\n        \"type\": \"scatter\"\n    },\n    {\n        \"xaxis\": \"x1\",\n        \"colorbar\": {\n            \"title\": \"\"\n        },\n        \"yaxis\": \"y1\",\n        \"x\": [\n            2.0\n        ],\n        \"showlegend\": false,\n        \"mode\": \"markers\",\n        \"name\": \"y1\",\n        \"zmin\": 1.0,\n        \"legendgroup\": \"y1\",\n        \"marker\": {\n            \"symbol\": \"circle\",\n            \"color\": \"rgba(204, 76, 204, 1.000)\",\n            \"line\": {\n                \"color\": \"rgba(0, 0, 0, 1.000)\",\n                \"width\": 1\n            },\n            \"size\": 8\n        },\n        \"zmax\": 3.0,\n        \"y\": [\n            13.67\n        ],\n        \"type\": \"scatter\"\n    },\n    {\n        \"xaxis\": \"x1\",\n        \"colorbar\": {\n            \"title\": \"\"\n        },\n        \"yaxis\": \"y1\",\n        \"x\": [\n            2.0\n        ],\n        \"showlegend\": false,\n        \"mode\": \"markers\",\n        \"name\": \"y1\",\n        \"zmin\": 1.0,\n        \"legendgroup\": \"y1\",\n        \"marker\": {\n            \"symbol\": \"circle\",\n            \"color\": \"rgba(255, 76, 76, 1.000)\",\n            \"line\": {\n                \"color\": \"rgba(0, 0, 0, 1.000)\",\n                \"width\": 1\n            },\n            \"size\": 8\n        },\n        \"zmax\": 3.0,\n        \"y\": [\n            12.37\n        ],\n        \"type\": \"scatter\"\n    },\n    {\n        \"xaxis\": \"x1\",\n        \"colorbar\": {\n            \"title\": \"\"\n        },\n        \"yaxis\": \"y1\",\n        \"x\": [\n            2.0\n        ],\n        \"showlegend\": false,\n        \"mode\": \"markers\",\n        \"name\": \"y1\",\n        \"zmin\": 1.0,\n        \"legendgroup\": \"y1\",\n        \"marker\": {\n            \"symbol\": \"circle\",\n            \"color\": \"rgba(204, 76, 204, 1.000)\",\n            \"line\": {\n                \"color\": \"rgba(0, 0, 0, 1.000)\",\n                \"width\": 1\n            },\n            \"size\": 8\n        },\n        \"zmax\": 3.0,\n        \"y\": [\n            12.17\n        ],\n        \"type\": \"scatter\"\n    },\n    {\n        \"xaxis\": \"x1\",\n        \"colorbar\": {\n            \"title\": \"\"\n        },\n        \"yaxis\": \"y1\",\n        \"x\": [\n            2.0\n        ],\n        \"showlegend\": false,\n        \"mode\": \"markers\",\n        \"name\": \"y1\",\n        \"zmin\": 1.0,\n        \"legendgroup\": \"y1\",\n        \"marker\": {\n            \"symbol\": \"circle\",\n            \"color\": \"rgba(255, 76, 76, 1.000)\",\n            \"line\": {\n                \"color\": \"rgba(0, 0, 0, 1.000)\",\n                \"width\": 1\n            },\n            \"size\": 8\n        },\n        \"zmax\": 3.0,\n        \"y\": [\n            12.37\n        ],\n        \"type\": \"scatter\"\n    },\n    {\n        \"xaxis\": \"x1\",\n        \"colorbar\": {\n            \"title\": \"\"\n        },\n        \"yaxis\": \"y1\",\n        \"x\": [\n            2.0\n        ],\n        \"showlegend\": false,\n        \"mode\": \"markers\",\n        \"name\": \"y1\",\n        \"zmin\": 1.0,\n        \"legendgroup\": \"y1\",\n        \"marker\": {\n            \"symbol\": \"circle\",\n            \"color\": \"rgba(255, 76, 76, 1.000)\",\n            \"line\": {\n                \"color\": \"rgba(0, 0, 0, 1.000)\",\n                \"width\": 1\n            },\n            \"size\": 8\n        },\n        \"zmax\": 3.0,\n        \"y\": [\n            13.11\n        ],\n        \"type\": \"scatter\"\n    },\n    {\n        \"xaxis\": \"x1\",\n        \"colorbar\": {\n            \"title\": \"\"\n        },\n        \"yaxis\": \"y1\",\n        \"x\": [\n            2.0\n        ],\n        \"showlegend\": false,\n        \"mode\": \"markers\",\n        \"name\": \"y1\",\n        \"zmin\": 1.0,\n        \"legendgroup\": \"y1\",\n        \"marker\": {\n            \"symbol\": \"circle\",\n            \"color\": \"rgba(255, 76, 76, 1.000)\",\n            \"line\": {\n                \"color\": \"rgba(0, 0, 0, 1.000)\",\n                \"width\": 1\n            },\n            \"size\": 8\n        },\n        \"zmax\": 3.0,\n        \"y\": [\n            12.37\n        ],\n        \"type\": \"scatter\"\n    },\n    {\n        \"xaxis\": \"x1\",\n        \"colorbar\": {\n            \"title\": \"\"\n        },\n        \"yaxis\": \"y1\",\n        \"x\": [\n            2.0\n        ],\n        \"showlegend\": false,\n        \"mode\": \"markers\",\n        \"name\": \"y1\",\n        \"zmin\": 1.0,\n        \"legendgroup\": \"y1\",\n        \"marker\": {\n            \"symbol\": \"circle\",\n            \"color\": \"rgba(204, 76, 204, 1.000)\",\n            \"line\": {\n                \"color\": \"rgba(0, 0, 0, 1.000)\",\n                \"width\": 1\n            },\n            \"size\": 8\n        },\n        \"zmax\": 3.0,\n        \"y\": [\n            13.34\n        ],\n        \"type\": \"scatter\"\n    },\n    {\n        \"xaxis\": \"x1\",\n        \"colorbar\": {\n            \"title\": \"\"\n        },\n        \"yaxis\": \"y1\",\n        \"x\": [\n            2.0\n        ],\n        \"showlegend\": false,\n        \"mode\": \"markers\",\n        \"name\": \"y1\",\n        \"zmin\": 1.0,\n        \"legendgroup\": \"y1\",\n        \"marker\": {\n            \"symbol\": \"circle\",\n            \"color\": \"rgba(204, 76, 204, 1.000)\",\n            \"line\": {\n                \"color\": \"rgba(0, 0, 0, 1.000)\",\n                \"width\": 1\n            },\n            \"size\": 8\n        },\n        \"zmax\": 3.0,\n        \"y\": [\n            12.21\n        ],\n        \"type\": \"scatter\"\n    },\n    {\n        \"xaxis\": \"x1\",\n        \"colorbar\": {\n            \"title\": \"\"\n        },\n        \"yaxis\": \"y1\",\n        \"x\": [\n            2.0\n        ],\n        \"showlegend\": false,\n        \"mode\": \"markers\",\n        \"name\": \"y1\",\n        \"zmin\": 1.0,\n        \"legendgroup\": \"y1\",\n        \"marker\": {\n            \"symbol\": \"circle\",\n            \"color\": \"rgba(204, 76, 204, 1.000)\",\n            \"line\": {\n                \"color\": \"rgba(0, 0, 0, 1.000)\",\n                \"width\": 1\n            },\n            \"size\": 8\n        },\n        \"zmax\": 3.0,\n        \"y\": [\n            12.29\n        ],\n        \"type\": \"scatter\"\n    },\n    {\n        \"xaxis\": \"x1\",\n        \"colorbar\": {\n            \"title\": \"\"\n        },\n        \"yaxis\": \"y1\",\n        \"x\": [\n            2.0\n        ],\n        \"showlegend\": false,\n        \"mode\": \"markers\",\n        \"name\": \"y1\",\n        \"zmin\": 1.0,\n        \"legendgroup\": \"y1\",\n        \"marker\": {\n            \"symbol\": \"circle\",\n            \"color\": \"rgba(204, 76, 204, 1.000)\",\n            \"line\": {\n                \"color\": \"rgba(0, 0, 0, 1.000)\",\n                \"width\": 1\n            },\n            \"size\": 8\n        },\n        \"zmax\": 3.0,\n        \"y\": [\n            13.86\n        ],\n        \"type\": \"scatter\"\n    },\n    {\n        \"xaxis\": \"x1\",\n        \"colorbar\": {\n            \"title\": \"\"\n        },\n        \"yaxis\": \"y1\",\n        \"x\": [\n            2.0\n        ],\n        \"showlegend\": false,\n        \"mode\": \"markers\",\n        \"name\": \"y1\",\n        \"zmin\": 1.0,\n        \"legendgroup\": \"y1\",\n        \"marker\": {\n            \"symbol\": \"circle\",\n            \"color\": \"rgba(204, 76, 204, 1.000)\",\n            \"line\": {\n                \"color\": \"rgba(0, 0, 0, 1.000)\",\n                \"width\": 1\n            },\n            \"size\": 8\n        },\n        \"zmax\": 3.0,\n        \"y\": [\n            13.49\n        ],\n        \"type\": \"scatter\"\n    },\n    {\n        \"xaxis\": \"x1\",\n        \"colorbar\": {\n            \"title\": \"\"\n        },\n        \"yaxis\": \"y1\",\n        \"x\": [\n            2.0\n        ],\n        \"showlegend\": false,\n        \"mode\": \"markers\",\n        \"name\": \"y1\",\n        \"zmin\": 1.0,\n        \"legendgroup\": \"y1\",\n        \"marker\": {\n            \"symbol\": \"circle\",\n            \"color\": \"rgba(204, 76, 204, 1.000)\",\n            \"line\": {\n                \"color\": \"rgba(0, 0, 0, 1.000)\",\n                \"width\": 1\n            },\n            \"size\": 8\n        },\n        \"zmax\": 3.0,\n        \"y\": [\n            12.99\n        ],\n        \"type\": \"scatter\"\n    },\n    {\n        \"xaxis\": \"x1\",\n        \"colorbar\": {\n            \"title\": \"\"\n        },\n        \"yaxis\": \"y1\",\n        \"x\": [\n            2.0\n        ],\n        \"showlegend\": false,\n        \"mode\": \"markers\",\n        \"name\": \"y1\",\n        \"zmin\": 1.0,\n        \"legendgroup\": \"y1\",\n        \"marker\": {\n            \"symbol\": \"circle\",\n            \"color\": \"rgba(204, 76, 204, 1.000)\",\n            \"line\": {\n                \"color\": \"rgba(0, 0, 0, 1.000)\",\n                \"width\": 1\n            },\n            \"size\": 8\n        },\n        \"zmax\": 3.0,\n        \"y\": [\n            11.96\n        ],\n        \"type\": \"scatter\"\n    },\n    {\n        \"xaxis\": \"x1\",\n        \"colorbar\": {\n            \"title\": \"\"\n        },\n        \"yaxis\": \"y1\",\n        \"x\": [\n            2.0\n        ],\n        \"showlegend\": false,\n        \"mode\": \"markers\",\n        \"name\": \"y1\",\n        \"zmin\": 1.0,\n        \"legendgroup\": \"y1\",\n        \"marker\": {\n            \"symbol\": \"circle\",\n            \"color\": \"rgba(204, 76, 204, 1.000)\",\n            \"line\": {\n                \"color\": \"rgba(0, 0, 0, 1.000)\",\n                \"width\": 1\n            },\n            \"size\": 8\n        },\n        \"zmax\": 3.0,\n        \"y\": [\n            11.66\n        ],\n        \"type\": \"scatter\"\n    },\n    {\n        \"xaxis\": \"x1\",\n        \"colorbar\": {\n            \"title\": \"\"\n        },\n        \"yaxis\": \"y1\",\n        \"x\": [\n            2.0\n        ],\n        \"showlegend\": false,\n        \"mode\": \"markers\",\n        \"name\": \"y1\",\n        \"zmin\": 1.0,\n        \"legendgroup\": \"y1\",\n        \"marker\": {\n            \"symbol\": \"circle\",\n            \"color\": \"rgba(255, 76, 76, 1.000)\",\n            \"line\": {\n                \"color\": \"rgba(0, 0, 0, 1.000)\",\n                \"width\": 1\n            },\n            \"size\": 8\n        },\n        \"zmax\": 3.0,\n        \"y\": [\n            13.03\n        ],\n        \"type\": \"scatter\"\n    },\n    {\n        \"xaxis\": \"x1\",\n        \"colorbar\": {\n            \"title\": \"\"\n        },\n        \"yaxis\": \"y1\",\n        \"x\": [\n            2.0\n        ],\n        \"showlegend\": false,\n        \"mode\": \"markers\",\n        \"name\": \"y1\",\n        \"zmin\": 1.0,\n        \"legendgroup\": \"y1\",\n        \"marker\": {\n            \"symbol\": \"circle\",\n            \"color\": \"rgba(204, 76, 204, 1.000)\",\n            \"line\": {\n                \"color\": \"rgba(0, 0, 0, 1.000)\",\n                \"width\": 1\n            },\n            \"size\": 8\n        },\n        \"zmax\": 3.0,\n        \"y\": [\n            11.84\n        ],\n        \"type\": \"scatter\"\n    },\n    {\n        \"xaxis\": \"x1\",\n        \"colorbar\": {\n            \"title\": \"\"\n        },\n        \"yaxis\": \"y1\",\n        \"x\": [\n            2.0\n        ],\n        \"showlegend\": false,\n        \"mode\": \"markers\",\n        \"name\": \"y1\",\n        \"zmin\": 1.0,\n        \"legendgroup\": \"y1\",\n        \"marker\": {\n            \"symbol\": \"circle\",\n            \"color\": \"rgba(204, 76, 204, 1.000)\",\n            \"line\": {\n                \"color\": \"rgba(0, 0, 0, 1.000)\",\n                \"width\": 1\n            },\n            \"size\": 8\n        },\n        \"zmax\": 3.0,\n        \"y\": [\n            12.33\n        ],\n        \"type\": \"scatter\"\n    },\n    {\n        \"xaxis\": \"x1\",\n        \"colorbar\": {\n            \"title\": \"\"\n        },\n        \"yaxis\": \"y1\",\n        \"x\": [\n            2.0\n        ],\n        \"showlegend\": false,\n        \"mode\": \"markers\",\n        \"name\": \"y1\",\n        \"zmin\": 1.0,\n        \"legendgroup\": \"y1\",\n        \"marker\": {\n            \"symbol\": \"circle\",\n            \"color\": \"rgba(204, 76, 204, 1.000)\",\n            \"line\": {\n                \"color\": \"rgba(0, 0, 0, 1.000)\",\n                \"width\": 1\n            },\n            \"size\": 8\n        },\n        \"zmax\": 3.0,\n        \"y\": [\n            12.7\n        ],\n        \"type\": \"scatter\"\n    },\n    {\n        \"xaxis\": \"x1\",\n        \"colorbar\": {\n            \"title\": \"\"\n        },\n        \"yaxis\": \"y1\",\n        \"x\": [\n            2.0\n        ],\n        \"showlegend\": false,\n        \"mode\": \"markers\",\n        \"name\": \"y1\",\n        \"zmin\": 1.0,\n        \"legendgroup\": \"y1\",\n        \"marker\": {\n            \"symbol\": \"circle\",\n            \"color\": \"rgba(204, 76, 204, 1.000)\",\n            \"line\": {\n                \"color\": \"rgba(0, 0, 0, 1.000)\",\n                \"width\": 1\n            },\n            \"size\": 8\n        },\n        \"zmax\": 3.0,\n        \"y\": [\n            12.0\n        ],\n        \"type\": \"scatter\"\n    },\n    {\n        \"xaxis\": \"x1\",\n        \"colorbar\": {\n            \"title\": \"\"\n        },\n        \"yaxis\": \"y1\",\n        \"x\": [\n            2.0\n        ],\n        \"showlegend\": false,\n        \"mode\": \"markers\",\n        \"name\": \"y1\",\n        \"zmin\": 1.0,\n        \"legendgroup\": \"y1\",\n        \"marker\": {\n            \"symbol\": \"circle\",\n            \"color\": \"rgba(204, 76, 204, 1.000)\",\n            \"line\": {\n                \"color\": \"rgba(0, 0, 0, 1.000)\",\n                \"width\": 1\n            },\n            \"size\": 8\n        },\n        \"zmax\": 3.0,\n        \"y\": [\n            12.72\n        ],\n        \"type\": \"scatter\"\n    },\n    {\n        \"xaxis\": \"x1\",\n        \"colorbar\": {\n            \"title\": \"\"\n        },\n        \"yaxis\": \"y1\",\n        \"x\": [\n            2.0\n        ],\n        \"showlegend\": false,\n        \"mode\": \"markers\",\n        \"name\": \"y1\",\n        \"zmin\": 1.0,\n        \"legendgroup\": \"y1\",\n        \"marker\": {\n            \"symbol\": \"circle\",\n            \"color\": \"rgba(204, 76, 204, 1.000)\",\n            \"line\": {\n                \"color\": \"rgba(0, 0, 0, 1.000)\",\n                \"width\": 1\n            },\n            \"size\": 8\n        },\n        \"zmax\": 3.0,\n        \"y\": [\n            12.08\n        ],\n        \"type\": \"scatter\"\n    },\n    {\n        \"xaxis\": \"x1\",\n        \"colorbar\": {\n            \"title\": \"\"\n        },\n        \"yaxis\": \"y1\",\n        \"x\": [\n            2.0\n        ],\n        \"showlegend\": false,\n        \"mode\": \"markers\",\n        \"name\": \"y1\",\n        \"zmin\": 1.0,\n        \"legendgroup\": \"y1\",\n        \"marker\": {\n            \"symbol\": \"circle\",\n            \"color\": \"rgba(255, 76, 76, 1.000)\",\n            \"line\": {\n                \"color\": \"rgba(0, 0, 0, 1.000)\",\n                \"width\": 1\n            },\n            \"size\": 8\n        },\n        \"zmax\": 3.0,\n        \"y\": [\n            13.05\n        ],\n        \"type\": \"scatter\"\n    },\n    {\n        \"xaxis\": \"x1\",\n        \"colorbar\": {\n            \"title\": \"\"\n        },\n        \"yaxis\": \"y1\",\n        \"x\": [\n            2.0\n        ],\n        \"showlegend\": false,\n        \"mode\": \"markers\",\n        \"name\": \"y1\",\n        \"zmin\": 1.0,\n        \"legendgroup\": \"y1\",\n        \"marker\": {\n            \"symbol\": \"circle\",\n            \"color\": \"rgba(204, 76, 204, 1.000)\",\n            \"line\": {\n                \"color\": \"rgba(0, 0, 0, 1.000)\",\n                \"width\": 1\n            },\n            \"size\": 8\n        },\n        \"zmax\": 3.0,\n        \"y\": [\n            11.84\n        ],\n        \"type\": \"scatter\"\n    },\n    {\n        \"xaxis\": \"x1\",\n        \"colorbar\": {\n            \"title\": \"\"\n        },\n        \"yaxis\": \"y1\",\n        \"x\": [\n            2.0\n        ],\n        \"showlegend\": false,\n        \"mode\": \"markers\",\n        \"name\": \"y1\",\n        \"zmin\": 1.0,\n        \"legendgroup\": \"y1\",\n        \"marker\": {\n            \"symbol\": \"circle\",\n            \"color\": \"rgba(204, 76, 204, 1.000)\",\n            \"line\": {\n                \"color\": \"rgba(0, 0, 0, 1.000)\",\n                \"width\": 1\n            },\n            \"size\": 8\n        },\n        \"zmax\": 3.0,\n        \"y\": [\n            12.67\n        ],\n        \"type\": \"scatter\"\n    },\n    {\n        \"xaxis\": \"x1\",\n        \"colorbar\": {\n            \"title\": \"\"\n        },\n        \"yaxis\": \"y1\",\n        \"x\": [\n            2.0\n        ],\n        \"showlegend\": false,\n        \"mode\": \"markers\",\n        \"name\": \"y1\",\n        \"zmin\": 1.0,\n        \"legendgroup\": \"y1\",\n        \"marker\": {\n            \"symbol\": \"circle\",\n            \"color\": \"rgba(204, 76, 204, 1.000)\",\n            \"line\": {\n                \"color\": \"rgba(0, 0, 0, 1.000)\",\n                \"width\": 1\n            },\n            \"size\": 8\n        },\n        \"zmax\": 3.0,\n        \"y\": [\n            12.16\n        ],\n        \"type\": \"scatter\"\n    },\n    {\n        \"xaxis\": \"x1\",\n        \"colorbar\": {\n            \"title\": \"\"\n        },\n        \"yaxis\": \"y1\",\n        \"x\": [\n            2.0\n        ],\n        \"showlegend\": false,\n        \"mode\": \"markers\",\n        \"name\": \"y1\",\n        \"zmin\": 1.0,\n        \"legendgroup\": \"y1\",\n        \"marker\": {\n            \"symbol\": \"circle\",\n            \"color\": \"rgba(204, 76, 204, 1.000)\",\n            \"line\": {\n                \"color\": \"rgba(0, 0, 0, 1.000)\",\n                \"width\": 1\n            },\n            \"size\": 8\n        },\n        \"zmax\": 3.0,\n        \"y\": [\n            11.65\n        ],\n        \"type\": \"scatter\"\n    },\n    {\n        \"xaxis\": \"x1\",\n        \"colorbar\": {\n            \"title\": \"\"\n        },\n        \"yaxis\": \"y1\",\n        \"x\": [\n            2.0\n        ],\n        \"showlegend\": false,\n        \"mode\": \"markers\",\n        \"name\": \"y1\",\n        \"zmin\": 1.0,\n        \"legendgroup\": \"y1\",\n        \"marker\": {\n            \"symbol\": \"circle\",\n            \"color\": \"rgba(204, 76, 204, 1.000)\",\n            \"line\": {\n                \"color\": \"rgba(0, 0, 0, 1.000)\",\n                \"width\": 1\n            },\n            \"size\": 8\n        },\n        \"zmax\": 3.0,\n        \"y\": [\n            11.64\n        ],\n        \"type\": \"scatter\"\n    },\n    {\n        \"xaxis\": \"x1\",\n        \"colorbar\": {\n            \"title\": \"\"\n        },\n        \"yaxis\": \"y1\",\n        \"x\": [\n            2.0\n        ],\n        \"showlegend\": false,\n        \"mode\": \"markers\",\n        \"name\": \"y1\",\n        \"zmin\": 1.0,\n        \"legendgroup\": \"y1\",\n        \"marker\": {\n            \"symbol\": \"circle\",\n            \"color\": \"rgba(204, 76, 204, 1.000)\",\n            \"line\": {\n                \"color\": \"rgba(0, 0, 0, 1.000)\",\n                \"width\": 1\n            },\n            \"size\": 8\n        },\n        \"zmax\": 3.0,\n        \"y\": [\n            12.08\n        ],\n        \"type\": \"scatter\"\n    },\n    {\n        \"xaxis\": \"x1\",\n        \"colorbar\": {\n            \"title\": \"\"\n        },\n        \"yaxis\": \"y1\",\n        \"x\": [\n            2.0\n        ],\n        \"showlegend\": false,\n        \"mode\": \"markers\",\n        \"name\": \"y1\",\n        \"zmin\": 1.0,\n        \"legendgroup\": \"y1\",\n        \"marker\": {\n            \"symbol\": \"circle\",\n            \"color\": \"rgba(204, 76, 204, 1.000)\",\n            \"line\": {\n                \"color\": \"rgba(0, 0, 0, 1.000)\",\n                \"width\": 1\n            },\n            \"size\": 8\n        },\n        \"zmax\": 3.0,\n        \"y\": [\n            12.08\n        ],\n        \"type\": \"scatter\"\n    },\n    {\n        \"xaxis\": \"x1\",\n        \"colorbar\": {\n            \"title\": \"\"\n        },\n        \"yaxis\": \"y1\",\n        \"x\": [\n            2.0\n        ],\n        \"showlegend\": false,\n        \"mode\": \"markers\",\n        \"name\": \"y1\",\n        \"zmin\": 1.0,\n        \"legendgroup\": \"y1\",\n        \"marker\": {\n            \"symbol\": \"circle\",\n            \"color\": \"rgba(204, 76, 204, 1.000)\",\n            \"line\": {\n                \"color\": \"rgba(0, 0, 0, 1.000)\",\n                \"width\": 1\n            },\n            \"size\": 8\n        },\n        \"zmax\": 3.0,\n        \"y\": [\n            12.0\n        ],\n        \"type\": \"scatter\"\n    },\n    {\n        \"xaxis\": \"x1\",\n        \"colorbar\": {\n            \"title\": \"\"\n        },\n        \"yaxis\": \"y1\",\n        \"x\": [\n            2.0\n        ],\n        \"showlegend\": false,\n        \"mode\": \"markers\",\n        \"name\": \"y1\",\n        \"zmin\": 1.0,\n        \"legendgroup\": \"y1\",\n        \"marker\": {\n            \"symbol\": \"circle\",\n            \"color\": \"rgba(204, 76, 204, 1.000)\",\n            \"line\": {\n                \"color\": \"rgba(0, 0, 0, 1.000)\",\n                \"width\": 1\n            },\n            \"size\": 8\n        },\n        \"zmax\": 3.0,\n        \"y\": [\n            12.69\n        ],\n        \"type\": \"scatter\"\n    },\n    {\n        \"xaxis\": \"x1\",\n        \"colorbar\": {\n            \"title\": \"\"\n        },\n        \"yaxis\": \"y1\",\n        \"x\": [\n            2.0\n        ],\n        \"showlegend\": false,\n        \"mode\": \"markers\",\n        \"name\": \"y1\",\n        \"zmin\": 1.0,\n        \"legendgroup\": \"y1\",\n        \"marker\": {\n            \"symbol\": \"circle\",\n            \"color\": \"rgba(204, 76, 204, 1.000)\",\n            \"line\": {\n                \"color\": \"rgba(0, 0, 0, 1.000)\",\n                \"width\": 1\n            },\n            \"size\": 8\n        },\n        \"zmax\": 3.0,\n        \"y\": [\n            12.29\n        ],\n        \"type\": \"scatter\"\n    },\n    {\n        \"xaxis\": \"x1\",\n        \"colorbar\": {\n            \"title\": \"\"\n        },\n        \"yaxis\": \"y1\",\n        \"x\": [\n            2.0\n        ],\n        \"showlegend\": false,\n        \"mode\": \"markers\",\n        \"name\": \"y1\",\n        \"zmin\": 1.0,\n        \"legendgroup\": \"y1\",\n        \"marker\": {\n            \"symbol\": \"circle\",\n            \"color\": \"rgba(204, 76, 204, 1.000)\",\n            \"line\": {\n                \"color\": \"rgba(0, 0, 0, 1.000)\",\n                \"width\": 1\n            },\n            \"size\": 8\n        },\n        \"zmax\": 3.0,\n        \"y\": [\n            11.62\n        ],\n        \"type\": \"scatter\"\n    },\n    {\n        \"xaxis\": \"x1\",\n        \"colorbar\": {\n            \"title\": \"\"\n        },\n        \"yaxis\": \"y1\",\n        \"x\": [\n            2.0\n        ],\n        \"showlegend\": false,\n        \"mode\": \"markers\",\n        \"name\": \"y1\",\n        \"zmin\": 1.0,\n        \"legendgroup\": \"y1\",\n        \"marker\": {\n            \"symbol\": \"circle\",\n            \"color\": \"rgba(204, 76, 204, 1.000)\",\n            \"line\": {\n                \"color\": \"rgba(0, 0, 0, 1.000)\",\n                \"width\": 1\n            },\n            \"size\": 8\n        },\n        \"zmax\": 3.0,\n        \"y\": [\n            12.47\n        ],\n        \"type\": \"scatter\"\n    },\n    {\n        \"xaxis\": \"x1\",\n        \"colorbar\": {\n            \"title\": \"\"\n        },\n        \"yaxis\": \"y1\",\n        \"x\": [\n            2.0\n        ],\n        \"showlegend\": false,\n        \"mode\": \"markers\",\n        \"name\": \"y1\",\n        \"zmin\": 1.0,\n        \"legendgroup\": \"y1\",\n        \"marker\": {\n            \"symbol\": \"circle\",\n            \"color\": \"rgba(204, 76, 204, 1.000)\",\n            \"line\": {\n                \"color\": \"rgba(0, 0, 0, 1.000)\",\n                \"width\": 1\n            },\n            \"size\": 8\n        },\n        \"zmax\": 3.0,\n        \"y\": [\n            11.81\n        ],\n        \"type\": \"scatter\"\n    },\n    {\n        \"xaxis\": \"x1\",\n        \"colorbar\": {\n            \"title\": \"\"\n        },\n        \"yaxis\": \"y1\",\n        \"x\": [\n            2.0\n        ],\n        \"showlegend\": false,\n        \"mode\": \"markers\",\n        \"name\": \"y1\",\n        \"zmin\": 1.0,\n        \"legendgroup\": \"y1\",\n        \"marker\": {\n            \"symbol\": \"circle\",\n            \"color\": \"rgba(204, 76, 204, 1.000)\",\n            \"line\": {\n                \"color\": \"rgba(0, 0, 0, 1.000)\",\n                \"width\": 1\n            },\n            \"size\": 8\n        },\n        \"zmax\": 3.0,\n        \"y\": [\n            12.29\n        ],\n        \"type\": \"scatter\"\n    },\n    {\n        \"xaxis\": \"x1\",\n        \"colorbar\": {\n            \"title\": \"\"\n        },\n        \"yaxis\": \"y1\",\n        \"x\": [\n            2.0\n        ],\n        \"showlegend\": false,\n        \"mode\": \"markers\",\n        \"name\": \"y1\",\n        \"zmin\": 1.0,\n        \"legendgroup\": \"y1\",\n        \"marker\": {\n            \"symbol\": \"circle\",\n            \"color\": \"rgba(255, 76, 76, 1.000)\",\n            \"line\": {\n                \"color\": \"rgba(0, 0, 0, 1.000)\",\n                \"width\": 1\n            },\n            \"size\": 8\n        },\n        \"zmax\": 3.0,\n        \"y\": [\n            12.37\n        ],\n        \"type\": \"scatter\"\n    },\n    {\n        \"xaxis\": \"x1\",\n        \"colorbar\": {\n            \"title\": \"\"\n        },\n        \"yaxis\": \"y1\",\n        \"x\": [\n            2.0\n        ],\n        \"showlegend\": false,\n        \"mode\": \"markers\",\n        \"name\": \"y1\",\n        \"zmin\": 1.0,\n        \"legendgroup\": \"y1\",\n        \"marker\": {\n            \"symbol\": \"circle\",\n            \"color\": \"rgba(204, 76, 204, 1.000)\",\n            \"line\": {\n                \"color\": \"rgba(0, 0, 0, 1.000)\",\n                \"width\": 1\n            },\n            \"size\": 8\n        },\n        \"zmax\": 3.0,\n        \"y\": [\n            12.29\n        ],\n        \"type\": \"scatter\"\n    },\n    {\n        \"xaxis\": \"x1\",\n        \"colorbar\": {\n            \"title\": \"\"\n        },\n        \"yaxis\": \"y1\",\n        \"x\": [\n            2.0\n        ],\n        \"showlegend\": false,\n        \"mode\": \"markers\",\n        \"name\": \"y1\",\n        \"zmin\": 1.0,\n        \"legendgroup\": \"y1\",\n        \"marker\": {\n            \"symbol\": \"circle\",\n            \"color\": \"rgba(204, 76, 204, 1.000)\",\n            \"line\": {\n                \"color\": \"rgba(0, 0, 0, 1.000)\",\n                \"width\": 1\n            },\n            \"size\": 8\n        },\n        \"zmax\": 3.0,\n        \"y\": [\n            12.08\n        ],\n        \"type\": \"scatter\"\n    },\n    {\n        \"xaxis\": \"x1\",\n        \"colorbar\": {\n            \"title\": \"\"\n        },\n        \"yaxis\": \"y1\",\n        \"x\": [\n            2.0\n        ],\n        \"showlegend\": false,\n        \"mode\": \"markers\",\n        \"name\": \"y1\",\n        \"zmin\": 1.0,\n        \"legendgroup\": \"y1\",\n        \"marker\": {\n            \"symbol\": \"circle\",\n            \"color\": \"rgba(204, 76, 204, 1.000)\",\n            \"line\": {\n                \"color\": \"rgba(0, 0, 0, 1.000)\",\n                \"width\": 1\n            },\n            \"size\": 8\n        },\n        \"zmax\": 3.0,\n        \"y\": [\n            12.6\n        ],\n        \"type\": \"scatter\"\n    },\n    {\n        \"xaxis\": \"x1\",\n        \"colorbar\": {\n            \"title\": \"\"\n        },\n        \"yaxis\": \"y1\",\n        \"x\": [\n            2.0\n        ],\n        \"showlegend\": false,\n        \"mode\": \"markers\",\n        \"name\": \"y1\",\n        \"zmin\": 1.0,\n        \"legendgroup\": \"y1\",\n        \"marker\": {\n            \"symbol\": \"circle\",\n            \"color\": \"rgba(204, 76, 204, 1.000)\",\n            \"line\": {\n                \"color\": \"rgba(0, 0, 0, 1.000)\",\n                \"width\": 1\n            },\n            \"size\": 8\n        },\n        \"zmax\": 3.0,\n        \"y\": [\n            12.34\n        ],\n        \"type\": \"scatter\"\n    },\n    {\n        \"xaxis\": \"x1\",\n        \"colorbar\": {\n            \"title\": \"\"\n        },\n        \"yaxis\": \"y1\",\n        \"x\": [\n            2.0\n        ],\n        \"showlegend\": false,\n        \"mode\": \"markers\",\n        \"name\": \"y1\",\n        \"zmin\": 1.0,\n        \"legendgroup\": \"y1\",\n        \"marker\": {\n            \"symbol\": \"circle\",\n            \"color\": \"rgba(204, 76, 204, 1.000)\",\n            \"line\": {\n                \"color\": \"rgba(0, 0, 0, 1.000)\",\n                \"width\": 1\n            },\n            \"size\": 8\n        },\n        \"zmax\": 3.0,\n        \"y\": [\n            11.82\n        ],\n        \"type\": \"scatter\"\n    },\n    {\n        \"xaxis\": \"x1\",\n        \"colorbar\": {\n            \"title\": \"\"\n        },\n        \"yaxis\": \"y1\",\n        \"x\": [\n            2.0\n        ],\n        \"showlegend\": false,\n        \"mode\": \"markers\",\n        \"name\": \"y1\",\n        \"zmin\": 1.0,\n        \"legendgroup\": \"y1\",\n        \"marker\": {\n            \"symbol\": \"circle\",\n            \"color\": \"rgba(204, 76, 204, 1.000)\",\n            \"line\": {\n                \"color\": \"rgba(0, 0, 0, 1.000)\",\n                \"width\": 1\n            },\n            \"size\": 8\n        },\n        \"zmax\": 3.0,\n        \"y\": [\n            12.51\n        ],\n        \"type\": \"scatter\"\n    },\n    {\n        \"xaxis\": \"x1\",\n        \"colorbar\": {\n            \"title\": \"\"\n        },\n        \"yaxis\": \"y1\",\n        \"x\": [\n            2.0\n        ],\n        \"showlegend\": false,\n        \"mode\": \"markers\",\n        \"name\": \"y1\",\n        \"zmin\": 1.0,\n        \"legendgroup\": \"y1\",\n        \"marker\": {\n            \"symbol\": \"circle\",\n            \"color\": \"rgba(204, 76, 204, 1.000)\",\n            \"line\": {\n                \"color\": \"rgba(0, 0, 0, 1.000)\",\n                \"width\": 1\n            },\n            \"size\": 8\n        },\n        \"zmax\": 3.0,\n        \"y\": [\n            12.42\n        ],\n        \"type\": \"scatter\"\n    },\n    {\n        \"xaxis\": \"x1\",\n        \"colorbar\": {\n            \"title\": \"\"\n        },\n        \"yaxis\": \"y1\",\n        \"x\": [\n            2.0\n        ],\n        \"showlegend\": false,\n        \"mode\": \"markers\",\n        \"name\": \"y1\",\n        \"zmin\": 1.0,\n        \"legendgroup\": \"y1\",\n        \"marker\": {\n            \"symbol\": \"circle\",\n            \"color\": \"rgba(204, 76, 204, 1.000)\",\n            \"line\": {\n                \"color\": \"rgba(0, 0, 0, 1.000)\",\n                \"width\": 1\n            },\n            \"size\": 8\n        },\n        \"zmax\": 3.0,\n        \"y\": [\n            12.25\n        ],\n        \"type\": \"scatter\"\n    },\n    {\n        \"xaxis\": \"x1\",\n        \"colorbar\": {\n            \"title\": \"\"\n        },\n        \"yaxis\": \"y1\",\n        \"x\": [\n            2.0\n        ],\n        \"showlegend\": false,\n        \"mode\": \"markers\",\n        \"name\": \"y1\",\n        \"zmin\": 1.0,\n        \"legendgroup\": \"y1\",\n        \"marker\": {\n            \"symbol\": \"circle\",\n            \"color\": \"rgba(204, 76, 204, 1.000)\",\n            \"line\": {\n                \"color\": \"rgba(0, 0, 0, 1.000)\",\n                \"width\": 1\n            },\n            \"size\": 8\n        },\n        \"zmax\": 3.0,\n        \"y\": [\n            12.72\n        ],\n        \"type\": \"scatter\"\n    },\n    {\n        \"xaxis\": \"x1\",\n        \"colorbar\": {\n            \"title\": \"\"\n        },\n        \"yaxis\": \"y1\",\n        \"x\": [\n            2.0\n        ],\n        \"showlegend\": false,\n        \"mode\": \"markers\",\n        \"name\": \"y1\",\n        \"zmin\": 1.0,\n        \"legendgroup\": \"y1\",\n        \"marker\": {\n            \"symbol\": \"circle\",\n            \"color\": \"rgba(204, 76, 204, 1.000)\",\n            \"line\": {\n                \"color\": \"rgba(0, 0, 0, 1.000)\",\n                \"width\": 1\n            },\n            \"size\": 8\n        },\n        \"zmax\": 3.0,\n        \"y\": [\n            12.22\n        ],\n        \"type\": \"scatter\"\n    },\n    {\n        \"xaxis\": \"x1\",\n        \"colorbar\": {\n            \"title\": \"\"\n        },\n        \"yaxis\": \"y1\",\n        \"x\": [\n            2.0\n        ],\n        \"showlegend\": false,\n        \"mode\": \"markers\",\n        \"name\": \"y1\",\n        \"zmin\": 1.0,\n        \"legendgroup\": \"y1\",\n        \"marker\": {\n            \"symbol\": \"circle\",\n            \"color\": \"rgba(204, 76, 204, 1.000)\",\n            \"line\": {\n                \"color\": \"rgba(0, 0, 0, 1.000)\",\n                \"width\": 1\n            },\n            \"size\": 8\n        },\n        \"zmax\": 3.0,\n        \"y\": [\n            11.61\n        ],\n        \"type\": \"scatter\"\n    },\n    {\n        \"xaxis\": \"x1\",\n        \"colorbar\": {\n            \"title\": \"\"\n        },\n        \"yaxis\": \"y1\",\n        \"x\": [\n            2.0\n        ],\n        \"showlegend\": false,\n        \"mode\": \"markers\",\n        \"name\": \"y1\",\n        \"zmin\": 1.0,\n        \"legendgroup\": \"y1\",\n        \"marker\": {\n            \"symbol\": \"circle\",\n            \"color\": \"rgba(204, 76, 204, 1.000)\",\n            \"line\": {\n                \"color\": \"rgba(0, 0, 0, 1.000)\",\n                \"width\": 1\n            },\n            \"size\": 8\n        },\n        \"zmax\": 3.0,\n        \"y\": [\n            11.46\n        ],\n        \"type\": \"scatter\"\n    },\n    {\n        \"xaxis\": \"x1\",\n        \"colorbar\": {\n            \"title\": \"\"\n        },\n        \"yaxis\": \"y1\",\n        \"x\": [\n            2.0\n        ],\n        \"showlegend\": false,\n        \"mode\": \"markers\",\n        \"name\": \"y1\",\n        \"zmin\": 1.0,\n        \"legendgroup\": \"y1\",\n        \"marker\": {\n            \"symbol\": \"circle\",\n            \"color\": \"rgba(204, 76, 204, 1.000)\",\n            \"line\": {\n                \"color\": \"rgba(0, 0, 0, 1.000)\",\n                \"width\": 1\n            },\n            \"size\": 8\n        },\n        \"zmax\": 3.0,\n        \"y\": [\n            12.52\n        ],\n        \"type\": \"scatter\"\n    },\n    {\n        \"xaxis\": \"x1\",\n        \"colorbar\": {\n            \"title\": \"\"\n        },\n        \"yaxis\": \"y1\",\n        \"x\": [\n            2.0\n        ],\n        \"showlegend\": false,\n        \"mode\": \"markers\",\n        \"name\": \"y1\",\n        \"zmin\": 1.0,\n        \"legendgroup\": \"y1\",\n        \"marker\": {\n            \"symbol\": \"circle\",\n            \"color\": \"rgba(204, 76, 204, 1.000)\",\n            \"line\": {\n                \"color\": \"rgba(0, 0, 0, 1.000)\",\n                \"width\": 1\n            },\n            \"size\": 8\n        },\n        \"zmax\": 3.0,\n        \"y\": [\n            11.76\n        ],\n        \"type\": \"scatter\"\n    },\n    {\n        \"xaxis\": \"x1\",\n        \"colorbar\": {\n            \"title\": \"\"\n        },\n        \"yaxis\": \"y1\",\n        \"x\": [\n            2.0\n        ],\n        \"showlegend\": false,\n        \"mode\": \"markers\",\n        \"name\": \"y1\",\n        \"zmin\": 1.0,\n        \"legendgroup\": \"y1\",\n        \"marker\": {\n            \"symbol\": \"circle\",\n            \"color\": \"rgba(204, 76, 204, 1.000)\",\n            \"line\": {\n                \"color\": \"rgba(0, 0, 0, 1.000)\",\n                \"width\": 1\n            },\n            \"size\": 8\n        },\n        \"zmax\": 3.0,\n        \"y\": [\n            11.41\n        ],\n        \"type\": \"scatter\"\n    },\n    {\n        \"xaxis\": \"x1\",\n        \"colorbar\": {\n            \"title\": \"\"\n        },\n        \"yaxis\": \"y1\",\n        \"x\": [\n            2.0\n        ],\n        \"showlegend\": false,\n        \"mode\": \"markers\",\n        \"name\": \"y1\",\n        \"zmin\": 1.0,\n        \"legendgroup\": \"y1\",\n        \"marker\": {\n            \"symbol\": \"circle\",\n            \"color\": \"rgba(204, 76, 204, 1.000)\",\n            \"line\": {\n                \"color\": \"rgba(0, 0, 0, 1.000)\",\n                \"width\": 1\n            },\n            \"size\": 8\n        },\n        \"zmax\": 3.0,\n        \"y\": [\n            12.08\n        ],\n        \"type\": \"scatter\"\n    },\n    {\n        \"xaxis\": \"x1\",\n        \"colorbar\": {\n            \"title\": \"\"\n        },\n        \"yaxis\": \"y1\",\n        \"x\": [\n            2.0\n        ],\n        \"showlegend\": false,\n        \"mode\": \"markers\",\n        \"name\": \"y1\",\n        \"zmin\": 1.0,\n        \"legendgroup\": \"y1\",\n        \"marker\": {\n            \"symbol\": \"circle\",\n            \"color\": \"rgba(204, 76, 204, 1.000)\",\n            \"line\": {\n                \"color\": \"rgba(0, 0, 0, 1.000)\",\n                \"width\": 1\n            },\n            \"size\": 8\n        },\n        \"zmax\": 3.0,\n        \"y\": [\n            11.03\n        ],\n        \"type\": \"scatter\"\n    },\n    {\n        \"xaxis\": \"x1\",\n        \"colorbar\": {\n            \"title\": \"\"\n        },\n        \"yaxis\": \"y1\",\n        \"x\": [\n            2.0\n        ],\n        \"showlegend\": false,\n        \"mode\": \"markers\",\n        \"name\": \"y1\",\n        \"zmin\": 1.0,\n        \"legendgroup\": \"y1\",\n        \"marker\": {\n            \"symbol\": \"circle\",\n            \"color\": \"rgba(204, 76, 204, 1.000)\",\n            \"line\": {\n                \"color\": \"rgba(0, 0, 0, 1.000)\",\n                \"width\": 1\n            },\n            \"size\": 8\n        },\n        \"zmax\": 3.0,\n        \"y\": [\n            11.82\n        ],\n        \"type\": \"scatter\"\n    },\n    {\n        \"xaxis\": \"x1\",\n        \"colorbar\": {\n            \"title\": \"\"\n        },\n        \"yaxis\": \"y1\",\n        \"x\": [\n            2.0\n        ],\n        \"showlegend\": false,\n        \"mode\": \"markers\",\n        \"name\": \"y1\",\n        \"zmin\": 1.0,\n        \"legendgroup\": \"y1\",\n        \"marker\": {\n            \"symbol\": \"circle\",\n            \"color\": \"rgba(204, 76, 204, 1.000)\",\n            \"line\": {\n                \"color\": \"rgba(0, 0, 0, 1.000)\",\n                \"width\": 1\n            },\n            \"size\": 8\n        },\n        \"zmax\": 3.0,\n        \"y\": [\n            12.42\n        ],\n        \"type\": \"scatter\"\n    },\n    {\n        \"xaxis\": \"x1\",\n        \"colorbar\": {\n            \"title\": \"\"\n        },\n        \"yaxis\": \"y1\",\n        \"x\": [\n            2.0\n        ],\n        \"showlegend\": false,\n        \"mode\": \"markers\",\n        \"name\": \"y1\",\n        \"zmin\": 1.0,\n        \"legendgroup\": \"y1\",\n        \"marker\": {\n            \"symbol\": \"circle\",\n            \"color\": \"rgba(204, 76, 204, 1.000)\",\n            \"line\": {\n                \"color\": \"rgba(0, 0, 0, 1.000)\",\n                \"width\": 1\n            },\n            \"size\": 8\n        },\n        \"zmax\": 3.0,\n        \"y\": [\n            12.77\n        ],\n        \"type\": \"scatter\"\n    },\n    {\n        \"xaxis\": \"x1\",\n        \"colorbar\": {\n            \"title\": \"\"\n        },\n        \"yaxis\": \"y1\",\n        \"x\": [\n            2.0\n        ],\n        \"showlegend\": false,\n        \"mode\": \"markers\",\n        \"name\": \"y1\",\n        \"zmin\": 1.0,\n        \"legendgroup\": \"y1\",\n        \"marker\": {\n            \"symbol\": \"circle\",\n            \"color\": \"rgba(204, 76, 204, 1.000)\",\n            \"line\": {\n                \"color\": \"rgba(0, 0, 0, 1.000)\",\n                \"width\": 1\n            },\n            \"size\": 8\n        },\n        \"zmax\": 3.0,\n        \"y\": [\n            12.0\n        ],\n        \"type\": \"scatter\"\n    },\n    {\n        \"xaxis\": \"x1\",\n        \"colorbar\": {\n            \"title\": \"\"\n        },\n        \"yaxis\": \"y1\",\n        \"x\": [\n            2.0\n        ],\n        \"showlegend\": false,\n        \"mode\": \"markers\",\n        \"name\": \"y1\",\n        \"zmin\": 1.0,\n        \"legendgroup\": \"y1\",\n        \"marker\": {\n            \"symbol\": \"circle\",\n            \"color\": \"rgba(204, 76, 204, 1.000)\",\n            \"line\": {\n                \"color\": \"rgba(0, 0, 0, 1.000)\",\n                \"width\": 1\n            },\n            \"size\": 8\n        },\n        \"zmax\": 3.0,\n        \"y\": [\n            11.45\n        ],\n        \"type\": \"scatter\"\n    },\n    {\n        \"xaxis\": \"x1\",\n        \"colorbar\": {\n            \"title\": \"\"\n        },\n        \"yaxis\": \"y1\",\n        \"x\": [\n            2.0\n        ],\n        \"showlegend\": false,\n        \"mode\": \"markers\",\n        \"name\": \"y1\",\n        \"zmin\": 1.0,\n        \"legendgroup\": \"y1\",\n        \"marker\": {\n            \"symbol\": \"circle\",\n            \"color\": \"rgba(255, 76, 76, 1.000)\",\n            \"line\": {\n                \"color\": \"rgba(0, 0, 0, 1.000)\",\n                \"width\": 1\n            },\n            \"size\": 8\n        },\n        \"zmax\": 3.0,\n        \"y\": [\n            11.56\n        ],\n        \"type\": \"scatter\"\n    },\n    {\n        \"xaxis\": \"x1\",\n        \"colorbar\": {\n            \"title\": \"\"\n        },\n        \"yaxis\": \"y1\",\n        \"x\": [\n            2.0\n        ],\n        \"showlegend\": false,\n        \"mode\": \"markers\",\n        \"name\": \"y1\",\n        \"zmin\": 1.0,\n        \"legendgroup\": \"y1\",\n        \"marker\": {\n            \"symbol\": \"circle\",\n            \"color\": \"rgba(204, 76, 204, 1.000)\",\n            \"line\": {\n                \"color\": \"rgba(0, 0, 0, 1.000)\",\n                \"width\": 1\n            },\n            \"size\": 8\n        },\n        \"zmax\": 3.0,\n        \"y\": [\n            12.42\n        ],\n        \"type\": \"scatter\"\n    },\n    {\n        \"xaxis\": \"x1\",\n        \"colorbar\": {\n            \"title\": \"\"\n        },\n        \"yaxis\": \"y1\",\n        \"x\": [\n            2.0\n        ],\n        \"showlegend\": false,\n        \"mode\": \"markers\",\n        \"name\": \"y1\",\n        \"zmin\": 1.0,\n        \"legendgroup\": \"y1\",\n        \"marker\": {\n            \"symbol\": \"circle\",\n            \"color\": \"rgba(204, 76, 204, 1.000)\",\n            \"line\": {\n                \"color\": \"rgba(0, 0, 0, 1.000)\",\n                \"width\": 1\n            },\n            \"size\": 8\n        },\n        \"zmax\": 3.0,\n        \"y\": [\n            13.05\n        ],\n        \"type\": \"scatter\"\n    },\n    {\n        \"xaxis\": \"x1\",\n        \"colorbar\": {\n            \"title\": \"\"\n        },\n        \"yaxis\": \"y1\",\n        \"x\": [\n            2.0\n        ],\n        \"showlegend\": false,\n        \"mode\": \"markers\",\n        \"name\": \"y1\",\n        \"zmin\": 1.0,\n        \"legendgroup\": \"y1\",\n        \"marker\": {\n            \"symbol\": \"circle\",\n            \"color\": \"rgba(204, 76, 204, 1.000)\",\n            \"line\": {\n                \"color\": \"rgba(0, 0, 0, 1.000)\",\n                \"width\": 1\n            },\n            \"size\": 8\n        },\n        \"zmax\": 3.0,\n        \"y\": [\n            11.87\n        ],\n        \"type\": \"scatter\"\n    },\n    {\n        \"xaxis\": \"x1\",\n        \"colorbar\": {\n            \"title\": \"\"\n        },\n        \"yaxis\": \"y1\",\n        \"x\": [\n            2.0\n        ],\n        \"showlegend\": false,\n        \"mode\": \"markers\",\n        \"name\": \"y1\",\n        \"zmin\": 1.0,\n        \"legendgroup\": \"y1\",\n        \"marker\": {\n            \"symbol\": \"circle\",\n            \"color\": \"rgba(204, 76, 204, 1.000)\",\n            \"line\": {\n                \"color\": \"rgba(0, 0, 0, 1.000)\",\n                \"width\": 1\n            },\n            \"size\": 8\n        },\n        \"zmax\": 3.0,\n        \"y\": [\n            12.07\n        ],\n        \"type\": \"scatter\"\n    },\n    {\n        \"xaxis\": \"x1\",\n        \"colorbar\": {\n            \"title\": \"\"\n        },\n        \"yaxis\": \"y1\",\n        \"x\": [\n            2.0\n        ],\n        \"showlegend\": false,\n        \"mode\": \"markers\",\n        \"name\": \"y1\",\n        \"zmin\": 1.0,\n        \"legendgroup\": \"y1\",\n        \"marker\": {\n            \"symbol\": \"circle\",\n            \"color\": \"rgba(204, 76, 204, 1.000)\",\n            \"line\": {\n                \"color\": \"rgba(0, 0, 0, 1.000)\",\n                \"width\": 1\n            },\n            \"size\": 8\n        },\n        \"zmax\": 3.0,\n        \"y\": [\n            12.43\n        ],\n        \"type\": \"scatter\"\n    },\n    {\n        \"xaxis\": \"x1\",\n        \"colorbar\": {\n            \"title\": \"\"\n        },\n        \"yaxis\": \"y1\",\n        \"x\": [\n            2.0\n        ],\n        \"showlegend\": false,\n        \"mode\": \"markers\",\n        \"name\": \"y1\",\n        \"zmin\": 1.0,\n        \"legendgroup\": \"y1\",\n        \"marker\": {\n            \"symbol\": \"circle\",\n            \"color\": \"rgba(204, 76, 204, 1.000)\",\n            \"line\": {\n                \"color\": \"rgba(0, 0, 0, 1.000)\",\n                \"width\": 1\n            },\n            \"size\": 8\n        },\n        \"zmax\": 3.0,\n        \"y\": [\n            11.79\n        ],\n        \"type\": \"scatter\"\n    },\n    {\n        \"xaxis\": \"x1\",\n        \"colorbar\": {\n            \"title\": \"\"\n        },\n        \"yaxis\": \"y1\",\n        \"x\": [\n            2.0\n        ],\n        \"showlegend\": false,\n        \"mode\": \"markers\",\n        \"name\": \"y1\",\n        \"zmin\": 1.0,\n        \"legendgroup\": \"y1\",\n        \"marker\": {\n            \"symbol\": \"circle\",\n            \"color\": \"rgba(204, 76, 204, 1.000)\",\n            \"line\": {\n                \"color\": \"rgba(0, 0, 0, 1.000)\",\n                \"width\": 1\n            },\n            \"size\": 8\n        },\n        \"zmax\": 3.0,\n        \"y\": [\n            12.37\n        ],\n        \"type\": \"scatter\"\n    },\n    {\n        \"xaxis\": \"x1\",\n        \"colorbar\": {\n            \"title\": \"\"\n        },\n        \"yaxis\": \"y1\",\n        \"x\": [\n            2.0\n        ],\n        \"showlegend\": false,\n        \"mode\": \"markers\",\n        \"name\": \"y1\",\n        \"zmin\": 1.0,\n        \"legendgroup\": \"y1\",\n        \"marker\": {\n            \"symbol\": \"circle\",\n            \"color\": \"rgba(204, 76, 204, 1.000)\",\n            \"line\": {\n                \"color\": \"rgba(0, 0, 0, 1.000)\",\n                \"width\": 1\n            },\n            \"size\": 8\n        },\n        \"zmax\": 3.0,\n        \"y\": [\n            12.04\n        ],\n        \"type\": \"scatter\"\n    },\n    {\n        \"xaxis\": \"x1\",\n        \"colorbar\": {\n            \"title\": \"\"\n        },\n        \"yaxis\": \"y1\",\n        \"x\": [\n            3.0\n        ],\n        \"showlegend\": false,\n        \"mode\": \"markers\",\n        \"name\": \"y1\",\n        \"zmin\": 1.0,\n        \"legendgroup\": \"y1\",\n        \"marker\": {\n            \"symbol\": \"circle\",\n            \"color\": \"rgba(204, 76, 204, 1.000)\",\n            \"line\": {\n                \"color\": \"rgba(0, 0, 0, 1.000)\",\n                \"width\": 1\n            },\n            \"size\": 8\n        },\n        \"zmax\": 3.0,\n        \"y\": [\n            12.86\n        ],\n        \"type\": \"scatter\"\n    },\n    {\n        \"xaxis\": \"x1\",\n        \"colorbar\": {\n            \"title\": \"\"\n        },\n        \"yaxis\": \"y1\",\n        \"x\": [\n            3.0\n        ],\n        \"showlegend\": false,\n        \"mode\": \"markers\",\n        \"name\": \"y1\",\n        \"zmin\": 1.0,\n        \"legendgroup\": \"y1\",\n        \"marker\": {\n            \"symbol\": \"circle\",\n            \"color\": \"rgba(255, 76, 76, 1.000)\",\n            \"line\": {\n                \"color\": \"rgba(0, 0, 0, 1.000)\",\n                \"width\": 1\n            },\n            \"size\": 8\n        },\n        \"zmax\": 3.0,\n        \"y\": [\n            12.88\n        ],\n        \"type\": \"scatter\"\n    },\n    {\n        \"xaxis\": \"x1\",\n        \"colorbar\": {\n            \"title\": \"\"\n        },\n        \"yaxis\": \"y1\",\n        \"x\": [\n            3.0\n        ],\n        \"showlegend\": false,\n        \"mode\": \"markers\",\n        \"name\": \"y1\",\n        \"zmin\": 1.0,\n        \"legendgroup\": \"y1\",\n        \"marker\": {\n            \"symbol\": \"circle\",\n            \"color\": \"rgba(255, 76, 76, 1.000)\",\n            \"line\": {\n                \"color\": \"rgba(0, 0, 0, 1.000)\",\n                \"width\": 1\n            },\n            \"size\": 8\n        },\n        \"zmax\": 3.0,\n        \"y\": [\n            12.81\n        ],\n        \"type\": \"scatter\"\n    },\n    {\n        \"xaxis\": \"x1\",\n        \"colorbar\": {\n            \"title\": \"\"\n        },\n        \"yaxis\": \"y1\",\n        \"x\": [\n            3.0\n        ],\n        \"showlegend\": false,\n        \"mode\": \"markers\",\n        \"name\": \"y1\",\n        \"zmin\": 1.0,\n        \"legendgroup\": \"y1\",\n        \"marker\": {\n            \"symbol\": \"circle\",\n            \"color\": \"rgba(255, 76, 76, 1.000)\",\n            \"line\": {\n                \"color\": \"rgba(0, 0, 0, 1.000)\",\n                \"width\": 1\n            },\n            \"size\": 8\n        },\n        \"zmax\": 3.0,\n        \"y\": [\n            12.7\n        ],\n        \"type\": \"scatter\"\n    },\n    {\n        \"xaxis\": \"x1\",\n        \"colorbar\": {\n            \"title\": \"\"\n        },\n        \"yaxis\": \"y1\",\n        \"x\": [\n            3.0\n        ],\n        \"showlegend\": false,\n        \"mode\": \"markers\",\n        \"name\": \"y1\",\n        \"zmin\": 1.0,\n        \"legendgroup\": \"y1\",\n        \"marker\": {\n            \"symbol\": \"circle\",\n            \"color\": \"rgba(255, 76, 76, 1.000)\",\n            \"line\": {\n                \"color\": \"rgba(0, 0, 0, 1.000)\",\n                \"width\": 1\n            },\n            \"size\": 8\n        },\n        \"zmax\": 3.0,\n        \"y\": [\n            12.51\n        ],\n        \"type\": \"scatter\"\n    },\n    {\n        \"xaxis\": \"x1\",\n        \"colorbar\": {\n            \"title\": \"\"\n        },\n        \"yaxis\": \"y1\",\n        \"x\": [\n            3.0\n        ],\n        \"showlegend\": false,\n        \"mode\": \"markers\",\n        \"name\": \"y1\",\n        \"zmin\": 1.0,\n        \"legendgroup\": \"y1\",\n        \"marker\": {\n            \"symbol\": \"circle\",\n            \"color\": \"rgba(76, 204, 76, 1.000)\",\n            \"line\": {\n                \"color\": \"rgba(0, 0, 0, 1.000)\",\n                \"width\": 1\n            },\n            \"size\": 8\n        },\n        \"zmax\": 3.0,\n        \"y\": [\n            12.6\n        ],\n        \"type\": \"scatter\"\n    },\n    {\n        \"xaxis\": \"x1\",\n        \"colorbar\": {\n            \"title\": \"\"\n        },\n        \"yaxis\": \"y1\",\n        \"x\": [\n            3.0\n        ],\n        \"showlegend\": false,\n        \"mode\": \"markers\",\n        \"name\": \"y1\",\n        \"zmin\": 1.0,\n        \"legendgroup\": \"y1\",\n        \"marker\": {\n            \"symbol\": \"circle\",\n            \"color\": \"rgba(204, 76, 204, 1.000)\",\n            \"line\": {\n                \"color\": \"rgba(0, 0, 0, 1.000)\",\n                \"width\": 1\n            },\n            \"size\": 8\n        },\n        \"zmax\": 3.0,\n        \"y\": [\n            12.25\n        ],\n        \"type\": \"scatter\"\n    },\n    {\n        \"xaxis\": \"x1\",\n        \"colorbar\": {\n            \"title\": \"\"\n        },\n        \"yaxis\": \"y1\",\n        \"x\": [\n            3.0\n        ],\n        \"showlegend\": false,\n        \"mode\": \"markers\",\n        \"name\": \"y1\",\n        \"zmin\": 1.0,\n        \"legendgroup\": \"y1\",\n        \"marker\": {\n            \"symbol\": \"circle\",\n            \"color\": \"rgba(255, 76, 76, 1.000)\",\n            \"line\": {\n                \"color\": \"rgba(0, 0, 0, 1.000)\",\n                \"width\": 1\n            },\n            \"size\": 8\n        },\n        \"zmax\": 3.0,\n        \"y\": [\n            12.53\n        ],\n        \"type\": \"scatter\"\n    },\n    {\n        \"xaxis\": \"x1\",\n        \"colorbar\": {\n            \"title\": \"\"\n        },\n        \"yaxis\": \"y1\",\n        \"x\": [\n            3.0\n        ],\n        \"showlegend\": false,\n        \"mode\": \"markers\",\n        \"name\": \"y1\",\n        \"zmin\": 1.0,\n        \"legendgroup\": \"y1\",\n        \"marker\": {\n            \"symbol\": \"circle\",\n            \"color\": \"rgba(255, 76, 76, 1.000)\",\n            \"line\": {\n                \"color\": \"rgba(0, 0, 0, 1.000)\",\n                \"width\": 1\n            },\n            \"size\": 8\n        },\n        \"zmax\": 3.0,\n        \"y\": [\n            13.49\n        ],\n        \"type\": \"scatter\"\n    },\n    {\n        \"xaxis\": \"x1\",\n        \"colorbar\": {\n            \"title\": \"\"\n        },\n        \"yaxis\": \"y1\",\n        \"x\": [\n            3.0\n        ],\n        \"showlegend\": false,\n        \"mode\": \"markers\",\n        \"name\": \"y1\",\n        \"zmin\": 1.0,\n        \"legendgroup\": \"y1\",\n        \"marker\": {\n            \"symbol\": \"circle\",\n            \"color\": \"rgba(255, 76, 76, 1.000)\",\n            \"line\": {\n                \"color\": \"rgba(0, 0, 0, 1.000)\",\n                \"width\": 1\n            },\n            \"size\": 8\n        },\n        \"zmax\": 3.0,\n        \"y\": [\n            12.84\n        ],\n        \"type\": \"scatter\"\n    },\n    {\n        \"xaxis\": \"x1\",\n        \"colorbar\": {\n            \"title\": \"\"\n        },\n        \"yaxis\": \"y1\",\n        \"x\": [\n            3.0\n        ],\n        \"showlegend\": false,\n        \"mode\": \"markers\",\n        \"name\": \"y1\",\n        \"zmin\": 1.0,\n        \"legendgroup\": \"y1\",\n        \"marker\": {\n            \"symbol\": \"circle\",\n            \"color\": \"rgba(255, 76, 76, 1.000)\",\n            \"line\": {\n                \"color\": \"rgba(0, 0, 0, 1.000)\",\n                \"width\": 1\n            },\n            \"size\": 8\n        },\n        \"zmax\": 3.0,\n        \"y\": [\n            12.93\n        ],\n        \"type\": \"scatter\"\n    },\n    {\n        \"xaxis\": \"x1\",\n        \"colorbar\": {\n            \"title\": \"\"\n        },\n        \"yaxis\": \"y1\",\n        \"x\": [\n            3.0\n        ],\n        \"showlegend\": false,\n        \"mode\": \"markers\",\n        \"name\": \"y1\",\n        \"zmin\": 1.0,\n        \"legendgroup\": \"y1\",\n        \"marker\": {\n            \"symbol\": \"circle\",\n            \"color\": \"rgba(255, 76, 76, 1.000)\",\n            \"line\": {\n                \"color\": \"rgba(0, 0, 0, 1.000)\",\n                \"width\": 1\n            },\n            \"size\": 8\n        },\n        \"zmax\": 3.0,\n        \"y\": [\n            13.36\n        ],\n        \"type\": \"scatter\"\n    },\n    {\n        \"xaxis\": \"x1\",\n        \"colorbar\": {\n            \"title\": \"\"\n        },\n        \"yaxis\": \"y1\",\n        \"x\": [\n            3.0\n        ],\n        \"showlegend\": false,\n        \"mode\": \"markers\",\n        \"name\": \"y1\",\n        \"zmin\": 1.0,\n        \"legendgroup\": \"y1\",\n        \"marker\": {\n            \"symbol\": \"circle\",\n            \"color\": \"rgba(255, 76, 76, 1.000)\",\n            \"line\": {\n                \"color\": \"rgba(0, 0, 0, 1.000)\",\n                \"width\": 1\n            },\n            \"size\": 8\n        },\n        \"zmax\": 3.0,\n        \"y\": [\n            13.52\n        ],\n        \"type\": \"scatter\"\n    },\n    {\n        \"xaxis\": \"x1\",\n        \"colorbar\": {\n            \"title\": \"\"\n        },\n        \"yaxis\": \"y1\",\n        \"x\": [\n            3.0\n        ],\n        \"showlegend\": false,\n        \"mode\": \"markers\",\n        \"name\": \"y1\",\n        \"zmin\": 1.0,\n        \"legendgroup\": \"y1\",\n        \"marker\": {\n            \"symbol\": \"circle\",\n            \"color\": \"rgba(255, 76, 76, 1.000)\",\n            \"line\": {\n                \"color\": \"rgba(0, 0, 0, 1.000)\",\n                \"width\": 1\n            },\n            \"size\": 8\n        },\n        \"zmax\": 3.0,\n        \"y\": [\n            13.62\n        ],\n        \"type\": \"scatter\"\n    },\n    {\n        \"xaxis\": \"x1\",\n        \"colorbar\": {\n            \"title\": \"\"\n        },\n        \"yaxis\": \"y1\",\n        \"x\": [\n            3.0\n        ],\n        \"showlegend\": false,\n        \"mode\": \"markers\",\n        \"name\": \"y1\",\n        \"zmin\": 1.0,\n        \"legendgroup\": \"y1\",\n        \"marker\": {\n            \"symbol\": \"circle\",\n            \"color\": \"rgba(76, 204, 76, 1.000)\",\n            \"line\": {\n                \"color\": \"rgba(0, 0, 0, 1.000)\",\n                \"width\": 1\n            },\n            \"size\": 8\n        },\n        \"zmax\": 3.0,\n        \"y\": [\n            12.25\n        ],\n        \"type\": \"scatter\"\n    },\n    {\n        \"xaxis\": \"x1\",\n        \"colorbar\": {\n            \"title\": \"\"\n        },\n        \"yaxis\": \"y1\",\n        \"x\": [\n            3.0\n        ],\n        \"showlegend\": false,\n        \"mode\": \"markers\",\n        \"name\": \"y1\",\n        \"zmin\": 1.0,\n        \"legendgroup\": \"y1\",\n        \"marker\": {\n            \"symbol\": \"circle\",\n            \"color\": \"rgba(204, 76, 204, 1.000)\",\n            \"line\": {\n                \"color\": \"rgba(0, 0, 0, 1.000)\",\n                \"width\": 1\n            },\n            \"size\": 8\n        },\n        \"zmax\": 3.0,\n        \"y\": [\n            13.16\n        ],\n        \"type\": \"scatter\"\n    },\n    {\n        \"xaxis\": \"x1\",\n        \"colorbar\": {\n            \"title\": \"\"\n        },\n        \"yaxis\": \"y1\",\n        \"x\": [\n            3.0\n        ],\n        \"showlegend\": false,\n        \"mode\": \"markers\",\n        \"name\": \"y1\",\n        \"zmin\": 1.0,\n        \"legendgroup\": \"y1\",\n        \"marker\": {\n            \"symbol\": \"circle\",\n            \"color\": \"rgba(255, 76, 76, 1.000)\",\n            \"line\": {\n                \"color\": \"rgba(0, 0, 0, 1.000)\",\n                \"width\": 1\n            },\n            \"size\": 8\n        },\n        \"zmax\": 3.0,\n        \"y\": [\n            13.88\n        ],\n        \"type\": \"scatter\"\n    },\n    {\n        \"xaxis\": \"x1\",\n        \"colorbar\": {\n            \"title\": \"\"\n        },\n        \"yaxis\": \"y1\",\n        \"x\": [\n            3.0\n        ],\n        \"showlegend\": false,\n        \"mode\": \"markers\",\n        \"name\": \"y1\",\n        \"zmin\": 1.0,\n        \"legendgroup\": \"y1\",\n        \"marker\": {\n            \"symbol\": \"circle\",\n            \"color\": \"rgba(76, 204, 76, 1.000)\",\n            \"line\": {\n                \"color\": \"rgba(0, 0, 0, 1.000)\",\n                \"width\": 1\n            },\n            \"size\": 8\n        },\n        \"zmax\": 3.0,\n        \"y\": [\n            12.87\n        ],\n        \"type\": \"scatter\"\n    },\n    {\n        \"xaxis\": \"x1\",\n        \"colorbar\": {\n            \"title\": \"\"\n        },\n        \"yaxis\": \"y1\",\n        \"x\": [\n            3.0\n        ],\n        \"showlegend\": false,\n        \"mode\": \"markers\",\n        \"name\": \"y1\",\n        \"zmin\": 1.0,\n        \"legendgroup\": \"y1\",\n        \"marker\": {\n            \"symbol\": \"circle\",\n            \"color\": \"rgba(76, 204, 76, 1.000)\",\n            \"line\": {\n                \"color\": \"rgba(0, 0, 0, 1.000)\",\n                \"width\": 1\n            },\n            \"size\": 8\n        },\n        \"zmax\": 3.0,\n        \"y\": [\n            13.32\n        ],\n        \"type\": \"scatter\"\n    },\n    {\n        \"xaxis\": \"x1\",\n        \"colorbar\": {\n            \"title\": \"\"\n        },\n        \"yaxis\": \"y1\",\n        \"x\": [\n            3.0\n        ],\n        \"showlegend\": false,\n        \"mode\": \"markers\",\n        \"name\": \"y1\",\n        \"zmin\": 1.0,\n        \"legendgroup\": \"y1\",\n        \"marker\": {\n            \"symbol\": \"circle\",\n            \"color\": \"rgba(76, 204, 76, 1.000)\",\n            \"line\": {\n                \"color\": \"rgba(0, 0, 0, 1.000)\",\n                \"width\": 1\n            },\n            \"size\": 8\n        },\n        \"zmax\": 3.0,\n        \"y\": [\n            13.08\n        ],\n        \"type\": \"scatter\"\n    },\n    {\n        \"xaxis\": \"x1\",\n        \"colorbar\": {\n            \"title\": \"\"\n        },\n        \"yaxis\": \"y1\",\n        \"x\": [\n            3.0\n        ],\n        \"showlegend\": false,\n        \"mode\": \"markers\",\n        \"name\": \"y1\",\n        \"zmin\": 1.0,\n        \"legendgroup\": \"y1\",\n        \"marker\": {\n            \"symbol\": \"circle\",\n            \"color\": \"rgba(76, 204, 76, 1.000)\",\n            \"line\": {\n                \"color\": \"rgba(0, 0, 0, 1.000)\",\n                \"width\": 1\n            },\n            \"size\": 8\n        },\n        \"zmax\": 3.0,\n        \"y\": [\n            13.5\n        ],\n        \"type\": \"scatter\"\n    },\n    {\n        \"xaxis\": \"x1\",\n        \"colorbar\": {\n            \"title\": \"\"\n        },\n        \"yaxis\": \"y1\",\n        \"x\": [\n            3.0\n        ],\n        \"showlegend\": false,\n        \"mode\": \"markers\",\n        \"name\": \"y1\",\n        \"zmin\": 1.0,\n        \"legendgroup\": \"y1\",\n        \"marker\": {\n            \"symbol\": \"circle\",\n            \"color\": \"rgba(76, 204, 76, 1.000)\",\n            \"line\": {\n                \"color\": \"rgba(0, 0, 0, 1.000)\",\n                \"width\": 1\n            },\n            \"size\": 8\n        },\n        \"zmax\": 3.0,\n        \"y\": [\n            12.79\n        ],\n        \"type\": \"scatter\"\n    },\n    {\n        \"xaxis\": \"x1\",\n        \"colorbar\": {\n            \"title\": \"\"\n        },\n        \"yaxis\": \"y1\",\n        \"x\": [\n            3.0\n        ],\n        \"showlegend\": false,\n        \"mode\": \"markers\",\n        \"name\": \"y1\",\n        \"zmin\": 1.0,\n        \"legendgroup\": \"y1\",\n        \"marker\": {\n            \"symbol\": \"circle\",\n            \"color\": \"rgba(76, 204, 76, 1.000)\",\n            \"line\": {\n                \"color\": \"rgba(0, 0, 0, 1.000)\",\n                \"width\": 1\n            },\n            \"size\": 8\n        },\n        \"zmax\": 3.0,\n        \"y\": [\n            13.11\n        ],\n        \"type\": \"scatter\"\n    },\n    {\n        \"xaxis\": \"x1\",\n        \"colorbar\": {\n            \"title\": \"\"\n        },\n        \"yaxis\": \"y1\",\n        \"x\": [\n            3.0\n        ],\n        \"showlegend\": false,\n        \"mode\": \"markers\",\n        \"name\": \"y1\",\n        \"zmin\": 1.0,\n        \"legendgroup\": \"y1\",\n        \"marker\": {\n            \"symbol\": \"circle\",\n            \"color\": \"rgba(76, 204, 76, 1.000)\",\n            \"line\": {\n                \"color\": \"rgba(0, 0, 0, 1.000)\",\n                \"width\": 1\n            },\n            \"size\": 8\n        },\n        \"zmax\": 3.0,\n        \"y\": [\n            13.23\n        ],\n        \"type\": \"scatter\"\n    },\n    {\n        \"xaxis\": \"x1\",\n        \"colorbar\": {\n            \"title\": \"\"\n        },\n        \"yaxis\": \"y1\",\n        \"x\": [\n            3.0\n        ],\n        \"showlegend\": false,\n        \"mode\": \"markers\",\n        \"name\": \"y1\",\n        \"zmin\": 1.0,\n        \"legendgroup\": \"y1\",\n        \"marker\": {\n            \"symbol\": \"circle\",\n            \"color\": \"rgba(76, 204, 76, 1.000)\",\n            \"line\": {\n                \"color\": \"rgba(0, 0, 0, 1.000)\",\n                \"width\": 1\n            },\n            \"size\": 8\n        },\n        \"zmax\": 3.0,\n        \"y\": [\n            12.58\n        ],\n        \"type\": \"scatter\"\n    },\n    {\n        \"xaxis\": \"x1\",\n        \"colorbar\": {\n            \"title\": \"\"\n        },\n        \"yaxis\": \"y1\",\n        \"x\": [\n            3.0\n        ],\n        \"showlegend\": false,\n        \"mode\": \"markers\",\n        \"name\": \"y1\",\n        \"zmin\": 1.0,\n        \"legendgroup\": \"y1\",\n        \"marker\": {\n            \"symbol\": \"circle\",\n            \"color\": \"rgba(76, 204, 76, 1.000)\",\n            \"line\": {\n                \"color\": \"rgba(0, 0, 0, 1.000)\",\n                \"width\": 1\n            },\n            \"size\": 8\n        },\n        \"zmax\": 3.0,\n        \"y\": [\n            13.17\n        ],\n        \"type\": \"scatter\"\n    },\n    {\n        \"xaxis\": \"x1\",\n        \"colorbar\": {\n            \"title\": \"\"\n        },\n        \"yaxis\": \"y1\",\n        \"x\": [\n            3.0\n        ],\n        \"showlegend\": false,\n        \"mode\": \"markers\",\n        \"name\": \"y1\",\n        \"zmin\": 1.0,\n        \"legendgroup\": \"y1\",\n        \"marker\": {\n            \"symbol\": \"circle\",\n            \"color\": \"rgba(76, 204, 76, 1.000)\",\n            \"line\": {\n                \"color\": \"rgba(0, 0, 0, 1.000)\",\n                \"width\": 1\n            },\n            \"size\": 8\n        },\n        \"zmax\": 3.0,\n        \"y\": [\n            13.84\n        ],\n        \"type\": \"scatter\"\n    },\n    {\n        \"xaxis\": \"x1\",\n        \"colorbar\": {\n            \"title\": \"\"\n        },\n        \"yaxis\": \"y1\",\n        \"x\": [\n            3.0\n        ],\n        \"showlegend\": false,\n        \"mode\": \"markers\",\n        \"name\": \"y1\",\n        \"zmin\": 1.0,\n        \"legendgroup\": \"y1\",\n        \"marker\": {\n            \"symbol\": \"circle\",\n            \"color\": \"rgba(76, 204, 76, 1.000)\",\n            \"line\": {\n                \"color\": \"rgba(0, 0, 0, 1.000)\",\n                \"width\": 1\n            },\n            \"size\": 8\n        },\n        \"zmax\": 3.0,\n        \"y\": [\n            12.45\n        ],\n        \"type\": \"scatter\"\n    },\n    {\n        \"xaxis\": \"x1\",\n        \"colorbar\": {\n            \"title\": \"\"\n        },\n        \"yaxis\": \"y1\",\n        \"x\": [\n            3.0\n        ],\n        \"showlegend\": false,\n        \"mode\": \"markers\",\n        \"name\": \"y1\",\n        \"zmin\": 1.0,\n        \"legendgroup\": \"y1\",\n        \"marker\": {\n            \"symbol\": \"circle\",\n            \"color\": \"rgba(76, 204, 76, 1.000)\",\n            \"line\": {\n                \"color\": \"rgba(0, 0, 0, 1.000)\",\n                \"width\": 1\n            },\n            \"size\": 8\n        },\n        \"zmax\": 3.0,\n        \"y\": [\n            14.34\n        ],\n        \"type\": \"scatter\"\n    },\n    {\n        \"xaxis\": \"x1\",\n        \"colorbar\": {\n            \"title\": \"\"\n        },\n        \"yaxis\": \"y1\",\n        \"x\": [\n            3.0\n        ],\n        \"showlegend\": false,\n        \"mode\": \"markers\",\n        \"name\": \"y1\",\n        \"zmin\": 1.0,\n        \"legendgroup\": \"y1\",\n        \"marker\": {\n            \"symbol\": \"circle\",\n            \"color\": \"rgba(76, 204, 76, 1.000)\",\n            \"line\": {\n                \"color\": \"rgba(0, 0, 0, 1.000)\",\n                \"width\": 1\n            },\n            \"size\": 8\n        },\n        \"zmax\": 3.0,\n        \"y\": [\n            13.48\n        ],\n        \"type\": \"scatter\"\n    },\n    {\n        \"xaxis\": \"x1\",\n        \"colorbar\": {\n            \"title\": \"\"\n        },\n        \"yaxis\": \"y1\",\n        \"x\": [\n            3.0\n        ],\n        \"showlegend\": false,\n        \"mode\": \"markers\",\n        \"name\": \"y1\",\n        \"zmin\": 1.0,\n        \"legendgroup\": \"y1\",\n        \"marker\": {\n            \"symbol\": \"circle\",\n            \"color\": \"rgba(76, 204, 76, 1.000)\",\n            \"line\": {\n                \"color\": \"rgba(0, 0, 0, 1.000)\",\n                \"width\": 1\n            },\n            \"size\": 8\n        },\n        \"zmax\": 3.0,\n        \"y\": [\n            12.36\n        ],\n        \"type\": \"scatter\"\n    },\n    {\n        \"xaxis\": \"x1\",\n        \"colorbar\": {\n            \"title\": \"\"\n        },\n        \"yaxis\": \"y1\",\n        \"x\": [\n            3.0\n        ],\n        \"showlegend\": false,\n        \"mode\": \"markers\",\n        \"name\": \"y1\",\n        \"zmin\": 1.0,\n        \"legendgroup\": \"y1\",\n        \"marker\": {\n            \"symbol\": \"circle\",\n            \"color\": \"rgba(255, 76, 76, 1.000)\",\n            \"line\": {\n                \"color\": \"rgba(0, 0, 0, 1.000)\",\n                \"width\": 1\n            },\n            \"size\": 8\n        },\n        \"zmax\": 3.0,\n        \"y\": [\n            13.69\n        ],\n        \"type\": \"scatter\"\n    },\n    {\n        \"xaxis\": \"x1\",\n        \"colorbar\": {\n            \"title\": \"\"\n        },\n        \"yaxis\": \"y1\",\n        \"x\": [\n            3.0\n        ],\n        \"showlegend\": false,\n        \"mode\": \"markers\",\n        \"name\": \"y1\",\n        \"zmin\": 1.0,\n        \"legendgroup\": \"y1\",\n        \"marker\": {\n            \"symbol\": \"circle\",\n            \"color\": \"rgba(255, 76, 76, 1.000)\",\n            \"line\": {\n                \"color\": \"rgba(0, 0, 0, 1.000)\",\n                \"width\": 1\n            },\n            \"size\": 8\n        },\n        \"zmax\": 3.0,\n        \"y\": [\n            12.85\n        ],\n        \"type\": \"scatter\"\n    },\n    {\n        \"xaxis\": \"x1\",\n        \"colorbar\": {\n            \"title\": \"\"\n        },\n        \"yaxis\": \"y1\",\n        \"x\": [\n            3.0\n        ],\n        \"showlegend\": false,\n        \"mode\": \"markers\",\n        \"name\": \"y1\",\n        \"zmin\": 1.0,\n        \"legendgroup\": \"y1\",\n        \"marker\": {\n            \"symbol\": \"circle\",\n            \"color\": \"rgba(255, 76, 76, 1.000)\",\n            \"line\": {\n                \"color\": \"rgba(0, 0, 0, 1.000)\",\n                \"width\": 1\n            },\n            \"size\": 8\n        },\n        \"zmax\": 3.0,\n        \"y\": [\n            12.96\n        ],\n        \"type\": \"scatter\"\n    },\n    {\n        \"xaxis\": \"x1\",\n        \"colorbar\": {\n            \"title\": \"\"\n        },\n        \"yaxis\": \"y1\",\n        \"x\": [\n            3.0\n        ],\n        \"showlegend\": false,\n        \"mode\": \"markers\",\n        \"name\": \"y1\",\n        \"zmin\": 1.0,\n        \"legendgroup\": \"y1\",\n        \"marker\": {\n            \"symbol\": \"circle\",\n            \"color\": \"rgba(76, 204, 76, 1.000)\",\n            \"line\": {\n                \"color\": \"rgba(0, 0, 0, 1.000)\",\n                \"width\": 1\n            },\n            \"size\": 8\n        },\n        \"zmax\": 3.0,\n        \"y\": [\n            13.78\n        ],\n        \"type\": \"scatter\"\n    },\n    {\n        \"xaxis\": \"x1\",\n        \"colorbar\": {\n            \"title\": \"\"\n        },\n        \"yaxis\": \"y1\",\n        \"x\": [\n            3.0\n        ],\n        \"showlegend\": false,\n        \"mode\": \"markers\",\n        \"name\": \"y1\",\n        \"zmin\": 1.0,\n        \"legendgroup\": \"y1\",\n        \"marker\": {\n            \"symbol\": \"circle\",\n            \"color\": \"rgba(255, 76, 76, 1.000)\",\n            \"line\": {\n                \"color\": \"rgba(0, 0, 0, 1.000)\",\n                \"width\": 1\n            },\n            \"size\": 8\n        },\n        \"zmax\": 3.0,\n        \"y\": [\n            13.73\n        ],\n        \"type\": \"scatter\"\n    },\n    {\n        \"xaxis\": \"x1\",\n        \"colorbar\": {\n            \"title\": \"\"\n        },\n        \"yaxis\": \"y1\",\n        \"x\": [\n            3.0\n        ],\n        \"showlegend\": false,\n        \"mode\": \"markers\",\n        \"name\": \"y1\",\n        \"zmin\": 1.0,\n        \"legendgroup\": \"y1\",\n        \"marker\": {\n            \"symbol\": \"circle\",\n            \"color\": \"rgba(76, 204, 76, 1.000)\",\n            \"line\": {\n                \"color\": \"rgba(0, 0, 0, 1.000)\",\n                \"width\": 1\n            },\n            \"size\": 8\n        },\n        \"zmax\": 3.0,\n        \"y\": [\n            13.45\n        ],\n        \"type\": \"scatter\"\n    },\n    {\n        \"xaxis\": \"x1\",\n        \"colorbar\": {\n            \"title\": \"\"\n        },\n        \"yaxis\": \"y1\",\n        \"x\": [\n            3.0\n        ],\n        \"showlegend\": false,\n        \"mode\": \"markers\",\n        \"name\": \"y1\",\n        \"zmin\": 1.0,\n        \"legendgroup\": \"y1\",\n        \"marker\": {\n            \"symbol\": \"circle\",\n            \"color\": \"rgba(76, 204, 76, 1.000)\",\n            \"line\": {\n                \"color\": \"rgba(0, 0, 0, 1.000)\",\n                \"width\": 1\n            },\n            \"size\": 8\n        },\n        \"zmax\": 3.0,\n        \"y\": [\n            12.82\n        ],\n        \"type\": \"scatter\"\n    },\n    {\n        \"xaxis\": \"x1\",\n        \"colorbar\": {\n            \"title\": \"\"\n        },\n        \"yaxis\": \"y1\",\n        \"x\": [\n            3.0\n        ],\n        \"showlegend\": false,\n        \"mode\": \"markers\",\n        \"name\": \"y1\",\n        \"zmin\": 1.0,\n        \"legendgroup\": \"y1\",\n        \"marker\": {\n            \"symbol\": \"circle\",\n            \"color\": \"rgba(76, 204, 76, 1.000)\",\n            \"line\": {\n                \"color\": \"rgba(0, 0, 0, 1.000)\",\n                \"width\": 1\n            },\n            \"size\": 8\n        },\n        \"zmax\": 3.0,\n        \"y\": [\n            13.58\n        ],\n        \"type\": \"scatter\"\n    },\n    {\n        \"xaxis\": \"x1\",\n        \"colorbar\": {\n            \"title\": \"\"\n        },\n        \"yaxis\": \"y1\",\n        \"x\": [\n            3.0\n        ],\n        \"showlegend\": false,\n        \"mode\": \"markers\",\n        \"name\": \"y1\",\n        \"zmin\": 1.0,\n        \"legendgroup\": \"y1\",\n        \"marker\": {\n            \"symbol\": \"circle\",\n            \"color\": \"rgba(76, 204, 76, 1.000)\",\n            \"line\": {\n                \"color\": \"rgba(0, 0, 0, 1.000)\",\n                \"width\": 1\n            },\n            \"size\": 8\n        },\n        \"zmax\": 3.0,\n        \"y\": [\n            13.4\n        ],\n        \"type\": \"scatter\"\n    },\n    {\n        \"xaxis\": \"x1\",\n        \"colorbar\": {\n            \"title\": \"\"\n        },\n        \"yaxis\": \"y1\",\n        \"x\": [\n            3.0\n        ],\n        \"showlegend\": false,\n        \"mode\": \"markers\",\n        \"name\": \"y1\",\n        \"zmin\": 1.0,\n        \"legendgroup\": \"y1\",\n        \"marker\": {\n            \"symbol\": \"circle\",\n            \"color\": \"rgba(255, 76, 76, 1.000)\",\n            \"line\": {\n                \"color\": \"rgba(0, 0, 0, 1.000)\",\n                \"width\": 1\n            },\n            \"size\": 8\n        },\n        \"zmax\": 3.0,\n        \"y\": [\n            12.2\n        ],\n        \"type\": \"scatter\"\n    },\n    {\n        \"xaxis\": \"x1\",\n        \"colorbar\": {\n            \"title\": \"\"\n        },\n        \"yaxis\": \"y1\",\n        \"x\": [\n            3.0\n        ],\n        \"showlegend\": false,\n        \"mode\": \"markers\",\n        \"name\": \"y1\",\n        \"zmin\": 1.0,\n        \"legendgroup\": \"y1\",\n        \"marker\": {\n            \"symbol\": \"circle\",\n            \"color\": \"rgba(76, 204, 76, 1.000)\",\n            \"line\": {\n                \"color\": \"rgba(0, 0, 0, 1.000)\",\n                \"width\": 1\n            },\n            \"size\": 8\n        },\n        \"zmax\": 3.0,\n        \"y\": [\n            12.77\n        ],\n        \"type\": \"scatter\"\n    },\n    {\n        \"xaxis\": \"x1\",\n        \"colorbar\": {\n            \"title\": \"\"\n        },\n        \"yaxis\": \"y1\",\n        \"x\": [\n            3.0\n        ],\n        \"showlegend\": false,\n        \"mode\": \"markers\",\n        \"name\": \"y1\",\n        \"zmin\": 1.0,\n        \"legendgroup\": \"y1\",\n        \"marker\": {\n            \"symbol\": \"circle\",\n            \"color\": \"rgba(76, 204, 76, 1.000)\",\n            \"line\": {\n                \"color\": \"rgba(0, 0, 0, 1.000)\",\n                \"width\": 1\n            },\n            \"size\": 8\n        },\n        \"zmax\": 3.0,\n        \"y\": [\n            14.16\n        ],\n        \"type\": \"scatter\"\n    },\n    {\n        \"xaxis\": \"x1\",\n        \"colorbar\": {\n            \"title\": \"\"\n        },\n        \"yaxis\": \"y1\",\n        \"x\": [\n            3.0\n        ],\n        \"showlegend\": false,\n        \"mode\": \"markers\",\n        \"name\": \"y1\",\n        \"zmin\": 1.0,\n        \"legendgroup\": \"y1\",\n        \"marker\": {\n            \"symbol\": \"circle\",\n            \"color\": \"rgba(76, 204, 76, 1.000)\",\n            \"line\": {\n                \"color\": \"rgba(0, 0, 0, 1.000)\",\n                \"width\": 1\n            },\n            \"size\": 8\n        },\n        \"zmax\": 3.0,\n        \"y\": [\n            13.71\n        ],\n        \"type\": \"scatter\"\n    },\n    {\n        \"xaxis\": \"x1\",\n        \"colorbar\": {\n            \"title\": \"\"\n        },\n        \"yaxis\": \"y1\",\n        \"x\": [\n            3.0\n        ],\n        \"showlegend\": false,\n        \"mode\": \"markers\",\n        \"name\": \"y1\",\n        \"zmin\": 1.0,\n        \"legendgroup\": \"y1\",\n        \"marker\": {\n            \"symbol\": \"circle\",\n            \"color\": \"rgba(76, 204, 76, 1.000)\",\n            \"line\": {\n                \"color\": \"rgba(0, 0, 0, 1.000)\",\n                \"width\": 1\n            },\n            \"size\": 8\n        },\n        \"zmax\": 3.0,\n        \"y\": [\n            13.4\n        ],\n        \"type\": \"scatter\"\n    },\n    {\n        \"xaxis\": \"x1\",\n        \"colorbar\": {\n            \"title\": \"\"\n        },\n        \"yaxis\": \"y1\",\n        \"x\": [\n            3.0\n        ],\n        \"showlegend\": false,\n        \"mode\": \"markers\",\n        \"name\": \"y1\",\n        \"zmin\": 1.0,\n        \"legendgroup\": \"y1\",\n        \"marker\": {\n            \"symbol\": \"circle\",\n            \"color\": \"rgba(76, 204, 76, 1.000)\",\n            \"line\": {\n                \"color\": \"rgba(0, 0, 0, 1.000)\",\n                \"width\": 1\n            },\n            \"size\": 8\n        },\n        \"zmax\": 3.0,\n        \"y\": [\n            13.27\n        ],\n        \"type\": \"scatter\"\n    },\n    {\n        \"xaxis\": \"x1\",\n        \"colorbar\": {\n            \"title\": \"\"\n        },\n        \"yaxis\": \"y1\",\n        \"x\": [\n            3.0\n        ],\n        \"showlegend\": false,\n        \"mode\": \"markers\",\n        \"name\": \"y1\",\n        \"zmin\": 1.0,\n        \"legendgroup\": \"y1\",\n        \"marker\": {\n            \"symbol\": \"circle\",\n            \"color\": \"rgba(76, 204, 76, 1.000)\",\n            \"line\": {\n                \"color\": \"rgba(0, 0, 0, 1.000)\",\n                \"width\": 1\n            },\n            \"size\": 8\n        },\n        \"zmax\": 3.0,\n        \"y\": [\n            13.17\n        ],\n        \"type\": \"scatter\"\n    },\n    {\n        \"xaxis\": \"x1\",\n        \"colorbar\": {\n            \"title\": \"\"\n        },\n        \"yaxis\": \"y1\",\n        \"x\": [\n            3.0\n        ],\n        \"showlegend\": false,\n        \"mode\": \"markers\",\n        \"name\": \"y1\",\n        \"zmin\": 1.0,\n        \"legendgroup\": \"y1\",\n        \"marker\": {\n            \"symbol\": \"circle\",\n            \"color\": \"rgba(76, 204, 76, 1.000)\",\n            \"line\": {\n                \"color\": \"rgba(0, 0, 0, 1.000)\",\n                \"width\": 1\n            },\n            \"size\": 8\n        },\n        \"zmax\": 3.0,\n        \"y\": [\n            14.13\n        ],\n        \"type\": \"scatter\"\n    },\n    {\n        \"xaxis\": \"x1\",\n        \"colorbar\": {\n            \"title\": \"\"\n        },\n        \"yaxis\": \"y1\",\n        \"x\": [\n            1.0\n        ],\n        \"showlegend\": false,\n        \"mode\": \"markers\",\n        \"name\": \"y1\",\n        \"zmin\": 1.0,\n        \"marker\": {\n            \"color\": [\n                0.5\n            ],\n            \"cmin\": 1.0,\n            \"opacity\": 0,\n            \"size\": 0,\n            \"colorscale\": [\n                [\n                    0.0,\n                    \"rgba(204, 76, 204, 1.000)\"\n                ],\n                [\n                    0.25,\n                    \"rgba(76, 76, 255, 1.000)\"\n                ],\n                [\n                    0.5,\n                    \"rgba(76, 204, 76, 1.000)\"\n                ],\n                [\n                    0.75,\n                    \"rgba(255, 242, 76, 1.000)\"\n                ],\n                [\n                    1.0,\n                    \"rgba(255, 76, 76, 1.000)\"\n                ]\n            ],\n            \"cmax\": 3.0,\n            \"showscale\": false\n        },\n        \"zmax\": 3.0,\n        \"y\": [\n            14.23\n        ],\n        \"type\": \"scatter\",\n        \"hoverinfo\": \"none\"\n    }\n]\n, {\n    \"showlegend\": false,\n    \"xaxis\": {\n        \"showticklabels\": true,\n        \"gridwidth\": 0.5,\n        \"tickvals\": [\n            1.0,\n            1.5,\n            2.0,\n            2.5,\n            3.0\n        ],\n        \"visible\": true,\n        \"ticks\": \"inside\",\n        \"range\": [\n            0.94,\n            3.06\n        ],\n        \"domain\": [\n            0.03619130941965587,\n            0.9934383202099738\n        ],\n        \"tickmode\": \"array\",\n        \"linecolor\": \"rgba(0, 0, 0, 1.000)\",\n        \"showgrid\": true,\n        \"title\": \"\",\n        \"mirror\": false,\n        \"tickangle\": 0,\n        \"showline\": true,\n        \"gridcolor\": \"rgba(0, 0, 0, 0.100)\",\n        \"titlefont\": {\n            \"color\": \"rgba(0, 0, 0, 1.000)\",\n            \"family\": \"sans-serif\",\n            \"size\": 15\n        },\n        \"tickcolor\": \"rgb(0, 0, 0)\",\n        \"ticktext\": [\n            \"1.0\",\n            \"1.5\",\n            \"2.0\",\n            \"2.5\",\n            \"3.0\"\n        ],\n        \"zeroline\": false,\n        \"type\": \"-\",\n        \"tickfont\": {\n            \"color\": \"rgba(0, 0, 0, 1.000)\",\n            \"family\": \"sans-serif\",\n            \"size\": 11\n        },\n        \"zerolinecolor\": \"rgba(0, 0, 0, 1.000)\",\n        \"anchor\": \"y1\"\n    },\n    \"paper_bgcolor\": \"rgba(255, 255, 255, 1.000)\",\n    \"annotations\": [],\n    \"height\": 400,\n    \"margin\": {\n        \"l\": 0,\n        \"b\": 20,\n        \"r\": 0,\n        \"t\": 20\n    },\n    \"plot_bgcolor\": \"rgba(255, 255, 255, 1.000)\",\n    \"yaxis\": {\n        \"showticklabels\": true,\n        \"gridwidth\": 0.5,\n        \"tickvals\": [\n            11.0,\n            12.0,\n            13.0,\n            14.0\n        ],\n        \"visible\": true,\n        \"ticks\": \"inside\",\n        \"range\": [\n            10.915999999999999,\n            14.944\n        ],\n        \"domain\": [\n            0.03762029746281716,\n            0.9901574803149606\n        ],\n        \"tickmode\": \"array\",\n        \"linecolor\": \"rgba(0, 0, 0, 1.000)\",\n        \"showgrid\": true,\n        \"title\": \"\",\n        \"mirror\": false,\n        \"tickangle\": 0,\n        \"showline\": true,\n        \"gridcolor\": \"rgba(0, 0, 0, 0.100)\",\n        \"titlefont\": {\n            \"color\": \"rgba(0, 0, 0, 1.000)\",\n            \"family\": \"sans-serif\",\n            \"size\": 15\n        },\n        \"tickcolor\": \"rgb(0, 0, 0)\",\n        \"ticktext\": [\n            \"11\",\n            \"12\",\n            \"13\",\n            \"14\"\n        ],\n        \"zeroline\": false,\n        \"type\": \"-\",\n        \"tickfont\": {\n            \"color\": \"rgba(0, 0, 0, 1.000)\",\n            \"family\": \"sans-serif\",\n            \"size\": 11\n        },\n        \"zerolinecolor\": \"rgba(0, 0, 0, 1.000)\",\n        \"anchor\": \"x1\"\n    },\n    \"width\": 600\n}\n);\n    </script>\n\n    </body>\n</html>\n",
            "application/vnd.plotly.v1+json": {
              "layout": {
                "showlegend": false,
                "xaxis": {
                  "showticklabels": true,
                  "gridwidth": 0.5,
                  "tickvals": [
                    1,
                    1.5,
                    2,
                    2.5,
                    3
                  ],
                  "visible": true,
                  "ticks": "inside",
                  "range": [
                    0.94,
                    3.06
                  ],
                  "domain": [
                    0.03619130941965587,
                    0.9934383202099738
                  ],
                  "tickmode": "array",
                  "linecolor": "rgba(0, 0, 0, 1.000)",
                  "showgrid": true,
                  "title": "",
                  "mirror": false,
                  "tickangle": 0,
                  "showline": true,
                  "gridcolor": "rgba(0, 0, 0, 0.100)",
                  "titlefont": {
                    "color": "rgba(0, 0, 0, 1.000)",
                    "family": "sans-serif",
                    "size": 15
                  },
                  "tickcolor": "rgb(0, 0, 0)",
                  "ticktext": [
                    "1.0",
                    "1.5",
                    "2.0",
                    "2.5",
                    "3.0"
                  ],
                  "zeroline": false,
                  "type": "-",
                  "tickfont": {
                    "color": "rgba(0, 0, 0, 1.000)",
                    "family": "sans-serif",
                    "size": 11
                  },
                  "zerolinecolor": "rgba(0, 0, 0, 1.000)",
                  "anchor": "y1"
                },
                "paper_bgcolor": "rgba(255, 255, 255, 1.000)",
                "annotations": [],
                "height": 400,
                "margin": {
                  "l": 0,
                  "b": 20,
                  "r": 0,
                  "t": 20
                },
                "plot_bgcolor": "rgba(255, 255, 255, 1.000)",
                "yaxis": {
                  "showticklabels": true,
                  "gridwidth": 0.5,
                  "tickvals": [
                    11,
                    12,
                    13,
                    14
                  ],
                  "visible": true,
                  "ticks": "inside",
                  "range": [
                    10.915999999999999,
                    14.944
                  ],
                  "domain": [
                    0.03762029746281716,
                    0.9901574803149606
                  ],
                  "tickmode": "array",
                  "linecolor": "rgba(0, 0, 0, 1.000)",
                  "showgrid": true,
                  "title": "",
                  "mirror": false,
                  "tickangle": 0,
                  "showline": true,
                  "gridcolor": "rgba(0, 0, 0, 0.100)",
                  "titlefont": {
                    "color": "rgba(0, 0, 0, 1.000)",
                    "family": "sans-serif",
                    "size": 15
                  },
                  "tickcolor": "rgb(0, 0, 0)",
                  "ticktext": [
                    "11",
                    "12",
                    "13",
                    "14"
                  ],
                  "zeroline": false,
                  "type": "-",
                  "tickfont": {
                    "color": "rgba(0, 0, 0, 1.000)",
                    "family": "sans-serif",
                    "size": 11
                  },
                  "zerolinecolor": "rgba(0, 0, 0, 1.000)",
                  "anchor": "x1"
                },
                "width": 600
              },
              "data": [
                {
                  "xaxis": "x1",
                  "colorbar": {
                    "title": ""
                  },
                  "yaxis": "y1",
                  "x": [
                    1
                  ],
                  "showlegend": true,
                  "mode": "markers",
                  "name": "y1",
                  "zmin": 1,
                  "legendgroup": "y1",
                  "marker": {
                    "symbol": "circle",
                    "color": "rgba(255, 76, 76, 1.000)",
                    "line": {
                      "color": "rgba(0, 0, 0, 1.000)",
                      "width": 1
                    },
                    "size": 8
                  },
                  "zmax": 3,
                  "y": [
                    14.23
                  ],
                  "type": "scatter"
                },
                {
                  "xaxis": "x1",
                  "colorbar": {
                    "title": ""
                  },
                  "yaxis": "y1",
                  "x": [
                    1
                  ],
                  "showlegend": false,
                  "mode": "markers",
                  "name": "y1",
                  "zmin": 1,
                  "legendgroup": "y1",
                  "marker": {
                    "symbol": "circle",
                    "color": "rgba(255, 76, 76, 1.000)",
                    "line": {
                      "color": "rgba(0, 0, 0, 1.000)",
                      "width": 1
                    },
                    "size": 8
                  },
                  "zmax": 3,
                  "y": [
                    13.2
                  ],
                  "type": "scatter"
                },
                {
                  "xaxis": "x1",
                  "colorbar": {
                    "title": ""
                  },
                  "yaxis": "y1",
                  "x": [
                    1
                  ],
                  "showlegend": false,
                  "mode": "markers",
                  "name": "y1",
                  "zmin": 1,
                  "legendgroup": "y1",
                  "marker": {
                    "symbol": "circle",
                    "color": "rgba(255, 76, 76, 1.000)",
                    "line": {
                      "color": "rgba(0, 0, 0, 1.000)",
                      "width": 1
                    },
                    "size": 8
                  },
                  "zmax": 3,
                  "y": [
                    13.16
                  ],
                  "type": "scatter"
                },
                {
                  "xaxis": "x1",
                  "colorbar": {
                    "title": ""
                  },
                  "yaxis": "y1",
                  "x": [
                    1
                  ],
                  "showlegend": false,
                  "mode": "markers",
                  "name": "y1",
                  "zmin": 1,
                  "legendgroup": "y1",
                  "marker": {
                    "symbol": "circle",
                    "color": "rgba(76, 204, 76, 1.000)",
                    "line": {
                      "color": "rgba(0, 0, 0, 1.000)",
                      "width": 1
                    },
                    "size": 8
                  },
                  "zmax": 3,
                  "y": [
                    14.37
                  ],
                  "type": "scatter"
                },
                {
                  "xaxis": "x1",
                  "colorbar": {
                    "title": ""
                  },
                  "yaxis": "y1",
                  "x": [
                    1
                  ],
                  "showlegend": false,
                  "mode": "markers",
                  "name": "y1",
                  "zmin": 1,
                  "legendgroup": "y1",
                  "marker": {
                    "symbol": "circle",
                    "color": "rgba(255, 76, 76, 1.000)",
                    "line": {
                      "color": "rgba(0, 0, 0, 1.000)",
                      "width": 1
                    },
                    "size": 8
                  },
                  "zmax": 3,
                  "y": [
                    13.24
                  ],
                  "type": "scatter"
                },
                {
                  "xaxis": "x1",
                  "colorbar": {
                    "title": ""
                  },
                  "yaxis": "y1",
                  "x": [
                    1
                  ],
                  "showlegend": false,
                  "mode": "markers",
                  "name": "y1",
                  "zmin": 1,
                  "legendgroup": "y1",
                  "marker": {
                    "symbol": "circle",
                    "color": "rgba(255, 76, 76, 1.000)",
                    "line": {
                      "color": "rgba(0, 0, 0, 1.000)",
                      "width": 1
                    },
                    "size": 8
                  },
                  "zmax": 3,
                  "y": [
                    14.2
                  ],
                  "type": "scatter"
                },
                {
                  "xaxis": "x1",
                  "colorbar": {
                    "title": ""
                  },
                  "yaxis": "y1",
                  "x": [
                    1
                  ],
                  "showlegend": false,
                  "mode": "markers",
                  "name": "y1",
                  "zmin": 1,
                  "legendgroup": "y1",
                  "marker": {
                    "symbol": "circle",
                    "color": "rgba(255, 76, 76, 1.000)",
                    "line": {
                      "color": "rgba(0, 0, 0, 1.000)",
                      "width": 1
                    },
                    "size": 8
                  },
                  "zmax": 3,
                  "y": [
                    14.39
                  ],
                  "type": "scatter"
                },
                {
                  "xaxis": "x1",
                  "colorbar": {
                    "title": ""
                  },
                  "yaxis": "y1",
                  "x": [
                    1
                  ],
                  "showlegend": false,
                  "mode": "markers",
                  "name": "y1",
                  "zmin": 1,
                  "legendgroup": "y1",
                  "marker": {
                    "symbol": "circle",
                    "color": "rgba(255, 76, 76, 1.000)",
                    "line": {
                      "color": "rgba(0, 0, 0, 1.000)",
                      "width": 1
                    },
                    "size": 8
                  },
                  "zmax": 3,
                  "y": [
                    14.06
                  ],
                  "type": "scatter"
                },
                {
                  "xaxis": "x1",
                  "colorbar": {
                    "title": ""
                  },
                  "yaxis": "y1",
                  "x": [
                    1
                  ],
                  "showlegend": false,
                  "mode": "markers",
                  "name": "y1",
                  "zmin": 1,
                  "legendgroup": "y1",
                  "marker": {
                    "symbol": "circle",
                    "color": "rgba(255, 76, 76, 1.000)",
                    "line": {
                      "color": "rgba(0, 0, 0, 1.000)",
                      "width": 1
                    },
                    "size": 8
                  },
                  "zmax": 3,
                  "y": [
                    14.83
                  ],
                  "type": "scatter"
                },
                {
                  "xaxis": "x1",
                  "colorbar": {
                    "title": ""
                  },
                  "yaxis": "y1",
                  "x": [
                    1
                  ],
                  "showlegend": false,
                  "mode": "markers",
                  "name": "y1",
                  "zmin": 1,
                  "legendgroup": "y1",
                  "marker": {
                    "symbol": "circle",
                    "color": "rgba(255, 76, 76, 1.000)",
                    "line": {
                      "color": "rgba(0, 0, 0, 1.000)",
                      "width": 1
                    },
                    "size": 8
                  },
                  "zmax": 3,
                  "y": [
                    13.86
                  ],
                  "type": "scatter"
                },
                {
                  "xaxis": "x1",
                  "colorbar": {
                    "title": ""
                  },
                  "yaxis": "y1",
                  "x": [
                    1
                  ],
                  "showlegend": false,
                  "mode": "markers",
                  "name": "y1",
                  "zmin": 1,
                  "legendgroup": "y1",
                  "marker": {
                    "symbol": "circle",
                    "color": "rgba(255, 76, 76, 1.000)",
                    "line": {
                      "color": "rgba(0, 0, 0, 1.000)",
                      "width": 1
                    },
                    "size": 8
                  },
                  "zmax": 3,
                  "y": [
                    14.1
                  ],
                  "type": "scatter"
                },
                {
                  "xaxis": "x1",
                  "colorbar": {
                    "title": ""
                  },
                  "yaxis": "y1",
                  "x": [
                    1
                  ],
                  "showlegend": false,
                  "mode": "markers",
                  "name": "y1",
                  "zmin": 1,
                  "legendgroup": "y1",
                  "marker": {
                    "symbol": "circle",
                    "color": "rgba(255, 76, 76, 1.000)",
                    "line": {
                      "color": "rgba(0, 0, 0, 1.000)",
                      "width": 1
                    },
                    "size": 8
                  },
                  "zmax": 3,
                  "y": [
                    14.12
                  ],
                  "type": "scatter"
                },
                {
                  "xaxis": "x1",
                  "colorbar": {
                    "title": ""
                  },
                  "yaxis": "y1",
                  "x": [
                    1
                  ],
                  "showlegend": false,
                  "mode": "markers",
                  "name": "y1",
                  "zmin": 1,
                  "legendgroup": "y1",
                  "marker": {
                    "symbol": "circle",
                    "color": "rgba(255, 76, 76, 1.000)",
                    "line": {
                      "color": "rgba(0, 0, 0, 1.000)",
                      "width": 1
                    },
                    "size": 8
                  },
                  "zmax": 3,
                  "y": [
                    13.75
                  ],
                  "type": "scatter"
                },
                {
                  "xaxis": "x1",
                  "colorbar": {
                    "title": ""
                  },
                  "yaxis": "y1",
                  "x": [
                    1
                  ],
                  "showlegend": false,
                  "mode": "markers",
                  "name": "y1",
                  "zmin": 1,
                  "legendgroup": "y1",
                  "marker": {
                    "symbol": "circle",
                    "color": "rgba(255, 76, 76, 1.000)",
                    "line": {
                      "color": "rgba(0, 0, 0, 1.000)",
                      "width": 1
                    },
                    "size": 8
                  },
                  "zmax": 3,
                  "y": [
                    14.75
                  ],
                  "type": "scatter"
                },
                {
                  "xaxis": "x1",
                  "colorbar": {
                    "title": ""
                  },
                  "yaxis": "y1",
                  "x": [
                    1
                  ],
                  "showlegend": false,
                  "mode": "markers",
                  "name": "y1",
                  "zmin": 1,
                  "legendgroup": "y1",
                  "marker": {
                    "symbol": "circle",
                    "color": "rgba(255, 76, 76, 1.000)",
                    "line": {
                      "color": "rgba(0, 0, 0, 1.000)",
                      "width": 1
                    },
                    "size": 8
                  },
                  "zmax": 3,
                  "y": [
                    14.38
                  ],
                  "type": "scatter"
                },
                {
                  "xaxis": "x1",
                  "colorbar": {
                    "title": ""
                  },
                  "yaxis": "y1",
                  "x": [
                    1
                  ],
                  "showlegend": false,
                  "mode": "markers",
                  "name": "y1",
                  "zmin": 1,
                  "legendgroup": "y1",
                  "marker": {
                    "symbol": "circle",
                    "color": "rgba(255, 76, 76, 1.000)",
                    "line": {
                      "color": "rgba(0, 0, 0, 1.000)",
                      "width": 1
                    },
                    "size": 8
                  },
                  "zmax": 3,
                  "y": [
                    13.63
                  ],
                  "type": "scatter"
                },
                {
                  "xaxis": "x1",
                  "colorbar": {
                    "title": ""
                  },
                  "yaxis": "y1",
                  "x": [
                    1
                  ],
                  "showlegend": false,
                  "mode": "markers",
                  "name": "y1",
                  "zmin": 1,
                  "legendgroup": "y1",
                  "marker": {
                    "symbol": "circle",
                    "color": "rgba(255, 76, 76, 1.000)",
                    "line": {
                      "color": "rgba(0, 0, 0, 1.000)",
                      "width": 1
                    },
                    "size": 8
                  },
                  "zmax": 3,
                  "y": [
                    14.3
                  ],
                  "type": "scatter"
                },
                {
                  "xaxis": "x1",
                  "colorbar": {
                    "title": ""
                  },
                  "yaxis": "y1",
                  "x": [
                    1
                  ],
                  "showlegend": false,
                  "mode": "markers",
                  "name": "y1",
                  "zmin": 1,
                  "legendgroup": "y1",
                  "marker": {
                    "symbol": "circle",
                    "color": "rgba(255, 76, 76, 1.000)",
                    "line": {
                      "color": "rgba(0, 0, 0, 1.000)",
                      "width": 1
                    },
                    "size": 8
                  },
                  "zmax": 3,
                  "y": [
                    13.83
                  ],
                  "type": "scatter"
                },
                {
                  "xaxis": "x1",
                  "colorbar": {
                    "title": ""
                  },
                  "yaxis": "y1",
                  "x": [
                    1
                  ],
                  "showlegend": false,
                  "mode": "markers",
                  "name": "y1",
                  "zmin": 1,
                  "legendgroup": "y1",
                  "marker": {
                    "symbol": "circle",
                    "color": "rgba(76, 204, 76, 1.000)",
                    "line": {
                      "color": "rgba(0, 0, 0, 1.000)",
                      "width": 1
                    },
                    "size": 8
                  },
                  "zmax": 3,
                  "y": [
                    14.19
                  ],
                  "type": "scatter"
                },
                {
                  "xaxis": "x1",
                  "colorbar": {
                    "title": ""
                  },
                  "yaxis": "y1",
                  "x": [
                    1
                  ],
                  "showlegend": false,
                  "mode": "markers",
                  "name": "y1",
                  "zmin": 1,
                  "legendgroup": "y1",
                  "marker": {
                    "symbol": "circle",
                    "color": "rgba(255, 76, 76, 1.000)",
                    "line": {
                      "color": "rgba(0, 0, 0, 1.000)",
                      "width": 1
                    },
                    "size": 8
                  },
                  "zmax": 3,
                  "y": [
                    13.64
                  ],
                  "type": "scatter"
                },
                {
                  "xaxis": "x1",
                  "colorbar": {
                    "title": ""
                  },
                  "yaxis": "y1",
                  "x": [
                    1
                  ],
                  "showlegend": false,
                  "mode": "markers",
                  "name": "y1",
                  "zmin": 1,
                  "legendgroup": "y1",
                  "marker": {
                    "symbol": "circle",
                    "color": "rgba(255, 76, 76, 1.000)",
                    "line": {
                      "color": "rgba(0, 0, 0, 1.000)",
                      "width": 1
                    },
                    "size": 8
                  },
                  "zmax": 3,
                  "y": [
                    14.06
                  ],
                  "type": "scatter"
                },
                {
                  "xaxis": "x1",
                  "colorbar": {
                    "title": ""
                  },
                  "yaxis": "y1",
                  "x": [
                    1
                  ],
                  "showlegend": false,
                  "mode": "markers",
                  "name": "y1",
                  "zmin": 1,
                  "legendgroup": "y1",
                  "marker": {
                    "symbol": "circle",
                    "color": "rgba(255, 76, 76, 1.000)",
                    "line": {
                      "color": "rgba(0, 0, 0, 1.000)",
                      "width": 1
                    },
                    "size": 8
                  },
                  "zmax": 3,
                  "y": [
                    12.93
                  ],
                  "type": "scatter"
                },
                {
                  "xaxis": "x1",
                  "colorbar": {
                    "title": ""
                  },
                  "yaxis": "y1",
                  "x": [
                    1
                  ],
                  "showlegend": false,
                  "mode": "markers",
                  "name": "y1",
                  "zmin": 1,
                  "legendgroup": "y1",
                  "marker": {
                    "symbol": "circle",
                    "color": "rgba(255, 76, 76, 1.000)",
                    "line": {
                      "color": "rgba(0, 0, 0, 1.000)",
                      "width": 1
                    },
                    "size": 8
                  },
                  "zmax": 3,
                  "y": [
                    13.71
                  ],
                  "type": "scatter"
                },
                {
                  "xaxis": "x1",
                  "colorbar": {
                    "title": ""
                  },
                  "yaxis": "y1",
                  "x": [
                    1
                  ],
                  "showlegend": false,
                  "mode": "markers",
                  "name": "y1",
                  "zmin": 1,
                  "legendgroup": "y1",
                  "marker": {
                    "symbol": "circle",
                    "color": "rgba(204, 76, 204, 1.000)",
                    "line": {
                      "color": "rgba(0, 0, 0, 1.000)",
                      "width": 1
                    },
                    "size": 8
                  },
                  "zmax": 3,
                  "y": [
                    12.85
                  ],
                  "type": "scatter"
                },
                {
                  "xaxis": "x1",
                  "colorbar": {
                    "title": ""
                  },
                  "yaxis": "y1",
                  "x": [
                    1
                  ],
                  "showlegend": false,
                  "mode": "markers",
                  "name": "y1",
                  "zmin": 1,
                  "legendgroup": "y1",
                  "marker": {
                    "symbol": "circle",
                    "color": "rgba(204, 76, 204, 1.000)",
                    "line": {
                      "color": "rgba(0, 0, 0, 1.000)",
                      "width": 1
                    },
                    "size": 8
                  },
                  "zmax": 3,
                  "y": [
                    13.5
                  ],
                  "type": "scatter"
                },
                {
                  "xaxis": "x1",
                  "colorbar": {
                    "title": ""
                  },
                  "yaxis": "y1",
                  "x": [
                    1
                  ],
                  "showlegend": false,
                  "mode": "markers",
                  "name": "y1",
                  "zmin": 1,
                  "legendgroup": "y1",
                  "marker": {
                    "symbol": "circle",
                    "color": "rgba(204, 76, 204, 1.000)",
                    "line": {
                      "color": "rgba(0, 0, 0, 1.000)",
                      "width": 1
                    },
                    "size": 8
                  },
                  "zmax": 3,
                  "y": [
                    13.05
                  ],
                  "type": "scatter"
                },
                {
                  "xaxis": "x1",
                  "colorbar": {
                    "title": ""
                  },
                  "yaxis": "y1",
                  "x": [
                    1
                  ],
                  "showlegend": false,
                  "mode": "markers",
                  "name": "y1",
                  "zmin": 1,
                  "legendgroup": "y1",
                  "marker": {
                    "symbol": "circle",
                    "color": "rgba(255, 76, 76, 1.000)",
                    "line": {
                      "color": "rgba(0, 0, 0, 1.000)",
                      "width": 1
                    },
                    "size": 8
                  },
                  "zmax": 3,
                  "y": [
                    13.39
                  ],
                  "type": "scatter"
                },
                {
                  "xaxis": "x1",
                  "colorbar": {
                    "title": ""
                  },
                  "yaxis": "y1",
                  "x": [
                    1
                  ],
                  "showlegend": false,
                  "mode": "markers",
                  "name": "y1",
                  "zmin": 1,
                  "legendgroup": "y1",
                  "marker": {
                    "symbol": "circle",
                    "color": "rgba(255, 76, 76, 1.000)",
                    "line": {
                      "color": "rgba(0, 0, 0, 1.000)",
                      "width": 1
                    },
                    "size": 8
                  },
                  "zmax": 3,
                  "y": [
                    13.3
                  ],
                  "type": "scatter"
                },
                {
                  "xaxis": "x1",
                  "colorbar": {
                    "title": ""
                  },
                  "yaxis": "y1",
                  "x": [
                    1
                  ],
                  "showlegend": false,
                  "mode": "markers",
                  "name": "y1",
                  "zmin": 1,
                  "legendgroup": "y1",
                  "marker": {
                    "symbol": "circle",
                    "color": "rgba(255, 76, 76, 1.000)",
                    "line": {
                      "color": "rgba(0, 0, 0, 1.000)",
                      "width": 1
                    },
                    "size": 8
                  },
                  "zmax": 3,
                  "y": [
                    13.87
                  ],
                  "type": "scatter"
                },
                {
                  "xaxis": "x1",
                  "colorbar": {
                    "title": ""
                  },
                  "yaxis": "y1",
                  "x": [
                    1
                  ],
                  "showlegend": false,
                  "mode": "markers",
                  "name": "y1",
                  "zmin": 1,
                  "legendgroup": "y1",
                  "marker": {
                    "symbol": "circle",
                    "color": "rgba(255, 76, 76, 1.000)",
                    "line": {
                      "color": "rgba(0, 0, 0, 1.000)",
                      "width": 1
                    },
                    "size": 8
                  },
                  "zmax": 3,
                  "y": [
                    14.02
                  ],
                  "type": "scatter"
                },
                {
                  "xaxis": "x1",
                  "colorbar": {
                    "title": ""
                  },
                  "yaxis": "y1",
                  "x": [
                    1
                  ],
                  "showlegend": false,
                  "mode": "markers",
                  "name": "y1",
                  "zmin": 1,
                  "legendgroup": "y1",
                  "marker": {
                    "symbol": "circle",
                    "color": "rgba(255, 76, 76, 1.000)",
                    "line": {
                      "color": "rgba(0, 0, 0, 1.000)",
                      "width": 1
                    },
                    "size": 8
                  },
                  "zmax": 3,
                  "y": [
                    13.73
                  ],
                  "type": "scatter"
                },
                {
                  "xaxis": "x1",
                  "colorbar": {
                    "title": ""
                  },
                  "yaxis": "y1",
                  "x": [
                    1
                  ],
                  "showlegend": false,
                  "mode": "markers",
                  "name": "y1",
                  "zmin": 1,
                  "legendgroup": "y1",
                  "marker": {
                    "symbol": "circle",
                    "color": "rgba(255, 76, 76, 1.000)",
                    "line": {
                      "color": "rgba(0, 0, 0, 1.000)",
                      "width": 1
                    },
                    "size": 8
                  },
                  "zmax": 3,
                  "y": [
                    13.58
                  ],
                  "type": "scatter"
                },
                {
                  "xaxis": "x1",
                  "colorbar": {
                    "title": ""
                  },
                  "yaxis": "y1",
                  "x": [
                    1
                  ],
                  "showlegend": false,
                  "mode": "markers",
                  "name": "y1",
                  "zmin": 1,
                  "legendgroup": "y1",
                  "marker": {
                    "symbol": "circle",
                    "color": "rgba(255, 76, 76, 1.000)",
                    "line": {
                      "color": "rgba(0, 0, 0, 1.000)",
                      "width": 1
                    },
                    "size": 8
                  },
                  "zmax": 3,
                  "y": [
                    13.68
                  ],
                  "type": "scatter"
                },
                {
                  "xaxis": "x1",
                  "colorbar": {
                    "title": ""
                  },
                  "yaxis": "y1",
                  "x": [
                    1
                  ],
                  "showlegend": false,
                  "mode": "markers",
                  "name": "y1",
                  "zmin": 1,
                  "legendgroup": "y1",
                  "marker": {
                    "symbol": "circle",
                    "color": "rgba(255, 76, 76, 1.000)",
                    "line": {
                      "color": "rgba(0, 0, 0, 1.000)",
                      "width": 1
                    },
                    "size": 8
                  },
                  "zmax": 3,
                  "y": [
                    13.76
                  ],
                  "type": "scatter"
                },
                {
                  "xaxis": "x1",
                  "colorbar": {
                    "title": ""
                  },
                  "yaxis": "y1",
                  "x": [
                    1
                  ],
                  "showlegend": false,
                  "mode": "markers",
                  "name": "y1",
                  "zmin": 1,
                  "legendgroup": "y1",
                  "marker": {
                    "symbol": "circle",
                    "color": "rgba(255, 76, 76, 1.000)",
                    "line": {
                      "color": "rgba(0, 0, 0, 1.000)",
                      "width": 1
                    },
                    "size": 8
                  },
                  "zmax": 3,
                  "y": [
                    13.51
                  ],
                  "type": "scatter"
                },
                {
                  "xaxis": "x1",
                  "colorbar": {
                    "title": ""
                  },
                  "yaxis": "y1",
                  "x": [
                    1
                  ],
                  "showlegend": false,
                  "mode": "markers",
                  "name": "y1",
                  "zmin": 1,
                  "legendgroup": "y1",
                  "marker": {
                    "symbol": "circle",
                    "color": "rgba(255, 76, 76, 1.000)",
                    "line": {
                      "color": "rgba(0, 0, 0, 1.000)",
                      "width": 1
                    },
                    "size": 8
                  },
                  "zmax": 3,
                  "y": [
                    13.48
                  ],
                  "type": "scatter"
                },
                {
                  "xaxis": "x1",
                  "colorbar": {
                    "title": ""
                  },
                  "yaxis": "y1",
                  "x": [
                    1
                  ],
                  "showlegend": false,
                  "mode": "markers",
                  "name": "y1",
                  "zmin": 1,
                  "legendgroup": "y1",
                  "marker": {
                    "symbol": "circle",
                    "color": "rgba(255, 76, 76, 1.000)",
                    "line": {
                      "color": "rgba(0, 0, 0, 1.000)",
                      "width": 1
                    },
                    "size": 8
                  },
                  "zmax": 3,
                  "y": [
                    13.28
                  ],
                  "type": "scatter"
                },
                {
                  "xaxis": "x1",
                  "colorbar": {
                    "title": ""
                  },
                  "yaxis": "y1",
                  "x": [
                    1
                  ],
                  "showlegend": false,
                  "mode": "markers",
                  "name": "y1",
                  "zmin": 1,
                  "legendgroup": "y1",
                  "marker": {
                    "symbol": "circle",
                    "color": "rgba(255, 76, 76, 1.000)",
                    "line": {
                      "color": "rgba(0, 0, 0, 1.000)",
                      "width": 1
                    },
                    "size": 8
                  },
                  "zmax": 3,
                  "y": [
                    13.05
                  ],
                  "type": "scatter"
                },
                {
                  "xaxis": "x1",
                  "colorbar": {
                    "title": ""
                  },
                  "yaxis": "y1",
                  "x": [
                    1
                  ],
                  "showlegend": false,
                  "mode": "markers",
                  "name": "y1",
                  "zmin": 1,
                  "legendgroup": "y1",
                  "marker": {
                    "symbol": "circle",
                    "color": "rgba(204, 76, 204, 1.000)",
                    "line": {
                      "color": "rgba(0, 0, 0, 1.000)",
                      "width": 1
                    },
                    "size": 8
                  },
                  "zmax": 3,
                  "y": [
                    13.07
                  ],
                  "type": "scatter"
                },
                {
                  "xaxis": "x1",
                  "colorbar": {
                    "title": ""
                  },
                  "yaxis": "y1",
                  "x": [
                    1
                  ],
                  "showlegend": false,
                  "mode": "markers",
                  "name": "y1",
                  "zmin": 1,
                  "legendgroup": "y1",
                  "marker": {
                    "symbol": "circle",
                    "color": "rgba(255, 76, 76, 1.000)",
                    "line": {
                      "color": "rgba(0, 0, 0, 1.000)",
                      "width": 1
                    },
                    "size": 8
                  },
                  "zmax": 3,
                  "y": [
                    14.22
                  ],
                  "type": "scatter"
                },
                {
                  "xaxis": "x1",
                  "colorbar": {
                    "title": ""
                  },
                  "yaxis": "y1",
                  "x": [
                    1
                  ],
                  "showlegend": false,
                  "mode": "markers",
                  "name": "y1",
                  "zmin": 1,
                  "legendgroup": "y1",
                  "marker": {
                    "symbol": "circle",
                    "color": "rgba(255, 76, 76, 1.000)",
                    "line": {
                      "color": "rgba(0, 0, 0, 1.000)",
                      "width": 1
                    },
                    "size": 8
                  },
                  "zmax": 3,
                  "y": [
                    13.56
                  ],
                  "type": "scatter"
                },
                {
                  "xaxis": "x1",
                  "colorbar": {
                    "title": ""
                  },
                  "yaxis": "y1",
                  "x": [
                    1
                  ],
                  "showlegend": false,
                  "mode": "markers",
                  "name": "y1",
                  "zmin": 1,
                  "legendgroup": "y1",
                  "marker": {
                    "symbol": "circle",
                    "color": "rgba(255, 76, 76, 1.000)",
                    "line": {
                      "color": "rgba(0, 0, 0, 1.000)",
                      "width": 1
                    },
                    "size": 8
                  },
                  "zmax": 3,
                  "y": [
                    13.41
                  ],
                  "type": "scatter"
                },
                {
                  "xaxis": "x1",
                  "colorbar": {
                    "title": ""
                  },
                  "yaxis": "y1",
                  "x": [
                    1
                  ],
                  "showlegend": false,
                  "mode": "markers",
                  "name": "y1",
                  "zmin": 1,
                  "legendgroup": "y1",
                  "marker": {
                    "symbol": "circle",
                    "color": "rgba(255, 76, 76, 1.000)",
                    "line": {
                      "color": "rgba(0, 0, 0, 1.000)",
                      "width": 1
                    },
                    "size": 8
                  },
                  "zmax": 3,
                  "y": [
                    13.88
                  ],
                  "type": "scatter"
                },
                {
                  "xaxis": "x1",
                  "colorbar": {
                    "title": ""
                  },
                  "yaxis": "y1",
                  "x": [
                    1
                  ],
                  "showlegend": false,
                  "mode": "markers",
                  "name": "y1",
                  "zmin": 1,
                  "legendgroup": "y1",
                  "marker": {
                    "symbol": "circle",
                    "color": "rgba(255, 76, 76, 1.000)",
                    "line": {
                      "color": "rgba(0, 0, 0, 1.000)",
                      "width": 1
                    },
                    "size": 8
                  },
                  "zmax": 3,
                  "y": [
                    13.24
                  ],
                  "type": "scatter"
                },
                {
                  "xaxis": "x1",
                  "colorbar": {
                    "title": ""
                  },
                  "yaxis": "y1",
                  "x": [
                    1
                  ],
                  "showlegend": false,
                  "mode": "markers",
                  "name": "y1",
                  "zmin": 1,
                  "legendgroup": "y1",
                  "marker": {
                    "symbol": "circle",
                    "color": "rgba(255, 76, 76, 1.000)",
                    "line": {
                      "color": "rgba(0, 0, 0, 1.000)",
                      "width": 1
                    },
                    "size": 8
                  },
                  "zmax": 3,
                  "y": [
                    13.05
                  ],
                  "type": "scatter"
                },
                {
                  "xaxis": "x1",
                  "colorbar": {
                    "title": ""
                  },
                  "yaxis": "y1",
                  "x": [
                    1
                  ],
                  "showlegend": false,
                  "mode": "markers",
                  "name": "y1",
                  "zmin": 1,
                  "legendgroup": "y1",
                  "marker": {
                    "symbol": "circle",
                    "color": "rgba(255, 76, 76, 1.000)",
                    "line": {
                      "color": "rgba(0, 0, 0, 1.000)",
                      "width": 1
                    },
                    "size": 8
                  },
                  "zmax": 3,
                  "y": [
                    14.21
                  ],
                  "type": "scatter"
                },
                {
                  "xaxis": "x1",
                  "colorbar": {
                    "title": ""
                  },
                  "yaxis": "y1",
                  "x": [
                    1
                  ],
                  "showlegend": false,
                  "mode": "markers",
                  "name": "y1",
                  "zmin": 1,
                  "legendgroup": "y1",
                  "marker": {
                    "symbol": "circle",
                    "color": "rgba(255, 76, 76, 1.000)",
                    "line": {
                      "color": "rgba(0, 0, 0, 1.000)",
                      "width": 1
                    },
                    "size": 8
                  },
                  "zmax": 3,
                  "y": [
                    14.38
                  ],
                  "type": "scatter"
                },
                {
                  "xaxis": "x1",
                  "colorbar": {
                    "title": ""
                  },
                  "yaxis": "y1",
                  "x": [
                    1
                  ],
                  "showlegend": false,
                  "mode": "markers",
                  "name": "y1",
                  "zmin": 1,
                  "legendgroup": "y1",
                  "marker": {
                    "symbol": "circle",
                    "color": "rgba(255, 76, 76, 1.000)",
                    "line": {
                      "color": "rgba(0, 0, 0, 1.000)",
                      "width": 1
                    },
                    "size": 8
                  },
                  "zmax": 3,
                  "y": [
                    13.9
                  ],
                  "type": "scatter"
                },
                {
                  "xaxis": "x1",
                  "colorbar": {
                    "title": ""
                  },
                  "yaxis": "y1",
                  "x": [
                    1
                  ],
                  "showlegend": false,
                  "mode": "markers",
                  "name": "y1",
                  "zmin": 1,
                  "legendgroup": "y1",
                  "marker": {
                    "symbol": "circle",
                    "color": "rgba(255, 76, 76, 1.000)",
                    "line": {
                      "color": "rgba(0, 0, 0, 1.000)",
                      "width": 1
                    },
                    "size": 8
                  },
                  "zmax": 3,
                  "y": [
                    14.1
                  ],
                  "type": "scatter"
                },
                {
                  "xaxis": "x1",
                  "colorbar": {
                    "title": ""
                  },
                  "yaxis": "y1",
                  "x": [
                    1
                  ],
                  "showlegend": false,
                  "mode": "markers",
                  "name": "y1",
                  "zmin": 1,
                  "legendgroup": "y1",
                  "marker": {
                    "symbol": "circle",
                    "color": "rgba(76, 204, 76, 1.000)",
                    "line": {
                      "color": "rgba(0, 0, 0, 1.000)",
                      "width": 1
                    },
                    "size": 8
                  },
                  "zmax": 3,
                  "y": [
                    13.94
                  ],
                  "type": "scatter"
                },
                {
                  "xaxis": "x1",
                  "colorbar": {
                    "title": ""
                  },
                  "yaxis": "y1",
                  "x": [
                    1
                  ],
                  "showlegend": false,
                  "mode": "markers",
                  "name": "y1",
                  "zmin": 1,
                  "legendgroup": "y1",
                  "marker": {
                    "symbol": "circle",
                    "color": "rgba(255, 76, 76, 1.000)",
                    "line": {
                      "color": "rgba(0, 0, 0, 1.000)",
                      "width": 1
                    },
                    "size": 8
                  },
                  "zmax": 3,
                  "y": [
                    13.05
                  ],
                  "type": "scatter"
                },
                {
                  "xaxis": "x1",
                  "colorbar": {
                    "title": ""
                  },
                  "yaxis": "y1",
                  "x": [
                    1
                  ],
                  "showlegend": false,
                  "mode": "markers",
                  "name": "y1",
                  "zmin": 1,
                  "legendgroup": "y1",
                  "marker": {
                    "symbol": "circle",
                    "color": "rgba(255, 76, 76, 1.000)",
                    "line": {
                      "color": "rgba(0, 0, 0, 1.000)",
                      "width": 1
                    },
                    "size": 8
                  },
                  "zmax": 3,
                  "y": [
                    13.83
                  ],
                  "type": "scatter"
                },
                {
                  "xaxis": "x1",
                  "colorbar": {
                    "title": ""
                  },
                  "yaxis": "y1",
                  "x": [
                    1
                  ],
                  "showlegend": false,
                  "mode": "markers",
                  "name": "y1",
                  "zmin": 1,
                  "legendgroup": "y1",
                  "marker": {
                    "symbol": "circle",
                    "color": "rgba(255, 76, 76, 1.000)",
                    "line": {
                      "color": "rgba(0, 0, 0, 1.000)",
                      "width": 1
                    },
                    "size": 8
                  },
                  "zmax": 3,
                  "y": [
                    13.82
                  ],
                  "type": "scatter"
                },
                {
                  "xaxis": "x1",
                  "colorbar": {
                    "title": ""
                  },
                  "yaxis": "y1",
                  "x": [
                    1
                  ],
                  "showlegend": false,
                  "mode": "markers",
                  "name": "y1",
                  "zmin": 1,
                  "legendgroup": "y1",
                  "marker": {
                    "symbol": "circle",
                    "color": "rgba(255, 76, 76, 1.000)",
                    "line": {
                      "color": "rgba(0, 0, 0, 1.000)",
                      "width": 1
                    },
                    "size": 8
                  },
                  "zmax": 3,
                  "y": [
                    13.77
                  ],
                  "type": "scatter"
                },
                {
                  "xaxis": "x1",
                  "colorbar": {
                    "title": ""
                  },
                  "yaxis": "y1",
                  "x": [
                    1
                  ],
                  "showlegend": false,
                  "mode": "markers",
                  "name": "y1",
                  "zmin": 1,
                  "legendgroup": "y1",
                  "marker": {
                    "symbol": "circle",
                    "color": "rgba(255, 76, 76, 1.000)",
                    "line": {
                      "color": "rgba(0, 0, 0, 1.000)",
                      "width": 1
                    },
                    "size": 8
                  },
                  "zmax": 3,
                  "y": [
                    13.74
                  ],
                  "type": "scatter"
                },
                {
                  "xaxis": "x1",
                  "colorbar": {
                    "title": ""
                  },
                  "yaxis": "y1",
                  "x": [
                    1
                  ],
                  "showlegend": false,
                  "mode": "markers",
                  "name": "y1",
                  "zmin": 1,
                  "legendgroup": "y1",
                  "marker": {
                    "symbol": "circle",
                    "color": "rgba(255, 76, 76, 1.000)",
                    "line": {
                      "color": "rgba(0, 0, 0, 1.000)",
                      "width": 1
                    },
                    "size": 8
                  },
                  "zmax": 3,
                  "y": [
                    13.56
                  ],
                  "type": "scatter"
                },
                {
                  "xaxis": "x1",
                  "colorbar": {
                    "title": ""
                  },
                  "yaxis": "y1",
                  "x": [
                    1
                  ],
                  "showlegend": false,
                  "mode": "markers",
                  "name": "y1",
                  "zmin": 1,
                  "legendgroup": "y1",
                  "marker": {
                    "symbol": "circle",
                    "color": "rgba(255, 76, 76, 1.000)",
                    "line": {
                      "color": "rgba(0, 0, 0, 1.000)",
                      "width": 1
                    },
                    "size": 8
                  },
                  "zmax": 3,
                  "y": [
                    14.22
                  ],
                  "type": "scatter"
                },
                {
                  "xaxis": "x1",
                  "colorbar": {
                    "title": ""
                  },
                  "yaxis": "y1",
                  "x": [
                    1
                  ],
                  "showlegend": false,
                  "mode": "markers",
                  "name": "y1",
                  "zmin": 1,
                  "legendgroup": "y1",
                  "marker": {
                    "symbol": "circle",
                    "color": "rgba(255, 76, 76, 1.000)",
                    "line": {
                      "color": "rgba(0, 0, 0, 1.000)",
                      "width": 1
                    },
                    "size": 8
                  },
                  "zmax": 3,
                  "y": [
                    13.29
                  ],
                  "type": "scatter"
                },
                {
                  "xaxis": "x1",
                  "colorbar": {
                    "title": ""
                  },
                  "yaxis": "y1",
                  "x": [
                    1
                  ],
                  "showlegend": false,
                  "mode": "markers",
                  "name": "y1",
                  "zmin": 1,
                  "legendgroup": "y1",
                  "marker": {
                    "symbol": "circle",
                    "color": "rgba(255, 76, 76, 1.000)",
                    "line": {
                      "color": "rgba(0, 0, 0, 1.000)",
                      "width": 1
                    },
                    "size": 8
                  },
                  "zmax": 3,
                  "y": [
                    13.72
                  ],
                  "type": "scatter"
                },
                {
                  "xaxis": "x1",
                  "colorbar": {
                    "title": ""
                  },
                  "yaxis": "y1",
                  "x": [
                    2
                  ],
                  "showlegend": false,
                  "mode": "markers",
                  "name": "y1",
                  "zmin": 1,
                  "legendgroup": "y1",
                  "marker": {
                    "symbol": "circle",
                    "color": "rgba(204, 76, 204, 1.000)",
                    "line": {
                      "color": "rgba(0, 0, 0, 1.000)",
                      "width": 1
                    },
                    "size": 8
                  },
                  "zmax": 3,
                  "y": [
                    12.37
                  ],
                  "type": "scatter"
                },
                {
                  "xaxis": "x1",
                  "colorbar": {
                    "title": ""
                  },
                  "yaxis": "y1",
                  "x": [
                    2
                  ],
                  "showlegend": false,
                  "mode": "markers",
                  "name": "y1",
                  "zmin": 1,
                  "legendgroup": "y1",
                  "marker": {
                    "symbol": "circle",
                    "color": "rgba(204, 76, 204, 1.000)",
                    "line": {
                      "color": "rgba(0, 0, 0, 1.000)",
                      "width": 1
                    },
                    "size": 8
                  },
                  "zmax": 3,
                  "y": [
                    12.33
                  ],
                  "type": "scatter"
                },
                {
                  "xaxis": "x1",
                  "colorbar": {
                    "title": ""
                  },
                  "yaxis": "y1",
                  "x": [
                    2
                  ],
                  "showlegend": false,
                  "mode": "markers",
                  "name": "y1",
                  "zmin": 1,
                  "legendgroup": "y1",
                  "marker": {
                    "symbol": "circle",
                    "color": "rgba(255, 76, 76, 1.000)",
                    "line": {
                      "color": "rgba(0, 0, 0, 1.000)",
                      "width": 1
                    },
                    "size": 8
                  },
                  "zmax": 3,
                  "y": [
                    12.64
                  ],
                  "type": "scatter"
                },
                {
                  "xaxis": "x1",
                  "colorbar": {
                    "title": ""
                  },
                  "yaxis": "y1",
                  "x": [
                    2
                  ],
                  "showlegend": false,
                  "mode": "markers",
                  "name": "y1",
                  "zmin": 1,
                  "legendgroup": "y1",
                  "marker": {
                    "symbol": "circle",
                    "color": "rgba(204, 76, 204, 1.000)",
                    "line": {
                      "color": "rgba(0, 0, 0, 1.000)",
                      "width": 1
                    },
                    "size": 8
                  },
                  "zmax": 3,
                  "y": [
                    13.67
                  ],
                  "type": "scatter"
                },
                {
                  "xaxis": "x1",
                  "colorbar": {
                    "title": ""
                  },
                  "yaxis": "y1",
                  "x": [
                    2
                  ],
                  "showlegend": false,
                  "mode": "markers",
                  "name": "y1",
                  "zmin": 1,
                  "legendgroup": "y1",
                  "marker": {
                    "symbol": "circle",
                    "color": "rgba(255, 76, 76, 1.000)",
                    "line": {
                      "color": "rgba(0, 0, 0, 1.000)",
                      "width": 1
                    },
                    "size": 8
                  },
                  "zmax": 3,
                  "y": [
                    12.37
                  ],
                  "type": "scatter"
                },
                {
                  "xaxis": "x1",
                  "colorbar": {
                    "title": ""
                  },
                  "yaxis": "y1",
                  "x": [
                    2
                  ],
                  "showlegend": false,
                  "mode": "markers",
                  "name": "y1",
                  "zmin": 1,
                  "legendgroup": "y1",
                  "marker": {
                    "symbol": "circle",
                    "color": "rgba(204, 76, 204, 1.000)",
                    "line": {
                      "color": "rgba(0, 0, 0, 1.000)",
                      "width": 1
                    },
                    "size": 8
                  },
                  "zmax": 3,
                  "y": [
                    12.17
                  ],
                  "type": "scatter"
                },
                {
                  "xaxis": "x1",
                  "colorbar": {
                    "title": ""
                  },
                  "yaxis": "y1",
                  "x": [
                    2
                  ],
                  "showlegend": false,
                  "mode": "markers",
                  "name": "y1",
                  "zmin": 1,
                  "legendgroup": "y1",
                  "marker": {
                    "symbol": "circle",
                    "color": "rgba(255, 76, 76, 1.000)",
                    "line": {
                      "color": "rgba(0, 0, 0, 1.000)",
                      "width": 1
                    },
                    "size": 8
                  },
                  "zmax": 3,
                  "y": [
                    12.37
                  ],
                  "type": "scatter"
                },
                {
                  "xaxis": "x1",
                  "colorbar": {
                    "title": ""
                  },
                  "yaxis": "y1",
                  "x": [
                    2
                  ],
                  "showlegend": false,
                  "mode": "markers",
                  "name": "y1",
                  "zmin": 1,
                  "legendgroup": "y1",
                  "marker": {
                    "symbol": "circle",
                    "color": "rgba(255, 76, 76, 1.000)",
                    "line": {
                      "color": "rgba(0, 0, 0, 1.000)",
                      "width": 1
                    },
                    "size": 8
                  },
                  "zmax": 3,
                  "y": [
                    13.11
                  ],
                  "type": "scatter"
                },
                {
                  "xaxis": "x1",
                  "colorbar": {
                    "title": ""
                  },
                  "yaxis": "y1",
                  "x": [
                    2
                  ],
                  "showlegend": false,
                  "mode": "markers",
                  "name": "y1",
                  "zmin": 1,
                  "legendgroup": "y1",
                  "marker": {
                    "symbol": "circle",
                    "color": "rgba(255, 76, 76, 1.000)",
                    "line": {
                      "color": "rgba(0, 0, 0, 1.000)",
                      "width": 1
                    },
                    "size": 8
                  },
                  "zmax": 3,
                  "y": [
                    12.37
                  ],
                  "type": "scatter"
                },
                {
                  "xaxis": "x1",
                  "colorbar": {
                    "title": ""
                  },
                  "yaxis": "y1",
                  "x": [
                    2
                  ],
                  "showlegend": false,
                  "mode": "markers",
                  "name": "y1",
                  "zmin": 1,
                  "legendgroup": "y1",
                  "marker": {
                    "symbol": "circle",
                    "color": "rgba(204, 76, 204, 1.000)",
                    "line": {
                      "color": "rgba(0, 0, 0, 1.000)",
                      "width": 1
                    },
                    "size": 8
                  },
                  "zmax": 3,
                  "y": [
                    13.34
                  ],
                  "type": "scatter"
                },
                {
                  "xaxis": "x1",
                  "colorbar": {
                    "title": ""
                  },
                  "yaxis": "y1",
                  "x": [
                    2
                  ],
                  "showlegend": false,
                  "mode": "markers",
                  "name": "y1",
                  "zmin": 1,
                  "legendgroup": "y1",
                  "marker": {
                    "symbol": "circle",
                    "color": "rgba(204, 76, 204, 1.000)",
                    "line": {
                      "color": "rgba(0, 0, 0, 1.000)",
                      "width": 1
                    },
                    "size": 8
                  },
                  "zmax": 3,
                  "y": [
                    12.21
                  ],
                  "type": "scatter"
                },
                {
                  "xaxis": "x1",
                  "colorbar": {
                    "title": ""
                  },
                  "yaxis": "y1",
                  "x": [
                    2
                  ],
                  "showlegend": false,
                  "mode": "markers",
                  "name": "y1",
                  "zmin": 1,
                  "legendgroup": "y1",
                  "marker": {
                    "symbol": "circle",
                    "color": "rgba(204, 76, 204, 1.000)",
                    "line": {
                      "color": "rgba(0, 0, 0, 1.000)",
                      "width": 1
                    },
                    "size": 8
                  },
                  "zmax": 3,
                  "y": [
                    12.29
                  ],
                  "type": "scatter"
                },
                {
                  "xaxis": "x1",
                  "colorbar": {
                    "title": ""
                  },
                  "yaxis": "y1",
                  "x": [
                    2
                  ],
                  "showlegend": false,
                  "mode": "markers",
                  "name": "y1",
                  "zmin": 1,
                  "legendgroup": "y1",
                  "marker": {
                    "symbol": "circle",
                    "color": "rgba(204, 76, 204, 1.000)",
                    "line": {
                      "color": "rgba(0, 0, 0, 1.000)",
                      "width": 1
                    },
                    "size": 8
                  },
                  "zmax": 3,
                  "y": [
                    13.86
                  ],
                  "type": "scatter"
                },
                {
                  "xaxis": "x1",
                  "colorbar": {
                    "title": ""
                  },
                  "yaxis": "y1",
                  "x": [
                    2
                  ],
                  "showlegend": false,
                  "mode": "markers",
                  "name": "y1",
                  "zmin": 1,
                  "legendgroup": "y1",
                  "marker": {
                    "symbol": "circle",
                    "color": "rgba(204, 76, 204, 1.000)",
                    "line": {
                      "color": "rgba(0, 0, 0, 1.000)",
                      "width": 1
                    },
                    "size": 8
                  },
                  "zmax": 3,
                  "y": [
                    13.49
                  ],
                  "type": "scatter"
                },
                {
                  "xaxis": "x1",
                  "colorbar": {
                    "title": ""
                  },
                  "yaxis": "y1",
                  "x": [
                    2
                  ],
                  "showlegend": false,
                  "mode": "markers",
                  "name": "y1",
                  "zmin": 1,
                  "legendgroup": "y1",
                  "marker": {
                    "symbol": "circle",
                    "color": "rgba(204, 76, 204, 1.000)",
                    "line": {
                      "color": "rgba(0, 0, 0, 1.000)",
                      "width": 1
                    },
                    "size": 8
                  },
                  "zmax": 3,
                  "y": [
                    12.99
                  ],
                  "type": "scatter"
                },
                {
                  "xaxis": "x1",
                  "colorbar": {
                    "title": ""
                  },
                  "yaxis": "y1",
                  "x": [
                    2
                  ],
                  "showlegend": false,
                  "mode": "markers",
                  "name": "y1",
                  "zmin": 1,
                  "legendgroup": "y1",
                  "marker": {
                    "symbol": "circle",
                    "color": "rgba(204, 76, 204, 1.000)",
                    "line": {
                      "color": "rgba(0, 0, 0, 1.000)",
                      "width": 1
                    },
                    "size": 8
                  },
                  "zmax": 3,
                  "y": [
                    11.96
                  ],
                  "type": "scatter"
                },
                {
                  "xaxis": "x1",
                  "colorbar": {
                    "title": ""
                  },
                  "yaxis": "y1",
                  "x": [
                    2
                  ],
                  "showlegend": false,
                  "mode": "markers",
                  "name": "y1",
                  "zmin": 1,
                  "legendgroup": "y1",
                  "marker": {
                    "symbol": "circle",
                    "color": "rgba(204, 76, 204, 1.000)",
                    "line": {
                      "color": "rgba(0, 0, 0, 1.000)",
                      "width": 1
                    },
                    "size": 8
                  },
                  "zmax": 3,
                  "y": [
                    11.66
                  ],
                  "type": "scatter"
                },
                {
                  "xaxis": "x1",
                  "colorbar": {
                    "title": ""
                  },
                  "yaxis": "y1",
                  "x": [
                    2
                  ],
                  "showlegend": false,
                  "mode": "markers",
                  "name": "y1",
                  "zmin": 1,
                  "legendgroup": "y1",
                  "marker": {
                    "symbol": "circle",
                    "color": "rgba(255, 76, 76, 1.000)",
                    "line": {
                      "color": "rgba(0, 0, 0, 1.000)",
                      "width": 1
                    },
                    "size": 8
                  },
                  "zmax": 3,
                  "y": [
                    13.03
                  ],
                  "type": "scatter"
                },
                {
                  "xaxis": "x1",
                  "colorbar": {
                    "title": ""
                  },
                  "yaxis": "y1",
                  "x": [
                    2
                  ],
                  "showlegend": false,
                  "mode": "markers",
                  "name": "y1",
                  "zmin": 1,
                  "legendgroup": "y1",
                  "marker": {
                    "symbol": "circle",
                    "color": "rgba(204, 76, 204, 1.000)",
                    "line": {
                      "color": "rgba(0, 0, 0, 1.000)",
                      "width": 1
                    },
                    "size": 8
                  },
                  "zmax": 3,
                  "y": [
                    11.84
                  ],
                  "type": "scatter"
                },
                {
                  "xaxis": "x1",
                  "colorbar": {
                    "title": ""
                  },
                  "yaxis": "y1",
                  "x": [
                    2
                  ],
                  "showlegend": false,
                  "mode": "markers",
                  "name": "y1",
                  "zmin": 1,
                  "legendgroup": "y1",
                  "marker": {
                    "symbol": "circle",
                    "color": "rgba(204, 76, 204, 1.000)",
                    "line": {
                      "color": "rgba(0, 0, 0, 1.000)",
                      "width": 1
                    },
                    "size": 8
                  },
                  "zmax": 3,
                  "y": [
                    12.33
                  ],
                  "type": "scatter"
                },
                {
                  "xaxis": "x1",
                  "colorbar": {
                    "title": ""
                  },
                  "yaxis": "y1",
                  "x": [
                    2
                  ],
                  "showlegend": false,
                  "mode": "markers",
                  "name": "y1",
                  "zmin": 1,
                  "legendgroup": "y1",
                  "marker": {
                    "symbol": "circle",
                    "color": "rgba(204, 76, 204, 1.000)",
                    "line": {
                      "color": "rgba(0, 0, 0, 1.000)",
                      "width": 1
                    },
                    "size": 8
                  },
                  "zmax": 3,
                  "y": [
                    12.7
                  ],
                  "type": "scatter"
                },
                {
                  "xaxis": "x1",
                  "colorbar": {
                    "title": ""
                  },
                  "yaxis": "y1",
                  "x": [
                    2
                  ],
                  "showlegend": false,
                  "mode": "markers",
                  "name": "y1",
                  "zmin": 1,
                  "legendgroup": "y1",
                  "marker": {
                    "symbol": "circle",
                    "color": "rgba(204, 76, 204, 1.000)",
                    "line": {
                      "color": "rgba(0, 0, 0, 1.000)",
                      "width": 1
                    },
                    "size": 8
                  },
                  "zmax": 3,
                  "y": [
                    12
                  ],
                  "type": "scatter"
                },
                {
                  "xaxis": "x1",
                  "colorbar": {
                    "title": ""
                  },
                  "yaxis": "y1",
                  "x": [
                    2
                  ],
                  "showlegend": false,
                  "mode": "markers",
                  "name": "y1",
                  "zmin": 1,
                  "legendgroup": "y1",
                  "marker": {
                    "symbol": "circle",
                    "color": "rgba(204, 76, 204, 1.000)",
                    "line": {
                      "color": "rgba(0, 0, 0, 1.000)",
                      "width": 1
                    },
                    "size": 8
                  },
                  "zmax": 3,
                  "y": [
                    12.72
                  ],
                  "type": "scatter"
                },
                {
                  "xaxis": "x1",
                  "colorbar": {
                    "title": ""
                  },
                  "yaxis": "y1",
                  "x": [
                    2
                  ],
                  "showlegend": false,
                  "mode": "markers",
                  "name": "y1",
                  "zmin": 1,
                  "legendgroup": "y1",
                  "marker": {
                    "symbol": "circle",
                    "color": "rgba(204, 76, 204, 1.000)",
                    "line": {
                      "color": "rgba(0, 0, 0, 1.000)",
                      "width": 1
                    },
                    "size": 8
                  },
                  "zmax": 3,
                  "y": [
                    12.08
                  ],
                  "type": "scatter"
                },
                {
                  "xaxis": "x1",
                  "colorbar": {
                    "title": ""
                  },
                  "yaxis": "y1",
                  "x": [
                    2
                  ],
                  "showlegend": false,
                  "mode": "markers",
                  "name": "y1",
                  "zmin": 1,
                  "legendgroup": "y1",
                  "marker": {
                    "symbol": "circle",
                    "color": "rgba(255, 76, 76, 1.000)",
                    "line": {
                      "color": "rgba(0, 0, 0, 1.000)",
                      "width": 1
                    },
                    "size": 8
                  },
                  "zmax": 3,
                  "y": [
                    13.05
                  ],
                  "type": "scatter"
                },
                {
                  "xaxis": "x1",
                  "colorbar": {
                    "title": ""
                  },
                  "yaxis": "y1",
                  "x": [
                    2
                  ],
                  "showlegend": false,
                  "mode": "markers",
                  "name": "y1",
                  "zmin": 1,
                  "legendgroup": "y1",
                  "marker": {
                    "symbol": "circle",
                    "color": "rgba(204, 76, 204, 1.000)",
                    "line": {
                      "color": "rgba(0, 0, 0, 1.000)",
                      "width": 1
                    },
                    "size": 8
                  },
                  "zmax": 3,
                  "y": [
                    11.84
                  ],
                  "type": "scatter"
                },
                {
                  "xaxis": "x1",
                  "colorbar": {
                    "title": ""
                  },
                  "yaxis": "y1",
                  "x": [
                    2
                  ],
                  "showlegend": false,
                  "mode": "markers",
                  "name": "y1",
                  "zmin": 1,
                  "legendgroup": "y1",
                  "marker": {
                    "symbol": "circle",
                    "color": "rgba(204, 76, 204, 1.000)",
                    "line": {
                      "color": "rgba(0, 0, 0, 1.000)",
                      "width": 1
                    },
                    "size": 8
                  },
                  "zmax": 3,
                  "y": [
                    12.67
                  ],
                  "type": "scatter"
                },
                {
                  "xaxis": "x1",
                  "colorbar": {
                    "title": ""
                  },
                  "yaxis": "y1",
                  "x": [
                    2
                  ],
                  "showlegend": false,
                  "mode": "markers",
                  "name": "y1",
                  "zmin": 1,
                  "legendgroup": "y1",
                  "marker": {
                    "symbol": "circle",
                    "color": "rgba(204, 76, 204, 1.000)",
                    "line": {
                      "color": "rgba(0, 0, 0, 1.000)",
                      "width": 1
                    },
                    "size": 8
                  },
                  "zmax": 3,
                  "y": [
                    12.16
                  ],
                  "type": "scatter"
                },
                {
                  "xaxis": "x1",
                  "colorbar": {
                    "title": ""
                  },
                  "yaxis": "y1",
                  "x": [
                    2
                  ],
                  "showlegend": false,
                  "mode": "markers",
                  "name": "y1",
                  "zmin": 1,
                  "legendgroup": "y1",
                  "marker": {
                    "symbol": "circle",
                    "color": "rgba(204, 76, 204, 1.000)",
                    "line": {
                      "color": "rgba(0, 0, 0, 1.000)",
                      "width": 1
                    },
                    "size": 8
                  },
                  "zmax": 3,
                  "y": [
                    11.65
                  ],
                  "type": "scatter"
                },
                {
                  "xaxis": "x1",
                  "colorbar": {
                    "title": ""
                  },
                  "yaxis": "y1",
                  "x": [
                    2
                  ],
                  "showlegend": false,
                  "mode": "markers",
                  "name": "y1",
                  "zmin": 1,
                  "legendgroup": "y1",
                  "marker": {
                    "symbol": "circle",
                    "color": "rgba(204, 76, 204, 1.000)",
                    "line": {
                      "color": "rgba(0, 0, 0, 1.000)",
                      "width": 1
                    },
                    "size": 8
                  },
                  "zmax": 3,
                  "y": [
                    11.64
                  ],
                  "type": "scatter"
                },
                {
                  "xaxis": "x1",
                  "colorbar": {
                    "title": ""
                  },
                  "yaxis": "y1",
                  "x": [
                    2
                  ],
                  "showlegend": false,
                  "mode": "markers",
                  "name": "y1",
                  "zmin": 1,
                  "legendgroup": "y1",
                  "marker": {
                    "symbol": "circle",
                    "color": "rgba(204, 76, 204, 1.000)",
                    "line": {
                      "color": "rgba(0, 0, 0, 1.000)",
                      "width": 1
                    },
                    "size": 8
                  },
                  "zmax": 3,
                  "y": [
                    12.08
                  ],
                  "type": "scatter"
                },
                {
                  "xaxis": "x1",
                  "colorbar": {
                    "title": ""
                  },
                  "yaxis": "y1",
                  "x": [
                    2
                  ],
                  "showlegend": false,
                  "mode": "markers",
                  "name": "y1",
                  "zmin": 1,
                  "legendgroup": "y1",
                  "marker": {
                    "symbol": "circle",
                    "color": "rgba(204, 76, 204, 1.000)",
                    "line": {
                      "color": "rgba(0, 0, 0, 1.000)",
                      "width": 1
                    },
                    "size": 8
                  },
                  "zmax": 3,
                  "y": [
                    12.08
                  ],
                  "type": "scatter"
                },
                {
                  "xaxis": "x1",
                  "colorbar": {
                    "title": ""
                  },
                  "yaxis": "y1",
                  "x": [
                    2
                  ],
                  "showlegend": false,
                  "mode": "markers",
                  "name": "y1",
                  "zmin": 1,
                  "legendgroup": "y1",
                  "marker": {
                    "symbol": "circle",
                    "color": "rgba(204, 76, 204, 1.000)",
                    "line": {
                      "color": "rgba(0, 0, 0, 1.000)",
                      "width": 1
                    },
                    "size": 8
                  },
                  "zmax": 3,
                  "y": [
                    12
                  ],
                  "type": "scatter"
                },
                {
                  "xaxis": "x1",
                  "colorbar": {
                    "title": ""
                  },
                  "yaxis": "y1",
                  "x": [
                    2
                  ],
                  "showlegend": false,
                  "mode": "markers",
                  "name": "y1",
                  "zmin": 1,
                  "legendgroup": "y1",
                  "marker": {
                    "symbol": "circle",
                    "color": "rgba(204, 76, 204, 1.000)",
                    "line": {
                      "color": "rgba(0, 0, 0, 1.000)",
                      "width": 1
                    },
                    "size": 8
                  },
                  "zmax": 3,
                  "y": [
                    12.69
                  ],
                  "type": "scatter"
                },
                {
                  "xaxis": "x1",
                  "colorbar": {
                    "title": ""
                  },
                  "yaxis": "y1",
                  "x": [
                    2
                  ],
                  "showlegend": false,
                  "mode": "markers",
                  "name": "y1",
                  "zmin": 1,
                  "legendgroup": "y1",
                  "marker": {
                    "symbol": "circle",
                    "color": "rgba(204, 76, 204, 1.000)",
                    "line": {
                      "color": "rgba(0, 0, 0, 1.000)",
                      "width": 1
                    },
                    "size": 8
                  },
                  "zmax": 3,
                  "y": [
                    12.29
                  ],
                  "type": "scatter"
                },
                {
                  "xaxis": "x1",
                  "colorbar": {
                    "title": ""
                  },
                  "yaxis": "y1",
                  "x": [
                    2
                  ],
                  "showlegend": false,
                  "mode": "markers",
                  "name": "y1",
                  "zmin": 1,
                  "legendgroup": "y1",
                  "marker": {
                    "symbol": "circle",
                    "color": "rgba(204, 76, 204, 1.000)",
                    "line": {
                      "color": "rgba(0, 0, 0, 1.000)",
                      "width": 1
                    },
                    "size": 8
                  },
                  "zmax": 3,
                  "y": [
                    11.62
                  ],
                  "type": "scatter"
                },
                {
                  "xaxis": "x1",
                  "colorbar": {
                    "title": ""
                  },
                  "yaxis": "y1",
                  "x": [
                    2
                  ],
                  "showlegend": false,
                  "mode": "markers",
                  "name": "y1",
                  "zmin": 1,
                  "legendgroup": "y1",
                  "marker": {
                    "symbol": "circle",
                    "color": "rgba(204, 76, 204, 1.000)",
                    "line": {
                      "color": "rgba(0, 0, 0, 1.000)",
                      "width": 1
                    },
                    "size": 8
                  },
                  "zmax": 3,
                  "y": [
                    12.47
                  ],
                  "type": "scatter"
                },
                {
                  "xaxis": "x1",
                  "colorbar": {
                    "title": ""
                  },
                  "yaxis": "y1",
                  "x": [
                    2
                  ],
                  "showlegend": false,
                  "mode": "markers",
                  "name": "y1",
                  "zmin": 1,
                  "legendgroup": "y1",
                  "marker": {
                    "symbol": "circle",
                    "color": "rgba(204, 76, 204, 1.000)",
                    "line": {
                      "color": "rgba(0, 0, 0, 1.000)",
                      "width": 1
                    },
                    "size": 8
                  },
                  "zmax": 3,
                  "y": [
                    11.81
                  ],
                  "type": "scatter"
                },
                {
                  "xaxis": "x1",
                  "colorbar": {
                    "title": ""
                  },
                  "yaxis": "y1",
                  "x": [
                    2
                  ],
                  "showlegend": false,
                  "mode": "markers",
                  "name": "y1",
                  "zmin": 1,
                  "legendgroup": "y1",
                  "marker": {
                    "symbol": "circle",
                    "color": "rgba(204, 76, 204, 1.000)",
                    "line": {
                      "color": "rgba(0, 0, 0, 1.000)",
                      "width": 1
                    },
                    "size": 8
                  },
                  "zmax": 3,
                  "y": [
                    12.29
                  ],
                  "type": "scatter"
                },
                {
                  "xaxis": "x1",
                  "colorbar": {
                    "title": ""
                  },
                  "yaxis": "y1",
                  "x": [
                    2
                  ],
                  "showlegend": false,
                  "mode": "markers",
                  "name": "y1",
                  "zmin": 1,
                  "legendgroup": "y1",
                  "marker": {
                    "symbol": "circle",
                    "color": "rgba(255, 76, 76, 1.000)",
                    "line": {
                      "color": "rgba(0, 0, 0, 1.000)",
                      "width": 1
                    },
                    "size": 8
                  },
                  "zmax": 3,
                  "y": [
                    12.37
                  ],
                  "type": "scatter"
                },
                {
                  "xaxis": "x1",
                  "colorbar": {
                    "title": ""
                  },
                  "yaxis": "y1",
                  "x": [
                    2
                  ],
                  "showlegend": false,
                  "mode": "markers",
                  "name": "y1",
                  "zmin": 1,
                  "legendgroup": "y1",
                  "marker": {
                    "symbol": "circle",
                    "color": "rgba(204, 76, 204, 1.000)",
                    "line": {
                      "color": "rgba(0, 0, 0, 1.000)",
                      "width": 1
                    },
                    "size": 8
                  },
                  "zmax": 3,
                  "y": [
                    12.29
                  ],
                  "type": "scatter"
                },
                {
                  "xaxis": "x1",
                  "colorbar": {
                    "title": ""
                  },
                  "yaxis": "y1",
                  "x": [
                    2
                  ],
                  "showlegend": false,
                  "mode": "markers",
                  "name": "y1",
                  "zmin": 1,
                  "legendgroup": "y1",
                  "marker": {
                    "symbol": "circle",
                    "color": "rgba(204, 76, 204, 1.000)",
                    "line": {
                      "color": "rgba(0, 0, 0, 1.000)",
                      "width": 1
                    },
                    "size": 8
                  },
                  "zmax": 3,
                  "y": [
                    12.08
                  ],
                  "type": "scatter"
                },
                {
                  "xaxis": "x1",
                  "colorbar": {
                    "title": ""
                  },
                  "yaxis": "y1",
                  "x": [
                    2
                  ],
                  "showlegend": false,
                  "mode": "markers",
                  "name": "y1",
                  "zmin": 1,
                  "legendgroup": "y1",
                  "marker": {
                    "symbol": "circle",
                    "color": "rgba(204, 76, 204, 1.000)",
                    "line": {
                      "color": "rgba(0, 0, 0, 1.000)",
                      "width": 1
                    },
                    "size": 8
                  },
                  "zmax": 3,
                  "y": [
                    12.6
                  ],
                  "type": "scatter"
                },
                {
                  "xaxis": "x1",
                  "colorbar": {
                    "title": ""
                  },
                  "yaxis": "y1",
                  "x": [
                    2
                  ],
                  "showlegend": false,
                  "mode": "markers",
                  "name": "y1",
                  "zmin": 1,
                  "legendgroup": "y1",
                  "marker": {
                    "symbol": "circle",
                    "color": "rgba(204, 76, 204, 1.000)",
                    "line": {
                      "color": "rgba(0, 0, 0, 1.000)",
                      "width": 1
                    },
                    "size": 8
                  },
                  "zmax": 3,
                  "y": [
                    12.34
                  ],
                  "type": "scatter"
                },
                {
                  "xaxis": "x1",
                  "colorbar": {
                    "title": ""
                  },
                  "yaxis": "y1",
                  "x": [
                    2
                  ],
                  "showlegend": false,
                  "mode": "markers",
                  "name": "y1",
                  "zmin": 1,
                  "legendgroup": "y1",
                  "marker": {
                    "symbol": "circle",
                    "color": "rgba(204, 76, 204, 1.000)",
                    "line": {
                      "color": "rgba(0, 0, 0, 1.000)",
                      "width": 1
                    },
                    "size": 8
                  },
                  "zmax": 3,
                  "y": [
                    11.82
                  ],
                  "type": "scatter"
                },
                {
                  "xaxis": "x1",
                  "colorbar": {
                    "title": ""
                  },
                  "yaxis": "y1",
                  "x": [
                    2
                  ],
                  "showlegend": false,
                  "mode": "markers",
                  "name": "y1",
                  "zmin": 1,
                  "legendgroup": "y1",
                  "marker": {
                    "symbol": "circle",
                    "color": "rgba(204, 76, 204, 1.000)",
                    "line": {
                      "color": "rgba(0, 0, 0, 1.000)",
                      "width": 1
                    },
                    "size": 8
                  },
                  "zmax": 3,
                  "y": [
                    12.51
                  ],
                  "type": "scatter"
                },
                {
                  "xaxis": "x1",
                  "colorbar": {
                    "title": ""
                  },
                  "yaxis": "y1",
                  "x": [
                    2
                  ],
                  "showlegend": false,
                  "mode": "markers",
                  "name": "y1",
                  "zmin": 1,
                  "legendgroup": "y1",
                  "marker": {
                    "symbol": "circle",
                    "color": "rgba(204, 76, 204, 1.000)",
                    "line": {
                      "color": "rgba(0, 0, 0, 1.000)",
                      "width": 1
                    },
                    "size": 8
                  },
                  "zmax": 3,
                  "y": [
                    12.42
                  ],
                  "type": "scatter"
                },
                {
                  "xaxis": "x1",
                  "colorbar": {
                    "title": ""
                  },
                  "yaxis": "y1",
                  "x": [
                    2
                  ],
                  "showlegend": false,
                  "mode": "markers",
                  "name": "y1",
                  "zmin": 1,
                  "legendgroup": "y1",
                  "marker": {
                    "symbol": "circle",
                    "color": "rgba(204, 76, 204, 1.000)",
                    "line": {
                      "color": "rgba(0, 0, 0, 1.000)",
                      "width": 1
                    },
                    "size": 8
                  },
                  "zmax": 3,
                  "y": [
                    12.25
                  ],
                  "type": "scatter"
                },
                {
                  "xaxis": "x1",
                  "colorbar": {
                    "title": ""
                  },
                  "yaxis": "y1",
                  "x": [
                    2
                  ],
                  "showlegend": false,
                  "mode": "markers",
                  "name": "y1",
                  "zmin": 1,
                  "legendgroup": "y1",
                  "marker": {
                    "symbol": "circle",
                    "color": "rgba(204, 76, 204, 1.000)",
                    "line": {
                      "color": "rgba(0, 0, 0, 1.000)",
                      "width": 1
                    },
                    "size": 8
                  },
                  "zmax": 3,
                  "y": [
                    12.72
                  ],
                  "type": "scatter"
                },
                {
                  "xaxis": "x1",
                  "colorbar": {
                    "title": ""
                  },
                  "yaxis": "y1",
                  "x": [
                    2
                  ],
                  "showlegend": false,
                  "mode": "markers",
                  "name": "y1",
                  "zmin": 1,
                  "legendgroup": "y1",
                  "marker": {
                    "symbol": "circle",
                    "color": "rgba(204, 76, 204, 1.000)",
                    "line": {
                      "color": "rgba(0, 0, 0, 1.000)",
                      "width": 1
                    },
                    "size": 8
                  },
                  "zmax": 3,
                  "y": [
                    12.22
                  ],
                  "type": "scatter"
                },
                {
                  "xaxis": "x1",
                  "colorbar": {
                    "title": ""
                  },
                  "yaxis": "y1",
                  "x": [
                    2
                  ],
                  "showlegend": false,
                  "mode": "markers",
                  "name": "y1",
                  "zmin": 1,
                  "legendgroup": "y1",
                  "marker": {
                    "symbol": "circle",
                    "color": "rgba(204, 76, 204, 1.000)",
                    "line": {
                      "color": "rgba(0, 0, 0, 1.000)",
                      "width": 1
                    },
                    "size": 8
                  },
                  "zmax": 3,
                  "y": [
                    11.61
                  ],
                  "type": "scatter"
                },
                {
                  "xaxis": "x1",
                  "colorbar": {
                    "title": ""
                  },
                  "yaxis": "y1",
                  "x": [
                    2
                  ],
                  "showlegend": false,
                  "mode": "markers",
                  "name": "y1",
                  "zmin": 1,
                  "legendgroup": "y1",
                  "marker": {
                    "symbol": "circle",
                    "color": "rgba(204, 76, 204, 1.000)",
                    "line": {
                      "color": "rgba(0, 0, 0, 1.000)",
                      "width": 1
                    },
                    "size": 8
                  },
                  "zmax": 3,
                  "y": [
                    11.46
                  ],
                  "type": "scatter"
                },
                {
                  "xaxis": "x1",
                  "colorbar": {
                    "title": ""
                  },
                  "yaxis": "y1",
                  "x": [
                    2
                  ],
                  "showlegend": false,
                  "mode": "markers",
                  "name": "y1",
                  "zmin": 1,
                  "legendgroup": "y1",
                  "marker": {
                    "symbol": "circle",
                    "color": "rgba(204, 76, 204, 1.000)",
                    "line": {
                      "color": "rgba(0, 0, 0, 1.000)",
                      "width": 1
                    },
                    "size": 8
                  },
                  "zmax": 3,
                  "y": [
                    12.52
                  ],
                  "type": "scatter"
                },
                {
                  "xaxis": "x1",
                  "colorbar": {
                    "title": ""
                  },
                  "yaxis": "y1",
                  "x": [
                    2
                  ],
                  "showlegend": false,
                  "mode": "markers",
                  "name": "y1",
                  "zmin": 1,
                  "legendgroup": "y1",
                  "marker": {
                    "symbol": "circle",
                    "color": "rgba(204, 76, 204, 1.000)",
                    "line": {
                      "color": "rgba(0, 0, 0, 1.000)",
                      "width": 1
                    },
                    "size": 8
                  },
                  "zmax": 3,
                  "y": [
                    11.76
                  ],
                  "type": "scatter"
                },
                {
                  "xaxis": "x1",
                  "colorbar": {
                    "title": ""
                  },
                  "yaxis": "y1",
                  "x": [
                    2
                  ],
                  "showlegend": false,
                  "mode": "markers",
                  "name": "y1",
                  "zmin": 1,
                  "legendgroup": "y1",
                  "marker": {
                    "symbol": "circle",
                    "color": "rgba(204, 76, 204, 1.000)",
                    "line": {
                      "color": "rgba(0, 0, 0, 1.000)",
                      "width": 1
                    },
                    "size": 8
                  },
                  "zmax": 3,
                  "y": [
                    11.41
                  ],
                  "type": "scatter"
                },
                {
                  "xaxis": "x1",
                  "colorbar": {
                    "title": ""
                  },
                  "yaxis": "y1",
                  "x": [
                    2
                  ],
                  "showlegend": false,
                  "mode": "markers",
                  "name": "y1",
                  "zmin": 1,
                  "legendgroup": "y1",
                  "marker": {
                    "symbol": "circle",
                    "color": "rgba(204, 76, 204, 1.000)",
                    "line": {
                      "color": "rgba(0, 0, 0, 1.000)",
                      "width": 1
                    },
                    "size": 8
                  },
                  "zmax": 3,
                  "y": [
                    12.08
                  ],
                  "type": "scatter"
                },
                {
                  "xaxis": "x1",
                  "colorbar": {
                    "title": ""
                  },
                  "yaxis": "y1",
                  "x": [
                    2
                  ],
                  "showlegend": false,
                  "mode": "markers",
                  "name": "y1",
                  "zmin": 1,
                  "legendgroup": "y1",
                  "marker": {
                    "symbol": "circle",
                    "color": "rgba(204, 76, 204, 1.000)",
                    "line": {
                      "color": "rgba(0, 0, 0, 1.000)",
                      "width": 1
                    },
                    "size": 8
                  },
                  "zmax": 3,
                  "y": [
                    11.03
                  ],
                  "type": "scatter"
                },
                {
                  "xaxis": "x1",
                  "colorbar": {
                    "title": ""
                  },
                  "yaxis": "y1",
                  "x": [
                    2
                  ],
                  "showlegend": false,
                  "mode": "markers",
                  "name": "y1",
                  "zmin": 1,
                  "legendgroup": "y1",
                  "marker": {
                    "symbol": "circle",
                    "color": "rgba(204, 76, 204, 1.000)",
                    "line": {
                      "color": "rgba(0, 0, 0, 1.000)",
                      "width": 1
                    },
                    "size": 8
                  },
                  "zmax": 3,
                  "y": [
                    11.82
                  ],
                  "type": "scatter"
                },
                {
                  "xaxis": "x1",
                  "colorbar": {
                    "title": ""
                  },
                  "yaxis": "y1",
                  "x": [
                    2
                  ],
                  "showlegend": false,
                  "mode": "markers",
                  "name": "y1",
                  "zmin": 1,
                  "legendgroup": "y1",
                  "marker": {
                    "symbol": "circle",
                    "color": "rgba(204, 76, 204, 1.000)",
                    "line": {
                      "color": "rgba(0, 0, 0, 1.000)",
                      "width": 1
                    },
                    "size": 8
                  },
                  "zmax": 3,
                  "y": [
                    12.42
                  ],
                  "type": "scatter"
                },
                {
                  "xaxis": "x1",
                  "colorbar": {
                    "title": ""
                  },
                  "yaxis": "y1",
                  "x": [
                    2
                  ],
                  "showlegend": false,
                  "mode": "markers",
                  "name": "y1",
                  "zmin": 1,
                  "legendgroup": "y1",
                  "marker": {
                    "symbol": "circle",
                    "color": "rgba(204, 76, 204, 1.000)",
                    "line": {
                      "color": "rgba(0, 0, 0, 1.000)",
                      "width": 1
                    },
                    "size": 8
                  },
                  "zmax": 3,
                  "y": [
                    12.77
                  ],
                  "type": "scatter"
                },
                {
                  "xaxis": "x1",
                  "colorbar": {
                    "title": ""
                  },
                  "yaxis": "y1",
                  "x": [
                    2
                  ],
                  "showlegend": false,
                  "mode": "markers",
                  "name": "y1",
                  "zmin": 1,
                  "legendgroup": "y1",
                  "marker": {
                    "symbol": "circle",
                    "color": "rgba(204, 76, 204, 1.000)",
                    "line": {
                      "color": "rgba(0, 0, 0, 1.000)",
                      "width": 1
                    },
                    "size": 8
                  },
                  "zmax": 3,
                  "y": [
                    12
                  ],
                  "type": "scatter"
                },
                {
                  "xaxis": "x1",
                  "colorbar": {
                    "title": ""
                  },
                  "yaxis": "y1",
                  "x": [
                    2
                  ],
                  "showlegend": false,
                  "mode": "markers",
                  "name": "y1",
                  "zmin": 1,
                  "legendgroup": "y1",
                  "marker": {
                    "symbol": "circle",
                    "color": "rgba(204, 76, 204, 1.000)",
                    "line": {
                      "color": "rgba(0, 0, 0, 1.000)",
                      "width": 1
                    },
                    "size": 8
                  },
                  "zmax": 3,
                  "y": [
                    11.45
                  ],
                  "type": "scatter"
                },
                {
                  "xaxis": "x1",
                  "colorbar": {
                    "title": ""
                  },
                  "yaxis": "y1",
                  "x": [
                    2
                  ],
                  "showlegend": false,
                  "mode": "markers",
                  "name": "y1",
                  "zmin": 1,
                  "legendgroup": "y1",
                  "marker": {
                    "symbol": "circle",
                    "color": "rgba(255, 76, 76, 1.000)",
                    "line": {
                      "color": "rgba(0, 0, 0, 1.000)",
                      "width": 1
                    },
                    "size": 8
                  },
                  "zmax": 3,
                  "y": [
                    11.56
                  ],
                  "type": "scatter"
                },
                {
                  "xaxis": "x1",
                  "colorbar": {
                    "title": ""
                  },
                  "yaxis": "y1",
                  "x": [
                    2
                  ],
                  "showlegend": false,
                  "mode": "markers",
                  "name": "y1",
                  "zmin": 1,
                  "legendgroup": "y1",
                  "marker": {
                    "symbol": "circle",
                    "color": "rgba(204, 76, 204, 1.000)",
                    "line": {
                      "color": "rgba(0, 0, 0, 1.000)",
                      "width": 1
                    },
                    "size": 8
                  },
                  "zmax": 3,
                  "y": [
                    12.42
                  ],
                  "type": "scatter"
                },
                {
                  "xaxis": "x1",
                  "colorbar": {
                    "title": ""
                  },
                  "yaxis": "y1",
                  "x": [
                    2
                  ],
                  "showlegend": false,
                  "mode": "markers",
                  "name": "y1",
                  "zmin": 1,
                  "legendgroup": "y1",
                  "marker": {
                    "symbol": "circle",
                    "color": "rgba(204, 76, 204, 1.000)",
                    "line": {
                      "color": "rgba(0, 0, 0, 1.000)",
                      "width": 1
                    },
                    "size": 8
                  },
                  "zmax": 3,
                  "y": [
                    13.05
                  ],
                  "type": "scatter"
                },
                {
                  "xaxis": "x1",
                  "colorbar": {
                    "title": ""
                  },
                  "yaxis": "y1",
                  "x": [
                    2
                  ],
                  "showlegend": false,
                  "mode": "markers",
                  "name": "y1",
                  "zmin": 1,
                  "legendgroup": "y1",
                  "marker": {
                    "symbol": "circle",
                    "color": "rgba(204, 76, 204, 1.000)",
                    "line": {
                      "color": "rgba(0, 0, 0, 1.000)",
                      "width": 1
                    },
                    "size": 8
                  },
                  "zmax": 3,
                  "y": [
                    11.87
                  ],
                  "type": "scatter"
                },
                {
                  "xaxis": "x1",
                  "colorbar": {
                    "title": ""
                  },
                  "yaxis": "y1",
                  "x": [
                    2
                  ],
                  "showlegend": false,
                  "mode": "markers",
                  "name": "y1",
                  "zmin": 1,
                  "legendgroup": "y1",
                  "marker": {
                    "symbol": "circle",
                    "color": "rgba(204, 76, 204, 1.000)",
                    "line": {
                      "color": "rgba(0, 0, 0, 1.000)",
                      "width": 1
                    },
                    "size": 8
                  },
                  "zmax": 3,
                  "y": [
                    12.07
                  ],
                  "type": "scatter"
                },
                {
                  "xaxis": "x1",
                  "colorbar": {
                    "title": ""
                  },
                  "yaxis": "y1",
                  "x": [
                    2
                  ],
                  "showlegend": false,
                  "mode": "markers",
                  "name": "y1",
                  "zmin": 1,
                  "legendgroup": "y1",
                  "marker": {
                    "symbol": "circle",
                    "color": "rgba(204, 76, 204, 1.000)",
                    "line": {
                      "color": "rgba(0, 0, 0, 1.000)",
                      "width": 1
                    },
                    "size": 8
                  },
                  "zmax": 3,
                  "y": [
                    12.43
                  ],
                  "type": "scatter"
                },
                {
                  "xaxis": "x1",
                  "colorbar": {
                    "title": ""
                  },
                  "yaxis": "y1",
                  "x": [
                    2
                  ],
                  "showlegend": false,
                  "mode": "markers",
                  "name": "y1",
                  "zmin": 1,
                  "legendgroup": "y1",
                  "marker": {
                    "symbol": "circle",
                    "color": "rgba(204, 76, 204, 1.000)",
                    "line": {
                      "color": "rgba(0, 0, 0, 1.000)",
                      "width": 1
                    },
                    "size": 8
                  },
                  "zmax": 3,
                  "y": [
                    11.79
                  ],
                  "type": "scatter"
                },
                {
                  "xaxis": "x1",
                  "colorbar": {
                    "title": ""
                  },
                  "yaxis": "y1",
                  "x": [
                    2
                  ],
                  "showlegend": false,
                  "mode": "markers",
                  "name": "y1",
                  "zmin": 1,
                  "legendgroup": "y1",
                  "marker": {
                    "symbol": "circle",
                    "color": "rgba(204, 76, 204, 1.000)",
                    "line": {
                      "color": "rgba(0, 0, 0, 1.000)",
                      "width": 1
                    },
                    "size": 8
                  },
                  "zmax": 3,
                  "y": [
                    12.37
                  ],
                  "type": "scatter"
                },
                {
                  "xaxis": "x1",
                  "colorbar": {
                    "title": ""
                  },
                  "yaxis": "y1",
                  "x": [
                    2
                  ],
                  "showlegend": false,
                  "mode": "markers",
                  "name": "y1",
                  "zmin": 1,
                  "legendgroup": "y1",
                  "marker": {
                    "symbol": "circle",
                    "color": "rgba(204, 76, 204, 1.000)",
                    "line": {
                      "color": "rgba(0, 0, 0, 1.000)",
                      "width": 1
                    },
                    "size": 8
                  },
                  "zmax": 3,
                  "y": [
                    12.04
                  ],
                  "type": "scatter"
                },
                {
                  "xaxis": "x1",
                  "colorbar": {
                    "title": ""
                  },
                  "yaxis": "y1",
                  "x": [
                    3
                  ],
                  "showlegend": false,
                  "mode": "markers",
                  "name": "y1",
                  "zmin": 1,
                  "legendgroup": "y1",
                  "marker": {
                    "symbol": "circle",
                    "color": "rgba(204, 76, 204, 1.000)",
                    "line": {
                      "color": "rgba(0, 0, 0, 1.000)",
                      "width": 1
                    },
                    "size": 8
                  },
                  "zmax": 3,
                  "y": [
                    12.86
                  ],
                  "type": "scatter"
                },
                {
                  "xaxis": "x1",
                  "colorbar": {
                    "title": ""
                  },
                  "yaxis": "y1",
                  "x": [
                    3
                  ],
                  "showlegend": false,
                  "mode": "markers",
                  "name": "y1",
                  "zmin": 1,
                  "legendgroup": "y1",
                  "marker": {
                    "symbol": "circle",
                    "color": "rgba(255, 76, 76, 1.000)",
                    "line": {
                      "color": "rgba(0, 0, 0, 1.000)",
                      "width": 1
                    },
                    "size": 8
                  },
                  "zmax": 3,
                  "y": [
                    12.88
                  ],
                  "type": "scatter"
                },
                {
                  "xaxis": "x1",
                  "colorbar": {
                    "title": ""
                  },
                  "yaxis": "y1",
                  "x": [
                    3
                  ],
                  "showlegend": false,
                  "mode": "markers",
                  "name": "y1",
                  "zmin": 1,
                  "legendgroup": "y1",
                  "marker": {
                    "symbol": "circle",
                    "color": "rgba(255, 76, 76, 1.000)",
                    "line": {
                      "color": "rgba(0, 0, 0, 1.000)",
                      "width": 1
                    },
                    "size": 8
                  },
                  "zmax": 3,
                  "y": [
                    12.81
                  ],
                  "type": "scatter"
                },
                {
                  "xaxis": "x1",
                  "colorbar": {
                    "title": ""
                  },
                  "yaxis": "y1",
                  "x": [
                    3
                  ],
                  "showlegend": false,
                  "mode": "markers",
                  "name": "y1",
                  "zmin": 1,
                  "legendgroup": "y1",
                  "marker": {
                    "symbol": "circle",
                    "color": "rgba(255, 76, 76, 1.000)",
                    "line": {
                      "color": "rgba(0, 0, 0, 1.000)",
                      "width": 1
                    },
                    "size": 8
                  },
                  "zmax": 3,
                  "y": [
                    12.7
                  ],
                  "type": "scatter"
                },
                {
                  "xaxis": "x1",
                  "colorbar": {
                    "title": ""
                  },
                  "yaxis": "y1",
                  "x": [
                    3
                  ],
                  "showlegend": false,
                  "mode": "markers",
                  "name": "y1",
                  "zmin": 1,
                  "legendgroup": "y1",
                  "marker": {
                    "symbol": "circle",
                    "color": "rgba(255, 76, 76, 1.000)",
                    "line": {
                      "color": "rgba(0, 0, 0, 1.000)",
                      "width": 1
                    },
                    "size": 8
                  },
                  "zmax": 3,
                  "y": [
                    12.51
                  ],
                  "type": "scatter"
                },
                {
                  "xaxis": "x1",
                  "colorbar": {
                    "title": ""
                  },
                  "yaxis": "y1",
                  "x": [
                    3
                  ],
                  "showlegend": false,
                  "mode": "markers",
                  "name": "y1",
                  "zmin": 1,
                  "legendgroup": "y1",
                  "marker": {
                    "symbol": "circle",
                    "color": "rgba(76, 204, 76, 1.000)",
                    "line": {
                      "color": "rgba(0, 0, 0, 1.000)",
                      "width": 1
                    },
                    "size": 8
                  },
                  "zmax": 3,
                  "y": [
                    12.6
                  ],
                  "type": "scatter"
                },
                {
                  "xaxis": "x1",
                  "colorbar": {
                    "title": ""
                  },
                  "yaxis": "y1",
                  "x": [
                    3
                  ],
                  "showlegend": false,
                  "mode": "markers",
                  "name": "y1",
                  "zmin": 1,
                  "legendgroup": "y1",
                  "marker": {
                    "symbol": "circle",
                    "color": "rgba(204, 76, 204, 1.000)",
                    "line": {
                      "color": "rgba(0, 0, 0, 1.000)",
                      "width": 1
                    },
                    "size": 8
                  },
                  "zmax": 3,
                  "y": [
                    12.25
                  ],
                  "type": "scatter"
                },
                {
                  "xaxis": "x1",
                  "colorbar": {
                    "title": ""
                  },
                  "yaxis": "y1",
                  "x": [
                    3
                  ],
                  "showlegend": false,
                  "mode": "markers",
                  "name": "y1",
                  "zmin": 1,
                  "legendgroup": "y1",
                  "marker": {
                    "symbol": "circle",
                    "color": "rgba(255, 76, 76, 1.000)",
                    "line": {
                      "color": "rgba(0, 0, 0, 1.000)",
                      "width": 1
                    },
                    "size": 8
                  },
                  "zmax": 3,
                  "y": [
                    12.53
                  ],
                  "type": "scatter"
                },
                {
                  "xaxis": "x1",
                  "colorbar": {
                    "title": ""
                  },
                  "yaxis": "y1",
                  "x": [
                    3
                  ],
                  "showlegend": false,
                  "mode": "markers",
                  "name": "y1",
                  "zmin": 1,
                  "legendgroup": "y1",
                  "marker": {
                    "symbol": "circle",
                    "color": "rgba(255, 76, 76, 1.000)",
                    "line": {
                      "color": "rgba(0, 0, 0, 1.000)",
                      "width": 1
                    },
                    "size": 8
                  },
                  "zmax": 3,
                  "y": [
                    13.49
                  ],
                  "type": "scatter"
                },
                {
                  "xaxis": "x1",
                  "colorbar": {
                    "title": ""
                  },
                  "yaxis": "y1",
                  "x": [
                    3
                  ],
                  "showlegend": false,
                  "mode": "markers",
                  "name": "y1",
                  "zmin": 1,
                  "legendgroup": "y1",
                  "marker": {
                    "symbol": "circle",
                    "color": "rgba(255, 76, 76, 1.000)",
                    "line": {
                      "color": "rgba(0, 0, 0, 1.000)",
                      "width": 1
                    },
                    "size": 8
                  },
                  "zmax": 3,
                  "y": [
                    12.84
                  ],
                  "type": "scatter"
                },
                {
                  "xaxis": "x1",
                  "colorbar": {
                    "title": ""
                  },
                  "yaxis": "y1",
                  "x": [
                    3
                  ],
                  "showlegend": false,
                  "mode": "markers",
                  "name": "y1",
                  "zmin": 1,
                  "legendgroup": "y1",
                  "marker": {
                    "symbol": "circle",
                    "color": "rgba(255, 76, 76, 1.000)",
                    "line": {
                      "color": "rgba(0, 0, 0, 1.000)",
                      "width": 1
                    },
                    "size": 8
                  },
                  "zmax": 3,
                  "y": [
                    12.93
                  ],
                  "type": "scatter"
                },
                {
                  "xaxis": "x1",
                  "colorbar": {
                    "title": ""
                  },
                  "yaxis": "y1",
                  "x": [
                    3
                  ],
                  "showlegend": false,
                  "mode": "markers",
                  "name": "y1",
                  "zmin": 1,
                  "legendgroup": "y1",
                  "marker": {
                    "symbol": "circle",
                    "color": "rgba(255, 76, 76, 1.000)",
                    "line": {
                      "color": "rgba(0, 0, 0, 1.000)",
                      "width": 1
                    },
                    "size": 8
                  },
                  "zmax": 3,
                  "y": [
                    13.36
                  ],
                  "type": "scatter"
                },
                {
                  "xaxis": "x1",
                  "colorbar": {
                    "title": ""
                  },
                  "yaxis": "y1",
                  "x": [
                    3
                  ],
                  "showlegend": false,
                  "mode": "markers",
                  "name": "y1",
                  "zmin": 1,
                  "legendgroup": "y1",
                  "marker": {
                    "symbol": "circle",
                    "color": "rgba(255, 76, 76, 1.000)",
                    "line": {
                      "color": "rgba(0, 0, 0, 1.000)",
                      "width": 1
                    },
                    "size": 8
                  },
                  "zmax": 3,
                  "y": [
                    13.52
                  ],
                  "type": "scatter"
                },
                {
                  "xaxis": "x1",
                  "colorbar": {
                    "title": ""
                  },
                  "yaxis": "y1",
                  "x": [
                    3
                  ],
                  "showlegend": false,
                  "mode": "markers",
                  "name": "y1",
                  "zmin": 1,
                  "legendgroup": "y1",
                  "marker": {
                    "symbol": "circle",
                    "color": "rgba(255, 76, 76, 1.000)",
                    "line": {
                      "color": "rgba(0, 0, 0, 1.000)",
                      "width": 1
                    },
                    "size": 8
                  },
                  "zmax": 3,
                  "y": [
                    13.62
                  ],
                  "type": "scatter"
                },
                {
                  "xaxis": "x1",
                  "colorbar": {
                    "title": ""
                  },
                  "yaxis": "y1",
                  "x": [
                    3
                  ],
                  "showlegend": false,
                  "mode": "markers",
                  "name": "y1",
                  "zmin": 1,
                  "legendgroup": "y1",
                  "marker": {
                    "symbol": "circle",
                    "color": "rgba(76, 204, 76, 1.000)",
                    "line": {
                      "color": "rgba(0, 0, 0, 1.000)",
                      "width": 1
                    },
                    "size": 8
                  },
                  "zmax": 3,
                  "y": [
                    12.25
                  ],
                  "type": "scatter"
                },
                {
                  "xaxis": "x1",
                  "colorbar": {
                    "title": ""
                  },
                  "yaxis": "y1",
                  "x": [
                    3
                  ],
                  "showlegend": false,
                  "mode": "markers",
                  "name": "y1",
                  "zmin": 1,
                  "legendgroup": "y1",
                  "marker": {
                    "symbol": "circle",
                    "color": "rgba(204, 76, 204, 1.000)",
                    "line": {
                      "color": "rgba(0, 0, 0, 1.000)",
                      "width": 1
                    },
                    "size": 8
                  },
                  "zmax": 3,
                  "y": [
                    13.16
                  ],
                  "type": "scatter"
                },
                {
                  "xaxis": "x1",
                  "colorbar": {
                    "title": ""
                  },
                  "yaxis": "y1",
                  "x": [
                    3
                  ],
                  "showlegend": false,
                  "mode": "markers",
                  "name": "y1",
                  "zmin": 1,
                  "legendgroup": "y1",
                  "marker": {
                    "symbol": "circle",
                    "color": "rgba(255, 76, 76, 1.000)",
                    "line": {
                      "color": "rgba(0, 0, 0, 1.000)",
                      "width": 1
                    },
                    "size": 8
                  },
                  "zmax": 3,
                  "y": [
                    13.88
                  ],
                  "type": "scatter"
                },
                {
                  "xaxis": "x1",
                  "colorbar": {
                    "title": ""
                  },
                  "yaxis": "y1",
                  "x": [
                    3
                  ],
                  "showlegend": false,
                  "mode": "markers",
                  "name": "y1",
                  "zmin": 1,
                  "legendgroup": "y1",
                  "marker": {
                    "symbol": "circle",
                    "color": "rgba(76, 204, 76, 1.000)",
                    "line": {
                      "color": "rgba(0, 0, 0, 1.000)",
                      "width": 1
                    },
                    "size": 8
                  },
                  "zmax": 3,
                  "y": [
                    12.87
                  ],
                  "type": "scatter"
                },
                {
                  "xaxis": "x1",
                  "colorbar": {
                    "title": ""
                  },
                  "yaxis": "y1",
                  "x": [
                    3
                  ],
                  "showlegend": false,
                  "mode": "markers",
                  "name": "y1",
                  "zmin": 1,
                  "legendgroup": "y1",
                  "marker": {
                    "symbol": "circle",
                    "color": "rgba(76, 204, 76, 1.000)",
                    "line": {
                      "color": "rgba(0, 0, 0, 1.000)",
                      "width": 1
                    },
                    "size": 8
                  },
                  "zmax": 3,
                  "y": [
                    13.32
                  ],
                  "type": "scatter"
                },
                {
                  "xaxis": "x1",
                  "colorbar": {
                    "title": ""
                  },
                  "yaxis": "y1",
                  "x": [
                    3
                  ],
                  "showlegend": false,
                  "mode": "markers",
                  "name": "y1",
                  "zmin": 1,
                  "legendgroup": "y1",
                  "marker": {
                    "symbol": "circle",
                    "color": "rgba(76, 204, 76, 1.000)",
                    "line": {
                      "color": "rgba(0, 0, 0, 1.000)",
                      "width": 1
                    },
                    "size": 8
                  },
                  "zmax": 3,
                  "y": [
                    13.08
                  ],
                  "type": "scatter"
                },
                {
                  "xaxis": "x1",
                  "colorbar": {
                    "title": ""
                  },
                  "yaxis": "y1",
                  "x": [
                    3
                  ],
                  "showlegend": false,
                  "mode": "markers",
                  "name": "y1",
                  "zmin": 1,
                  "legendgroup": "y1",
                  "marker": {
                    "symbol": "circle",
                    "color": "rgba(76, 204, 76, 1.000)",
                    "line": {
                      "color": "rgba(0, 0, 0, 1.000)",
                      "width": 1
                    },
                    "size": 8
                  },
                  "zmax": 3,
                  "y": [
                    13.5
                  ],
                  "type": "scatter"
                },
                {
                  "xaxis": "x1",
                  "colorbar": {
                    "title": ""
                  },
                  "yaxis": "y1",
                  "x": [
                    3
                  ],
                  "showlegend": false,
                  "mode": "markers",
                  "name": "y1",
                  "zmin": 1,
                  "legendgroup": "y1",
                  "marker": {
                    "symbol": "circle",
                    "color": "rgba(76, 204, 76, 1.000)",
                    "line": {
                      "color": "rgba(0, 0, 0, 1.000)",
                      "width": 1
                    },
                    "size": 8
                  },
                  "zmax": 3,
                  "y": [
                    12.79
                  ],
                  "type": "scatter"
                },
                {
                  "xaxis": "x1",
                  "colorbar": {
                    "title": ""
                  },
                  "yaxis": "y1",
                  "x": [
                    3
                  ],
                  "showlegend": false,
                  "mode": "markers",
                  "name": "y1",
                  "zmin": 1,
                  "legendgroup": "y1",
                  "marker": {
                    "symbol": "circle",
                    "color": "rgba(76, 204, 76, 1.000)",
                    "line": {
                      "color": "rgba(0, 0, 0, 1.000)",
                      "width": 1
                    },
                    "size": 8
                  },
                  "zmax": 3,
                  "y": [
                    13.11
                  ],
                  "type": "scatter"
                },
                {
                  "xaxis": "x1",
                  "colorbar": {
                    "title": ""
                  },
                  "yaxis": "y1",
                  "x": [
                    3
                  ],
                  "showlegend": false,
                  "mode": "markers",
                  "name": "y1",
                  "zmin": 1,
                  "legendgroup": "y1",
                  "marker": {
                    "symbol": "circle",
                    "color": "rgba(76, 204, 76, 1.000)",
                    "line": {
                      "color": "rgba(0, 0, 0, 1.000)",
                      "width": 1
                    },
                    "size": 8
                  },
                  "zmax": 3,
                  "y": [
                    13.23
                  ],
                  "type": "scatter"
                },
                {
                  "xaxis": "x1",
                  "colorbar": {
                    "title": ""
                  },
                  "yaxis": "y1",
                  "x": [
                    3
                  ],
                  "showlegend": false,
                  "mode": "markers",
                  "name": "y1",
                  "zmin": 1,
                  "legendgroup": "y1",
                  "marker": {
                    "symbol": "circle",
                    "color": "rgba(76, 204, 76, 1.000)",
                    "line": {
                      "color": "rgba(0, 0, 0, 1.000)",
                      "width": 1
                    },
                    "size": 8
                  },
                  "zmax": 3,
                  "y": [
                    12.58
                  ],
                  "type": "scatter"
                },
                {
                  "xaxis": "x1",
                  "colorbar": {
                    "title": ""
                  },
                  "yaxis": "y1",
                  "x": [
                    3
                  ],
                  "showlegend": false,
                  "mode": "markers",
                  "name": "y1",
                  "zmin": 1,
                  "legendgroup": "y1",
                  "marker": {
                    "symbol": "circle",
                    "color": "rgba(76, 204, 76, 1.000)",
                    "line": {
                      "color": "rgba(0, 0, 0, 1.000)",
                      "width": 1
                    },
                    "size": 8
                  },
                  "zmax": 3,
                  "y": [
                    13.17
                  ],
                  "type": "scatter"
                },
                {
                  "xaxis": "x1",
                  "colorbar": {
                    "title": ""
                  },
                  "yaxis": "y1",
                  "x": [
                    3
                  ],
                  "showlegend": false,
                  "mode": "markers",
                  "name": "y1",
                  "zmin": 1,
                  "legendgroup": "y1",
                  "marker": {
                    "symbol": "circle",
                    "color": "rgba(76, 204, 76, 1.000)",
                    "line": {
                      "color": "rgba(0, 0, 0, 1.000)",
                      "width": 1
                    },
                    "size": 8
                  },
                  "zmax": 3,
                  "y": [
                    13.84
                  ],
                  "type": "scatter"
                },
                {
                  "xaxis": "x1",
                  "colorbar": {
                    "title": ""
                  },
                  "yaxis": "y1",
                  "x": [
                    3
                  ],
                  "showlegend": false,
                  "mode": "markers",
                  "name": "y1",
                  "zmin": 1,
                  "legendgroup": "y1",
                  "marker": {
                    "symbol": "circle",
                    "color": "rgba(76, 204, 76, 1.000)",
                    "line": {
                      "color": "rgba(0, 0, 0, 1.000)",
                      "width": 1
                    },
                    "size": 8
                  },
                  "zmax": 3,
                  "y": [
                    12.45
                  ],
                  "type": "scatter"
                },
                {
                  "xaxis": "x1",
                  "colorbar": {
                    "title": ""
                  },
                  "yaxis": "y1",
                  "x": [
                    3
                  ],
                  "showlegend": false,
                  "mode": "markers",
                  "name": "y1",
                  "zmin": 1,
                  "legendgroup": "y1",
                  "marker": {
                    "symbol": "circle",
                    "color": "rgba(76, 204, 76, 1.000)",
                    "line": {
                      "color": "rgba(0, 0, 0, 1.000)",
                      "width": 1
                    },
                    "size": 8
                  },
                  "zmax": 3,
                  "y": [
                    14.34
                  ],
                  "type": "scatter"
                },
                {
                  "xaxis": "x1",
                  "colorbar": {
                    "title": ""
                  },
                  "yaxis": "y1",
                  "x": [
                    3
                  ],
                  "showlegend": false,
                  "mode": "markers",
                  "name": "y1",
                  "zmin": 1,
                  "legendgroup": "y1",
                  "marker": {
                    "symbol": "circle",
                    "color": "rgba(76, 204, 76, 1.000)",
                    "line": {
                      "color": "rgba(0, 0, 0, 1.000)",
                      "width": 1
                    },
                    "size": 8
                  },
                  "zmax": 3,
                  "y": [
                    13.48
                  ],
                  "type": "scatter"
                },
                {
                  "xaxis": "x1",
                  "colorbar": {
                    "title": ""
                  },
                  "yaxis": "y1",
                  "x": [
                    3
                  ],
                  "showlegend": false,
                  "mode": "markers",
                  "name": "y1",
                  "zmin": 1,
                  "legendgroup": "y1",
                  "marker": {
                    "symbol": "circle",
                    "color": "rgba(76, 204, 76, 1.000)",
                    "line": {
                      "color": "rgba(0, 0, 0, 1.000)",
                      "width": 1
                    },
                    "size": 8
                  },
                  "zmax": 3,
                  "y": [
                    12.36
                  ],
                  "type": "scatter"
                },
                {
                  "xaxis": "x1",
                  "colorbar": {
                    "title": ""
                  },
                  "yaxis": "y1",
                  "x": [
                    3
                  ],
                  "showlegend": false,
                  "mode": "markers",
                  "name": "y1",
                  "zmin": 1,
                  "legendgroup": "y1",
                  "marker": {
                    "symbol": "circle",
                    "color": "rgba(255, 76, 76, 1.000)",
                    "line": {
                      "color": "rgba(0, 0, 0, 1.000)",
                      "width": 1
                    },
                    "size": 8
                  },
                  "zmax": 3,
                  "y": [
                    13.69
                  ],
                  "type": "scatter"
                },
                {
                  "xaxis": "x1",
                  "colorbar": {
                    "title": ""
                  },
                  "yaxis": "y1",
                  "x": [
                    3
                  ],
                  "showlegend": false,
                  "mode": "markers",
                  "name": "y1",
                  "zmin": 1,
                  "legendgroup": "y1",
                  "marker": {
                    "symbol": "circle",
                    "color": "rgba(255, 76, 76, 1.000)",
                    "line": {
                      "color": "rgba(0, 0, 0, 1.000)",
                      "width": 1
                    },
                    "size": 8
                  },
                  "zmax": 3,
                  "y": [
                    12.85
                  ],
                  "type": "scatter"
                },
                {
                  "xaxis": "x1",
                  "colorbar": {
                    "title": ""
                  },
                  "yaxis": "y1",
                  "x": [
                    3
                  ],
                  "showlegend": false,
                  "mode": "markers",
                  "name": "y1",
                  "zmin": 1,
                  "legendgroup": "y1",
                  "marker": {
                    "symbol": "circle",
                    "color": "rgba(255, 76, 76, 1.000)",
                    "line": {
                      "color": "rgba(0, 0, 0, 1.000)",
                      "width": 1
                    },
                    "size": 8
                  },
                  "zmax": 3,
                  "y": [
                    12.96
                  ],
                  "type": "scatter"
                },
                {
                  "xaxis": "x1",
                  "colorbar": {
                    "title": ""
                  },
                  "yaxis": "y1",
                  "x": [
                    3
                  ],
                  "showlegend": false,
                  "mode": "markers",
                  "name": "y1",
                  "zmin": 1,
                  "legendgroup": "y1",
                  "marker": {
                    "symbol": "circle",
                    "color": "rgba(76, 204, 76, 1.000)",
                    "line": {
                      "color": "rgba(0, 0, 0, 1.000)",
                      "width": 1
                    },
                    "size": 8
                  },
                  "zmax": 3,
                  "y": [
                    13.78
                  ],
                  "type": "scatter"
                },
                {
                  "xaxis": "x1",
                  "colorbar": {
                    "title": ""
                  },
                  "yaxis": "y1",
                  "x": [
                    3
                  ],
                  "showlegend": false,
                  "mode": "markers",
                  "name": "y1",
                  "zmin": 1,
                  "legendgroup": "y1",
                  "marker": {
                    "symbol": "circle",
                    "color": "rgba(255, 76, 76, 1.000)",
                    "line": {
                      "color": "rgba(0, 0, 0, 1.000)",
                      "width": 1
                    },
                    "size": 8
                  },
                  "zmax": 3,
                  "y": [
                    13.73
                  ],
                  "type": "scatter"
                },
                {
                  "xaxis": "x1",
                  "colorbar": {
                    "title": ""
                  },
                  "yaxis": "y1",
                  "x": [
                    3
                  ],
                  "showlegend": false,
                  "mode": "markers",
                  "name": "y1",
                  "zmin": 1,
                  "legendgroup": "y1",
                  "marker": {
                    "symbol": "circle",
                    "color": "rgba(76, 204, 76, 1.000)",
                    "line": {
                      "color": "rgba(0, 0, 0, 1.000)",
                      "width": 1
                    },
                    "size": 8
                  },
                  "zmax": 3,
                  "y": [
                    13.45
                  ],
                  "type": "scatter"
                },
                {
                  "xaxis": "x1",
                  "colorbar": {
                    "title": ""
                  },
                  "yaxis": "y1",
                  "x": [
                    3
                  ],
                  "showlegend": false,
                  "mode": "markers",
                  "name": "y1",
                  "zmin": 1,
                  "legendgroup": "y1",
                  "marker": {
                    "symbol": "circle",
                    "color": "rgba(76, 204, 76, 1.000)",
                    "line": {
                      "color": "rgba(0, 0, 0, 1.000)",
                      "width": 1
                    },
                    "size": 8
                  },
                  "zmax": 3,
                  "y": [
                    12.82
                  ],
                  "type": "scatter"
                },
                {
                  "xaxis": "x1",
                  "colorbar": {
                    "title": ""
                  },
                  "yaxis": "y1",
                  "x": [
                    3
                  ],
                  "showlegend": false,
                  "mode": "markers",
                  "name": "y1",
                  "zmin": 1,
                  "legendgroup": "y1",
                  "marker": {
                    "symbol": "circle",
                    "color": "rgba(76, 204, 76, 1.000)",
                    "line": {
                      "color": "rgba(0, 0, 0, 1.000)",
                      "width": 1
                    },
                    "size": 8
                  },
                  "zmax": 3,
                  "y": [
                    13.58
                  ],
                  "type": "scatter"
                },
                {
                  "xaxis": "x1",
                  "colorbar": {
                    "title": ""
                  },
                  "yaxis": "y1",
                  "x": [
                    3
                  ],
                  "showlegend": false,
                  "mode": "markers",
                  "name": "y1",
                  "zmin": 1,
                  "legendgroup": "y1",
                  "marker": {
                    "symbol": "circle",
                    "color": "rgba(76, 204, 76, 1.000)",
                    "line": {
                      "color": "rgba(0, 0, 0, 1.000)",
                      "width": 1
                    },
                    "size": 8
                  },
                  "zmax": 3,
                  "y": [
                    13.4
                  ],
                  "type": "scatter"
                },
                {
                  "xaxis": "x1",
                  "colorbar": {
                    "title": ""
                  },
                  "yaxis": "y1",
                  "x": [
                    3
                  ],
                  "showlegend": false,
                  "mode": "markers",
                  "name": "y1",
                  "zmin": 1,
                  "legendgroup": "y1",
                  "marker": {
                    "symbol": "circle",
                    "color": "rgba(255, 76, 76, 1.000)",
                    "line": {
                      "color": "rgba(0, 0, 0, 1.000)",
                      "width": 1
                    },
                    "size": 8
                  },
                  "zmax": 3,
                  "y": [
                    12.2
                  ],
                  "type": "scatter"
                },
                {
                  "xaxis": "x1",
                  "colorbar": {
                    "title": ""
                  },
                  "yaxis": "y1",
                  "x": [
                    3
                  ],
                  "showlegend": false,
                  "mode": "markers",
                  "name": "y1",
                  "zmin": 1,
                  "legendgroup": "y1",
                  "marker": {
                    "symbol": "circle",
                    "color": "rgba(76, 204, 76, 1.000)",
                    "line": {
                      "color": "rgba(0, 0, 0, 1.000)",
                      "width": 1
                    },
                    "size": 8
                  },
                  "zmax": 3,
                  "y": [
                    12.77
                  ],
                  "type": "scatter"
                },
                {
                  "xaxis": "x1",
                  "colorbar": {
                    "title": ""
                  },
                  "yaxis": "y1",
                  "x": [
                    3
                  ],
                  "showlegend": false,
                  "mode": "markers",
                  "name": "y1",
                  "zmin": 1,
                  "legendgroup": "y1",
                  "marker": {
                    "symbol": "circle",
                    "color": "rgba(76, 204, 76, 1.000)",
                    "line": {
                      "color": "rgba(0, 0, 0, 1.000)",
                      "width": 1
                    },
                    "size": 8
                  },
                  "zmax": 3,
                  "y": [
                    14.16
                  ],
                  "type": "scatter"
                },
                {
                  "xaxis": "x1",
                  "colorbar": {
                    "title": ""
                  },
                  "yaxis": "y1",
                  "x": [
                    3
                  ],
                  "showlegend": false,
                  "mode": "markers",
                  "name": "y1",
                  "zmin": 1,
                  "legendgroup": "y1",
                  "marker": {
                    "symbol": "circle",
                    "color": "rgba(76, 204, 76, 1.000)",
                    "line": {
                      "color": "rgba(0, 0, 0, 1.000)",
                      "width": 1
                    },
                    "size": 8
                  },
                  "zmax": 3,
                  "y": [
                    13.71
                  ],
                  "type": "scatter"
                },
                {
                  "xaxis": "x1",
                  "colorbar": {
                    "title": ""
                  },
                  "yaxis": "y1",
                  "x": [
                    3
                  ],
                  "showlegend": false,
                  "mode": "markers",
                  "name": "y1",
                  "zmin": 1,
                  "legendgroup": "y1",
                  "marker": {
                    "symbol": "circle",
                    "color": "rgba(76, 204, 76, 1.000)",
                    "line": {
                      "color": "rgba(0, 0, 0, 1.000)",
                      "width": 1
                    },
                    "size": 8
                  },
                  "zmax": 3,
                  "y": [
                    13.4
                  ],
                  "type": "scatter"
                },
                {
                  "xaxis": "x1",
                  "colorbar": {
                    "title": ""
                  },
                  "yaxis": "y1",
                  "x": [
                    3
                  ],
                  "showlegend": false,
                  "mode": "markers",
                  "name": "y1",
                  "zmin": 1,
                  "legendgroup": "y1",
                  "marker": {
                    "symbol": "circle",
                    "color": "rgba(76, 204, 76, 1.000)",
                    "line": {
                      "color": "rgba(0, 0, 0, 1.000)",
                      "width": 1
                    },
                    "size": 8
                  },
                  "zmax": 3,
                  "y": [
                    13.27
                  ],
                  "type": "scatter"
                },
                {
                  "xaxis": "x1",
                  "colorbar": {
                    "title": ""
                  },
                  "yaxis": "y1",
                  "x": [
                    3
                  ],
                  "showlegend": false,
                  "mode": "markers",
                  "name": "y1",
                  "zmin": 1,
                  "legendgroup": "y1",
                  "marker": {
                    "symbol": "circle",
                    "color": "rgba(76, 204, 76, 1.000)",
                    "line": {
                      "color": "rgba(0, 0, 0, 1.000)",
                      "width": 1
                    },
                    "size": 8
                  },
                  "zmax": 3,
                  "y": [
                    13.17
                  ],
                  "type": "scatter"
                },
                {
                  "xaxis": "x1",
                  "colorbar": {
                    "title": ""
                  },
                  "yaxis": "y1",
                  "x": [
                    3
                  ],
                  "showlegend": false,
                  "mode": "markers",
                  "name": "y1",
                  "zmin": 1,
                  "legendgroup": "y1",
                  "marker": {
                    "symbol": "circle",
                    "color": "rgba(76, 204, 76, 1.000)",
                    "line": {
                      "color": "rgba(0, 0, 0, 1.000)",
                      "width": 1
                    },
                    "size": 8
                  },
                  "zmax": 3,
                  "y": [
                    14.13
                  ],
                  "type": "scatter"
                },
                {
                  "xaxis": "x1",
                  "colorbar": {
                    "title": ""
                  },
                  "yaxis": "y1",
                  "x": [
                    1
                  ],
                  "showlegend": false,
                  "mode": "markers",
                  "name": "y1",
                  "zmin": 1,
                  "marker": {
                    "color": [
                      0.5
                    ],
                    "cmin": 1,
                    "opacity": 0,
                    "size": 0,
                    "colorscale": [
                      [
                        0,
                        "rgba(204, 76, 204, 1.000)"
                      ],
                      [
                        0.25,
                        "rgba(76, 76, 255, 1.000)"
                      ],
                      [
                        0.5,
                        "rgba(76, 204, 76, 1.000)"
                      ],
                      [
                        0.75,
                        "rgba(255, 242, 76, 1.000)"
                      ],
                      [
                        1,
                        "rgba(255, 76, 76, 1.000)"
                      ]
                    ],
                    "cmax": 3,
                    "showscale": false
                  },
                  "zmax": 3,
                  "y": [
                    14.23
                  ],
                  "type": "scatter",
                  "hoverinfo": "none"
                }
              ]
            }
          },
          "metadata": {}
        }
      ],
      "execution_count": 4,
      "metadata": {
        "collapsed": true,
        "jupyter": {
          "source_hidden": false,
          "outputs_hidden": false
        },
        "nteract": {
          "transient": {
            "deleting": false
          }
        },
        "execution": {
          "iopub.status.busy": "2020-10-27T19:38:52.300Z",
          "iopub.execute_input": "2020-10-27T19:38:52.312Z",
          "iopub.status.idle": "2020-10-27T19:38:52.713Z"
        }
      }
    },
    {
      "cell_type": "code",
      "source": [
        "#By Type v color intensity\n",
        "scatter(M'[1,:], M'[3,:], marker_z=results.assignments, color=:lightrainbow, legend=false)"
      ],
      "outputs": [
        {
          "output_type": "execute_result",
          "execution_count": 5,
          "data": {
            "text/html": "<!DOCTYPE html>\n<html>\n    <head>\n        <title>Plots.jl</title>\n        <meta http-equiv=\"content-type\" content=\"text/html; charset=UTF-8\">\n        <script src=\"https://cdn.plot.ly/plotly-1.54.2.min.js\"></script>\n    </head>\n    <body>\n            <div id=\"e8d06704-be74-4506-bb04-a0f72d1883f5\" style=\"width:600px;height:400px;\"></div>\n    <script>\n    PLOT = document.getElementById('e8d06704-be74-4506-bb04-a0f72d1883f5');\n    Plotly.plot(PLOT, [\n    {\n        \"xaxis\": \"x1\",\n        \"colorbar\": {\n            \"title\": \"\"\n        },\n        \"yaxis\": \"y1\",\n        \"x\": [\n            1.0\n        ],\n        \"showlegend\": true,\n        \"mode\": \"markers\",\n        \"name\": \"y1\",\n        \"zmin\": 1.0,\n        \"legendgroup\": \"y1\",\n        \"marker\": {\n            \"symbol\": \"circle\",\n            \"color\": \"rgba(255, 76, 76, 1.000)\",\n            \"line\": {\n                \"color\": \"rgba(0, 0, 0, 1.000)\",\n                \"width\": 1\n            },\n            \"size\": 8\n        },\n        \"zmax\": 3.0,\n        \"y\": [\n            5.64\n        ],\n        \"type\": \"scatter\"\n    },\n    {\n        \"xaxis\": \"x1\",\n        \"colorbar\": {\n            \"title\": \"\"\n        },\n        \"yaxis\": \"y1\",\n        \"x\": [\n            1.0\n        ],\n        \"showlegend\": false,\n        \"mode\": \"markers\",\n        \"name\": \"y1\",\n        \"zmin\": 1.0,\n        \"legendgroup\": \"y1\",\n        \"marker\": {\n            \"symbol\": \"circle\",\n            \"color\": \"rgba(255, 76, 76, 1.000)\",\n            \"line\": {\n                \"color\": \"rgba(0, 0, 0, 1.000)\",\n                \"width\": 1\n            },\n            \"size\": 8\n        },\n        \"zmax\": 3.0,\n        \"y\": [\n            4.38\n        ],\n        \"type\": \"scatter\"\n    },\n    {\n        \"xaxis\": \"x1\",\n        \"colorbar\": {\n            \"title\": \"\"\n        },\n        \"yaxis\": \"y1\",\n        \"x\": [\n            1.0\n        ],\n        \"showlegend\": false,\n        \"mode\": \"markers\",\n        \"name\": \"y1\",\n        \"zmin\": 1.0,\n        \"legendgroup\": \"y1\",\n        \"marker\": {\n            \"symbol\": \"circle\",\n            \"color\": \"rgba(255, 76, 76, 1.000)\",\n            \"line\": {\n                \"color\": \"rgba(0, 0, 0, 1.000)\",\n                \"width\": 1\n            },\n            \"size\": 8\n        },\n        \"zmax\": 3.0,\n        \"y\": [\n            5.68\n        ],\n        \"type\": \"scatter\"\n    },\n    {\n        \"xaxis\": \"x1\",\n        \"colorbar\": {\n            \"title\": \"\"\n        },\n        \"yaxis\": \"y1\",\n        \"x\": [\n            1.0\n        ],\n        \"showlegend\": false,\n        \"mode\": \"markers\",\n        \"name\": \"y1\",\n        \"zmin\": 1.0,\n        \"legendgroup\": \"y1\",\n        \"marker\": {\n            \"symbol\": \"circle\",\n            \"color\": \"rgba(76, 204, 76, 1.000)\",\n            \"line\": {\n                \"color\": \"rgba(0, 0, 0, 1.000)\",\n                \"width\": 1\n            },\n            \"size\": 8\n        },\n        \"zmax\": 3.0,\n        \"y\": [\n            7.8\n        ],\n        \"type\": \"scatter\"\n    },\n    {\n        \"xaxis\": \"x1\",\n        \"colorbar\": {\n            \"title\": \"\"\n        },\n        \"yaxis\": \"y1\",\n        \"x\": [\n            1.0\n        ],\n        \"showlegend\": false,\n        \"mode\": \"markers\",\n        \"name\": \"y1\",\n        \"zmin\": 1.0,\n        \"legendgroup\": \"y1\",\n        \"marker\": {\n            \"symbol\": \"circle\",\n            \"color\": \"rgba(255, 76, 76, 1.000)\",\n            \"line\": {\n                \"color\": \"rgba(0, 0, 0, 1.000)\",\n                \"width\": 1\n            },\n            \"size\": 8\n        },\n        \"zmax\": 3.0,\n        \"y\": [\n            4.32\n        ],\n        \"type\": \"scatter\"\n    },\n    {\n        \"xaxis\": \"x1\",\n        \"colorbar\": {\n            \"title\": \"\"\n        },\n        \"yaxis\": \"y1\",\n        \"x\": [\n            1.0\n        ],\n        \"showlegend\": false,\n        \"mode\": \"markers\",\n        \"name\": \"y1\",\n        \"zmin\": 1.0,\n        \"legendgroup\": \"y1\",\n        \"marker\": {\n            \"symbol\": \"circle\",\n            \"color\": \"rgba(255, 76, 76, 1.000)\",\n            \"line\": {\n                \"color\": \"rgba(0, 0, 0, 1.000)\",\n                \"width\": 1\n            },\n            \"size\": 8\n        },\n        \"zmax\": 3.0,\n        \"y\": [\n            6.75\n        ],\n        \"type\": \"scatter\"\n    },\n    {\n        \"xaxis\": \"x1\",\n        \"colorbar\": {\n            \"title\": \"\"\n        },\n        \"yaxis\": \"y1\",\n        \"x\": [\n            1.0\n        ],\n        \"showlegend\": false,\n        \"mode\": \"markers\",\n        \"name\": \"y1\",\n        \"zmin\": 1.0,\n        \"legendgroup\": \"y1\",\n        \"marker\": {\n            \"symbol\": \"circle\",\n            \"color\": \"rgba(255, 76, 76, 1.000)\",\n            \"line\": {\n                \"color\": \"rgba(0, 0, 0, 1.000)\",\n                \"width\": 1\n            },\n            \"size\": 8\n        },\n        \"zmax\": 3.0,\n        \"y\": [\n            5.25\n        ],\n        \"type\": \"scatter\"\n    },\n    {\n        \"xaxis\": \"x1\",\n        \"colorbar\": {\n            \"title\": \"\"\n        },\n        \"yaxis\": \"y1\",\n        \"x\": [\n            1.0\n        ],\n        \"showlegend\": false,\n        \"mode\": \"markers\",\n        \"name\": \"y1\",\n        \"zmin\": 1.0,\n        \"legendgroup\": \"y1\",\n        \"marker\": {\n            \"symbol\": \"circle\",\n            \"color\": \"rgba(255, 76, 76, 1.000)\",\n            \"line\": {\n                \"color\": \"rgba(0, 0, 0, 1.000)\",\n                \"width\": 1\n            },\n            \"size\": 8\n        },\n        \"zmax\": 3.0,\n        \"y\": [\n            5.05\n        ],\n        \"type\": \"scatter\"\n    },\n    {\n        \"xaxis\": \"x1\",\n        \"colorbar\": {\n            \"title\": \"\"\n        },\n        \"yaxis\": \"y1\",\n        \"x\": [\n            1.0\n        ],\n        \"showlegend\": false,\n        \"mode\": \"markers\",\n        \"name\": \"y1\",\n        \"zmin\": 1.0,\n        \"legendgroup\": \"y1\",\n        \"marker\": {\n            \"symbol\": \"circle\",\n            \"color\": \"rgba(255, 76, 76, 1.000)\",\n            \"line\": {\n                \"color\": \"rgba(0, 0, 0, 1.000)\",\n                \"width\": 1\n            },\n            \"size\": 8\n        },\n        \"zmax\": 3.0,\n        \"y\": [\n            5.2\n        ],\n        \"type\": \"scatter\"\n    },\n    {\n        \"xaxis\": \"x1\",\n        \"colorbar\": {\n            \"title\": \"\"\n        },\n        \"yaxis\": \"y1\",\n        \"x\": [\n            1.0\n        ],\n        \"showlegend\": false,\n        \"mode\": \"markers\",\n        \"name\": \"y1\",\n        \"zmin\": 1.0,\n        \"legendgroup\": \"y1\",\n        \"marker\": {\n            \"symbol\": \"circle\",\n            \"color\": \"rgba(255, 76, 76, 1.000)\",\n            \"line\": {\n                \"color\": \"rgba(0, 0, 0, 1.000)\",\n                \"width\": 1\n            },\n            \"size\": 8\n        },\n        \"zmax\": 3.0,\n        \"y\": [\n            7.22\n        ],\n        \"type\": \"scatter\"\n    },\n    {\n        \"xaxis\": \"x1\",\n        \"colorbar\": {\n            \"title\": \"\"\n        },\n        \"yaxis\": \"y1\",\n        \"x\": [\n            1.0\n        ],\n        \"showlegend\": false,\n        \"mode\": \"markers\",\n        \"name\": \"y1\",\n        \"zmin\": 1.0,\n        \"legendgroup\": \"y1\",\n        \"marker\": {\n            \"symbol\": \"circle\",\n            \"color\": \"rgba(255, 76, 76, 1.000)\",\n            \"line\": {\n                \"color\": \"rgba(0, 0, 0, 1.000)\",\n                \"width\": 1\n            },\n            \"size\": 8\n        },\n        \"zmax\": 3.0,\n        \"y\": [\n            5.75\n        ],\n        \"type\": \"scatter\"\n    },\n    {\n        \"xaxis\": \"x1\",\n        \"colorbar\": {\n            \"title\": \"\"\n        },\n        \"yaxis\": \"y1\",\n        \"x\": [\n            1.0\n        ],\n        \"showlegend\": false,\n        \"mode\": \"markers\",\n        \"name\": \"y1\",\n        \"zmin\": 1.0,\n        \"legendgroup\": \"y1\",\n        \"marker\": {\n            \"symbol\": \"circle\",\n            \"color\": \"rgba(255, 76, 76, 1.000)\",\n            \"line\": {\n                \"color\": \"rgba(0, 0, 0, 1.000)\",\n                \"width\": 1\n            },\n            \"size\": 8\n        },\n        \"zmax\": 3.0,\n        \"y\": [\n            5.0\n        ],\n        \"type\": \"scatter\"\n    },\n    {\n        \"xaxis\": \"x1\",\n        \"colorbar\": {\n            \"title\": \"\"\n        },\n        \"yaxis\": \"y1\",\n        \"x\": [\n            1.0\n        ],\n        \"showlegend\": false,\n        \"mode\": \"markers\",\n        \"name\": \"y1\",\n        \"zmin\": 1.0,\n        \"legendgroup\": \"y1\",\n        \"marker\": {\n            \"symbol\": \"circle\",\n            \"color\": \"rgba(255, 76, 76, 1.000)\",\n            \"line\": {\n                \"color\": \"rgba(0, 0, 0, 1.000)\",\n                \"width\": 1\n            },\n            \"size\": 8\n        },\n        \"zmax\": 3.0,\n        \"y\": [\n            5.6\n        ],\n        \"type\": \"scatter\"\n    },\n    {\n        \"xaxis\": \"x1\",\n        \"colorbar\": {\n            \"title\": \"\"\n        },\n        \"yaxis\": \"y1\",\n        \"x\": [\n            1.0\n        ],\n        \"showlegend\": false,\n        \"mode\": \"markers\",\n        \"name\": \"y1\",\n        \"zmin\": 1.0,\n        \"legendgroup\": \"y1\",\n        \"marker\": {\n            \"symbol\": \"circle\",\n            \"color\": \"rgba(255, 76, 76, 1.000)\",\n            \"line\": {\n                \"color\": \"rgba(0, 0, 0, 1.000)\",\n                \"width\": 1\n            },\n            \"size\": 8\n        },\n        \"zmax\": 3.0,\n        \"y\": [\n            5.4\n        ],\n        \"type\": \"scatter\"\n    },\n    {\n        \"xaxis\": \"x1\",\n        \"colorbar\": {\n            \"title\": \"\"\n        },\n        \"yaxis\": \"y1\",\n        \"x\": [\n            1.0\n        ],\n        \"showlegend\": false,\n        \"mode\": \"markers\",\n        \"name\": \"y1\",\n        \"zmin\": 1.0,\n        \"legendgroup\": \"y1\",\n        \"marker\": {\n            \"symbol\": \"circle\",\n            \"color\": \"rgba(255, 76, 76, 1.000)\",\n            \"line\": {\n                \"color\": \"rgba(0, 0, 0, 1.000)\",\n                \"width\": 1\n            },\n            \"size\": 8\n        },\n        \"zmax\": 3.0,\n        \"y\": [\n            7.5\n        ],\n        \"type\": \"scatter\"\n    },\n    {\n        \"xaxis\": \"x1\",\n        \"colorbar\": {\n            \"title\": \"\"\n        },\n        \"yaxis\": \"y1\",\n        \"x\": [\n            1.0\n        ],\n        \"showlegend\": false,\n        \"mode\": \"markers\",\n        \"name\": \"y1\",\n        \"zmin\": 1.0,\n        \"legendgroup\": \"y1\",\n        \"marker\": {\n            \"symbol\": \"circle\",\n            \"color\": \"rgba(255, 76, 76, 1.000)\",\n            \"line\": {\n                \"color\": \"rgba(0, 0, 0, 1.000)\",\n                \"width\": 1\n            },\n            \"size\": 8\n        },\n        \"zmax\": 3.0,\n        \"y\": [\n            7.3\n        ],\n        \"type\": \"scatter\"\n    },\n    {\n        \"xaxis\": \"x1\",\n        \"colorbar\": {\n            \"title\": \"\"\n        },\n        \"yaxis\": \"y1\",\n        \"x\": [\n            1.0\n        ],\n        \"showlegend\": false,\n        \"mode\": \"markers\",\n        \"name\": \"y1\",\n        \"zmin\": 1.0,\n        \"legendgroup\": \"y1\",\n        \"marker\": {\n            \"symbol\": \"circle\",\n            \"color\": \"rgba(255, 76, 76, 1.000)\",\n            \"line\": {\n                \"color\": \"rgba(0, 0, 0, 1.000)\",\n                \"width\": 1\n            },\n            \"size\": 8\n        },\n        \"zmax\": 3.0,\n        \"y\": [\n            6.2\n        ],\n        \"type\": \"scatter\"\n    },\n    {\n        \"xaxis\": \"x1\",\n        \"colorbar\": {\n            \"title\": \"\"\n        },\n        \"yaxis\": \"y1\",\n        \"x\": [\n            1.0\n        ],\n        \"showlegend\": false,\n        \"mode\": \"markers\",\n        \"name\": \"y1\",\n        \"zmin\": 1.0,\n        \"legendgroup\": \"y1\",\n        \"marker\": {\n            \"symbol\": \"circle\",\n            \"color\": \"rgba(255, 76, 76, 1.000)\",\n            \"line\": {\n                \"color\": \"rgba(0, 0, 0, 1.000)\",\n                \"width\": 1\n            },\n            \"size\": 8\n        },\n        \"zmax\": 3.0,\n        \"y\": [\n            6.6\n        ],\n        \"type\": \"scatter\"\n    },\n    {\n        \"xaxis\": \"x1\",\n        \"colorbar\": {\n            \"title\": \"\"\n        },\n        \"yaxis\": \"y1\",\n        \"x\": [\n            1.0\n        ],\n        \"showlegend\": false,\n        \"mode\": \"markers\",\n        \"name\": \"y1\",\n        \"zmin\": 1.0,\n        \"legendgroup\": \"y1\",\n        \"marker\": {\n            \"symbol\": \"circle\",\n            \"color\": \"rgba(76, 204, 76, 1.000)\",\n            \"line\": {\n                \"color\": \"rgba(0, 0, 0, 1.000)\",\n                \"width\": 1\n            },\n            \"size\": 8\n        },\n        \"zmax\": 3.0,\n        \"y\": [\n            8.7\n        ],\n        \"type\": \"scatter\"\n    },\n    {\n        \"xaxis\": \"x1\",\n        \"colorbar\": {\n            \"title\": \"\"\n        },\n        \"yaxis\": \"y1\",\n        \"x\": [\n            1.0\n        ],\n        \"showlegend\": false,\n        \"mode\": \"markers\",\n        \"name\": \"y1\",\n        \"zmin\": 1.0,\n        \"legendgroup\": \"y1\",\n        \"marker\": {\n            \"symbol\": \"circle\",\n            \"color\": \"rgba(255, 76, 76, 1.000)\",\n            \"line\": {\n                \"color\": \"rgba(0, 0, 0, 1.000)\",\n                \"width\": 1\n            },\n            \"size\": 8\n        },\n        \"zmax\": 3.0,\n        \"y\": [\n            5.1\n        ],\n        \"type\": \"scatter\"\n    },\n    {\n        \"xaxis\": \"x1\",\n        \"colorbar\": {\n            \"title\": \"\"\n        },\n        \"yaxis\": \"y1\",\n        \"x\": [\n            1.0\n        ],\n        \"showlegend\": false,\n        \"mode\": \"markers\",\n        \"name\": \"y1\",\n        \"zmin\": 1.0,\n        \"legendgroup\": \"y1\",\n        \"marker\": {\n            \"symbol\": \"circle\",\n            \"color\": \"rgba(255, 76, 76, 1.000)\",\n            \"line\": {\n                \"color\": \"rgba(0, 0, 0, 1.000)\",\n                \"width\": 1\n            },\n            \"size\": 8\n        },\n        \"zmax\": 3.0,\n        \"y\": [\n            5.65\n        ],\n        \"type\": \"scatter\"\n    },\n    {\n        \"xaxis\": \"x1\",\n        \"colorbar\": {\n            \"title\": \"\"\n        },\n        \"yaxis\": \"y1\",\n        \"x\": [\n            1.0\n        ],\n        \"showlegend\": false,\n        \"mode\": \"markers\",\n        \"name\": \"y1\",\n        \"zmin\": 1.0,\n        \"legendgroup\": \"y1\",\n        \"marker\": {\n            \"symbol\": \"circle\",\n            \"color\": \"rgba(255, 76, 76, 1.000)\",\n            \"line\": {\n                \"color\": \"rgba(0, 0, 0, 1.000)\",\n                \"width\": 1\n            },\n            \"size\": 8\n        },\n        \"zmax\": 3.0,\n        \"y\": [\n            4.5\n        ],\n        \"type\": \"scatter\"\n    },\n    {\n        \"xaxis\": \"x1\",\n        \"colorbar\": {\n            \"title\": \"\"\n        },\n        \"yaxis\": \"y1\",\n        \"x\": [\n            1.0\n        ],\n        \"showlegend\": false,\n        \"mode\": \"markers\",\n        \"name\": \"y1\",\n        \"zmin\": 1.0,\n        \"legendgroup\": \"y1\",\n        \"marker\": {\n            \"symbol\": \"circle\",\n            \"color\": \"rgba(255, 76, 76, 1.000)\",\n            \"line\": {\n                \"color\": \"rgba(0, 0, 0, 1.000)\",\n                \"width\": 1\n            },\n            \"size\": 8\n        },\n        \"zmax\": 3.0,\n        \"y\": [\n            3.8\n        ],\n        \"type\": \"scatter\"\n    },\n    {\n        \"xaxis\": \"x1\",\n        \"colorbar\": {\n            \"title\": \"\"\n        },\n        \"yaxis\": \"y1\",\n        \"x\": [\n            1.0\n        ],\n        \"showlegend\": false,\n        \"mode\": \"markers\",\n        \"name\": \"y1\",\n        \"zmin\": 1.0,\n        \"legendgroup\": \"y1\",\n        \"marker\": {\n            \"symbol\": \"circle\",\n            \"color\": \"rgba(204, 76, 204, 1.000)\",\n            \"line\": {\n                \"color\": \"rgba(0, 0, 0, 1.000)\",\n                \"width\": 1\n            },\n            \"size\": 8\n        },\n        \"zmax\": 3.0,\n        \"y\": [\n            3.93\n        ],\n        \"type\": \"scatter\"\n    },\n    {\n        \"xaxis\": \"x1\",\n        \"colorbar\": {\n            \"title\": \"\"\n        },\n        \"yaxis\": \"y1\",\n        \"x\": [\n            1.0\n        ],\n        \"showlegend\": false,\n        \"mode\": \"markers\",\n        \"name\": \"y1\",\n        \"zmin\": 1.0,\n        \"legendgroup\": \"y1\",\n        \"marker\": {\n            \"symbol\": \"circle\",\n            \"color\": \"rgba(204, 76, 204, 1.000)\",\n            \"line\": {\n                \"color\": \"rgba(0, 0, 0, 1.000)\",\n                \"width\": 1\n            },\n            \"size\": 8\n        },\n        \"zmax\": 3.0,\n        \"y\": [\n            3.52\n        ],\n        \"type\": \"scatter\"\n    },\n    {\n        \"xaxis\": \"x1\",\n        \"colorbar\": {\n            \"title\": \"\"\n        },\n        \"yaxis\": \"y1\",\n        \"x\": [\n            1.0\n        ],\n        \"showlegend\": false,\n        \"mode\": \"markers\",\n        \"name\": \"y1\",\n        \"zmin\": 1.0,\n        \"legendgroup\": \"y1\",\n        \"marker\": {\n            \"symbol\": \"circle\",\n            \"color\": \"rgba(204, 76, 204, 1.000)\",\n            \"line\": {\n                \"color\": \"rgba(0, 0, 0, 1.000)\",\n                \"width\": 1\n            },\n            \"size\": 8\n        },\n        \"zmax\": 3.0,\n        \"y\": [\n            3.58\n        ],\n        \"type\": \"scatter\"\n    },\n    {\n        \"xaxis\": \"x1\",\n        \"colorbar\": {\n            \"title\": \"\"\n        },\n        \"yaxis\": \"y1\",\n        \"x\": [\n            1.0\n        ],\n        \"showlegend\": false,\n        \"mode\": \"markers\",\n        \"name\": \"y1\",\n        \"zmin\": 1.0,\n        \"legendgroup\": \"y1\",\n        \"marker\": {\n            \"symbol\": \"circle\",\n            \"color\": \"rgba(255, 76, 76, 1.000)\",\n            \"line\": {\n                \"color\": \"rgba(0, 0, 0, 1.000)\",\n                \"width\": 1\n            },\n            \"size\": 8\n        },\n        \"zmax\": 3.0,\n        \"y\": [\n            4.8\n        ],\n        \"type\": \"scatter\"\n    },\n    {\n        \"xaxis\": \"x1\",\n        \"colorbar\": {\n            \"title\": \"\"\n        },\n        \"yaxis\": \"y1\",\n        \"x\": [\n            1.0\n        ],\n        \"showlegend\": false,\n        \"mode\": \"markers\",\n        \"name\": \"y1\",\n        \"zmin\": 1.0,\n        \"legendgroup\": \"y1\",\n        \"marker\": {\n            \"symbol\": \"circle\",\n            \"color\": \"rgba(255, 76, 76, 1.000)\",\n            \"line\": {\n                \"color\": \"rgba(0, 0, 0, 1.000)\",\n                \"width\": 1\n            },\n            \"size\": 8\n        },\n        \"zmax\": 3.0,\n        \"y\": [\n            3.95\n        ],\n        \"type\": \"scatter\"\n    },\n    {\n        \"xaxis\": \"x1\",\n        \"colorbar\": {\n            \"title\": \"\"\n        },\n        \"yaxis\": \"y1\",\n        \"x\": [\n            1.0\n        ],\n        \"showlegend\": false,\n        \"mode\": \"markers\",\n        \"name\": \"y1\",\n        \"zmin\": 1.0,\n        \"legendgroup\": \"y1\",\n        \"marker\": {\n            \"symbol\": \"circle\",\n            \"color\": \"rgba(255, 76, 76, 1.000)\",\n            \"line\": {\n                \"color\": \"rgba(0, 0, 0, 1.000)\",\n                \"width\": 1\n            },\n            \"size\": 8\n        },\n        \"zmax\": 3.0,\n        \"y\": [\n            4.5\n        ],\n        \"type\": \"scatter\"\n    },\n    {\n        \"xaxis\": \"x1\",\n        \"colorbar\": {\n            \"title\": \"\"\n        },\n        \"yaxis\": \"y1\",\n        \"x\": [\n            1.0\n        ],\n        \"showlegend\": false,\n        \"mode\": \"markers\",\n        \"name\": \"y1\",\n        \"zmin\": 1.0,\n        \"legendgroup\": \"y1\",\n        \"marker\": {\n            \"symbol\": \"circle\",\n            \"color\": \"rgba(255, 76, 76, 1.000)\",\n            \"line\": {\n                \"color\": \"rgba(0, 0, 0, 1.000)\",\n                \"width\": 1\n            },\n            \"size\": 8\n        },\n        \"zmax\": 3.0,\n        \"y\": [\n            4.7\n        ],\n        \"type\": \"scatter\"\n    },\n    {\n        \"xaxis\": \"x1\",\n        \"colorbar\": {\n            \"title\": \"\"\n        },\n        \"yaxis\": \"y1\",\n        \"x\": [\n            1.0\n        ],\n        \"showlegend\": false,\n        \"mode\": \"markers\",\n        \"name\": \"y1\",\n        \"zmin\": 1.0,\n        \"legendgroup\": \"y1\",\n        \"marker\": {\n            \"symbol\": \"circle\",\n            \"color\": \"rgba(255, 76, 76, 1.000)\",\n            \"line\": {\n                \"color\": \"rgba(0, 0, 0, 1.000)\",\n                \"width\": 1\n            },\n            \"size\": 8\n        },\n        \"zmax\": 3.0,\n        \"y\": [\n            5.7\n        ],\n        \"type\": \"scatter\"\n    },\n    {\n        \"xaxis\": \"x1\",\n        \"colorbar\": {\n            \"title\": \"\"\n        },\n        \"yaxis\": \"y1\",\n        \"x\": [\n            1.0\n        ],\n        \"showlegend\": false,\n        \"mode\": \"markers\",\n        \"name\": \"y1\",\n        \"zmin\": 1.0,\n        \"legendgroup\": \"y1\",\n        \"marker\": {\n            \"symbol\": \"circle\",\n            \"color\": \"rgba(255, 76, 76, 1.000)\",\n            \"line\": {\n                \"color\": \"rgba(0, 0, 0, 1.000)\",\n                \"width\": 1\n            },\n            \"size\": 8\n        },\n        \"zmax\": 3.0,\n        \"y\": [\n            6.9\n        ],\n        \"type\": \"scatter\"\n    },\n    {\n        \"xaxis\": \"x1\",\n        \"colorbar\": {\n            \"title\": \"\"\n        },\n        \"yaxis\": \"y1\",\n        \"x\": [\n            1.0\n        ],\n        \"showlegend\": false,\n        \"mode\": \"markers\",\n        \"name\": \"y1\",\n        \"zmin\": 1.0,\n        \"legendgroup\": \"y1\",\n        \"marker\": {\n            \"symbol\": \"circle\",\n            \"color\": \"rgba(255, 76, 76, 1.000)\",\n            \"line\": {\n                \"color\": \"rgba(0, 0, 0, 1.000)\",\n                \"width\": 1\n            },\n            \"size\": 8\n        },\n        \"zmax\": 3.0,\n        \"y\": [\n            3.84\n        ],\n        \"type\": \"scatter\"\n    },\n    {\n        \"xaxis\": \"x1\",\n        \"colorbar\": {\n            \"title\": \"\"\n        },\n        \"yaxis\": \"y1\",\n        \"x\": [\n            1.0\n        ],\n        \"showlegend\": false,\n        \"mode\": \"markers\",\n        \"name\": \"y1\",\n        \"zmin\": 1.0,\n        \"legendgroup\": \"y1\",\n        \"marker\": {\n            \"symbol\": \"circle\",\n            \"color\": \"rgba(255, 76, 76, 1.000)\",\n            \"line\": {\n                \"color\": \"rgba(0, 0, 0, 1.000)\",\n                \"width\": 1\n            },\n            \"size\": 8\n        },\n        \"zmax\": 3.0,\n        \"y\": [\n            5.4\n        ],\n        \"type\": \"scatter\"\n    },\n    {\n        \"xaxis\": \"x1\",\n        \"colorbar\": {\n            \"title\": \"\"\n        },\n        \"yaxis\": \"y1\",\n        \"x\": [\n            1.0\n        ],\n        \"showlegend\": false,\n        \"mode\": \"markers\",\n        \"name\": \"y1\",\n        \"zmin\": 1.0,\n        \"legendgroup\": \"y1\",\n        \"marker\": {\n            \"symbol\": \"circle\",\n            \"color\": \"rgba(255, 76, 76, 1.000)\",\n            \"line\": {\n                \"color\": \"rgba(0, 0, 0, 1.000)\",\n                \"width\": 1\n            },\n            \"size\": 8\n        },\n        \"zmax\": 3.0,\n        \"y\": [\n            4.2\n        ],\n        \"type\": \"scatter\"\n    },\n    {\n        \"xaxis\": \"x1\",\n        \"colorbar\": {\n            \"title\": \"\"\n        },\n        \"yaxis\": \"y1\",\n        \"x\": [\n            1.0\n        ],\n        \"showlegend\": false,\n        \"mode\": \"markers\",\n        \"name\": \"y1\",\n        \"zmin\": 1.0,\n        \"legendgroup\": \"y1\",\n        \"marker\": {\n            \"symbol\": \"circle\",\n            \"color\": \"rgba(255, 76, 76, 1.000)\",\n            \"line\": {\n                \"color\": \"rgba(0, 0, 0, 1.000)\",\n                \"width\": 1\n            },\n            \"size\": 8\n        },\n        \"zmax\": 3.0,\n        \"y\": [\n            5.1\n        ],\n        \"type\": \"scatter\"\n    },\n    {\n        \"xaxis\": \"x1\",\n        \"colorbar\": {\n            \"title\": \"\"\n        },\n        \"yaxis\": \"y1\",\n        \"x\": [\n            1.0\n        ],\n        \"showlegend\": false,\n        \"mode\": \"markers\",\n        \"name\": \"y1\",\n        \"zmin\": 1.0,\n        \"legendgroup\": \"y1\",\n        \"marker\": {\n            \"symbol\": \"circle\",\n            \"color\": \"rgba(255, 76, 76, 1.000)\",\n            \"line\": {\n                \"color\": \"rgba(0, 0, 0, 1.000)\",\n                \"width\": 1\n            },\n            \"size\": 8\n        },\n        \"zmax\": 3.0,\n        \"y\": [\n            4.6\n        ],\n        \"type\": \"scatter\"\n    },\n    {\n        \"xaxis\": \"x1\",\n        \"colorbar\": {\n            \"title\": \"\"\n        },\n        \"yaxis\": \"y1\",\n        \"x\": [\n            1.0\n        ],\n        \"showlegend\": false,\n        \"mode\": \"markers\",\n        \"name\": \"y1\",\n        \"zmin\": 1.0,\n        \"legendgroup\": \"y1\",\n        \"marker\": {\n            \"symbol\": \"circle\",\n            \"color\": \"rgba(255, 76, 76, 1.000)\",\n            \"line\": {\n                \"color\": \"rgba(0, 0, 0, 1.000)\",\n                \"width\": 1\n            },\n            \"size\": 8\n        },\n        \"zmax\": 3.0,\n        \"y\": [\n            4.25\n        ],\n        \"type\": \"scatter\"\n    },\n    {\n        \"xaxis\": \"x1\",\n        \"colorbar\": {\n            \"title\": \"\"\n        },\n        \"yaxis\": \"y1\",\n        \"x\": [\n            1.0\n        ],\n        \"showlegend\": false,\n        \"mode\": \"markers\",\n        \"name\": \"y1\",\n        \"zmin\": 1.0,\n        \"legendgroup\": \"y1\",\n        \"marker\": {\n            \"symbol\": \"circle\",\n            \"color\": \"rgba(204, 76, 204, 1.000)\",\n            \"line\": {\n                \"color\": \"rgba(0, 0, 0, 1.000)\",\n                \"width\": 1\n            },\n            \"size\": 8\n        },\n        \"zmax\": 3.0,\n        \"y\": [\n            3.7\n        ],\n        \"type\": \"scatter\"\n    },\n    {\n        \"xaxis\": \"x1\",\n        \"colorbar\": {\n            \"title\": \"\"\n        },\n        \"yaxis\": \"y1\",\n        \"x\": [\n            1.0\n        ],\n        \"showlegend\": false,\n        \"mode\": \"markers\",\n        \"name\": \"y1\",\n        \"zmin\": 1.0,\n        \"legendgroup\": \"y1\",\n        \"marker\": {\n            \"symbol\": \"circle\",\n            \"color\": \"rgba(255, 76, 76, 1.000)\",\n            \"line\": {\n                \"color\": \"rgba(0, 0, 0, 1.000)\",\n                \"width\": 1\n            },\n            \"size\": 8\n        },\n        \"zmax\": 3.0,\n        \"y\": [\n            5.1\n        ],\n        \"type\": \"scatter\"\n    },\n    {\n        \"xaxis\": \"x1\",\n        \"colorbar\": {\n            \"title\": \"\"\n        },\n        \"yaxis\": \"y1\",\n        \"x\": [\n            1.0\n        ],\n        \"showlegend\": false,\n        \"mode\": \"markers\",\n        \"name\": \"y1\",\n        \"zmin\": 1.0,\n        \"legendgroup\": \"y1\",\n        \"marker\": {\n            \"symbol\": \"circle\",\n            \"color\": \"rgba(255, 76, 76, 1.000)\",\n            \"line\": {\n                \"color\": \"rgba(0, 0, 0, 1.000)\",\n                \"width\": 1\n            },\n            \"size\": 8\n        },\n        \"zmax\": 3.0,\n        \"y\": [\n            6.13\n        ],\n        \"type\": \"scatter\"\n    },\n    {\n        \"xaxis\": \"x1\",\n        \"colorbar\": {\n            \"title\": \"\"\n        },\n        \"yaxis\": \"y1\",\n        \"x\": [\n            1.0\n        ],\n        \"showlegend\": false,\n        \"mode\": \"markers\",\n        \"name\": \"y1\",\n        \"zmin\": 1.0,\n        \"legendgroup\": \"y1\",\n        \"marker\": {\n            \"symbol\": \"circle\",\n            \"color\": \"rgba(255, 76, 76, 1.000)\",\n            \"line\": {\n                \"color\": \"rgba(0, 0, 0, 1.000)\",\n                \"width\": 1\n            },\n            \"size\": 8\n        },\n        \"zmax\": 3.0,\n        \"y\": [\n            4.28\n        ],\n        \"type\": \"scatter\"\n    },\n    {\n        \"xaxis\": \"x1\",\n        \"colorbar\": {\n            \"title\": \"\"\n        },\n        \"yaxis\": \"y1\",\n        \"x\": [\n            1.0\n        ],\n        \"showlegend\": false,\n        \"mode\": \"markers\",\n        \"name\": \"y1\",\n        \"zmin\": 1.0,\n        \"legendgroup\": \"y1\",\n        \"marker\": {\n            \"symbol\": \"circle\",\n            \"color\": \"rgba(255, 76, 76, 1.000)\",\n            \"line\": {\n                \"color\": \"rgba(0, 0, 0, 1.000)\",\n                \"width\": 1\n            },\n            \"size\": 8\n        },\n        \"zmax\": 3.0,\n        \"y\": [\n            5.43\n        ],\n        \"type\": \"scatter\"\n    },\n    {\n        \"xaxis\": \"x1\",\n        \"colorbar\": {\n            \"title\": \"\"\n        },\n        \"yaxis\": \"y1\",\n        \"x\": [\n            1.0\n        ],\n        \"showlegend\": false,\n        \"mode\": \"markers\",\n        \"name\": \"y1\",\n        \"zmin\": 1.0,\n        \"legendgroup\": \"y1\",\n        \"marker\": {\n            \"symbol\": \"circle\",\n            \"color\": \"rgba(255, 76, 76, 1.000)\",\n            \"line\": {\n                \"color\": \"rgba(0, 0, 0, 1.000)\",\n                \"width\": 1\n            },\n            \"size\": 8\n        },\n        \"zmax\": 3.0,\n        \"y\": [\n            4.36\n        ],\n        \"type\": \"scatter\"\n    },\n    {\n        \"xaxis\": \"x1\",\n        \"colorbar\": {\n            \"title\": \"\"\n        },\n        \"yaxis\": \"y1\",\n        \"x\": [\n            1.0\n        ],\n        \"showlegend\": false,\n        \"mode\": \"markers\",\n        \"name\": \"y1\",\n        \"zmin\": 1.0,\n        \"legendgroup\": \"y1\",\n        \"marker\": {\n            \"symbol\": \"circle\",\n            \"color\": \"rgba(255, 76, 76, 1.000)\",\n            \"line\": {\n                \"color\": \"rgba(0, 0, 0, 1.000)\",\n                \"width\": 1\n            },\n            \"size\": 8\n        },\n        \"zmax\": 3.0,\n        \"y\": [\n            5.04\n        ],\n        \"type\": \"scatter\"\n    },\n    {\n        \"xaxis\": \"x1\",\n        \"colorbar\": {\n            \"title\": \"\"\n        },\n        \"yaxis\": \"y1\",\n        \"x\": [\n            1.0\n        ],\n        \"showlegend\": false,\n        \"mode\": \"markers\",\n        \"name\": \"y1\",\n        \"zmin\": 1.0,\n        \"legendgroup\": \"y1\",\n        \"marker\": {\n            \"symbol\": \"circle\",\n            \"color\": \"rgba(255, 76, 76, 1.000)\",\n            \"line\": {\n                \"color\": \"rgba(0, 0, 0, 1.000)\",\n                \"width\": 1\n            },\n            \"size\": 8\n        },\n        \"zmax\": 3.0,\n        \"y\": [\n            5.24\n        ],\n        \"type\": \"scatter\"\n    },\n    {\n        \"xaxis\": \"x1\",\n        \"colorbar\": {\n            \"title\": \"\"\n        },\n        \"yaxis\": \"y1\",\n        \"x\": [\n            1.0\n        ],\n        \"showlegend\": false,\n        \"mode\": \"markers\",\n        \"name\": \"y1\",\n        \"zmin\": 1.0,\n        \"legendgroup\": \"y1\",\n        \"marker\": {\n            \"symbol\": \"circle\",\n            \"color\": \"rgba(255, 76, 76, 1.000)\",\n            \"line\": {\n                \"color\": \"rgba(0, 0, 0, 1.000)\",\n                \"width\": 1\n            },\n            \"size\": 8\n        },\n        \"zmax\": 3.0,\n        \"y\": [\n            4.9\n        ],\n        \"type\": \"scatter\"\n    },\n    {\n        \"xaxis\": \"x1\",\n        \"colorbar\": {\n            \"title\": \"\"\n        },\n        \"yaxis\": \"y1\",\n        \"x\": [\n            1.0\n        ],\n        \"showlegend\": false,\n        \"mode\": \"markers\",\n        \"name\": \"y1\",\n        \"zmin\": 1.0,\n        \"legendgroup\": \"y1\",\n        \"marker\": {\n            \"symbol\": \"circle\",\n            \"color\": \"rgba(255, 76, 76, 1.000)\",\n            \"line\": {\n                \"color\": \"rgba(0, 0, 0, 1.000)\",\n                \"width\": 1\n            },\n            \"size\": 8\n        },\n        \"zmax\": 3.0,\n        \"y\": [\n            6.1\n        ],\n        \"type\": \"scatter\"\n    },\n    {\n        \"xaxis\": \"x1\",\n        \"colorbar\": {\n            \"title\": \"\"\n        },\n        \"yaxis\": \"y1\",\n        \"x\": [\n            1.0\n        ],\n        \"showlegend\": false,\n        \"mode\": \"markers\",\n        \"name\": \"y1\",\n        \"zmin\": 1.0,\n        \"legendgroup\": \"y1\",\n        \"marker\": {\n            \"symbol\": \"circle\",\n            \"color\": \"rgba(255, 76, 76, 1.000)\",\n            \"line\": {\n                \"color\": \"rgba(0, 0, 0, 1.000)\",\n                \"width\": 1\n            },\n            \"size\": 8\n        },\n        \"zmax\": 3.0,\n        \"y\": [\n            6.2\n        ],\n        \"type\": \"scatter\"\n    },\n    {\n        \"xaxis\": \"x1\",\n        \"colorbar\": {\n            \"title\": \"\"\n        },\n        \"yaxis\": \"y1\",\n        \"x\": [\n            1.0\n        ],\n        \"showlegend\": false,\n        \"mode\": \"markers\",\n        \"name\": \"y1\",\n        \"zmin\": 1.0,\n        \"legendgroup\": \"y1\",\n        \"marker\": {\n            \"symbol\": \"circle\",\n            \"color\": \"rgba(76, 204, 76, 1.000)\",\n            \"line\": {\n                \"color\": \"rgba(0, 0, 0, 1.000)\",\n                \"width\": 1\n            },\n            \"size\": 8\n        },\n        \"zmax\": 3.0,\n        \"y\": [\n            8.9\n        ],\n        \"type\": \"scatter\"\n    },\n    {\n        \"xaxis\": \"x1\",\n        \"colorbar\": {\n            \"title\": \"\"\n        },\n        \"yaxis\": \"y1\",\n        \"x\": [\n            1.0\n        ],\n        \"showlegend\": false,\n        \"mode\": \"markers\",\n        \"name\": \"y1\",\n        \"zmin\": 1.0,\n        \"legendgroup\": \"y1\",\n        \"marker\": {\n            \"symbol\": \"circle\",\n            \"color\": \"rgba(255, 76, 76, 1.000)\",\n            \"line\": {\n                \"color\": \"rgba(0, 0, 0, 1.000)\",\n                \"width\": 1\n            },\n            \"size\": 8\n        },\n        \"zmax\": 3.0,\n        \"y\": [\n            7.2\n        ],\n        \"type\": \"scatter\"\n    },\n    {\n        \"xaxis\": \"x1\",\n        \"colorbar\": {\n            \"title\": \"\"\n        },\n        \"yaxis\": \"y1\",\n        \"x\": [\n            1.0\n        ],\n        \"showlegend\": false,\n        \"mode\": \"markers\",\n        \"name\": \"y1\",\n        \"zmin\": 1.0,\n        \"legendgroup\": \"y1\",\n        \"marker\": {\n            \"symbol\": \"circle\",\n            \"color\": \"rgba(255, 76, 76, 1.000)\",\n            \"line\": {\n                \"color\": \"rgba(0, 0, 0, 1.000)\",\n                \"width\": 1\n            },\n            \"size\": 8\n        },\n        \"zmax\": 3.0,\n        \"y\": [\n            5.6\n        ],\n        \"type\": \"scatter\"\n    },\n    {\n        \"xaxis\": \"x1\",\n        \"colorbar\": {\n            \"title\": \"\"\n        },\n        \"yaxis\": \"y1\",\n        \"x\": [\n            1.0\n        ],\n        \"showlegend\": false,\n        \"mode\": \"markers\",\n        \"name\": \"y1\",\n        \"zmin\": 1.0,\n        \"legendgroup\": \"y1\",\n        \"marker\": {\n            \"symbol\": \"circle\",\n            \"color\": \"rgba(255, 76, 76, 1.000)\",\n            \"line\": {\n                \"color\": \"rgba(0, 0, 0, 1.000)\",\n                \"width\": 1\n            },\n            \"size\": 8\n        },\n        \"zmax\": 3.0,\n        \"y\": [\n            7.05\n        ],\n        \"type\": \"scatter\"\n    },\n    {\n        \"xaxis\": \"x1\",\n        \"colorbar\": {\n            \"title\": \"\"\n        },\n        \"yaxis\": \"y1\",\n        \"x\": [\n            1.0\n        ],\n        \"showlegend\": false,\n        \"mode\": \"markers\",\n        \"name\": \"y1\",\n        \"zmin\": 1.0,\n        \"legendgroup\": \"y1\",\n        \"marker\": {\n            \"symbol\": \"circle\",\n            \"color\": \"rgba(255, 76, 76, 1.000)\",\n            \"line\": {\n                \"color\": \"rgba(0, 0, 0, 1.000)\",\n                \"width\": 1\n            },\n            \"size\": 8\n        },\n        \"zmax\": 3.0,\n        \"y\": [\n            6.3\n        ],\n        \"type\": \"scatter\"\n    },\n    {\n        \"xaxis\": \"x1\",\n        \"colorbar\": {\n            \"title\": \"\"\n        },\n        \"yaxis\": \"y1\",\n        \"x\": [\n            1.0\n        ],\n        \"showlegend\": false,\n        \"mode\": \"markers\",\n        \"name\": \"y1\",\n        \"zmin\": 1.0,\n        \"legendgroup\": \"y1\",\n        \"marker\": {\n            \"symbol\": \"circle\",\n            \"color\": \"rgba(255, 76, 76, 1.000)\",\n            \"line\": {\n                \"color\": \"rgba(0, 0, 0, 1.000)\",\n                \"width\": 1\n            },\n            \"size\": 8\n        },\n        \"zmax\": 3.0,\n        \"y\": [\n            5.85\n        ],\n        \"type\": \"scatter\"\n    },\n    {\n        \"xaxis\": \"x1\",\n        \"colorbar\": {\n            \"title\": \"\"\n        },\n        \"yaxis\": \"y1\",\n        \"x\": [\n            1.0\n        ],\n        \"showlegend\": false,\n        \"mode\": \"markers\",\n        \"name\": \"y1\",\n        \"zmin\": 1.0,\n        \"legendgroup\": \"y1\",\n        \"marker\": {\n            \"symbol\": \"circle\",\n            \"color\": \"rgba(255, 76, 76, 1.000)\",\n            \"line\": {\n                \"color\": \"rgba(0, 0, 0, 1.000)\",\n                \"width\": 1\n            },\n            \"size\": 8\n        },\n        \"zmax\": 3.0,\n        \"y\": [\n            6.25\n        ],\n        \"type\": \"scatter\"\n    },\n    {\n        \"xaxis\": \"x1\",\n        \"colorbar\": {\n            \"title\": \"\"\n        },\n        \"yaxis\": \"y1\",\n        \"x\": [\n            1.0\n        ],\n        \"showlegend\": false,\n        \"mode\": \"markers\",\n        \"name\": \"y1\",\n        \"zmin\": 1.0,\n        \"legendgroup\": \"y1\",\n        \"marker\": {\n            \"symbol\": \"circle\",\n            \"color\": \"rgba(255, 76, 76, 1.000)\",\n            \"line\": {\n                \"color\": \"rgba(0, 0, 0, 1.000)\",\n                \"width\": 1\n            },\n            \"size\": 8\n        },\n        \"zmax\": 3.0,\n        \"y\": [\n            6.38\n        ],\n        \"type\": \"scatter\"\n    },\n    {\n        \"xaxis\": \"x1\",\n        \"colorbar\": {\n            \"title\": \"\"\n        },\n        \"yaxis\": \"y1\",\n        \"x\": [\n            1.0\n        ],\n        \"showlegend\": false,\n        \"mode\": \"markers\",\n        \"name\": \"y1\",\n        \"zmin\": 1.0,\n        \"legendgroup\": \"y1\",\n        \"marker\": {\n            \"symbol\": \"circle\",\n            \"color\": \"rgba(255, 76, 76, 1.000)\",\n            \"line\": {\n                \"color\": \"rgba(0, 0, 0, 1.000)\",\n                \"width\": 1\n            },\n            \"size\": 8\n        },\n        \"zmax\": 3.0,\n        \"y\": [\n            6.0\n        ],\n        \"type\": \"scatter\"\n    },\n    {\n        \"xaxis\": \"x1\",\n        \"colorbar\": {\n            \"title\": \"\"\n        },\n        \"yaxis\": \"y1\",\n        \"x\": [\n            1.0\n        ],\n        \"showlegend\": false,\n        \"mode\": \"markers\",\n        \"name\": \"y1\",\n        \"zmin\": 1.0,\n        \"legendgroup\": \"y1\",\n        \"marker\": {\n            \"symbol\": \"circle\",\n            \"color\": \"rgba(255, 76, 76, 1.000)\",\n            \"line\": {\n                \"color\": \"rgba(0, 0, 0, 1.000)\",\n                \"width\": 1\n            },\n            \"size\": 8\n        },\n        \"zmax\": 3.0,\n        \"y\": [\n            6.8\n        ],\n        \"type\": \"scatter\"\n    },\n    {\n        \"xaxis\": \"x1\",\n        \"colorbar\": {\n            \"title\": \"\"\n        },\n        \"yaxis\": \"y1\",\n        \"x\": [\n            2.0\n        ],\n        \"showlegend\": false,\n        \"mode\": \"markers\",\n        \"name\": \"y1\",\n        \"zmin\": 1.0,\n        \"legendgroup\": \"y1\",\n        \"marker\": {\n            \"symbol\": \"circle\",\n            \"color\": \"rgba(204, 76, 204, 1.000)\",\n            \"line\": {\n                \"color\": \"rgba(0, 0, 0, 1.000)\",\n                \"width\": 1\n            },\n            \"size\": 8\n        },\n        \"zmax\": 3.0,\n        \"y\": [\n            1.95\n        ],\n        \"type\": \"scatter\"\n    },\n    {\n        \"xaxis\": \"x1\",\n        \"colorbar\": {\n            \"title\": \"\"\n        },\n        \"yaxis\": \"y1\",\n        \"x\": [\n            2.0\n        ],\n        \"showlegend\": false,\n        \"mode\": \"markers\",\n        \"name\": \"y1\",\n        \"zmin\": 1.0,\n        \"legendgroup\": \"y1\",\n        \"marker\": {\n            \"symbol\": \"circle\",\n            \"color\": \"rgba(204, 76, 204, 1.000)\",\n            \"line\": {\n                \"color\": \"rgba(0, 0, 0, 1.000)\",\n                \"width\": 1\n            },\n            \"size\": 8\n        },\n        \"zmax\": 3.0,\n        \"y\": [\n            3.27\n        ],\n        \"type\": \"scatter\"\n    },\n    {\n        \"xaxis\": \"x1\",\n        \"colorbar\": {\n            \"title\": \"\"\n        },\n        \"yaxis\": \"y1\",\n        \"x\": [\n            2.0\n        ],\n        \"showlegend\": false,\n        \"mode\": \"markers\",\n        \"name\": \"y1\",\n        \"zmin\": 1.0,\n        \"legendgroup\": \"y1\",\n        \"marker\": {\n            \"symbol\": \"circle\",\n            \"color\": \"rgba(255, 76, 76, 1.000)\",\n            \"line\": {\n                \"color\": \"rgba(0, 0, 0, 1.000)\",\n                \"width\": 1\n            },\n            \"size\": 8\n        },\n        \"zmax\": 3.0,\n        \"y\": [\n            5.75\n        ],\n        \"type\": \"scatter\"\n    },\n    {\n        \"xaxis\": \"x1\",\n        \"colorbar\": {\n            \"title\": \"\"\n        },\n        \"yaxis\": \"y1\",\n        \"x\": [\n            2.0\n        ],\n        \"showlegend\": false,\n        \"mode\": \"markers\",\n        \"name\": \"y1\",\n        \"zmin\": 1.0,\n        \"legendgroup\": \"y1\",\n        \"marker\": {\n            \"symbol\": \"circle\",\n            \"color\": \"rgba(204, 76, 204, 1.000)\",\n            \"line\": {\n                \"color\": \"rgba(0, 0, 0, 1.000)\",\n                \"width\": 1\n            },\n            \"size\": 8\n        },\n        \"zmax\": 3.0,\n        \"y\": [\n            3.8\n        ],\n        \"type\": \"scatter\"\n    },\n    {\n        \"xaxis\": \"x1\",\n        \"colorbar\": {\n            \"title\": \"\"\n        },\n        \"yaxis\": \"y1\",\n        \"x\": [\n            2.0\n        ],\n        \"showlegend\": false,\n        \"mode\": \"markers\",\n        \"name\": \"y1\",\n        \"zmin\": 1.0,\n        \"legendgroup\": \"y1\",\n        \"marker\": {\n            \"symbol\": \"circle\",\n            \"color\": \"rgba(255, 76, 76, 1.000)\",\n            \"line\": {\n                \"color\": \"rgba(0, 0, 0, 1.000)\",\n                \"width\": 1\n            },\n            \"size\": 8\n        },\n        \"zmax\": 3.0,\n        \"y\": [\n            4.45\n        ],\n        \"type\": \"scatter\"\n    },\n    {\n        \"xaxis\": \"x1\",\n        \"colorbar\": {\n            \"title\": \"\"\n        },\n        \"yaxis\": \"y1\",\n        \"x\": [\n            2.0\n        ],\n        \"showlegend\": false,\n        \"mode\": \"markers\",\n        \"name\": \"y1\",\n        \"zmin\": 1.0,\n        \"legendgroup\": \"y1\",\n        \"marker\": {\n            \"symbol\": \"circle\",\n            \"color\": \"rgba(204, 76, 204, 1.000)\",\n            \"line\": {\n                \"color\": \"rgba(0, 0, 0, 1.000)\",\n                \"width\": 1\n            },\n            \"size\": 8\n        },\n        \"zmax\": 3.0,\n        \"y\": [\n            2.95\n        ],\n        \"type\": \"scatter\"\n    },\n    {\n        \"xaxis\": \"x1\",\n        \"colorbar\": {\n            \"title\": \"\"\n        },\n        \"yaxis\": \"y1\",\n        \"x\": [\n            2.0\n        ],\n        \"showlegend\": false,\n        \"mode\": \"markers\",\n        \"name\": \"y1\",\n        \"zmin\": 1.0,\n        \"legendgroup\": \"y1\",\n        \"marker\": {\n            \"symbol\": \"circle\",\n            \"color\": \"rgba(255, 76, 76, 1.000)\",\n            \"line\": {\n                \"color\": \"rgba(0, 0, 0, 1.000)\",\n                \"width\": 1\n            },\n            \"size\": 8\n        },\n        \"zmax\": 3.0,\n        \"y\": [\n            4.6\n        ],\n        \"type\": \"scatter\"\n    },\n    {\n        \"xaxis\": \"x1\",\n        \"colorbar\": {\n            \"title\": \"\"\n        },\n        \"yaxis\": \"y1\",\n        \"x\": [\n            2.0\n        ],\n        \"showlegend\": false,\n        \"mode\": \"markers\",\n        \"name\": \"y1\",\n        \"zmin\": 1.0,\n        \"legendgroup\": \"y1\",\n        \"marker\": {\n            \"symbol\": \"circle\",\n            \"color\": \"rgba(255, 76, 76, 1.000)\",\n            \"line\": {\n                \"color\": \"rgba(0, 0, 0, 1.000)\",\n                \"width\": 1\n            },\n            \"size\": 8\n        },\n        \"zmax\": 3.0,\n        \"y\": [\n            5.3\n        ],\n        \"type\": \"scatter\"\n    },\n    {\n        \"xaxis\": \"x1\",\n        \"colorbar\": {\n            \"title\": \"\"\n        },\n        \"yaxis\": \"y1\",\n        \"x\": [\n            2.0\n        ],\n        \"showlegend\": false,\n        \"mode\": \"markers\",\n        \"name\": \"y1\",\n        \"zmin\": 1.0,\n        \"legendgroup\": \"y1\",\n        \"marker\": {\n            \"symbol\": \"circle\",\n            \"color\": \"rgba(255, 76, 76, 1.000)\",\n            \"line\": {\n                \"color\": \"rgba(0, 0, 0, 1.000)\",\n                \"width\": 1\n            },\n            \"size\": 8\n        },\n        \"zmax\": 3.0,\n        \"y\": [\n            4.68\n        ],\n        \"type\": \"scatter\"\n    },\n    {\n        \"xaxis\": \"x1\",\n        \"colorbar\": {\n            \"title\": \"\"\n        },\n        \"yaxis\": \"y1\",\n        \"x\": [\n            2.0\n        ],\n        \"showlegend\": false,\n        \"mode\": \"markers\",\n        \"name\": \"y1\",\n        \"zmin\": 1.0,\n        \"legendgroup\": \"y1\",\n        \"marker\": {\n            \"symbol\": \"circle\",\n            \"color\": \"rgba(204, 76, 204, 1.000)\",\n            \"line\": {\n                \"color\": \"rgba(0, 0, 0, 1.000)\",\n                \"width\": 1\n            },\n            \"size\": 8\n        },\n        \"zmax\": 3.0,\n        \"y\": [\n            3.17\n        ],\n        \"type\": \"scatter\"\n    },\n    {\n        \"xaxis\": \"x1\",\n        \"colorbar\": {\n            \"title\": \"\"\n        },\n        \"yaxis\": \"y1\",\n        \"x\": [\n            2.0\n        ],\n        \"showlegend\": false,\n        \"mode\": \"markers\",\n        \"name\": \"y1\",\n        \"zmin\": 1.0,\n        \"legendgroup\": \"y1\",\n        \"marker\": {\n            \"symbol\": \"circle\",\n            \"color\": \"rgba(204, 76, 204, 1.000)\",\n            \"line\": {\n                \"color\": \"rgba(0, 0, 0, 1.000)\",\n                \"width\": 1\n            },\n            \"size\": 8\n        },\n        \"zmax\": 3.0,\n        \"y\": [\n            2.85\n        ],\n        \"type\": \"scatter\"\n    },\n    {\n        \"xaxis\": \"x1\",\n        \"colorbar\": {\n            \"title\": \"\"\n        },\n        \"yaxis\": \"y1\",\n        \"x\": [\n            2.0\n        ],\n        \"showlegend\": false,\n        \"mode\": \"markers\",\n        \"name\": \"y1\",\n        \"zmin\": 1.0,\n        \"legendgroup\": \"y1\",\n        \"marker\": {\n            \"symbol\": \"circle\",\n            \"color\": \"rgba(204, 76, 204, 1.000)\",\n            \"line\": {\n                \"color\": \"rgba(0, 0, 0, 1.000)\",\n                \"width\": 1\n            },\n            \"size\": 8\n        },\n        \"zmax\": 3.0,\n        \"y\": [\n            3.05\n        ],\n        \"type\": \"scatter\"\n    },\n    {\n        \"xaxis\": \"x1\",\n        \"colorbar\": {\n            \"title\": \"\"\n        },\n        \"yaxis\": \"y1\",\n        \"x\": [\n            2.0\n        ],\n        \"showlegend\": false,\n        \"mode\": \"markers\",\n        \"name\": \"y1\",\n        \"zmin\": 1.0,\n        \"legendgroup\": \"y1\",\n        \"marker\": {\n            \"symbol\": \"circle\",\n            \"color\": \"rgba(204, 76, 204, 1.000)\",\n            \"line\": {\n                \"color\": \"rgba(0, 0, 0, 1.000)\",\n                \"width\": 1\n            },\n            \"size\": 8\n        },\n        \"zmax\": 3.0,\n        \"y\": [\n            3.38\n        ],\n        \"type\": \"scatter\"\n    },\n    {\n        \"xaxis\": \"x1\",\n        \"colorbar\": {\n            \"title\": \"\"\n        },\n        \"yaxis\": \"y1\",\n        \"x\": [\n            2.0\n        ],\n        \"showlegend\": false,\n        \"mode\": \"markers\",\n        \"name\": \"y1\",\n        \"zmin\": 1.0,\n        \"legendgroup\": \"y1\",\n        \"marker\": {\n            \"symbol\": \"circle\",\n            \"color\": \"rgba(204, 76, 204, 1.000)\",\n            \"line\": {\n                \"color\": \"rgba(0, 0, 0, 1.000)\",\n                \"width\": 1\n            },\n            \"size\": 8\n        },\n        \"zmax\": 3.0,\n        \"y\": [\n            3.74\n        ],\n        \"type\": \"scatter\"\n    },\n    {\n        \"xaxis\": \"x1\",\n        \"colorbar\": {\n            \"title\": \"\"\n        },\n        \"yaxis\": \"y1\",\n        \"x\": [\n            2.0\n        ],\n        \"showlegend\": false,\n        \"mode\": \"markers\",\n        \"name\": \"y1\",\n        \"zmin\": 1.0,\n        \"legendgroup\": \"y1\",\n        \"marker\": {\n            \"symbol\": \"circle\",\n            \"color\": \"rgba(204, 76, 204, 1.000)\",\n            \"line\": {\n                \"color\": \"rgba(0, 0, 0, 1.000)\",\n                \"width\": 1\n            },\n            \"size\": 8\n        },\n        \"zmax\": 3.0,\n        \"y\": [\n            3.35\n        ],\n        \"type\": \"scatter\"\n    },\n    {\n        \"xaxis\": \"x1\",\n        \"colorbar\": {\n            \"title\": \"\"\n        },\n        \"yaxis\": \"y1\",\n        \"x\": [\n            2.0\n        ],\n        \"showlegend\": false,\n        \"mode\": \"markers\",\n        \"name\": \"y1\",\n        \"zmin\": 1.0,\n        \"legendgroup\": \"y1\",\n        \"marker\": {\n            \"symbol\": \"circle\",\n            \"color\": \"rgba(204, 76, 204, 1.000)\",\n            \"line\": {\n                \"color\": \"rgba(0, 0, 0, 1.000)\",\n                \"width\": 1\n            },\n            \"size\": 8\n        },\n        \"zmax\": 3.0,\n        \"y\": [\n            3.21\n        ],\n        \"type\": \"scatter\"\n    },\n    {\n        \"xaxis\": \"x1\",\n        \"colorbar\": {\n            \"title\": \"\"\n        },\n        \"yaxis\": \"y1\",\n        \"x\": [\n            2.0\n        ],\n        \"showlegend\": false,\n        \"mode\": \"markers\",\n        \"name\": \"y1\",\n        \"zmin\": 1.0,\n        \"legendgroup\": \"y1\",\n        \"marker\": {\n            \"symbol\": \"circle\",\n            \"color\": \"rgba(204, 76, 204, 1.000)\",\n            \"line\": {\n                \"color\": \"rgba(0, 0, 0, 1.000)\",\n                \"width\": 1\n            },\n            \"size\": 8\n        },\n        \"zmax\": 3.0,\n        \"y\": [\n            3.8\n        ],\n        \"type\": \"scatter\"\n    },\n    {\n        \"xaxis\": \"x1\",\n        \"colorbar\": {\n            \"title\": \"\"\n        },\n        \"yaxis\": \"y1\",\n        \"x\": [\n            2.0\n        ],\n        \"showlegend\": false,\n        \"mode\": \"markers\",\n        \"name\": \"y1\",\n        \"zmin\": 1.0,\n        \"legendgroup\": \"y1\",\n        \"marker\": {\n            \"symbol\": \"circle\",\n            \"color\": \"rgba(255, 76, 76, 1.000)\",\n            \"line\": {\n                \"color\": \"rgba(0, 0, 0, 1.000)\",\n                \"width\": 1\n            },\n            \"size\": 8\n        },\n        \"zmax\": 3.0,\n        \"y\": [\n            4.6\n        ],\n        \"type\": \"scatter\"\n    },\n    {\n        \"xaxis\": \"x1\",\n        \"colorbar\": {\n            \"title\": \"\"\n        },\n        \"yaxis\": \"y1\",\n        \"x\": [\n            2.0\n        ],\n        \"showlegend\": false,\n        \"mode\": \"markers\",\n        \"name\": \"y1\",\n        \"zmin\": 1.0,\n        \"legendgroup\": \"y1\",\n        \"marker\": {\n            \"symbol\": \"circle\",\n            \"color\": \"rgba(204, 76, 204, 1.000)\",\n            \"line\": {\n                \"color\": \"rgba(0, 0, 0, 1.000)\",\n                \"width\": 1\n            },\n            \"size\": 8\n        },\n        \"zmax\": 3.0,\n        \"y\": [\n            2.65\n        ],\n        \"type\": \"scatter\"\n    },\n    {\n        \"xaxis\": \"x1\",\n        \"colorbar\": {\n            \"title\": \"\"\n        },\n        \"yaxis\": \"y1\",\n        \"x\": [\n            2.0\n        ],\n        \"showlegend\": false,\n        \"mode\": \"markers\",\n        \"name\": \"y1\",\n        \"zmin\": 1.0,\n        \"legendgroup\": \"y1\",\n        \"marker\": {\n            \"symbol\": \"circle\",\n            \"color\": \"rgba(204, 76, 204, 1.000)\",\n            \"line\": {\n                \"color\": \"rgba(0, 0, 0, 1.000)\",\n                \"width\": 1\n            },\n            \"size\": 8\n        },\n        \"zmax\": 3.0,\n        \"y\": [\n            3.4\n        ],\n        \"type\": \"scatter\"\n    },\n    {\n        \"xaxis\": \"x1\",\n        \"colorbar\": {\n            \"title\": \"\"\n        },\n        \"yaxis\": \"y1\",\n        \"x\": [\n            2.0\n        ],\n        \"showlegend\": false,\n        \"mode\": \"markers\",\n        \"name\": \"y1\",\n        \"zmin\": 1.0,\n        \"legendgroup\": \"y1\",\n        \"marker\": {\n            \"symbol\": \"circle\",\n            \"color\": \"rgba(204, 76, 204, 1.000)\",\n            \"line\": {\n                \"color\": \"rgba(0, 0, 0, 1.000)\",\n                \"width\": 1\n            },\n            \"size\": 8\n        },\n        \"zmax\": 3.0,\n        \"y\": [\n            2.57\n        ],\n        \"type\": \"scatter\"\n    },\n    {\n        \"xaxis\": \"x1\",\n        \"colorbar\": {\n            \"title\": \"\"\n        },\n        \"yaxis\": \"y1\",\n        \"x\": [\n            2.0\n        ],\n        \"showlegend\": false,\n        \"mode\": \"markers\",\n        \"name\": \"y1\",\n        \"zmin\": 1.0,\n        \"legendgroup\": \"y1\",\n        \"marker\": {\n            \"symbol\": \"circle\",\n            \"color\": \"rgba(204, 76, 204, 1.000)\",\n            \"line\": {\n                \"color\": \"rgba(0, 0, 0, 1.000)\",\n                \"width\": 1\n            },\n            \"size\": 8\n        },\n        \"zmax\": 3.0,\n        \"y\": [\n            2.5\n        ],\n        \"type\": \"scatter\"\n    },\n    {\n        \"xaxis\": \"x1\",\n        \"colorbar\": {\n            \"title\": \"\"\n        },\n        \"yaxis\": \"y1\",\n        \"x\": [\n            2.0\n        ],\n        \"showlegend\": false,\n        \"mode\": \"markers\",\n        \"name\": \"y1\",\n        \"zmin\": 1.0,\n        \"legendgroup\": \"y1\",\n        \"marker\": {\n            \"symbol\": \"circle\",\n            \"color\": \"rgba(204, 76, 204, 1.000)\",\n            \"line\": {\n                \"color\": \"rgba(0, 0, 0, 1.000)\",\n                \"width\": 1\n            },\n            \"size\": 8\n        },\n        \"zmax\": 3.0,\n        \"y\": [\n            3.9\n        ],\n        \"type\": \"scatter\"\n    },\n    {\n        \"xaxis\": \"x1\",\n        \"colorbar\": {\n            \"title\": \"\"\n        },\n        \"yaxis\": \"y1\",\n        \"x\": [\n            2.0\n        ],\n        \"showlegend\": false,\n        \"mode\": \"markers\",\n        \"name\": \"y1\",\n        \"zmin\": 1.0,\n        \"legendgroup\": \"y1\",\n        \"marker\": {\n            \"symbol\": \"circle\",\n            \"color\": \"rgba(204, 76, 204, 1.000)\",\n            \"line\": {\n                \"color\": \"rgba(0, 0, 0, 1.000)\",\n                \"width\": 1\n            },\n            \"size\": 8\n        },\n        \"zmax\": 3.0,\n        \"y\": [\n            2.2\n        ],\n        \"type\": \"scatter\"\n    },\n    {\n        \"xaxis\": \"x1\",\n        \"colorbar\": {\n            \"title\": \"\"\n        },\n        \"yaxis\": \"y1\",\n        \"x\": [\n            2.0\n        ],\n        \"showlegend\": false,\n        \"mode\": \"markers\",\n        \"name\": \"y1\",\n        \"zmin\": 1.0,\n        \"legendgroup\": \"y1\",\n        \"marker\": {\n            \"symbol\": \"circle\",\n            \"color\": \"rgba(255, 76, 76, 1.000)\",\n            \"line\": {\n                \"color\": \"rgba(0, 0, 0, 1.000)\",\n                \"width\": 1\n            },\n            \"size\": 8\n        },\n        \"zmax\": 3.0,\n        \"y\": [\n            4.8\n        ],\n        \"type\": \"scatter\"\n    },\n    {\n        \"xaxis\": \"x1\",\n        \"colorbar\": {\n            \"title\": \"\"\n        },\n        \"yaxis\": \"y1\",\n        \"x\": [\n            2.0\n        ],\n        \"showlegend\": false,\n        \"mode\": \"markers\",\n        \"name\": \"y1\",\n        \"zmin\": 1.0,\n        \"legendgroup\": \"y1\",\n        \"marker\": {\n            \"symbol\": \"circle\",\n            \"color\": \"rgba(204, 76, 204, 1.000)\",\n            \"line\": {\n                \"color\": \"rgba(0, 0, 0, 1.000)\",\n                \"width\": 1\n            },\n            \"size\": 8\n        },\n        \"zmax\": 3.0,\n        \"y\": [\n            3.05\n        ],\n        \"type\": \"scatter\"\n    },\n    {\n        \"xaxis\": \"x1\",\n        \"colorbar\": {\n            \"title\": \"\"\n        },\n        \"yaxis\": \"y1\",\n        \"x\": [\n            2.0\n        ],\n        \"showlegend\": false,\n        \"mode\": \"markers\",\n        \"name\": \"y1\",\n        \"zmin\": 1.0,\n        \"legendgroup\": \"y1\",\n        \"marker\": {\n            \"symbol\": \"circle\",\n            \"color\": \"rgba(204, 76, 204, 1.000)\",\n            \"line\": {\n                \"color\": \"rgba(0, 0, 0, 1.000)\",\n                \"width\": 1\n            },\n            \"size\": 8\n        },\n        \"zmax\": 3.0,\n        \"y\": [\n            2.62\n        ],\n        \"type\": \"scatter\"\n    },\n    {\n        \"xaxis\": \"x1\",\n        \"colorbar\": {\n            \"title\": \"\"\n        },\n        \"yaxis\": \"y1\",\n        \"x\": [\n            2.0\n        ],\n        \"showlegend\": false,\n        \"mode\": \"markers\",\n        \"name\": \"y1\",\n        \"zmin\": 1.0,\n        \"legendgroup\": \"y1\",\n        \"marker\": {\n            \"symbol\": \"circle\",\n            \"color\": \"rgba(204, 76, 204, 1.000)\",\n            \"line\": {\n                \"color\": \"rgba(0, 0, 0, 1.000)\",\n                \"width\": 1\n            },\n            \"size\": 8\n        },\n        \"zmax\": 3.0,\n        \"y\": [\n            2.45\n        ],\n        \"type\": \"scatter\"\n    },\n    {\n        \"xaxis\": \"x1\",\n        \"colorbar\": {\n            \"title\": \"\"\n        },\n        \"yaxis\": \"y1\",\n        \"x\": [\n            2.0\n        ],\n        \"showlegend\": false,\n        \"mode\": \"markers\",\n        \"name\": \"y1\",\n        \"zmin\": 1.0,\n        \"legendgroup\": \"y1\",\n        \"marker\": {\n            \"symbol\": \"circle\",\n            \"color\": \"rgba(204, 76, 204, 1.000)\",\n            \"line\": {\n                \"color\": \"rgba(0, 0, 0, 1.000)\",\n                \"width\": 1\n            },\n            \"size\": 8\n        },\n        \"zmax\": 3.0,\n        \"y\": [\n            2.6\n        ],\n        \"type\": \"scatter\"\n    },\n    {\n        \"xaxis\": \"x1\",\n        \"colorbar\": {\n            \"title\": \"\"\n        },\n        \"yaxis\": \"y1\",\n        \"x\": [\n            2.0\n        ],\n        \"showlegend\": false,\n        \"mode\": \"markers\",\n        \"name\": \"y1\",\n        \"zmin\": 1.0,\n        \"legendgroup\": \"y1\",\n        \"marker\": {\n            \"symbol\": \"circle\",\n            \"color\": \"rgba(204, 76, 204, 1.000)\",\n            \"line\": {\n                \"color\": \"rgba(0, 0, 0, 1.000)\",\n                \"width\": 1\n            },\n            \"size\": 8\n        },\n        \"zmax\": 3.0,\n        \"y\": [\n            2.8\n        ],\n        \"type\": \"scatter\"\n    },\n    {\n        \"xaxis\": \"x1\",\n        \"colorbar\": {\n            \"title\": \"\"\n        },\n        \"yaxis\": \"y1\",\n        \"x\": [\n            2.0\n        ],\n        \"showlegend\": false,\n        \"mode\": \"markers\",\n        \"name\": \"y1\",\n        \"zmin\": 1.0,\n        \"legendgroup\": \"y1\",\n        \"marker\": {\n            \"symbol\": \"circle\",\n            \"color\": \"rgba(204, 76, 204, 1.000)\",\n            \"line\": {\n                \"color\": \"rgba(0, 0, 0, 1.000)\",\n                \"width\": 1\n            },\n            \"size\": 8\n        },\n        \"zmax\": 3.0,\n        \"y\": [\n            1.74\n        ],\n        \"type\": \"scatter\"\n    },\n    {\n        \"xaxis\": \"x1\",\n        \"colorbar\": {\n            \"title\": \"\"\n        },\n        \"yaxis\": \"y1\",\n        \"x\": [\n            2.0\n        ],\n        \"showlegend\": false,\n        \"mode\": \"markers\",\n        \"name\": \"y1\",\n        \"zmin\": 1.0,\n        \"legendgroup\": \"y1\",\n        \"marker\": {\n            \"symbol\": \"circle\",\n            \"color\": \"rgba(204, 76, 204, 1.000)\",\n            \"line\": {\n                \"color\": \"rgba(0, 0, 0, 1.000)\",\n                \"width\": 1\n            },\n            \"size\": 8\n        },\n        \"zmax\": 3.0,\n        \"y\": [\n            2.4\n        ],\n        \"type\": \"scatter\"\n    },\n    {\n        \"xaxis\": \"x1\",\n        \"colorbar\": {\n            \"title\": \"\"\n        },\n        \"yaxis\": \"y1\",\n        \"x\": [\n            2.0\n        ],\n        \"showlegend\": false,\n        \"mode\": \"markers\",\n        \"name\": \"y1\",\n        \"zmin\": 1.0,\n        \"legendgroup\": \"y1\",\n        \"marker\": {\n            \"symbol\": \"circle\",\n            \"color\": \"rgba(204, 76, 204, 1.000)\",\n            \"line\": {\n                \"color\": \"rgba(0, 0, 0, 1.000)\",\n                \"width\": 1\n            },\n            \"size\": 8\n        },\n        \"zmax\": 3.0,\n        \"y\": [\n            3.6\n        ],\n        \"type\": \"scatter\"\n    },\n    {\n        \"xaxis\": \"x1\",\n        \"colorbar\": {\n            \"title\": \"\"\n        },\n        \"yaxis\": \"y1\",\n        \"x\": [\n            2.0\n        ],\n        \"showlegend\": false,\n        \"mode\": \"markers\",\n        \"name\": \"y1\",\n        \"zmin\": 1.0,\n        \"legendgroup\": \"y1\",\n        \"marker\": {\n            \"symbol\": \"circle\",\n            \"color\": \"rgba(204, 76, 204, 1.000)\",\n            \"line\": {\n                \"color\": \"rgba(0, 0, 0, 1.000)\",\n                \"width\": 1\n            },\n            \"size\": 8\n        },\n        \"zmax\": 3.0,\n        \"y\": [\n            3.05\n        ],\n        \"type\": \"scatter\"\n    },\n    {\n        \"xaxis\": \"x1\",\n        \"colorbar\": {\n            \"title\": \"\"\n        },\n        \"yaxis\": \"y1\",\n        \"x\": [\n            2.0\n        ],\n        \"showlegend\": false,\n        \"mode\": \"markers\",\n        \"name\": \"y1\",\n        \"zmin\": 1.0,\n        \"legendgroup\": \"y1\",\n        \"marker\": {\n            \"symbol\": \"circle\",\n            \"color\": \"rgba(204, 76, 204, 1.000)\",\n            \"line\": {\n                \"color\": \"rgba(0, 0, 0, 1.000)\",\n                \"width\": 1\n            },\n            \"size\": 8\n        },\n        \"zmax\": 3.0,\n        \"y\": [\n            2.15\n        ],\n        \"type\": \"scatter\"\n    },\n    {\n        \"xaxis\": \"x1\",\n        \"colorbar\": {\n            \"title\": \"\"\n        },\n        \"yaxis\": \"y1\",\n        \"x\": [\n            2.0\n        ],\n        \"showlegend\": false,\n        \"mode\": \"markers\",\n        \"name\": \"y1\",\n        \"zmin\": 1.0,\n        \"legendgroup\": \"y1\",\n        \"marker\": {\n            \"symbol\": \"circle\",\n            \"color\": \"rgba(204, 76, 204, 1.000)\",\n            \"line\": {\n                \"color\": \"rgba(0, 0, 0, 1.000)\",\n                \"width\": 1\n            },\n            \"size\": 8\n        },\n        \"zmax\": 3.0,\n        \"y\": [\n            3.25\n        ],\n        \"type\": \"scatter\"\n    },\n    {\n        \"xaxis\": \"x1\",\n        \"colorbar\": {\n            \"title\": \"\"\n        },\n        \"yaxis\": \"y1\",\n        \"x\": [\n            2.0\n        ],\n        \"showlegend\": false,\n        \"mode\": \"markers\",\n        \"name\": \"y1\",\n        \"zmin\": 1.0,\n        \"legendgroup\": \"y1\",\n        \"marker\": {\n            \"symbol\": \"circle\",\n            \"color\": \"rgba(204, 76, 204, 1.000)\",\n            \"line\": {\n                \"color\": \"rgba(0, 0, 0, 1.000)\",\n                \"width\": 1\n            },\n            \"size\": 8\n        },\n        \"zmax\": 3.0,\n        \"y\": [\n            2.6\n        ],\n        \"type\": \"scatter\"\n    },\n    {\n        \"xaxis\": \"x1\",\n        \"colorbar\": {\n            \"title\": \"\"\n        },\n        \"yaxis\": \"y1\",\n        \"x\": [\n            2.0\n        ],\n        \"showlegend\": false,\n        \"mode\": \"markers\",\n        \"name\": \"y1\",\n        \"zmin\": 1.0,\n        \"legendgroup\": \"y1\",\n        \"marker\": {\n            \"symbol\": \"circle\",\n            \"color\": \"rgba(204, 76, 204, 1.000)\",\n            \"line\": {\n                \"color\": \"rgba(0, 0, 0, 1.000)\",\n                \"width\": 1\n            },\n            \"size\": 8\n        },\n        \"zmax\": 3.0,\n        \"y\": [\n            2.5\n        ],\n        \"type\": \"scatter\"\n    },\n    {\n        \"xaxis\": \"x1\",\n        \"colorbar\": {\n            \"title\": \"\"\n        },\n        \"yaxis\": \"y1\",\n        \"x\": [\n            2.0\n        ],\n        \"showlegend\": false,\n        \"mode\": \"markers\",\n        \"name\": \"y1\",\n        \"zmin\": 1.0,\n        \"legendgroup\": \"y1\",\n        \"marker\": {\n            \"symbol\": \"circle\",\n            \"color\": \"rgba(204, 76, 204, 1.000)\",\n            \"line\": {\n                \"color\": \"rgba(0, 0, 0, 1.000)\",\n                \"width\": 1\n            },\n            \"size\": 8\n        },\n        \"zmax\": 3.0,\n        \"y\": [\n            2.9\n        ],\n        \"type\": \"scatter\"\n    },\n    {\n        \"xaxis\": \"x1\",\n        \"colorbar\": {\n            \"title\": \"\"\n        },\n        \"yaxis\": \"y1\",\n        \"x\": [\n            2.0\n        ],\n        \"showlegend\": false,\n        \"mode\": \"markers\",\n        \"name\": \"y1\",\n        \"zmin\": 1.0,\n        \"legendgroup\": \"y1\",\n        \"marker\": {\n            \"symbol\": \"circle\",\n            \"color\": \"rgba(255, 76, 76, 1.000)\",\n            \"line\": {\n                \"color\": \"rgba(0, 0, 0, 1.000)\",\n                \"width\": 1\n            },\n            \"size\": 8\n        },\n        \"zmax\": 3.0,\n        \"y\": [\n            4.5\n        ],\n        \"type\": \"scatter\"\n    },\n    {\n        \"xaxis\": \"x1\",\n        \"colorbar\": {\n            \"title\": \"\"\n        },\n        \"yaxis\": \"y1\",\n        \"x\": [\n            2.0\n        ],\n        \"showlegend\": false,\n        \"mode\": \"markers\",\n        \"name\": \"y1\",\n        \"zmin\": 1.0,\n        \"legendgroup\": \"y1\",\n        \"marker\": {\n            \"symbol\": \"circle\",\n            \"color\": \"rgba(204, 76, 204, 1.000)\",\n            \"line\": {\n                \"color\": \"rgba(0, 0, 0, 1.000)\",\n                \"width\": 1\n            },\n            \"size\": 8\n        },\n        \"zmax\": 3.0,\n        \"y\": [\n            2.3\n        ],\n        \"type\": \"scatter\"\n    },\n    {\n        \"xaxis\": \"x1\",\n        \"colorbar\": {\n            \"title\": \"\"\n        },\n        \"yaxis\": \"y1\",\n        \"x\": [\n            2.0\n        ],\n        \"showlegend\": false,\n        \"mode\": \"markers\",\n        \"name\": \"y1\",\n        \"zmin\": 1.0,\n        \"legendgroup\": \"y1\",\n        \"marker\": {\n            \"symbol\": \"circle\",\n            \"color\": \"rgba(204, 76, 204, 1.000)\",\n            \"line\": {\n                \"color\": \"rgba(0, 0, 0, 1.000)\",\n                \"width\": 1\n            },\n            \"size\": 8\n        },\n        \"zmax\": 3.0,\n        \"y\": [\n            3.3\n        ],\n        \"type\": \"scatter\"\n    },\n    {\n        \"xaxis\": \"x1\",\n        \"colorbar\": {\n            \"title\": \"\"\n        },\n        \"yaxis\": \"y1\",\n        \"x\": [\n            2.0\n        ],\n        \"showlegend\": false,\n        \"mode\": \"markers\",\n        \"name\": \"y1\",\n        \"zmin\": 1.0,\n        \"legendgroup\": \"y1\",\n        \"marker\": {\n            \"symbol\": \"circle\",\n            \"color\": \"rgba(204, 76, 204, 1.000)\",\n            \"line\": {\n                \"color\": \"rgba(0, 0, 0, 1.000)\",\n                \"width\": 1\n            },\n            \"size\": 8\n        },\n        \"zmax\": 3.0,\n        \"y\": [\n            2.45\n        ],\n        \"type\": \"scatter\"\n    },\n    {\n        \"xaxis\": \"x1\",\n        \"colorbar\": {\n            \"title\": \"\"\n        },\n        \"yaxis\": \"y1\",\n        \"x\": [\n            2.0\n        ],\n        \"showlegend\": false,\n        \"mode\": \"markers\",\n        \"name\": \"y1\",\n        \"zmin\": 1.0,\n        \"legendgroup\": \"y1\",\n        \"marker\": {\n            \"symbol\": \"circle\",\n            \"color\": \"rgba(204, 76, 204, 1.000)\",\n            \"line\": {\n                \"color\": \"rgba(0, 0, 0, 1.000)\",\n                \"width\": 1\n            },\n            \"size\": 8\n        },\n        \"zmax\": 3.0,\n        \"y\": [\n            2.8\n        ],\n        \"type\": \"scatter\"\n    },\n    {\n        \"xaxis\": \"x1\",\n        \"colorbar\": {\n            \"title\": \"\"\n        },\n        \"yaxis\": \"y1\",\n        \"x\": [\n            2.0\n        ],\n        \"showlegend\": false,\n        \"mode\": \"markers\",\n        \"name\": \"y1\",\n        \"zmin\": 1.0,\n        \"legendgroup\": \"y1\",\n        \"marker\": {\n            \"symbol\": \"circle\",\n            \"color\": \"rgba(204, 76, 204, 1.000)\",\n            \"line\": {\n                \"color\": \"rgba(0, 0, 0, 1.000)\",\n                \"width\": 1\n            },\n            \"size\": 8\n        },\n        \"zmax\": 3.0,\n        \"y\": [\n            2.06\n        ],\n        \"type\": \"scatter\"\n    },\n    {\n        \"xaxis\": \"x1\",\n        \"colorbar\": {\n            \"title\": \"\"\n        },\n        \"yaxis\": \"y1\",\n        \"x\": [\n            2.0\n        ],\n        \"showlegend\": false,\n        \"mode\": \"markers\",\n        \"name\": \"y1\",\n        \"zmin\": 1.0,\n        \"legendgroup\": \"y1\",\n        \"marker\": {\n            \"symbol\": \"circle\",\n            \"color\": \"rgba(204, 76, 204, 1.000)\",\n            \"line\": {\n                \"color\": \"rgba(0, 0, 0, 1.000)\",\n                \"width\": 1\n            },\n            \"size\": 8\n        },\n        \"zmax\": 3.0,\n        \"y\": [\n            2.94\n        ],\n        \"type\": \"scatter\"\n    },\n    {\n        \"xaxis\": \"x1\",\n        \"colorbar\": {\n            \"title\": \"\"\n        },\n        \"yaxis\": \"y1\",\n        \"x\": [\n            2.0\n        ],\n        \"showlegend\": false,\n        \"mode\": \"markers\",\n        \"name\": \"y1\",\n        \"zmin\": 1.0,\n        \"legendgroup\": \"y1\",\n        \"marker\": {\n            \"symbol\": \"circle\",\n            \"color\": \"rgba(204, 76, 204, 1.000)\",\n            \"line\": {\n                \"color\": \"rgba(0, 0, 0, 1.000)\",\n                \"width\": 1\n            },\n            \"size\": 8\n        },\n        \"zmax\": 3.0,\n        \"y\": [\n            2.7\n        ],\n        \"type\": \"scatter\"\n    },\n    {\n        \"xaxis\": \"x1\",\n        \"colorbar\": {\n            \"title\": \"\"\n        },\n        \"yaxis\": \"y1\",\n        \"x\": [\n            2.0\n        ],\n        \"showlegend\": false,\n        \"mode\": \"markers\",\n        \"name\": \"y1\",\n        \"zmin\": 1.0,\n        \"legendgroup\": \"y1\",\n        \"marker\": {\n            \"symbol\": \"circle\",\n            \"color\": \"rgba(204, 76, 204, 1.000)\",\n            \"line\": {\n                \"color\": \"rgba(0, 0, 0, 1.000)\",\n                \"width\": 1\n            },\n            \"size\": 8\n        },\n        \"zmax\": 3.0,\n        \"y\": [\n            3.4\n        ],\n        \"type\": \"scatter\"\n    },\n    {\n        \"xaxis\": \"x1\",\n        \"colorbar\": {\n            \"title\": \"\"\n        },\n        \"yaxis\": \"y1\",\n        \"x\": [\n            2.0\n        ],\n        \"showlegend\": false,\n        \"mode\": \"markers\",\n        \"name\": \"y1\",\n        \"zmin\": 1.0,\n        \"legendgroup\": \"y1\",\n        \"marker\": {\n            \"symbol\": \"circle\",\n            \"color\": \"rgba(204, 76, 204, 1.000)\",\n            \"line\": {\n                \"color\": \"rgba(0, 0, 0, 1.000)\",\n                \"width\": 1\n            },\n            \"size\": 8\n        },\n        \"zmax\": 3.0,\n        \"y\": [\n            3.3\n        ],\n        \"type\": \"scatter\"\n    },\n    {\n        \"xaxis\": \"x1\",\n        \"colorbar\": {\n            \"title\": \"\"\n        },\n        \"yaxis\": \"y1\",\n        \"x\": [\n            2.0\n        ],\n        \"showlegend\": false,\n        \"mode\": \"markers\",\n        \"name\": \"y1\",\n        \"zmin\": 1.0,\n        \"legendgroup\": \"y1\",\n        \"marker\": {\n            \"symbol\": \"circle\",\n            \"color\": \"rgba(204, 76, 204, 1.000)\",\n            \"line\": {\n                \"color\": \"rgba(0, 0, 0, 1.000)\",\n                \"width\": 1\n            },\n            \"size\": 8\n        },\n        \"zmax\": 3.0,\n        \"y\": [\n            2.7\n        ],\n        \"type\": \"scatter\"\n    },\n    {\n        \"xaxis\": \"x1\",\n        \"colorbar\": {\n            \"title\": \"\"\n        },\n        \"yaxis\": \"y1\",\n        \"x\": [\n            2.0\n        ],\n        \"showlegend\": false,\n        \"mode\": \"markers\",\n        \"name\": \"y1\",\n        \"zmin\": 1.0,\n        \"legendgroup\": \"y1\",\n        \"marker\": {\n            \"symbol\": \"circle\",\n            \"color\": \"rgba(204, 76, 204, 1.000)\",\n            \"line\": {\n                \"color\": \"rgba(0, 0, 0, 1.000)\",\n                \"width\": 1\n            },\n            \"size\": 8\n        },\n        \"zmax\": 3.0,\n        \"y\": [\n            2.65\n        ],\n        \"type\": \"scatter\"\n    },\n    {\n        \"xaxis\": \"x1\",\n        \"colorbar\": {\n            \"title\": \"\"\n        },\n        \"yaxis\": \"y1\",\n        \"x\": [\n            2.0\n        ],\n        \"showlegend\": false,\n        \"mode\": \"markers\",\n        \"name\": \"y1\",\n        \"zmin\": 1.0,\n        \"legendgroup\": \"y1\",\n        \"marker\": {\n            \"symbol\": \"circle\",\n            \"color\": \"rgba(204, 76, 204, 1.000)\",\n            \"line\": {\n                \"color\": \"rgba(0, 0, 0, 1.000)\",\n                \"width\": 1\n            },\n            \"size\": 8\n        },\n        \"zmax\": 3.0,\n        \"y\": [\n            2.9\n        ],\n        \"type\": \"scatter\"\n    },\n    {\n        \"xaxis\": \"x1\",\n        \"colorbar\": {\n            \"title\": \"\"\n        },\n        \"yaxis\": \"y1\",\n        \"x\": [\n            2.0\n        ],\n        \"showlegend\": false,\n        \"mode\": \"markers\",\n        \"name\": \"y1\",\n        \"zmin\": 1.0,\n        \"legendgroup\": \"y1\",\n        \"marker\": {\n            \"symbol\": \"circle\",\n            \"color\": \"rgba(204, 76, 204, 1.000)\",\n            \"line\": {\n                \"color\": \"rgba(0, 0, 0, 1.000)\",\n                \"width\": 1\n            },\n            \"size\": 8\n        },\n        \"zmax\": 3.0,\n        \"y\": [\n            2.0\n        ],\n        \"type\": \"scatter\"\n    },\n    {\n        \"xaxis\": \"x1\",\n        \"colorbar\": {\n            \"title\": \"\"\n        },\n        \"yaxis\": \"y1\",\n        \"x\": [\n            2.0\n        ],\n        \"showlegend\": false,\n        \"mode\": \"markers\",\n        \"name\": \"y1\",\n        \"zmin\": 1.0,\n        \"legendgroup\": \"y1\",\n        \"marker\": {\n            \"symbol\": \"circle\",\n            \"color\": \"rgba(204, 76, 204, 1.000)\",\n            \"line\": {\n                \"color\": \"rgba(0, 0, 0, 1.000)\",\n                \"width\": 1\n            },\n            \"size\": 8\n        },\n        \"zmax\": 3.0,\n        \"y\": [\n            3.8\n        ],\n        \"type\": \"scatter\"\n    },\n    {\n        \"xaxis\": \"x1\",\n        \"colorbar\": {\n            \"title\": \"\"\n        },\n        \"yaxis\": \"y1\",\n        \"x\": [\n            2.0\n        ],\n        \"showlegend\": false,\n        \"mode\": \"markers\",\n        \"name\": \"y1\",\n        \"zmin\": 1.0,\n        \"legendgroup\": \"y1\",\n        \"marker\": {\n            \"symbol\": \"circle\",\n            \"color\": \"rgba(204, 76, 204, 1.000)\",\n            \"line\": {\n                \"color\": \"rgba(0, 0, 0, 1.000)\",\n                \"width\": 1\n            },\n            \"size\": 8\n        },\n        \"zmax\": 3.0,\n        \"y\": [\n            3.08\n        ],\n        \"type\": \"scatter\"\n    },\n    {\n        \"xaxis\": \"x1\",\n        \"colorbar\": {\n            \"title\": \"\"\n        },\n        \"yaxis\": \"y1\",\n        \"x\": [\n            2.0\n        ],\n        \"showlegend\": false,\n        \"mode\": \"markers\",\n        \"name\": \"y1\",\n        \"zmin\": 1.0,\n        \"legendgroup\": \"y1\",\n        \"marker\": {\n            \"symbol\": \"circle\",\n            \"color\": \"rgba(204, 76, 204, 1.000)\",\n            \"line\": {\n                \"color\": \"rgba(0, 0, 0, 1.000)\",\n                \"width\": 1\n            },\n            \"size\": 8\n        },\n        \"zmax\": 3.0,\n        \"y\": [\n            2.9\n        ],\n        \"type\": \"scatter\"\n    },\n    {\n        \"xaxis\": \"x1\",\n        \"colorbar\": {\n            \"title\": \"\"\n        },\n        \"yaxis\": \"y1\",\n        \"x\": [\n            2.0\n        ],\n        \"showlegend\": false,\n        \"mode\": \"markers\",\n        \"name\": \"y1\",\n        \"zmin\": 1.0,\n        \"legendgroup\": \"y1\",\n        \"marker\": {\n            \"symbol\": \"circle\",\n            \"color\": \"rgba(204, 76, 204, 1.000)\",\n            \"line\": {\n                \"color\": \"rgba(0, 0, 0, 1.000)\",\n                \"width\": 1\n            },\n            \"size\": 8\n        },\n        \"zmax\": 3.0,\n        \"y\": [\n            1.9\n        ],\n        \"type\": \"scatter\"\n    },\n    {\n        \"xaxis\": \"x1\",\n        \"colorbar\": {\n            \"title\": \"\"\n        },\n        \"yaxis\": \"y1\",\n        \"x\": [\n            2.0\n        ],\n        \"showlegend\": false,\n        \"mode\": \"markers\",\n        \"name\": \"y1\",\n        \"zmin\": 1.0,\n        \"legendgroup\": \"y1\",\n        \"marker\": {\n            \"symbol\": \"circle\",\n            \"color\": \"rgba(204, 76, 204, 1.000)\",\n            \"line\": {\n                \"color\": \"rgba(0, 0, 0, 1.000)\",\n                \"width\": 1\n            },\n            \"size\": 8\n        },\n        \"zmax\": 3.0,\n        \"y\": [\n            1.95\n        ],\n        \"type\": \"scatter\"\n    },\n    {\n        \"xaxis\": \"x1\",\n        \"colorbar\": {\n            \"title\": \"\"\n        },\n        \"yaxis\": \"y1\",\n        \"x\": [\n            2.0\n        ],\n        \"showlegend\": false,\n        \"mode\": \"markers\",\n        \"name\": \"y1\",\n        \"zmin\": 1.0,\n        \"legendgroup\": \"y1\",\n        \"marker\": {\n            \"symbol\": \"circle\",\n            \"color\": \"rgba(204, 76, 204, 1.000)\",\n            \"line\": {\n                \"color\": \"rgba(0, 0, 0, 1.000)\",\n                \"width\": 1\n            },\n            \"size\": 8\n        },\n        \"zmax\": 3.0,\n        \"y\": [\n            2.06\n        ],\n        \"type\": \"scatter\"\n    },\n    {\n        \"xaxis\": \"x1\",\n        \"colorbar\": {\n            \"title\": \"\"\n        },\n        \"yaxis\": \"y1\",\n        \"x\": [\n            2.0\n        ],\n        \"showlegend\": false,\n        \"mode\": \"markers\",\n        \"name\": \"y1\",\n        \"zmin\": 1.0,\n        \"legendgroup\": \"y1\",\n        \"marker\": {\n            \"symbol\": \"circle\",\n            \"color\": \"rgba(204, 76, 204, 1.000)\",\n            \"line\": {\n                \"color\": \"rgba(0, 0, 0, 1.000)\",\n                \"width\": 1\n            },\n            \"size\": 8\n        },\n        \"zmax\": 3.0,\n        \"y\": [\n            3.4\n        ],\n        \"type\": \"scatter\"\n    },\n    {\n        \"xaxis\": \"x1\",\n        \"colorbar\": {\n            \"title\": \"\"\n        },\n        \"yaxis\": \"y1\",\n        \"x\": [\n            2.0\n        ],\n        \"showlegend\": false,\n        \"mode\": \"markers\",\n        \"name\": \"y1\",\n        \"zmin\": 1.0,\n        \"legendgroup\": \"y1\",\n        \"marker\": {\n            \"symbol\": \"circle\",\n            \"color\": \"rgba(204, 76, 204, 1.000)\",\n            \"line\": {\n                \"color\": \"rgba(0, 0, 0, 1.000)\",\n                \"width\": 1\n            },\n            \"size\": 8\n        },\n        \"zmax\": 3.0,\n        \"y\": [\n            1.28\n        ],\n        \"type\": \"scatter\"\n    },\n    {\n        \"xaxis\": \"x1\",\n        \"colorbar\": {\n            \"title\": \"\"\n        },\n        \"yaxis\": \"y1\",\n        \"x\": [\n            2.0\n        ],\n        \"showlegend\": false,\n        \"mode\": \"markers\",\n        \"name\": \"y1\",\n        \"zmin\": 1.0,\n        \"legendgroup\": \"y1\",\n        \"marker\": {\n            \"symbol\": \"circle\",\n            \"color\": \"rgba(204, 76, 204, 1.000)\",\n            \"line\": {\n                \"color\": \"rgba(0, 0, 0, 1.000)\",\n                \"width\": 1\n            },\n            \"size\": 8\n        },\n        \"zmax\": 3.0,\n        \"y\": [\n            3.25\n        ],\n        \"type\": \"scatter\"\n    },\n    {\n        \"xaxis\": \"x1\",\n        \"colorbar\": {\n            \"title\": \"\"\n        },\n        \"yaxis\": \"y1\",\n        \"x\": [\n            2.0\n        ],\n        \"showlegend\": false,\n        \"mode\": \"markers\",\n        \"name\": \"y1\",\n        \"zmin\": 1.0,\n        \"legendgroup\": \"y1\",\n        \"marker\": {\n            \"symbol\": \"circle\",\n            \"color\": \"rgba(255, 76, 76, 1.000)\",\n            \"line\": {\n                \"color\": \"rgba(0, 0, 0, 1.000)\",\n                \"width\": 1\n            },\n            \"size\": 8\n        },\n        \"zmax\": 3.0,\n        \"y\": [\n            6.0\n        ],\n        \"type\": \"scatter\"\n    },\n    {\n        \"xaxis\": \"x1\",\n        \"colorbar\": {\n            \"title\": \"\"\n        },\n        \"yaxis\": \"y1\",\n        \"x\": [\n            2.0\n        ],\n        \"showlegend\": false,\n        \"mode\": \"markers\",\n        \"name\": \"y1\",\n        \"zmin\": 1.0,\n        \"legendgroup\": \"y1\",\n        \"marker\": {\n            \"symbol\": \"circle\",\n            \"color\": \"rgba(204, 76, 204, 1.000)\",\n            \"line\": {\n                \"color\": \"rgba(0, 0, 0, 1.000)\",\n                \"width\": 1\n            },\n            \"size\": 8\n        },\n        \"zmax\": 3.0,\n        \"y\": [\n            2.08\n        ],\n        \"type\": \"scatter\"\n    },\n    {\n        \"xaxis\": \"x1\",\n        \"colorbar\": {\n            \"title\": \"\"\n        },\n        \"yaxis\": \"y1\",\n        \"x\": [\n            2.0\n        ],\n        \"showlegend\": false,\n        \"mode\": \"markers\",\n        \"name\": \"y1\",\n        \"zmin\": 1.0,\n        \"legendgroup\": \"y1\",\n        \"marker\": {\n            \"symbol\": \"circle\",\n            \"color\": \"rgba(204, 76, 204, 1.000)\",\n            \"line\": {\n                \"color\": \"rgba(0, 0, 0, 1.000)\",\n                \"width\": 1\n            },\n            \"size\": 8\n        },\n        \"zmax\": 3.0,\n        \"y\": [\n            2.6\n        ],\n        \"type\": \"scatter\"\n    },\n    {\n        \"xaxis\": \"x1\",\n        \"colorbar\": {\n            \"title\": \"\"\n        },\n        \"yaxis\": \"y1\",\n        \"x\": [\n            2.0\n        ],\n        \"showlegend\": false,\n        \"mode\": \"markers\",\n        \"name\": \"y1\",\n        \"zmin\": 1.0,\n        \"legendgroup\": \"y1\",\n        \"marker\": {\n            \"symbol\": \"circle\",\n            \"color\": \"rgba(204, 76, 204, 1.000)\",\n            \"line\": {\n                \"color\": \"rgba(0, 0, 0, 1.000)\",\n                \"width\": 1\n            },\n            \"size\": 8\n        },\n        \"zmax\": 3.0,\n        \"y\": [\n            2.8\n        ],\n        \"type\": \"scatter\"\n    },\n    {\n        \"xaxis\": \"x1\",\n        \"colorbar\": {\n            \"title\": \"\"\n        },\n        \"yaxis\": \"y1\",\n        \"x\": [\n            2.0\n        ],\n        \"showlegend\": false,\n        \"mode\": \"markers\",\n        \"name\": \"y1\",\n        \"zmin\": 1.0,\n        \"legendgroup\": \"y1\",\n        \"marker\": {\n            \"symbol\": \"circle\",\n            \"color\": \"rgba(204, 76, 204, 1.000)\",\n            \"line\": {\n                \"color\": \"rgba(0, 0, 0, 1.000)\",\n                \"width\": 1\n            },\n            \"size\": 8\n        },\n        \"zmax\": 3.0,\n        \"y\": [\n            2.76\n        ],\n        \"type\": \"scatter\"\n    },\n    {\n        \"xaxis\": \"x1\",\n        \"colorbar\": {\n            \"title\": \"\"\n        },\n        \"yaxis\": \"y1\",\n        \"x\": [\n            2.0\n        ],\n        \"showlegend\": false,\n        \"mode\": \"markers\",\n        \"name\": \"y1\",\n        \"zmin\": 1.0,\n        \"legendgroup\": \"y1\",\n        \"marker\": {\n            \"symbol\": \"circle\",\n            \"color\": \"rgba(204, 76, 204, 1.000)\",\n            \"line\": {\n                \"color\": \"rgba(0, 0, 0, 1.000)\",\n                \"width\": 1\n            },\n            \"size\": 8\n        },\n        \"zmax\": 3.0,\n        \"y\": [\n            3.94\n        ],\n        \"type\": \"scatter\"\n    },\n    {\n        \"xaxis\": \"x1\",\n        \"colorbar\": {\n            \"title\": \"\"\n        },\n        \"yaxis\": \"y1\",\n        \"x\": [\n            2.0\n        ],\n        \"showlegend\": false,\n        \"mode\": \"markers\",\n        \"name\": \"y1\",\n        \"zmin\": 1.0,\n        \"legendgroup\": \"y1\",\n        \"marker\": {\n            \"symbol\": \"circle\",\n            \"color\": \"rgba(204, 76, 204, 1.000)\",\n            \"line\": {\n                \"color\": \"rgba(0, 0, 0, 1.000)\",\n                \"width\": 1\n            },\n            \"size\": 8\n        },\n        \"zmax\": 3.0,\n        \"y\": [\n            3.0\n        ],\n        \"type\": \"scatter\"\n    },\n    {\n        \"xaxis\": \"x1\",\n        \"colorbar\": {\n            \"title\": \"\"\n        },\n        \"yaxis\": \"y1\",\n        \"x\": [\n            2.0\n        ],\n        \"showlegend\": false,\n        \"mode\": \"markers\",\n        \"name\": \"y1\",\n        \"zmin\": 1.0,\n        \"legendgroup\": \"y1\",\n        \"marker\": {\n            \"symbol\": \"circle\",\n            \"color\": \"rgba(204, 76, 204, 1.000)\",\n            \"line\": {\n                \"color\": \"rgba(0, 0, 0, 1.000)\",\n                \"width\": 1\n            },\n            \"size\": 8\n        },\n        \"zmax\": 3.0,\n        \"y\": [\n            2.12\n        ],\n        \"type\": \"scatter\"\n    },\n    {\n        \"xaxis\": \"x1\",\n        \"colorbar\": {\n            \"title\": \"\"\n        },\n        \"yaxis\": \"y1\",\n        \"x\": [\n            2.0\n        ],\n        \"showlegend\": false,\n        \"mode\": \"markers\",\n        \"name\": \"y1\",\n        \"zmin\": 1.0,\n        \"legendgroup\": \"y1\",\n        \"marker\": {\n            \"symbol\": \"circle\",\n            \"color\": \"rgba(204, 76, 204, 1.000)\",\n            \"line\": {\n                \"color\": \"rgba(0, 0, 0, 1.000)\",\n                \"width\": 1\n            },\n            \"size\": 8\n        },\n        \"zmax\": 3.0,\n        \"y\": [\n            2.6\n        ],\n        \"type\": \"scatter\"\n    },\n    {\n        \"xaxis\": \"x1\",\n        \"colorbar\": {\n            \"title\": \"\"\n        },\n        \"yaxis\": \"y1\",\n        \"x\": [\n            3.0\n        ],\n        \"showlegend\": false,\n        \"mode\": \"markers\",\n        \"name\": \"y1\",\n        \"zmin\": 1.0,\n        \"legendgroup\": \"y1\",\n        \"marker\": {\n            \"symbol\": \"circle\",\n            \"color\": \"rgba(204, 76, 204, 1.000)\",\n            \"line\": {\n                \"color\": \"rgba(0, 0, 0, 1.000)\",\n                \"width\": 1\n            },\n            \"size\": 8\n        },\n        \"zmax\": 3.0,\n        \"y\": [\n            4.1\n        ],\n        \"type\": \"scatter\"\n    },\n    {\n        \"xaxis\": \"x1\",\n        \"colorbar\": {\n            \"title\": \"\"\n        },\n        \"yaxis\": \"y1\",\n        \"x\": [\n            3.0\n        ],\n        \"showlegend\": false,\n        \"mode\": \"markers\",\n        \"name\": \"y1\",\n        \"zmin\": 1.0,\n        \"legendgroup\": \"y1\",\n        \"marker\": {\n            \"symbol\": \"circle\",\n            \"color\": \"rgba(255, 76, 76, 1.000)\",\n            \"line\": {\n                \"color\": \"rgba(0, 0, 0, 1.000)\",\n                \"width\": 1\n            },\n            \"size\": 8\n        },\n        \"zmax\": 3.0,\n        \"y\": [\n            5.4\n        ],\n        \"type\": \"scatter\"\n    },\n    {\n        \"xaxis\": \"x1\",\n        \"colorbar\": {\n            \"title\": \"\"\n        },\n        \"yaxis\": \"y1\",\n        \"x\": [\n            3.0\n        ],\n        \"showlegend\": false,\n        \"mode\": \"markers\",\n        \"name\": \"y1\",\n        \"zmin\": 1.0,\n        \"legendgroup\": \"y1\",\n        \"marker\": {\n            \"symbol\": \"circle\",\n            \"color\": \"rgba(255, 76, 76, 1.000)\",\n            \"line\": {\n                \"color\": \"rgba(0, 0, 0, 1.000)\",\n                \"width\": 1\n            },\n            \"size\": 8\n        },\n        \"zmax\": 3.0,\n        \"y\": [\n            5.7\n        ],\n        \"type\": \"scatter\"\n    },\n    {\n        \"xaxis\": \"x1\",\n        \"colorbar\": {\n            \"title\": \"\"\n        },\n        \"yaxis\": \"y1\",\n        \"x\": [\n            3.0\n        ],\n        \"showlegend\": false,\n        \"mode\": \"markers\",\n        \"name\": \"y1\",\n        \"zmin\": 1.0,\n        \"legendgroup\": \"y1\",\n        \"marker\": {\n            \"symbol\": \"circle\",\n            \"color\": \"rgba(255, 76, 76, 1.000)\",\n            \"line\": {\n                \"color\": \"rgba(0, 0, 0, 1.000)\",\n                \"width\": 1\n            },\n            \"size\": 8\n        },\n        \"zmax\": 3.0,\n        \"y\": [\n            5.0\n        ],\n        \"type\": \"scatter\"\n    },\n    {\n        \"xaxis\": \"x1\",\n        \"colorbar\": {\n            \"title\": \"\"\n        },\n        \"yaxis\": \"y1\",\n        \"x\": [\n            3.0\n        ],\n        \"showlegend\": false,\n        \"mode\": \"markers\",\n        \"name\": \"y1\",\n        \"zmin\": 1.0,\n        \"legendgroup\": \"y1\",\n        \"marker\": {\n            \"symbol\": \"circle\",\n            \"color\": \"rgba(255, 76, 76, 1.000)\",\n            \"line\": {\n                \"color\": \"rgba(0, 0, 0, 1.000)\",\n                \"width\": 1\n            },\n            \"size\": 8\n        },\n        \"zmax\": 3.0,\n        \"y\": [\n            5.45\n        ],\n        \"type\": \"scatter\"\n    },\n    {\n        \"xaxis\": \"x1\",\n        \"colorbar\": {\n            \"title\": \"\"\n        },\n        \"yaxis\": \"y1\",\n        \"x\": [\n            3.0\n        ],\n        \"showlegend\": false,\n        \"mode\": \"markers\",\n        \"name\": \"y1\",\n        \"zmin\": 1.0,\n        \"legendgroup\": \"y1\",\n        \"marker\": {\n            \"symbol\": \"circle\",\n            \"color\": \"rgba(76, 204, 76, 1.000)\",\n            \"line\": {\n                \"color\": \"rgba(0, 0, 0, 1.000)\",\n                \"width\": 1\n            },\n            \"size\": 8\n        },\n        \"zmax\": 3.0,\n        \"y\": [\n            7.1\n        ],\n        \"type\": \"scatter\"\n    },\n    {\n        \"xaxis\": \"x1\",\n        \"colorbar\": {\n            \"title\": \"\"\n        },\n        \"yaxis\": \"y1\",\n        \"x\": [\n            3.0\n        ],\n        \"showlegend\": false,\n        \"mode\": \"markers\",\n        \"name\": \"y1\",\n        \"zmin\": 1.0,\n        \"legendgroup\": \"y1\",\n        \"marker\": {\n            \"symbol\": \"circle\",\n            \"color\": \"rgba(204, 76, 204, 1.000)\",\n            \"line\": {\n                \"color\": \"rgba(0, 0, 0, 1.000)\",\n                \"width\": 1\n            },\n            \"size\": 8\n        },\n        \"zmax\": 3.0,\n        \"y\": [\n            3.85\n        ],\n        \"type\": \"scatter\"\n    },\n    {\n        \"xaxis\": \"x1\",\n        \"colorbar\": {\n            \"title\": \"\"\n        },\n        \"yaxis\": \"y1\",\n        \"x\": [\n            3.0\n        ],\n        \"showlegend\": false,\n        \"mode\": \"markers\",\n        \"name\": \"y1\",\n        \"zmin\": 1.0,\n        \"legendgroup\": \"y1\",\n        \"marker\": {\n            \"symbol\": \"circle\",\n            \"color\": \"rgba(255, 76, 76, 1.000)\",\n            \"line\": {\n                \"color\": \"rgba(0, 0, 0, 1.000)\",\n                \"width\": 1\n            },\n            \"size\": 8\n        },\n        \"zmax\": 3.0,\n        \"y\": [\n            5.0\n        ],\n        \"type\": \"scatter\"\n    },\n    {\n        \"xaxis\": \"x1\",\n        \"colorbar\": {\n            \"title\": \"\"\n        },\n        \"yaxis\": \"y1\",\n        \"x\": [\n            3.0\n        ],\n        \"showlegend\": false,\n        \"mode\": \"markers\",\n        \"name\": \"y1\",\n        \"zmin\": 1.0,\n        \"legendgroup\": \"y1\",\n        \"marker\": {\n            \"symbol\": \"circle\",\n            \"color\": \"rgba(255, 76, 76, 1.000)\",\n            \"line\": {\n                \"color\": \"rgba(0, 0, 0, 1.000)\",\n                \"width\": 1\n            },\n            \"size\": 8\n        },\n        \"zmax\": 3.0,\n        \"y\": [\n            5.7\n        ],\n        \"type\": \"scatter\"\n    },\n    {\n        \"xaxis\": \"x1\",\n        \"colorbar\": {\n            \"title\": \"\"\n        },\n        \"yaxis\": \"y1\",\n        \"x\": [\n            3.0\n        ],\n        \"showlegend\": false,\n        \"mode\": \"markers\",\n        \"name\": \"y1\",\n        \"zmin\": 1.0,\n        \"legendgroup\": \"y1\",\n        \"marker\": {\n            \"symbol\": \"circle\",\n            \"color\": \"rgba(255, 76, 76, 1.000)\",\n            \"line\": {\n                \"color\": \"rgba(0, 0, 0, 1.000)\",\n                \"width\": 1\n            },\n            \"size\": 8\n        },\n        \"zmax\": 3.0,\n        \"y\": [\n            4.92\n        ],\n        \"type\": \"scatter\"\n    },\n    {\n        \"xaxis\": \"x1\",\n        \"colorbar\": {\n            \"title\": \"\"\n        },\n        \"yaxis\": \"y1\",\n        \"x\": [\n            3.0\n        ],\n        \"showlegend\": false,\n        \"mode\": \"markers\",\n        \"name\": \"y1\",\n        \"zmin\": 1.0,\n        \"legendgroup\": \"y1\",\n        \"marker\": {\n            \"symbol\": \"circle\",\n            \"color\": \"rgba(255, 76, 76, 1.000)\",\n            \"line\": {\n                \"color\": \"rgba(0, 0, 0, 1.000)\",\n                \"width\": 1\n            },\n            \"size\": 8\n        },\n        \"zmax\": 3.0,\n        \"y\": [\n            4.6\n        ],\n        \"type\": \"scatter\"\n    },\n    {\n        \"xaxis\": \"x1\",\n        \"colorbar\": {\n            \"title\": \"\"\n        },\n        \"yaxis\": \"y1\",\n        \"x\": [\n            3.0\n        ],\n        \"showlegend\": false,\n        \"mode\": \"markers\",\n        \"name\": \"y1\",\n        \"zmin\": 1.0,\n        \"legendgroup\": \"y1\",\n        \"marker\": {\n            \"symbol\": \"circle\",\n            \"color\": \"rgba(255, 76, 76, 1.000)\",\n            \"line\": {\n                \"color\": \"rgba(0, 0, 0, 1.000)\",\n                \"width\": 1\n            },\n            \"size\": 8\n        },\n        \"zmax\": 3.0,\n        \"y\": [\n            5.6\n        ],\n        \"type\": \"scatter\"\n    },\n    {\n        \"xaxis\": \"x1\",\n        \"colorbar\": {\n            \"title\": \"\"\n        },\n        \"yaxis\": \"y1\",\n        \"x\": [\n            3.0\n        ],\n        \"showlegend\": false,\n        \"mode\": \"markers\",\n        \"name\": \"y1\",\n        \"zmin\": 1.0,\n        \"legendgroup\": \"y1\",\n        \"marker\": {\n            \"symbol\": \"circle\",\n            \"color\": \"rgba(255, 76, 76, 1.000)\",\n            \"line\": {\n                \"color\": \"rgba(0, 0, 0, 1.000)\",\n                \"width\": 1\n            },\n            \"size\": 8\n        },\n        \"zmax\": 3.0,\n        \"y\": [\n            4.35\n        ],\n        \"type\": \"scatter\"\n    },\n    {\n        \"xaxis\": \"x1\",\n        \"colorbar\": {\n            \"title\": \"\"\n        },\n        \"yaxis\": \"y1\",\n        \"x\": [\n            3.0\n        ],\n        \"showlegend\": false,\n        \"mode\": \"markers\",\n        \"name\": \"y1\",\n        \"zmin\": 1.0,\n        \"legendgroup\": \"y1\",\n        \"marker\": {\n            \"symbol\": \"circle\",\n            \"color\": \"rgba(255, 76, 76, 1.000)\",\n            \"line\": {\n                \"color\": \"rgba(0, 0, 0, 1.000)\",\n                \"width\": 1\n            },\n            \"size\": 8\n        },\n        \"zmax\": 3.0,\n        \"y\": [\n            4.4\n        ],\n        \"type\": \"scatter\"\n    },\n    {\n        \"xaxis\": \"x1\",\n        \"colorbar\": {\n            \"title\": \"\"\n        },\n        \"yaxis\": \"y1\",\n        \"x\": [\n            3.0\n        ],\n        \"showlegend\": false,\n        \"mode\": \"markers\",\n        \"name\": \"y1\",\n        \"zmin\": 1.0,\n        \"legendgroup\": \"y1\",\n        \"marker\": {\n            \"symbol\": \"circle\",\n            \"color\": \"rgba(76, 204, 76, 1.000)\",\n            \"line\": {\n                \"color\": \"rgba(0, 0, 0, 1.000)\",\n                \"width\": 1\n            },\n            \"size\": 8\n        },\n        \"zmax\": 3.0,\n        \"y\": [\n            8.21\n        ],\n        \"type\": \"scatter\"\n    },\n    {\n        \"xaxis\": \"x1\",\n        \"colorbar\": {\n            \"title\": \"\"\n        },\n        \"yaxis\": \"y1\",\n        \"x\": [\n            3.0\n        ],\n        \"showlegend\": false,\n        \"mode\": \"markers\",\n        \"name\": \"y1\",\n        \"zmin\": 1.0,\n        \"legendgroup\": \"y1\",\n        \"marker\": {\n            \"symbol\": \"circle\",\n            \"color\": \"rgba(204, 76, 204, 1.000)\",\n            \"line\": {\n                \"color\": \"rgba(0, 0, 0, 1.000)\",\n                \"width\": 1\n            },\n            \"size\": 8\n        },\n        \"zmax\": 3.0,\n        \"y\": [\n            4.0\n        ],\n        \"type\": \"scatter\"\n    },\n    {\n        \"xaxis\": \"x1\",\n        \"colorbar\": {\n            \"title\": \"\"\n        },\n        \"yaxis\": \"y1\",\n        \"x\": [\n            3.0\n        ],\n        \"showlegend\": false,\n        \"mode\": \"markers\",\n        \"name\": \"y1\",\n        \"zmin\": 1.0,\n        \"legendgroup\": \"y1\",\n        \"marker\": {\n            \"symbol\": \"circle\",\n            \"color\": \"rgba(255, 76, 76, 1.000)\",\n            \"line\": {\n                \"color\": \"rgba(0, 0, 0, 1.000)\",\n                \"width\": 1\n            },\n            \"size\": 8\n        },\n        \"zmax\": 3.0,\n        \"y\": [\n            4.9\n        ],\n        \"type\": \"scatter\"\n    },\n    {\n        \"xaxis\": \"x1\",\n        \"colorbar\": {\n            \"title\": \"\"\n        },\n        \"yaxis\": \"y1\",\n        \"x\": [\n            3.0\n        ],\n        \"showlegend\": false,\n        \"mode\": \"markers\",\n        \"name\": \"y1\",\n        \"zmin\": 1.0,\n        \"legendgroup\": \"y1\",\n        \"marker\": {\n            \"symbol\": \"circle\",\n            \"color\": \"rgba(76, 204, 76, 1.000)\",\n            \"line\": {\n                \"color\": \"rgba(0, 0, 0, 1.000)\",\n                \"width\": 1\n            },\n            \"size\": 8\n        },\n        \"zmax\": 3.0,\n        \"y\": [\n            7.65\n        ],\n        \"type\": \"scatter\"\n    },\n    {\n        \"xaxis\": \"x1\",\n        \"colorbar\": {\n            \"title\": \"\"\n        },\n        \"yaxis\": \"y1\",\n        \"x\": [\n            3.0\n        ],\n        \"showlegend\": false,\n        \"mode\": \"markers\",\n        \"name\": \"y1\",\n        \"zmin\": 1.0,\n        \"legendgroup\": \"y1\",\n        \"marker\": {\n            \"symbol\": \"circle\",\n            \"color\": \"rgba(76, 204, 76, 1.000)\",\n            \"line\": {\n                \"color\": \"rgba(0, 0, 0, 1.000)\",\n                \"width\": 1\n            },\n            \"size\": 8\n        },\n        \"zmax\": 3.0,\n        \"y\": [\n            8.42\n        ],\n        \"type\": \"scatter\"\n    },\n    {\n        \"xaxis\": \"x1\",\n        \"colorbar\": {\n            \"title\": \"\"\n        },\n        \"yaxis\": \"y1\",\n        \"x\": [\n            3.0\n        ],\n        \"showlegend\": false,\n        \"mode\": \"markers\",\n        \"name\": \"y1\",\n        \"zmin\": 1.0,\n        \"legendgroup\": \"y1\",\n        \"marker\": {\n            \"symbol\": \"circle\",\n            \"color\": \"rgba(76, 204, 76, 1.000)\",\n            \"line\": {\n                \"color\": \"rgba(0, 0, 0, 1.000)\",\n                \"width\": 1\n            },\n            \"size\": 8\n        },\n        \"zmax\": 3.0,\n        \"y\": [\n            9.4\n        ],\n        \"type\": \"scatter\"\n    },\n    {\n        \"xaxis\": \"x1\",\n        \"colorbar\": {\n            \"title\": \"\"\n        },\n        \"yaxis\": \"y1\",\n        \"x\": [\n            3.0\n        ],\n        \"showlegend\": false,\n        \"mode\": \"markers\",\n        \"name\": \"y1\",\n        \"zmin\": 1.0,\n        \"legendgroup\": \"y1\",\n        \"marker\": {\n            \"symbol\": \"circle\",\n            \"color\": \"rgba(76, 204, 76, 1.000)\",\n            \"line\": {\n                \"color\": \"rgba(0, 0, 0, 1.000)\",\n                \"width\": 1\n            },\n            \"size\": 8\n        },\n        \"zmax\": 3.0,\n        \"y\": [\n            8.6\n        ],\n        \"type\": \"scatter\"\n    },\n    {\n        \"xaxis\": \"x1\",\n        \"colorbar\": {\n            \"title\": \"\"\n        },\n        \"yaxis\": \"y1\",\n        \"x\": [\n            3.0\n        ],\n        \"showlegend\": false,\n        \"mode\": \"markers\",\n        \"name\": \"y1\",\n        \"zmin\": 1.0,\n        \"legendgroup\": \"y1\",\n        \"marker\": {\n            \"symbol\": \"circle\",\n            \"color\": \"rgba(76, 204, 76, 1.000)\",\n            \"line\": {\n                \"color\": \"rgba(0, 0, 0, 1.000)\",\n                \"width\": 1\n            },\n            \"size\": 8\n        },\n        \"zmax\": 3.0,\n        \"y\": [\n            10.8\n        ],\n        \"type\": \"scatter\"\n    },\n    {\n        \"xaxis\": \"x1\",\n        \"colorbar\": {\n            \"title\": \"\"\n        },\n        \"yaxis\": \"y1\",\n        \"x\": [\n            3.0\n        ],\n        \"showlegend\": false,\n        \"mode\": \"markers\",\n        \"name\": \"y1\",\n        \"zmin\": 1.0,\n        \"legendgroup\": \"y1\",\n        \"marker\": {\n            \"symbol\": \"circle\",\n            \"color\": \"rgba(76, 204, 76, 1.000)\",\n            \"line\": {\n                \"color\": \"rgba(0, 0, 0, 1.000)\",\n                \"width\": 1\n            },\n            \"size\": 8\n        },\n        \"zmax\": 3.0,\n        \"y\": [\n            7.1\n        ],\n        \"type\": \"scatter\"\n    },\n    {\n        \"xaxis\": \"x1\",\n        \"colorbar\": {\n            \"title\": \"\"\n        },\n        \"yaxis\": \"y1\",\n        \"x\": [\n            3.0\n        ],\n        \"showlegend\": false,\n        \"mode\": \"markers\",\n        \"name\": \"y1\",\n        \"zmin\": 1.0,\n        \"legendgroup\": \"y1\",\n        \"marker\": {\n            \"symbol\": \"circle\",\n            \"color\": \"rgba(76, 204, 76, 1.000)\",\n            \"line\": {\n                \"color\": \"rgba(0, 0, 0, 1.000)\",\n                \"width\": 1\n            },\n            \"size\": 8\n        },\n        \"zmax\": 3.0,\n        \"y\": [\n            10.52\n        ],\n        \"type\": \"scatter\"\n    },\n    {\n        \"xaxis\": \"x1\",\n        \"colorbar\": {\n            \"title\": \"\"\n        },\n        \"yaxis\": \"y1\",\n        \"x\": [\n            3.0\n        ],\n        \"showlegend\": false,\n        \"mode\": \"markers\",\n        \"name\": \"y1\",\n        \"zmin\": 1.0,\n        \"legendgroup\": \"y1\",\n        \"marker\": {\n            \"symbol\": \"circle\",\n            \"color\": \"rgba(76, 204, 76, 1.000)\",\n            \"line\": {\n                \"color\": \"rgba(0, 0, 0, 1.000)\",\n                \"width\": 1\n            },\n            \"size\": 8\n        },\n        \"zmax\": 3.0,\n        \"y\": [\n            7.6\n        ],\n        \"type\": \"scatter\"\n    },\n    {\n        \"xaxis\": \"x1\",\n        \"colorbar\": {\n            \"title\": \"\"\n        },\n        \"yaxis\": \"y1\",\n        \"x\": [\n            3.0\n        ],\n        \"showlegend\": false,\n        \"mode\": \"markers\",\n        \"name\": \"y1\",\n        \"zmin\": 1.0,\n        \"legendgroup\": \"y1\",\n        \"marker\": {\n            \"symbol\": \"circle\",\n            \"color\": \"rgba(76, 204, 76, 1.000)\",\n            \"line\": {\n                \"color\": \"rgba(0, 0, 0, 1.000)\",\n                \"width\": 1\n            },\n            \"size\": 8\n        },\n        \"zmax\": 3.0,\n        \"y\": [\n            7.9\n        ],\n        \"type\": \"scatter\"\n    },\n    {\n        \"xaxis\": \"x1\",\n        \"colorbar\": {\n            \"title\": \"\"\n        },\n        \"yaxis\": \"y1\",\n        \"x\": [\n            3.0\n        ],\n        \"showlegend\": false,\n        \"mode\": \"markers\",\n        \"name\": \"y1\",\n        \"zmin\": 1.0,\n        \"legendgroup\": \"y1\",\n        \"marker\": {\n            \"symbol\": \"circle\",\n            \"color\": \"rgba(76, 204, 76, 1.000)\",\n            \"line\": {\n                \"color\": \"rgba(0, 0, 0, 1.000)\",\n                \"width\": 1\n            },\n            \"size\": 8\n        },\n        \"zmax\": 3.0,\n        \"y\": [\n            9.01\n        ],\n        \"type\": \"scatter\"\n    },\n    {\n        \"xaxis\": \"x1\",\n        \"colorbar\": {\n            \"title\": \"\"\n        },\n        \"yaxis\": \"y1\",\n        \"x\": [\n            3.0\n        ],\n        \"showlegend\": false,\n        \"mode\": \"markers\",\n        \"name\": \"y1\",\n        \"zmin\": 1.0,\n        \"legendgroup\": \"y1\",\n        \"marker\": {\n            \"symbol\": \"circle\",\n            \"color\": \"rgba(76, 204, 76, 1.000)\",\n            \"line\": {\n                \"color\": \"rgba(0, 0, 0, 1.000)\",\n                \"width\": 1\n            },\n            \"size\": 8\n        },\n        \"zmax\": 3.0,\n        \"y\": [\n            7.5\n        ],\n        \"type\": \"scatter\"\n    },\n    {\n        \"xaxis\": \"x1\",\n        \"colorbar\": {\n            \"title\": \"\"\n        },\n        \"yaxis\": \"y1\",\n        \"x\": [\n            3.0\n        ],\n        \"showlegend\": false,\n        \"mode\": \"markers\",\n        \"name\": \"y1\",\n        \"zmin\": 1.0,\n        \"legendgroup\": \"y1\",\n        \"marker\": {\n            \"symbol\": \"circle\",\n            \"color\": \"rgba(76, 204, 76, 1.000)\",\n            \"line\": {\n                \"color\": \"rgba(0, 0, 0, 1.000)\",\n                \"width\": 1\n            },\n            \"size\": 8\n        },\n        \"zmax\": 3.0,\n        \"y\": [\n            13.0\n        ],\n        \"type\": \"scatter\"\n    },\n    {\n        \"xaxis\": \"x1\",\n        \"colorbar\": {\n            \"title\": \"\"\n        },\n        \"yaxis\": \"y1\",\n        \"x\": [\n            3.0\n        ],\n        \"showlegend\": false,\n        \"mode\": \"markers\",\n        \"name\": \"y1\",\n        \"zmin\": 1.0,\n        \"legendgroup\": \"y1\",\n        \"marker\": {\n            \"symbol\": \"circle\",\n            \"color\": \"rgba(76, 204, 76, 1.000)\",\n            \"line\": {\n                \"color\": \"rgba(0, 0, 0, 1.000)\",\n                \"width\": 1\n            },\n            \"size\": 8\n        },\n        \"zmax\": 3.0,\n        \"y\": [\n            11.75\n        ],\n        \"type\": \"scatter\"\n    },\n    {\n        \"xaxis\": \"x1\",\n        \"colorbar\": {\n            \"title\": \"\"\n        },\n        \"yaxis\": \"y1\",\n        \"x\": [\n            3.0\n        ],\n        \"showlegend\": false,\n        \"mode\": \"markers\",\n        \"name\": \"y1\",\n        \"zmin\": 1.0,\n        \"legendgroup\": \"y1\",\n        \"marker\": {\n            \"symbol\": \"circle\",\n            \"color\": \"rgba(76, 204, 76, 1.000)\",\n            \"line\": {\n                \"color\": \"rgba(0, 0, 0, 1.000)\",\n                \"width\": 1\n            },\n            \"size\": 8\n        },\n        \"zmax\": 3.0,\n        \"y\": [\n            7.65\n        ],\n        \"type\": \"scatter\"\n    },\n    {\n        \"xaxis\": \"x1\",\n        \"colorbar\": {\n            \"title\": \"\"\n        },\n        \"yaxis\": \"y1\",\n        \"x\": [\n            3.0\n        ],\n        \"showlegend\": false,\n        \"mode\": \"markers\",\n        \"name\": \"y1\",\n        \"zmin\": 1.0,\n        \"legendgroup\": \"y1\",\n        \"marker\": {\n            \"symbol\": \"circle\",\n            \"color\": \"rgba(255, 76, 76, 1.000)\",\n            \"line\": {\n                \"color\": \"rgba(0, 0, 0, 1.000)\",\n                \"width\": 1\n            },\n            \"size\": 8\n        },\n        \"zmax\": 3.0,\n        \"y\": [\n            5.88\n        ],\n        \"type\": \"scatter\"\n    },\n    {\n        \"xaxis\": \"x1\",\n        \"colorbar\": {\n            \"title\": \"\"\n        },\n        \"yaxis\": \"y1\",\n        \"x\": [\n            3.0\n        ],\n        \"showlegend\": false,\n        \"mode\": \"markers\",\n        \"name\": \"y1\",\n        \"zmin\": 1.0,\n        \"legendgroup\": \"y1\",\n        \"marker\": {\n            \"symbol\": \"circle\",\n            \"color\": \"rgba(255, 76, 76, 1.000)\",\n            \"line\": {\n                \"color\": \"rgba(0, 0, 0, 1.000)\",\n                \"width\": 1\n            },\n            \"size\": 8\n        },\n        \"zmax\": 3.0,\n        \"y\": [\n            5.58\n        ],\n        \"type\": \"scatter\"\n    },\n    {\n        \"xaxis\": \"x1\",\n        \"colorbar\": {\n            \"title\": \"\"\n        },\n        \"yaxis\": \"y1\",\n        \"x\": [\n            3.0\n        ],\n        \"showlegend\": false,\n        \"mode\": \"markers\",\n        \"name\": \"y1\",\n        \"zmin\": 1.0,\n        \"legendgroup\": \"y1\",\n        \"marker\": {\n            \"symbol\": \"circle\",\n            \"color\": \"rgba(255, 76, 76, 1.000)\",\n            \"line\": {\n                \"color\": \"rgba(0, 0, 0, 1.000)\",\n                \"width\": 1\n            },\n            \"size\": 8\n        },\n        \"zmax\": 3.0,\n        \"y\": [\n            5.28\n        ],\n        \"type\": \"scatter\"\n    },\n    {\n        \"xaxis\": \"x1\",\n        \"colorbar\": {\n            \"title\": \"\"\n        },\n        \"yaxis\": \"y1\",\n        \"x\": [\n            3.0\n        ],\n        \"showlegend\": false,\n        \"mode\": \"markers\",\n        \"name\": \"y1\",\n        \"zmin\": 1.0,\n        \"legendgroup\": \"y1\",\n        \"marker\": {\n            \"symbol\": \"circle\",\n            \"color\": \"rgba(76, 204, 76, 1.000)\",\n            \"line\": {\n                \"color\": \"rgba(0, 0, 0, 1.000)\",\n                \"width\": 1\n            },\n            \"size\": 8\n        },\n        \"zmax\": 3.0,\n        \"y\": [\n            9.58\n        ],\n        \"type\": \"scatter\"\n    },\n    {\n        \"xaxis\": \"x1\",\n        \"colorbar\": {\n            \"title\": \"\"\n        },\n        \"yaxis\": \"y1\",\n        \"x\": [\n            3.0\n        ],\n        \"showlegend\": false,\n        \"mode\": \"markers\",\n        \"name\": \"y1\",\n        \"zmin\": 1.0,\n        \"legendgroup\": \"y1\",\n        \"marker\": {\n            \"symbol\": \"circle\",\n            \"color\": \"rgba(255, 76, 76, 1.000)\",\n            \"line\": {\n                \"color\": \"rgba(0, 0, 0, 1.000)\",\n                \"width\": 1\n            },\n            \"size\": 8\n        },\n        \"zmax\": 3.0,\n        \"y\": [\n            6.62\n        ],\n        \"type\": \"scatter\"\n    },\n    {\n        \"xaxis\": \"x1\",\n        \"colorbar\": {\n            \"title\": \"\"\n        },\n        \"yaxis\": \"y1\",\n        \"x\": [\n            3.0\n        ],\n        \"showlegend\": false,\n        \"mode\": \"markers\",\n        \"name\": \"y1\",\n        \"zmin\": 1.0,\n        \"legendgroup\": \"y1\",\n        \"marker\": {\n            \"symbol\": \"circle\",\n            \"color\": \"rgba(76, 204, 76, 1.000)\",\n            \"line\": {\n                \"color\": \"rgba(0, 0, 0, 1.000)\",\n                \"width\": 1\n            },\n            \"size\": 8\n        },\n        \"zmax\": 3.0,\n        \"y\": [\n            10.68\n        ],\n        \"type\": \"scatter\"\n    },\n    {\n        \"xaxis\": \"x1\",\n        \"colorbar\": {\n            \"title\": \"\"\n        },\n        \"yaxis\": \"y1\",\n        \"x\": [\n            3.0\n        ],\n        \"showlegend\": false,\n        \"mode\": \"markers\",\n        \"name\": \"y1\",\n        \"zmin\": 1.0,\n        \"legendgroup\": \"y1\",\n        \"marker\": {\n            \"symbol\": \"circle\",\n            \"color\": \"rgba(76, 204, 76, 1.000)\",\n            \"line\": {\n                \"color\": \"rgba(0, 0, 0, 1.000)\",\n                \"width\": 1\n            },\n            \"size\": 8\n        },\n        \"zmax\": 3.0,\n        \"y\": [\n            10.26\n        ],\n        \"type\": \"scatter\"\n    },\n    {\n        \"xaxis\": \"x1\",\n        \"colorbar\": {\n            \"title\": \"\"\n        },\n        \"yaxis\": \"y1\",\n        \"x\": [\n            3.0\n        ],\n        \"showlegend\": false,\n        \"mode\": \"markers\",\n        \"name\": \"y1\",\n        \"zmin\": 1.0,\n        \"legendgroup\": \"y1\",\n        \"marker\": {\n            \"symbol\": \"circle\",\n            \"color\": \"rgba(76, 204, 76, 1.000)\",\n            \"line\": {\n                \"color\": \"rgba(0, 0, 0, 1.000)\",\n                \"width\": 1\n            },\n            \"size\": 8\n        },\n        \"zmax\": 3.0,\n        \"y\": [\n            8.66\n        ],\n        \"type\": \"scatter\"\n    },\n    {\n        \"xaxis\": \"x1\",\n        \"colorbar\": {\n            \"title\": \"\"\n        },\n        \"yaxis\": \"y1\",\n        \"x\": [\n            3.0\n        ],\n        \"showlegend\": false,\n        \"mode\": \"markers\",\n        \"name\": \"y1\",\n        \"zmin\": 1.0,\n        \"legendgroup\": \"y1\",\n        \"marker\": {\n            \"symbol\": \"circle\",\n            \"color\": \"rgba(76, 204, 76, 1.000)\",\n            \"line\": {\n                \"color\": \"rgba(0, 0, 0, 1.000)\",\n                \"width\": 1\n            },\n            \"size\": 8\n        },\n        \"zmax\": 3.0,\n        \"y\": [\n            8.5\n        ],\n        \"type\": \"scatter\"\n    },\n    {\n        \"xaxis\": \"x1\",\n        \"colorbar\": {\n            \"title\": \"\"\n        },\n        \"yaxis\": \"y1\",\n        \"x\": [\n            3.0\n        ],\n        \"showlegend\": false,\n        \"mode\": \"markers\",\n        \"name\": \"y1\",\n        \"zmin\": 1.0,\n        \"legendgroup\": \"y1\",\n        \"marker\": {\n            \"symbol\": \"circle\",\n            \"color\": \"rgba(255, 76, 76, 1.000)\",\n            \"line\": {\n                \"color\": \"rgba(0, 0, 0, 1.000)\",\n                \"width\": 1\n            },\n            \"size\": 8\n        },\n        \"zmax\": 3.0,\n        \"y\": [\n            5.5\n        ],\n        \"type\": \"scatter\"\n    },\n    {\n        \"xaxis\": \"x1\",\n        \"colorbar\": {\n            \"title\": \"\"\n        },\n        \"yaxis\": \"y1\",\n        \"x\": [\n            3.0\n        ],\n        \"showlegend\": false,\n        \"mode\": \"markers\",\n        \"name\": \"y1\",\n        \"zmin\": 1.0,\n        \"legendgroup\": \"y1\",\n        \"marker\": {\n            \"symbol\": \"circle\",\n            \"color\": \"rgba(76, 204, 76, 1.000)\",\n            \"line\": {\n                \"color\": \"rgba(0, 0, 0, 1.000)\",\n                \"width\": 1\n            },\n            \"size\": 8\n        },\n        \"zmax\": 3.0,\n        \"y\": [\n            9.9\n        ],\n        \"type\": \"scatter\"\n    },\n    {\n        \"xaxis\": \"x1\",\n        \"colorbar\": {\n            \"title\": \"\"\n        },\n        \"yaxis\": \"y1\",\n        \"x\": [\n            3.0\n        ],\n        \"showlegend\": false,\n        \"mode\": \"markers\",\n        \"name\": \"y1\",\n        \"zmin\": 1.0,\n        \"legendgroup\": \"y1\",\n        \"marker\": {\n            \"symbol\": \"circle\",\n            \"color\": \"rgba(76, 204, 76, 1.000)\",\n            \"line\": {\n                \"color\": \"rgba(0, 0, 0, 1.000)\",\n                \"width\": 1\n            },\n            \"size\": 8\n        },\n        \"zmax\": 3.0,\n        \"y\": [\n            9.7\n        ],\n        \"type\": \"scatter\"\n    },\n    {\n        \"xaxis\": \"x1\",\n        \"colorbar\": {\n            \"title\": \"\"\n        },\n        \"yaxis\": \"y1\",\n        \"x\": [\n            3.0\n        ],\n        \"showlegend\": false,\n        \"mode\": \"markers\",\n        \"name\": \"y1\",\n        \"zmin\": 1.0,\n        \"legendgroup\": \"y1\",\n        \"marker\": {\n            \"symbol\": \"circle\",\n            \"color\": \"rgba(76, 204, 76, 1.000)\",\n            \"line\": {\n                \"color\": \"rgba(0, 0, 0, 1.000)\",\n                \"width\": 1\n            },\n            \"size\": 8\n        },\n        \"zmax\": 3.0,\n        \"y\": [\n            7.7\n        ],\n        \"type\": \"scatter\"\n    },\n    {\n        \"xaxis\": \"x1\",\n        \"colorbar\": {\n            \"title\": \"\"\n        },\n        \"yaxis\": \"y1\",\n        \"x\": [\n            3.0\n        ],\n        \"showlegend\": false,\n        \"mode\": \"markers\",\n        \"name\": \"y1\",\n        \"zmin\": 1.0,\n        \"legendgroup\": \"y1\",\n        \"marker\": {\n            \"symbol\": \"circle\",\n            \"color\": \"rgba(76, 204, 76, 1.000)\",\n            \"line\": {\n                \"color\": \"rgba(0, 0, 0, 1.000)\",\n                \"width\": 1\n            },\n            \"size\": 8\n        },\n        \"zmax\": 3.0,\n        \"y\": [\n            7.3\n        ],\n        \"type\": \"scatter\"\n    },\n    {\n        \"xaxis\": \"x1\",\n        \"colorbar\": {\n            \"title\": \"\"\n        },\n        \"yaxis\": \"y1\",\n        \"x\": [\n            3.0\n        ],\n        \"showlegend\": false,\n        \"mode\": \"markers\",\n        \"name\": \"y1\",\n        \"zmin\": 1.0,\n        \"legendgroup\": \"y1\",\n        \"marker\": {\n            \"symbol\": \"circle\",\n            \"color\": \"rgba(76, 204, 76, 1.000)\",\n            \"line\": {\n                \"color\": \"rgba(0, 0, 0, 1.000)\",\n                \"width\": 1\n            },\n            \"size\": 8\n        },\n        \"zmax\": 3.0,\n        \"y\": [\n            10.2\n        ],\n        \"type\": \"scatter\"\n    },\n    {\n        \"xaxis\": \"x1\",\n        \"colorbar\": {\n            \"title\": \"\"\n        },\n        \"yaxis\": \"y1\",\n        \"x\": [\n            3.0\n        ],\n        \"showlegend\": false,\n        \"mode\": \"markers\",\n        \"name\": \"y1\",\n        \"zmin\": 1.0,\n        \"legendgroup\": \"y1\",\n        \"marker\": {\n            \"symbol\": \"circle\",\n            \"color\": \"rgba(76, 204, 76, 1.000)\",\n            \"line\": {\n                \"color\": \"rgba(0, 0, 0, 1.000)\",\n                \"width\": 1\n            },\n            \"size\": 8\n        },\n        \"zmax\": 3.0,\n        \"y\": [\n            9.3\n        ],\n        \"type\": \"scatter\"\n    },\n    {\n        \"xaxis\": \"x1\",\n        \"colorbar\": {\n            \"title\": \"\"\n        },\n        \"yaxis\": \"y1\",\n        \"x\": [\n            3.0\n        ],\n        \"showlegend\": false,\n        \"mode\": \"markers\",\n        \"name\": \"y1\",\n        \"zmin\": 1.0,\n        \"legendgroup\": \"y1\",\n        \"marker\": {\n            \"symbol\": \"circle\",\n            \"color\": \"rgba(76, 204, 76, 1.000)\",\n            \"line\": {\n                \"color\": \"rgba(0, 0, 0, 1.000)\",\n                \"width\": 1\n            },\n            \"size\": 8\n        },\n        \"zmax\": 3.0,\n        \"y\": [\n            9.2\n        ],\n        \"type\": \"scatter\"\n    },\n    {\n        \"xaxis\": \"x1\",\n        \"colorbar\": {\n            \"title\": \"\"\n        },\n        \"yaxis\": \"y1\",\n        \"x\": [\n            1.0\n        ],\n        \"showlegend\": false,\n        \"mode\": \"markers\",\n        \"name\": \"y1\",\n        \"zmin\": 1.0,\n        \"marker\": {\n            \"color\": [\n                0.5\n            ],\n            \"cmin\": 1.0,\n            \"opacity\": 0,\n            \"size\": 0,\n            \"colorscale\": [\n                [\n                    0.0,\n                    \"rgba(204, 76, 204, 1.000)\"\n                ],\n                [\n                    0.25,\n                    \"rgba(76, 76, 255, 1.000)\"\n                ],\n                [\n                    0.5,\n                    \"rgba(76, 204, 76, 1.000)\"\n                ],\n                [\n                    0.75,\n                    \"rgba(255, 242, 76, 1.000)\"\n                ],\n                [\n                    1.0,\n                    \"rgba(255, 76, 76, 1.000)\"\n                ]\n            ],\n            \"cmax\": 3.0,\n            \"showscale\": false\n        },\n        \"zmax\": 3.0,\n        \"y\": [\n            5.64\n        ],\n        \"type\": \"scatter\",\n        \"hoverinfo\": \"none\"\n    }\n]\n, {\n    \"showlegend\": false,\n    \"xaxis\": {\n        \"showticklabels\": true,\n        \"gridwidth\": 0.5,\n        \"tickvals\": [\n            1.0,\n            1.5,\n            2.0,\n            2.5,\n            3.0\n        ],\n        \"visible\": true,\n        \"ticks\": \"inside\",\n        \"range\": [\n            0.94,\n            3.06\n        ],\n        \"domain\": [\n            0.0658209390492855,\n            0.9934383202099738\n        ],\n        \"tickmode\": \"array\",\n        \"linecolor\": \"rgba(0, 0, 0, 1.000)\",\n        \"showgrid\": true,\n        \"title\": \"\",\n        \"mirror\": false,\n        \"tickangle\": 0,\n        \"showline\": true,\n        \"gridcolor\": \"rgba(0, 0, 0, 0.100)\",\n        \"titlefont\": {\n            \"color\": \"rgba(0, 0, 0, 1.000)\",\n            \"family\": \"sans-serif\",\n            \"size\": 15\n        },\n        \"tickcolor\": \"rgb(0, 0, 0)\",\n        \"ticktext\": [\n            \"1.0\",\n            \"1.5\",\n            \"2.0\",\n            \"2.5\",\n            \"3.0\"\n        ],\n        \"zeroline\": false,\n        \"type\": \"-\",\n        \"tickfont\": {\n            \"color\": \"rgba(0, 0, 0, 1.000)\",\n            \"family\": \"sans-serif\",\n            \"size\": 11\n        },\n        \"zerolinecolor\": \"rgba(0, 0, 0, 1.000)\",\n        \"anchor\": \"y1\"\n    },\n    \"paper_bgcolor\": \"rgba(255, 255, 255, 1.000)\",\n    \"annotations\": [],\n    \"height\": 400,\n    \"margin\": {\n        \"l\": 0,\n        \"b\": 20,\n        \"r\": 0,\n        \"t\": 20\n    },\n    \"plot_bgcolor\": \"rgba(255, 255, 255, 1.000)\",\n    \"yaxis\": {\n        \"showticklabels\": true,\n        \"gridwidth\": 0.5,\n        \"tickvals\": [\n            2.5,\n            5.0,\n            7.5,\n            10.0,\n            12.5\n        ],\n        \"visible\": true,\n        \"ticks\": \"inside\",\n        \"range\": [\n            0.9284,\n            13.3516\n        ],\n        \"domain\": [\n            0.03762029746281716,\n            0.9901574803149606\n        ],\n        \"tickmode\": \"array\",\n        \"linecolor\": \"rgba(0, 0, 0, 1.000)\",\n        \"showgrid\": true,\n        \"title\": \"\",\n        \"mirror\": false,\n        \"tickangle\": 0,\n        \"showline\": true,\n        \"gridcolor\": \"rgba(0, 0, 0, 0.100)\",\n        \"titlefont\": {\n            \"color\": \"rgba(0, 0, 0, 1.000)\",\n            \"family\": \"sans-serif\",\n            \"size\": 15\n        },\n        \"tickcolor\": \"rgb(0, 0, 0)\",\n        \"ticktext\": [\n            \"2.5\",\n            \"5.0\",\n            \"7.5\",\n            \"10.0\",\n            \"12.5\"\n        ],\n        \"zeroline\": false,\n        \"type\": \"-\",\n        \"tickfont\": {\n            \"color\": \"rgba(0, 0, 0, 1.000)\",\n            \"family\": \"sans-serif\",\n            \"size\": 11\n        },\n        \"zerolinecolor\": \"rgba(0, 0, 0, 1.000)\",\n        \"anchor\": \"x1\"\n    },\n    \"width\": 600\n}\n);\n    </script>\n\n    </body>\n</html>\n",
            "application/vnd.plotly.v1+json": {
              "layout": {
                "showlegend": false,
                "xaxis": {
                  "showticklabels": true,
                  "gridwidth": 0.5,
                  "tickvals": [
                    1,
                    1.5,
                    2,
                    2.5,
                    3
                  ],
                  "visible": true,
                  "ticks": "inside",
                  "range": [
                    0.94,
                    3.06
                  ],
                  "domain": [
                    0.0658209390492855,
                    0.9934383202099738
                  ],
                  "tickmode": "array",
                  "linecolor": "rgba(0, 0, 0, 1.000)",
                  "showgrid": true,
                  "title": "",
                  "mirror": false,
                  "tickangle": 0,
                  "showline": true,
                  "gridcolor": "rgba(0, 0, 0, 0.100)",
                  "titlefont": {
                    "color": "rgba(0, 0, 0, 1.000)",
                    "family": "sans-serif",
                    "size": 15
                  },
                  "tickcolor": "rgb(0, 0, 0)",
                  "ticktext": [
                    "1.0",
                    "1.5",
                    "2.0",
                    "2.5",
                    "3.0"
                  ],
                  "zeroline": false,
                  "type": "-",
                  "tickfont": {
                    "color": "rgba(0, 0, 0, 1.000)",
                    "family": "sans-serif",
                    "size": 11
                  },
                  "zerolinecolor": "rgba(0, 0, 0, 1.000)",
                  "anchor": "y1"
                },
                "paper_bgcolor": "rgba(255, 255, 255, 1.000)",
                "annotations": [],
                "height": 400,
                "margin": {
                  "l": 0,
                  "b": 20,
                  "r": 0,
                  "t": 20
                },
                "plot_bgcolor": "rgba(255, 255, 255, 1.000)",
                "yaxis": {
                  "showticklabels": true,
                  "gridwidth": 0.5,
                  "tickvals": [
                    2.5,
                    5,
                    7.5,
                    10,
                    12.5
                  ],
                  "visible": true,
                  "ticks": "inside",
                  "range": [
                    0.9284,
                    13.3516
                  ],
                  "domain": [
                    0.03762029746281716,
                    0.9901574803149606
                  ],
                  "tickmode": "array",
                  "linecolor": "rgba(0, 0, 0, 1.000)",
                  "showgrid": true,
                  "title": "",
                  "mirror": false,
                  "tickangle": 0,
                  "showline": true,
                  "gridcolor": "rgba(0, 0, 0, 0.100)",
                  "titlefont": {
                    "color": "rgba(0, 0, 0, 1.000)",
                    "family": "sans-serif",
                    "size": 15
                  },
                  "tickcolor": "rgb(0, 0, 0)",
                  "ticktext": [
                    "2.5",
                    "5.0",
                    "7.5",
                    "10.0",
                    "12.5"
                  ],
                  "zeroline": false,
                  "type": "-",
                  "tickfont": {
                    "color": "rgba(0, 0, 0, 1.000)",
                    "family": "sans-serif",
                    "size": 11
                  },
                  "zerolinecolor": "rgba(0, 0, 0, 1.000)",
                  "anchor": "x1"
                },
                "width": 600
              },
              "data": [
                {
                  "xaxis": "x1",
                  "colorbar": {
                    "title": ""
                  },
                  "yaxis": "y1",
                  "x": [
                    1
                  ],
                  "showlegend": true,
                  "mode": "markers",
                  "name": "y1",
                  "zmin": 1,
                  "legendgroup": "y1",
                  "marker": {
                    "symbol": "circle",
                    "color": "rgba(255, 76, 76, 1.000)",
                    "line": {
                      "color": "rgba(0, 0, 0, 1.000)",
                      "width": 1
                    },
                    "size": 8
                  },
                  "zmax": 3,
                  "y": [
                    5.64
                  ],
                  "type": "scatter"
                },
                {
                  "xaxis": "x1",
                  "colorbar": {
                    "title": ""
                  },
                  "yaxis": "y1",
                  "x": [
                    1
                  ],
                  "showlegend": false,
                  "mode": "markers",
                  "name": "y1",
                  "zmin": 1,
                  "legendgroup": "y1",
                  "marker": {
                    "symbol": "circle",
                    "color": "rgba(255, 76, 76, 1.000)",
                    "line": {
                      "color": "rgba(0, 0, 0, 1.000)",
                      "width": 1
                    },
                    "size": 8
                  },
                  "zmax": 3,
                  "y": [
                    4.38
                  ],
                  "type": "scatter"
                },
                {
                  "xaxis": "x1",
                  "colorbar": {
                    "title": ""
                  },
                  "yaxis": "y1",
                  "x": [
                    1
                  ],
                  "showlegend": false,
                  "mode": "markers",
                  "name": "y1",
                  "zmin": 1,
                  "legendgroup": "y1",
                  "marker": {
                    "symbol": "circle",
                    "color": "rgba(255, 76, 76, 1.000)",
                    "line": {
                      "color": "rgba(0, 0, 0, 1.000)",
                      "width": 1
                    },
                    "size": 8
                  },
                  "zmax": 3,
                  "y": [
                    5.68
                  ],
                  "type": "scatter"
                },
                {
                  "xaxis": "x1",
                  "colorbar": {
                    "title": ""
                  },
                  "yaxis": "y1",
                  "x": [
                    1
                  ],
                  "showlegend": false,
                  "mode": "markers",
                  "name": "y1",
                  "zmin": 1,
                  "legendgroup": "y1",
                  "marker": {
                    "symbol": "circle",
                    "color": "rgba(76, 204, 76, 1.000)",
                    "line": {
                      "color": "rgba(0, 0, 0, 1.000)",
                      "width": 1
                    },
                    "size": 8
                  },
                  "zmax": 3,
                  "y": [
                    7.8
                  ],
                  "type": "scatter"
                },
                {
                  "xaxis": "x1",
                  "colorbar": {
                    "title": ""
                  },
                  "yaxis": "y1",
                  "x": [
                    1
                  ],
                  "showlegend": false,
                  "mode": "markers",
                  "name": "y1",
                  "zmin": 1,
                  "legendgroup": "y1",
                  "marker": {
                    "symbol": "circle",
                    "color": "rgba(255, 76, 76, 1.000)",
                    "line": {
                      "color": "rgba(0, 0, 0, 1.000)",
                      "width": 1
                    },
                    "size": 8
                  },
                  "zmax": 3,
                  "y": [
                    4.32
                  ],
                  "type": "scatter"
                },
                {
                  "xaxis": "x1",
                  "colorbar": {
                    "title": ""
                  },
                  "yaxis": "y1",
                  "x": [
                    1
                  ],
                  "showlegend": false,
                  "mode": "markers",
                  "name": "y1",
                  "zmin": 1,
                  "legendgroup": "y1",
                  "marker": {
                    "symbol": "circle",
                    "color": "rgba(255, 76, 76, 1.000)",
                    "line": {
                      "color": "rgba(0, 0, 0, 1.000)",
                      "width": 1
                    },
                    "size": 8
                  },
                  "zmax": 3,
                  "y": [
                    6.75
                  ],
                  "type": "scatter"
                },
                {
                  "xaxis": "x1",
                  "colorbar": {
                    "title": ""
                  },
                  "yaxis": "y1",
                  "x": [
                    1
                  ],
                  "showlegend": false,
                  "mode": "markers",
                  "name": "y1",
                  "zmin": 1,
                  "legendgroup": "y1",
                  "marker": {
                    "symbol": "circle",
                    "color": "rgba(255, 76, 76, 1.000)",
                    "line": {
                      "color": "rgba(0, 0, 0, 1.000)",
                      "width": 1
                    },
                    "size": 8
                  },
                  "zmax": 3,
                  "y": [
                    5.25
                  ],
                  "type": "scatter"
                },
                {
                  "xaxis": "x1",
                  "colorbar": {
                    "title": ""
                  },
                  "yaxis": "y1",
                  "x": [
                    1
                  ],
                  "showlegend": false,
                  "mode": "markers",
                  "name": "y1",
                  "zmin": 1,
                  "legendgroup": "y1",
                  "marker": {
                    "symbol": "circle",
                    "color": "rgba(255, 76, 76, 1.000)",
                    "line": {
                      "color": "rgba(0, 0, 0, 1.000)",
                      "width": 1
                    },
                    "size": 8
                  },
                  "zmax": 3,
                  "y": [
                    5.05
                  ],
                  "type": "scatter"
                },
                {
                  "xaxis": "x1",
                  "colorbar": {
                    "title": ""
                  },
                  "yaxis": "y1",
                  "x": [
                    1
                  ],
                  "showlegend": false,
                  "mode": "markers",
                  "name": "y1",
                  "zmin": 1,
                  "legendgroup": "y1",
                  "marker": {
                    "symbol": "circle",
                    "color": "rgba(255, 76, 76, 1.000)",
                    "line": {
                      "color": "rgba(0, 0, 0, 1.000)",
                      "width": 1
                    },
                    "size": 8
                  },
                  "zmax": 3,
                  "y": [
                    5.2
                  ],
                  "type": "scatter"
                },
                {
                  "xaxis": "x1",
                  "colorbar": {
                    "title": ""
                  },
                  "yaxis": "y1",
                  "x": [
                    1
                  ],
                  "showlegend": false,
                  "mode": "markers",
                  "name": "y1",
                  "zmin": 1,
                  "legendgroup": "y1",
                  "marker": {
                    "symbol": "circle",
                    "color": "rgba(255, 76, 76, 1.000)",
                    "line": {
                      "color": "rgba(0, 0, 0, 1.000)",
                      "width": 1
                    },
                    "size": 8
                  },
                  "zmax": 3,
                  "y": [
                    7.22
                  ],
                  "type": "scatter"
                },
                {
                  "xaxis": "x1",
                  "colorbar": {
                    "title": ""
                  },
                  "yaxis": "y1",
                  "x": [
                    1
                  ],
                  "showlegend": false,
                  "mode": "markers",
                  "name": "y1",
                  "zmin": 1,
                  "legendgroup": "y1",
                  "marker": {
                    "symbol": "circle",
                    "color": "rgba(255, 76, 76, 1.000)",
                    "line": {
                      "color": "rgba(0, 0, 0, 1.000)",
                      "width": 1
                    },
                    "size": 8
                  },
                  "zmax": 3,
                  "y": [
                    5.75
                  ],
                  "type": "scatter"
                },
                {
                  "xaxis": "x1",
                  "colorbar": {
                    "title": ""
                  },
                  "yaxis": "y1",
                  "x": [
                    1
                  ],
                  "showlegend": false,
                  "mode": "markers",
                  "name": "y1",
                  "zmin": 1,
                  "legendgroup": "y1",
                  "marker": {
                    "symbol": "circle",
                    "color": "rgba(255, 76, 76, 1.000)",
                    "line": {
                      "color": "rgba(0, 0, 0, 1.000)",
                      "width": 1
                    },
                    "size": 8
                  },
                  "zmax": 3,
                  "y": [
                    5
                  ],
                  "type": "scatter"
                },
                {
                  "xaxis": "x1",
                  "colorbar": {
                    "title": ""
                  },
                  "yaxis": "y1",
                  "x": [
                    1
                  ],
                  "showlegend": false,
                  "mode": "markers",
                  "name": "y1",
                  "zmin": 1,
                  "legendgroup": "y1",
                  "marker": {
                    "symbol": "circle",
                    "color": "rgba(255, 76, 76, 1.000)",
                    "line": {
                      "color": "rgba(0, 0, 0, 1.000)",
                      "width": 1
                    },
                    "size": 8
                  },
                  "zmax": 3,
                  "y": [
                    5.6
                  ],
                  "type": "scatter"
                },
                {
                  "xaxis": "x1",
                  "colorbar": {
                    "title": ""
                  },
                  "yaxis": "y1",
                  "x": [
                    1
                  ],
                  "showlegend": false,
                  "mode": "markers",
                  "name": "y1",
                  "zmin": 1,
                  "legendgroup": "y1",
                  "marker": {
                    "symbol": "circle",
                    "color": "rgba(255, 76, 76, 1.000)",
                    "line": {
                      "color": "rgba(0, 0, 0, 1.000)",
                      "width": 1
                    },
                    "size": 8
                  },
                  "zmax": 3,
                  "y": [
                    5.4
                  ],
                  "type": "scatter"
                },
                {
                  "xaxis": "x1",
                  "colorbar": {
                    "title": ""
                  },
                  "yaxis": "y1",
                  "x": [
                    1
                  ],
                  "showlegend": false,
                  "mode": "markers",
                  "name": "y1",
                  "zmin": 1,
                  "legendgroup": "y1",
                  "marker": {
                    "symbol": "circle",
                    "color": "rgba(255, 76, 76, 1.000)",
                    "line": {
                      "color": "rgba(0, 0, 0, 1.000)",
                      "width": 1
                    },
                    "size": 8
                  },
                  "zmax": 3,
                  "y": [
                    7.5
                  ],
                  "type": "scatter"
                },
                {
                  "xaxis": "x1",
                  "colorbar": {
                    "title": ""
                  },
                  "yaxis": "y1",
                  "x": [
                    1
                  ],
                  "showlegend": false,
                  "mode": "markers",
                  "name": "y1",
                  "zmin": 1,
                  "legendgroup": "y1",
                  "marker": {
                    "symbol": "circle",
                    "color": "rgba(255, 76, 76, 1.000)",
                    "line": {
                      "color": "rgba(0, 0, 0, 1.000)",
                      "width": 1
                    },
                    "size": 8
                  },
                  "zmax": 3,
                  "y": [
                    7.3
                  ],
                  "type": "scatter"
                },
                {
                  "xaxis": "x1",
                  "colorbar": {
                    "title": ""
                  },
                  "yaxis": "y1",
                  "x": [
                    1
                  ],
                  "showlegend": false,
                  "mode": "markers",
                  "name": "y1",
                  "zmin": 1,
                  "legendgroup": "y1",
                  "marker": {
                    "symbol": "circle",
                    "color": "rgba(255, 76, 76, 1.000)",
                    "line": {
                      "color": "rgba(0, 0, 0, 1.000)",
                      "width": 1
                    },
                    "size": 8
                  },
                  "zmax": 3,
                  "y": [
                    6.2
                  ],
                  "type": "scatter"
                },
                {
                  "xaxis": "x1",
                  "colorbar": {
                    "title": ""
                  },
                  "yaxis": "y1",
                  "x": [
                    1
                  ],
                  "showlegend": false,
                  "mode": "markers",
                  "name": "y1",
                  "zmin": 1,
                  "legendgroup": "y1",
                  "marker": {
                    "symbol": "circle",
                    "color": "rgba(255, 76, 76, 1.000)",
                    "line": {
                      "color": "rgba(0, 0, 0, 1.000)",
                      "width": 1
                    },
                    "size": 8
                  },
                  "zmax": 3,
                  "y": [
                    6.6
                  ],
                  "type": "scatter"
                },
                {
                  "xaxis": "x1",
                  "colorbar": {
                    "title": ""
                  },
                  "yaxis": "y1",
                  "x": [
                    1
                  ],
                  "showlegend": false,
                  "mode": "markers",
                  "name": "y1",
                  "zmin": 1,
                  "legendgroup": "y1",
                  "marker": {
                    "symbol": "circle",
                    "color": "rgba(76, 204, 76, 1.000)",
                    "line": {
                      "color": "rgba(0, 0, 0, 1.000)",
                      "width": 1
                    },
                    "size": 8
                  },
                  "zmax": 3,
                  "y": [
                    8.7
                  ],
                  "type": "scatter"
                },
                {
                  "xaxis": "x1",
                  "colorbar": {
                    "title": ""
                  },
                  "yaxis": "y1",
                  "x": [
                    1
                  ],
                  "showlegend": false,
                  "mode": "markers",
                  "name": "y1",
                  "zmin": 1,
                  "legendgroup": "y1",
                  "marker": {
                    "symbol": "circle",
                    "color": "rgba(255, 76, 76, 1.000)",
                    "line": {
                      "color": "rgba(0, 0, 0, 1.000)",
                      "width": 1
                    },
                    "size": 8
                  },
                  "zmax": 3,
                  "y": [
                    5.1
                  ],
                  "type": "scatter"
                },
                {
                  "xaxis": "x1",
                  "colorbar": {
                    "title": ""
                  },
                  "yaxis": "y1",
                  "x": [
                    1
                  ],
                  "showlegend": false,
                  "mode": "markers",
                  "name": "y1",
                  "zmin": 1,
                  "legendgroup": "y1",
                  "marker": {
                    "symbol": "circle",
                    "color": "rgba(255, 76, 76, 1.000)",
                    "line": {
                      "color": "rgba(0, 0, 0, 1.000)",
                      "width": 1
                    },
                    "size": 8
                  },
                  "zmax": 3,
                  "y": [
                    5.65
                  ],
                  "type": "scatter"
                },
                {
                  "xaxis": "x1",
                  "colorbar": {
                    "title": ""
                  },
                  "yaxis": "y1",
                  "x": [
                    1
                  ],
                  "showlegend": false,
                  "mode": "markers",
                  "name": "y1",
                  "zmin": 1,
                  "legendgroup": "y1",
                  "marker": {
                    "symbol": "circle",
                    "color": "rgba(255, 76, 76, 1.000)",
                    "line": {
                      "color": "rgba(0, 0, 0, 1.000)",
                      "width": 1
                    },
                    "size": 8
                  },
                  "zmax": 3,
                  "y": [
                    4.5
                  ],
                  "type": "scatter"
                },
                {
                  "xaxis": "x1",
                  "colorbar": {
                    "title": ""
                  },
                  "yaxis": "y1",
                  "x": [
                    1
                  ],
                  "showlegend": false,
                  "mode": "markers",
                  "name": "y1",
                  "zmin": 1,
                  "legendgroup": "y1",
                  "marker": {
                    "symbol": "circle",
                    "color": "rgba(255, 76, 76, 1.000)",
                    "line": {
                      "color": "rgba(0, 0, 0, 1.000)",
                      "width": 1
                    },
                    "size": 8
                  },
                  "zmax": 3,
                  "y": [
                    3.8
                  ],
                  "type": "scatter"
                },
                {
                  "xaxis": "x1",
                  "colorbar": {
                    "title": ""
                  },
                  "yaxis": "y1",
                  "x": [
                    1
                  ],
                  "showlegend": false,
                  "mode": "markers",
                  "name": "y1",
                  "zmin": 1,
                  "legendgroup": "y1",
                  "marker": {
                    "symbol": "circle",
                    "color": "rgba(204, 76, 204, 1.000)",
                    "line": {
                      "color": "rgba(0, 0, 0, 1.000)",
                      "width": 1
                    },
                    "size": 8
                  },
                  "zmax": 3,
                  "y": [
                    3.93
                  ],
                  "type": "scatter"
                },
                {
                  "xaxis": "x1",
                  "colorbar": {
                    "title": ""
                  },
                  "yaxis": "y1",
                  "x": [
                    1
                  ],
                  "showlegend": false,
                  "mode": "markers",
                  "name": "y1",
                  "zmin": 1,
                  "legendgroup": "y1",
                  "marker": {
                    "symbol": "circle",
                    "color": "rgba(204, 76, 204, 1.000)",
                    "line": {
                      "color": "rgba(0, 0, 0, 1.000)",
                      "width": 1
                    },
                    "size": 8
                  },
                  "zmax": 3,
                  "y": [
                    3.52
                  ],
                  "type": "scatter"
                },
                {
                  "xaxis": "x1",
                  "colorbar": {
                    "title": ""
                  },
                  "yaxis": "y1",
                  "x": [
                    1
                  ],
                  "showlegend": false,
                  "mode": "markers",
                  "name": "y1",
                  "zmin": 1,
                  "legendgroup": "y1",
                  "marker": {
                    "symbol": "circle",
                    "color": "rgba(204, 76, 204, 1.000)",
                    "line": {
                      "color": "rgba(0, 0, 0, 1.000)",
                      "width": 1
                    },
                    "size": 8
                  },
                  "zmax": 3,
                  "y": [
                    3.58
                  ],
                  "type": "scatter"
                },
                {
                  "xaxis": "x1",
                  "colorbar": {
                    "title": ""
                  },
                  "yaxis": "y1",
                  "x": [
                    1
                  ],
                  "showlegend": false,
                  "mode": "markers",
                  "name": "y1",
                  "zmin": 1,
                  "legendgroup": "y1",
                  "marker": {
                    "symbol": "circle",
                    "color": "rgba(255, 76, 76, 1.000)",
                    "line": {
                      "color": "rgba(0, 0, 0, 1.000)",
                      "width": 1
                    },
                    "size": 8
                  },
                  "zmax": 3,
                  "y": [
                    4.8
                  ],
                  "type": "scatter"
                },
                {
                  "xaxis": "x1",
                  "colorbar": {
                    "title": ""
                  },
                  "yaxis": "y1",
                  "x": [
                    1
                  ],
                  "showlegend": false,
                  "mode": "markers",
                  "name": "y1",
                  "zmin": 1,
                  "legendgroup": "y1",
                  "marker": {
                    "symbol": "circle",
                    "color": "rgba(255, 76, 76, 1.000)",
                    "line": {
                      "color": "rgba(0, 0, 0, 1.000)",
                      "width": 1
                    },
                    "size": 8
                  },
                  "zmax": 3,
                  "y": [
                    3.95
                  ],
                  "type": "scatter"
                },
                {
                  "xaxis": "x1",
                  "colorbar": {
                    "title": ""
                  },
                  "yaxis": "y1",
                  "x": [
                    1
                  ],
                  "showlegend": false,
                  "mode": "markers",
                  "name": "y1",
                  "zmin": 1,
                  "legendgroup": "y1",
                  "marker": {
                    "symbol": "circle",
                    "color": "rgba(255, 76, 76, 1.000)",
                    "line": {
                      "color": "rgba(0, 0, 0, 1.000)",
                      "width": 1
                    },
                    "size": 8
                  },
                  "zmax": 3,
                  "y": [
                    4.5
                  ],
                  "type": "scatter"
                },
                {
                  "xaxis": "x1",
                  "colorbar": {
                    "title": ""
                  },
                  "yaxis": "y1",
                  "x": [
                    1
                  ],
                  "showlegend": false,
                  "mode": "markers",
                  "name": "y1",
                  "zmin": 1,
                  "legendgroup": "y1",
                  "marker": {
                    "symbol": "circle",
                    "color": "rgba(255, 76, 76, 1.000)",
                    "line": {
                      "color": "rgba(0, 0, 0, 1.000)",
                      "width": 1
                    },
                    "size": 8
                  },
                  "zmax": 3,
                  "y": [
                    4.7
                  ],
                  "type": "scatter"
                },
                {
                  "xaxis": "x1",
                  "colorbar": {
                    "title": ""
                  },
                  "yaxis": "y1",
                  "x": [
                    1
                  ],
                  "showlegend": false,
                  "mode": "markers",
                  "name": "y1",
                  "zmin": 1,
                  "legendgroup": "y1",
                  "marker": {
                    "symbol": "circle",
                    "color": "rgba(255, 76, 76, 1.000)",
                    "line": {
                      "color": "rgba(0, 0, 0, 1.000)",
                      "width": 1
                    },
                    "size": 8
                  },
                  "zmax": 3,
                  "y": [
                    5.7
                  ],
                  "type": "scatter"
                },
                {
                  "xaxis": "x1",
                  "colorbar": {
                    "title": ""
                  },
                  "yaxis": "y1",
                  "x": [
                    1
                  ],
                  "showlegend": false,
                  "mode": "markers",
                  "name": "y1",
                  "zmin": 1,
                  "legendgroup": "y1",
                  "marker": {
                    "symbol": "circle",
                    "color": "rgba(255, 76, 76, 1.000)",
                    "line": {
                      "color": "rgba(0, 0, 0, 1.000)",
                      "width": 1
                    },
                    "size": 8
                  },
                  "zmax": 3,
                  "y": [
                    6.9
                  ],
                  "type": "scatter"
                },
                {
                  "xaxis": "x1",
                  "colorbar": {
                    "title": ""
                  },
                  "yaxis": "y1",
                  "x": [
                    1
                  ],
                  "showlegend": false,
                  "mode": "markers",
                  "name": "y1",
                  "zmin": 1,
                  "legendgroup": "y1",
                  "marker": {
                    "symbol": "circle",
                    "color": "rgba(255, 76, 76, 1.000)",
                    "line": {
                      "color": "rgba(0, 0, 0, 1.000)",
                      "width": 1
                    },
                    "size": 8
                  },
                  "zmax": 3,
                  "y": [
                    3.84
                  ],
                  "type": "scatter"
                },
                {
                  "xaxis": "x1",
                  "colorbar": {
                    "title": ""
                  },
                  "yaxis": "y1",
                  "x": [
                    1
                  ],
                  "showlegend": false,
                  "mode": "markers",
                  "name": "y1",
                  "zmin": 1,
                  "legendgroup": "y1",
                  "marker": {
                    "symbol": "circle",
                    "color": "rgba(255, 76, 76, 1.000)",
                    "line": {
                      "color": "rgba(0, 0, 0, 1.000)",
                      "width": 1
                    },
                    "size": 8
                  },
                  "zmax": 3,
                  "y": [
                    5.4
                  ],
                  "type": "scatter"
                },
                {
                  "xaxis": "x1",
                  "colorbar": {
                    "title": ""
                  },
                  "yaxis": "y1",
                  "x": [
                    1
                  ],
                  "showlegend": false,
                  "mode": "markers",
                  "name": "y1",
                  "zmin": 1,
                  "legendgroup": "y1",
                  "marker": {
                    "symbol": "circle",
                    "color": "rgba(255, 76, 76, 1.000)",
                    "line": {
                      "color": "rgba(0, 0, 0, 1.000)",
                      "width": 1
                    },
                    "size": 8
                  },
                  "zmax": 3,
                  "y": [
                    4.2
                  ],
                  "type": "scatter"
                },
                {
                  "xaxis": "x1",
                  "colorbar": {
                    "title": ""
                  },
                  "yaxis": "y1",
                  "x": [
                    1
                  ],
                  "showlegend": false,
                  "mode": "markers",
                  "name": "y1",
                  "zmin": 1,
                  "legendgroup": "y1",
                  "marker": {
                    "symbol": "circle",
                    "color": "rgba(255, 76, 76, 1.000)",
                    "line": {
                      "color": "rgba(0, 0, 0, 1.000)",
                      "width": 1
                    },
                    "size": 8
                  },
                  "zmax": 3,
                  "y": [
                    5.1
                  ],
                  "type": "scatter"
                },
                {
                  "xaxis": "x1",
                  "colorbar": {
                    "title": ""
                  },
                  "yaxis": "y1",
                  "x": [
                    1
                  ],
                  "showlegend": false,
                  "mode": "markers",
                  "name": "y1",
                  "zmin": 1,
                  "legendgroup": "y1",
                  "marker": {
                    "symbol": "circle",
                    "color": "rgba(255, 76, 76, 1.000)",
                    "line": {
                      "color": "rgba(0, 0, 0, 1.000)",
                      "width": 1
                    },
                    "size": 8
                  },
                  "zmax": 3,
                  "y": [
                    4.6
                  ],
                  "type": "scatter"
                },
                {
                  "xaxis": "x1",
                  "colorbar": {
                    "title": ""
                  },
                  "yaxis": "y1",
                  "x": [
                    1
                  ],
                  "showlegend": false,
                  "mode": "markers",
                  "name": "y1",
                  "zmin": 1,
                  "legendgroup": "y1",
                  "marker": {
                    "symbol": "circle",
                    "color": "rgba(255, 76, 76, 1.000)",
                    "line": {
                      "color": "rgba(0, 0, 0, 1.000)",
                      "width": 1
                    },
                    "size": 8
                  },
                  "zmax": 3,
                  "y": [
                    4.25
                  ],
                  "type": "scatter"
                },
                {
                  "xaxis": "x1",
                  "colorbar": {
                    "title": ""
                  },
                  "yaxis": "y1",
                  "x": [
                    1
                  ],
                  "showlegend": false,
                  "mode": "markers",
                  "name": "y1",
                  "zmin": 1,
                  "legendgroup": "y1",
                  "marker": {
                    "symbol": "circle",
                    "color": "rgba(204, 76, 204, 1.000)",
                    "line": {
                      "color": "rgba(0, 0, 0, 1.000)",
                      "width": 1
                    },
                    "size": 8
                  },
                  "zmax": 3,
                  "y": [
                    3.7
                  ],
                  "type": "scatter"
                },
                {
                  "xaxis": "x1",
                  "colorbar": {
                    "title": ""
                  },
                  "yaxis": "y1",
                  "x": [
                    1
                  ],
                  "showlegend": false,
                  "mode": "markers",
                  "name": "y1",
                  "zmin": 1,
                  "legendgroup": "y1",
                  "marker": {
                    "symbol": "circle",
                    "color": "rgba(255, 76, 76, 1.000)",
                    "line": {
                      "color": "rgba(0, 0, 0, 1.000)",
                      "width": 1
                    },
                    "size": 8
                  },
                  "zmax": 3,
                  "y": [
                    5.1
                  ],
                  "type": "scatter"
                },
                {
                  "xaxis": "x1",
                  "colorbar": {
                    "title": ""
                  },
                  "yaxis": "y1",
                  "x": [
                    1
                  ],
                  "showlegend": false,
                  "mode": "markers",
                  "name": "y1",
                  "zmin": 1,
                  "legendgroup": "y1",
                  "marker": {
                    "symbol": "circle",
                    "color": "rgba(255, 76, 76, 1.000)",
                    "line": {
                      "color": "rgba(0, 0, 0, 1.000)",
                      "width": 1
                    },
                    "size": 8
                  },
                  "zmax": 3,
                  "y": [
                    6.13
                  ],
                  "type": "scatter"
                },
                {
                  "xaxis": "x1",
                  "colorbar": {
                    "title": ""
                  },
                  "yaxis": "y1",
                  "x": [
                    1
                  ],
                  "showlegend": false,
                  "mode": "markers",
                  "name": "y1",
                  "zmin": 1,
                  "legendgroup": "y1",
                  "marker": {
                    "symbol": "circle",
                    "color": "rgba(255, 76, 76, 1.000)",
                    "line": {
                      "color": "rgba(0, 0, 0, 1.000)",
                      "width": 1
                    },
                    "size": 8
                  },
                  "zmax": 3,
                  "y": [
                    4.28
                  ],
                  "type": "scatter"
                },
                {
                  "xaxis": "x1",
                  "colorbar": {
                    "title": ""
                  },
                  "yaxis": "y1",
                  "x": [
                    1
                  ],
                  "showlegend": false,
                  "mode": "markers",
                  "name": "y1",
                  "zmin": 1,
                  "legendgroup": "y1",
                  "marker": {
                    "symbol": "circle",
                    "color": "rgba(255, 76, 76, 1.000)",
                    "line": {
                      "color": "rgba(0, 0, 0, 1.000)",
                      "width": 1
                    },
                    "size": 8
                  },
                  "zmax": 3,
                  "y": [
                    5.43
                  ],
                  "type": "scatter"
                },
                {
                  "xaxis": "x1",
                  "colorbar": {
                    "title": ""
                  },
                  "yaxis": "y1",
                  "x": [
                    1
                  ],
                  "showlegend": false,
                  "mode": "markers",
                  "name": "y1",
                  "zmin": 1,
                  "legendgroup": "y1",
                  "marker": {
                    "symbol": "circle",
                    "color": "rgba(255, 76, 76, 1.000)",
                    "line": {
                      "color": "rgba(0, 0, 0, 1.000)",
                      "width": 1
                    },
                    "size": 8
                  },
                  "zmax": 3,
                  "y": [
                    4.36
                  ],
                  "type": "scatter"
                },
                {
                  "xaxis": "x1",
                  "colorbar": {
                    "title": ""
                  },
                  "yaxis": "y1",
                  "x": [
                    1
                  ],
                  "showlegend": false,
                  "mode": "markers",
                  "name": "y1",
                  "zmin": 1,
                  "legendgroup": "y1",
                  "marker": {
                    "symbol": "circle",
                    "color": "rgba(255, 76, 76, 1.000)",
                    "line": {
                      "color": "rgba(0, 0, 0, 1.000)",
                      "width": 1
                    },
                    "size": 8
                  },
                  "zmax": 3,
                  "y": [
                    5.04
                  ],
                  "type": "scatter"
                },
                {
                  "xaxis": "x1",
                  "colorbar": {
                    "title": ""
                  },
                  "yaxis": "y1",
                  "x": [
                    1
                  ],
                  "showlegend": false,
                  "mode": "markers",
                  "name": "y1",
                  "zmin": 1,
                  "legendgroup": "y1",
                  "marker": {
                    "symbol": "circle",
                    "color": "rgba(255, 76, 76, 1.000)",
                    "line": {
                      "color": "rgba(0, 0, 0, 1.000)",
                      "width": 1
                    },
                    "size": 8
                  },
                  "zmax": 3,
                  "y": [
                    5.24
                  ],
                  "type": "scatter"
                },
                {
                  "xaxis": "x1",
                  "colorbar": {
                    "title": ""
                  },
                  "yaxis": "y1",
                  "x": [
                    1
                  ],
                  "showlegend": false,
                  "mode": "markers",
                  "name": "y1",
                  "zmin": 1,
                  "legendgroup": "y1",
                  "marker": {
                    "symbol": "circle",
                    "color": "rgba(255, 76, 76, 1.000)",
                    "line": {
                      "color": "rgba(0, 0, 0, 1.000)",
                      "width": 1
                    },
                    "size": 8
                  },
                  "zmax": 3,
                  "y": [
                    4.9
                  ],
                  "type": "scatter"
                },
                {
                  "xaxis": "x1",
                  "colorbar": {
                    "title": ""
                  },
                  "yaxis": "y1",
                  "x": [
                    1
                  ],
                  "showlegend": false,
                  "mode": "markers",
                  "name": "y1",
                  "zmin": 1,
                  "legendgroup": "y1",
                  "marker": {
                    "symbol": "circle",
                    "color": "rgba(255, 76, 76, 1.000)",
                    "line": {
                      "color": "rgba(0, 0, 0, 1.000)",
                      "width": 1
                    },
                    "size": 8
                  },
                  "zmax": 3,
                  "y": [
                    6.1
                  ],
                  "type": "scatter"
                },
                {
                  "xaxis": "x1",
                  "colorbar": {
                    "title": ""
                  },
                  "yaxis": "y1",
                  "x": [
                    1
                  ],
                  "showlegend": false,
                  "mode": "markers",
                  "name": "y1",
                  "zmin": 1,
                  "legendgroup": "y1",
                  "marker": {
                    "symbol": "circle",
                    "color": "rgba(255, 76, 76, 1.000)",
                    "line": {
                      "color": "rgba(0, 0, 0, 1.000)",
                      "width": 1
                    },
                    "size": 8
                  },
                  "zmax": 3,
                  "y": [
                    6.2
                  ],
                  "type": "scatter"
                },
                {
                  "xaxis": "x1",
                  "colorbar": {
                    "title": ""
                  },
                  "yaxis": "y1",
                  "x": [
                    1
                  ],
                  "showlegend": false,
                  "mode": "markers",
                  "name": "y1",
                  "zmin": 1,
                  "legendgroup": "y1",
                  "marker": {
                    "symbol": "circle",
                    "color": "rgba(76, 204, 76, 1.000)",
                    "line": {
                      "color": "rgba(0, 0, 0, 1.000)",
                      "width": 1
                    },
                    "size": 8
                  },
                  "zmax": 3,
                  "y": [
                    8.9
                  ],
                  "type": "scatter"
                },
                {
                  "xaxis": "x1",
                  "colorbar": {
                    "title": ""
                  },
                  "yaxis": "y1",
                  "x": [
                    1
                  ],
                  "showlegend": false,
                  "mode": "markers",
                  "name": "y1",
                  "zmin": 1,
                  "legendgroup": "y1",
                  "marker": {
                    "symbol": "circle",
                    "color": "rgba(255, 76, 76, 1.000)",
                    "line": {
                      "color": "rgba(0, 0, 0, 1.000)",
                      "width": 1
                    },
                    "size": 8
                  },
                  "zmax": 3,
                  "y": [
                    7.2
                  ],
                  "type": "scatter"
                },
                {
                  "xaxis": "x1",
                  "colorbar": {
                    "title": ""
                  },
                  "yaxis": "y1",
                  "x": [
                    1
                  ],
                  "showlegend": false,
                  "mode": "markers",
                  "name": "y1",
                  "zmin": 1,
                  "legendgroup": "y1",
                  "marker": {
                    "symbol": "circle",
                    "color": "rgba(255, 76, 76, 1.000)",
                    "line": {
                      "color": "rgba(0, 0, 0, 1.000)",
                      "width": 1
                    },
                    "size": 8
                  },
                  "zmax": 3,
                  "y": [
                    5.6
                  ],
                  "type": "scatter"
                },
                {
                  "xaxis": "x1",
                  "colorbar": {
                    "title": ""
                  },
                  "yaxis": "y1",
                  "x": [
                    1
                  ],
                  "showlegend": false,
                  "mode": "markers",
                  "name": "y1",
                  "zmin": 1,
                  "legendgroup": "y1",
                  "marker": {
                    "symbol": "circle",
                    "color": "rgba(255, 76, 76, 1.000)",
                    "line": {
                      "color": "rgba(0, 0, 0, 1.000)",
                      "width": 1
                    },
                    "size": 8
                  },
                  "zmax": 3,
                  "y": [
                    7.05
                  ],
                  "type": "scatter"
                },
                {
                  "xaxis": "x1",
                  "colorbar": {
                    "title": ""
                  },
                  "yaxis": "y1",
                  "x": [
                    1
                  ],
                  "showlegend": false,
                  "mode": "markers",
                  "name": "y1",
                  "zmin": 1,
                  "legendgroup": "y1",
                  "marker": {
                    "symbol": "circle",
                    "color": "rgba(255, 76, 76, 1.000)",
                    "line": {
                      "color": "rgba(0, 0, 0, 1.000)",
                      "width": 1
                    },
                    "size": 8
                  },
                  "zmax": 3,
                  "y": [
                    6.3
                  ],
                  "type": "scatter"
                },
                {
                  "xaxis": "x1",
                  "colorbar": {
                    "title": ""
                  },
                  "yaxis": "y1",
                  "x": [
                    1
                  ],
                  "showlegend": false,
                  "mode": "markers",
                  "name": "y1",
                  "zmin": 1,
                  "legendgroup": "y1",
                  "marker": {
                    "symbol": "circle",
                    "color": "rgba(255, 76, 76, 1.000)",
                    "line": {
                      "color": "rgba(0, 0, 0, 1.000)",
                      "width": 1
                    },
                    "size": 8
                  },
                  "zmax": 3,
                  "y": [
                    5.85
                  ],
                  "type": "scatter"
                },
                {
                  "xaxis": "x1",
                  "colorbar": {
                    "title": ""
                  },
                  "yaxis": "y1",
                  "x": [
                    1
                  ],
                  "showlegend": false,
                  "mode": "markers",
                  "name": "y1",
                  "zmin": 1,
                  "legendgroup": "y1",
                  "marker": {
                    "symbol": "circle",
                    "color": "rgba(255, 76, 76, 1.000)",
                    "line": {
                      "color": "rgba(0, 0, 0, 1.000)",
                      "width": 1
                    },
                    "size": 8
                  },
                  "zmax": 3,
                  "y": [
                    6.25
                  ],
                  "type": "scatter"
                },
                {
                  "xaxis": "x1",
                  "colorbar": {
                    "title": ""
                  },
                  "yaxis": "y1",
                  "x": [
                    1
                  ],
                  "showlegend": false,
                  "mode": "markers",
                  "name": "y1",
                  "zmin": 1,
                  "legendgroup": "y1",
                  "marker": {
                    "symbol": "circle",
                    "color": "rgba(255, 76, 76, 1.000)",
                    "line": {
                      "color": "rgba(0, 0, 0, 1.000)",
                      "width": 1
                    },
                    "size": 8
                  },
                  "zmax": 3,
                  "y": [
                    6.38
                  ],
                  "type": "scatter"
                },
                {
                  "xaxis": "x1",
                  "colorbar": {
                    "title": ""
                  },
                  "yaxis": "y1",
                  "x": [
                    1
                  ],
                  "showlegend": false,
                  "mode": "markers",
                  "name": "y1",
                  "zmin": 1,
                  "legendgroup": "y1",
                  "marker": {
                    "symbol": "circle",
                    "color": "rgba(255, 76, 76, 1.000)",
                    "line": {
                      "color": "rgba(0, 0, 0, 1.000)",
                      "width": 1
                    },
                    "size": 8
                  },
                  "zmax": 3,
                  "y": [
                    6
                  ],
                  "type": "scatter"
                },
                {
                  "xaxis": "x1",
                  "colorbar": {
                    "title": ""
                  },
                  "yaxis": "y1",
                  "x": [
                    1
                  ],
                  "showlegend": false,
                  "mode": "markers",
                  "name": "y1",
                  "zmin": 1,
                  "legendgroup": "y1",
                  "marker": {
                    "symbol": "circle",
                    "color": "rgba(255, 76, 76, 1.000)",
                    "line": {
                      "color": "rgba(0, 0, 0, 1.000)",
                      "width": 1
                    },
                    "size": 8
                  },
                  "zmax": 3,
                  "y": [
                    6.8
                  ],
                  "type": "scatter"
                },
                {
                  "xaxis": "x1",
                  "colorbar": {
                    "title": ""
                  },
                  "yaxis": "y1",
                  "x": [
                    2
                  ],
                  "showlegend": false,
                  "mode": "markers",
                  "name": "y1",
                  "zmin": 1,
                  "legendgroup": "y1",
                  "marker": {
                    "symbol": "circle",
                    "color": "rgba(204, 76, 204, 1.000)",
                    "line": {
                      "color": "rgba(0, 0, 0, 1.000)",
                      "width": 1
                    },
                    "size": 8
                  },
                  "zmax": 3,
                  "y": [
                    1.95
                  ],
                  "type": "scatter"
                },
                {
                  "xaxis": "x1",
                  "colorbar": {
                    "title": ""
                  },
                  "yaxis": "y1",
                  "x": [
                    2
                  ],
                  "showlegend": false,
                  "mode": "markers",
                  "name": "y1",
                  "zmin": 1,
                  "legendgroup": "y1",
                  "marker": {
                    "symbol": "circle",
                    "color": "rgba(204, 76, 204, 1.000)",
                    "line": {
                      "color": "rgba(0, 0, 0, 1.000)",
                      "width": 1
                    },
                    "size": 8
                  },
                  "zmax": 3,
                  "y": [
                    3.27
                  ],
                  "type": "scatter"
                },
                {
                  "xaxis": "x1",
                  "colorbar": {
                    "title": ""
                  },
                  "yaxis": "y1",
                  "x": [
                    2
                  ],
                  "showlegend": false,
                  "mode": "markers",
                  "name": "y1",
                  "zmin": 1,
                  "legendgroup": "y1",
                  "marker": {
                    "symbol": "circle",
                    "color": "rgba(255, 76, 76, 1.000)",
                    "line": {
                      "color": "rgba(0, 0, 0, 1.000)",
                      "width": 1
                    },
                    "size": 8
                  },
                  "zmax": 3,
                  "y": [
                    5.75
                  ],
                  "type": "scatter"
                },
                {
                  "xaxis": "x1",
                  "colorbar": {
                    "title": ""
                  },
                  "yaxis": "y1",
                  "x": [
                    2
                  ],
                  "showlegend": false,
                  "mode": "markers",
                  "name": "y1",
                  "zmin": 1,
                  "legendgroup": "y1",
                  "marker": {
                    "symbol": "circle",
                    "color": "rgba(204, 76, 204, 1.000)",
                    "line": {
                      "color": "rgba(0, 0, 0, 1.000)",
                      "width": 1
                    },
                    "size": 8
                  },
                  "zmax": 3,
                  "y": [
                    3.8
                  ],
                  "type": "scatter"
                },
                {
                  "xaxis": "x1",
                  "colorbar": {
                    "title": ""
                  },
                  "yaxis": "y1",
                  "x": [
                    2
                  ],
                  "showlegend": false,
                  "mode": "markers",
                  "name": "y1",
                  "zmin": 1,
                  "legendgroup": "y1",
                  "marker": {
                    "symbol": "circle",
                    "color": "rgba(255, 76, 76, 1.000)",
                    "line": {
                      "color": "rgba(0, 0, 0, 1.000)",
                      "width": 1
                    },
                    "size": 8
                  },
                  "zmax": 3,
                  "y": [
                    4.45
                  ],
                  "type": "scatter"
                },
                {
                  "xaxis": "x1",
                  "colorbar": {
                    "title": ""
                  },
                  "yaxis": "y1",
                  "x": [
                    2
                  ],
                  "showlegend": false,
                  "mode": "markers",
                  "name": "y1",
                  "zmin": 1,
                  "legendgroup": "y1",
                  "marker": {
                    "symbol": "circle",
                    "color": "rgba(204, 76, 204, 1.000)",
                    "line": {
                      "color": "rgba(0, 0, 0, 1.000)",
                      "width": 1
                    },
                    "size": 8
                  },
                  "zmax": 3,
                  "y": [
                    2.95
                  ],
                  "type": "scatter"
                },
                {
                  "xaxis": "x1",
                  "colorbar": {
                    "title": ""
                  },
                  "yaxis": "y1",
                  "x": [
                    2
                  ],
                  "showlegend": false,
                  "mode": "markers",
                  "name": "y1",
                  "zmin": 1,
                  "legendgroup": "y1",
                  "marker": {
                    "symbol": "circle",
                    "color": "rgba(255, 76, 76, 1.000)",
                    "line": {
                      "color": "rgba(0, 0, 0, 1.000)",
                      "width": 1
                    },
                    "size": 8
                  },
                  "zmax": 3,
                  "y": [
                    4.6
                  ],
                  "type": "scatter"
                },
                {
                  "xaxis": "x1",
                  "colorbar": {
                    "title": ""
                  },
                  "yaxis": "y1",
                  "x": [
                    2
                  ],
                  "showlegend": false,
                  "mode": "markers",
                  "name": "y1",
                  "zmin": 1,
                  "legendgroup": "y1",
                  "marker": {
                    "symbol": "circle",
                    "color": "rgba(255, 76, 76, 1.000)",
                    "line": {
                      "color": "rgba(0, 0, 0, 1.000)",
                      "width": 1
                    },
                    "size": 8
                  },
                  "zmax": 3,
                  "y": [
                    5.3
                  ],
                  "type": "scatter"
                },
                {
                  "xaxis": "x1",
                  "colorbar": {
                    "title": ""
                  },
                  "yaxis": "y1",
                  "x": [
                    2
                  ],
                  "showlegend": false,
                  "mode": "markers",
                  "name": "y1",
                  "zmin": 1,
                  "legendgroup": "y1",
                  "marker": {
                    "symbol": "circle",
                    "color": "rgba(255, 76, 76, 1.000)",
                    "line": {
                      "color": "rgba(0, 0, 0, 1.000)",
                      "width": 1
                    },
                    "size": 8
                  },
                  "zmax": 3,
                  "y": [
                    4.68
                  ],
                  "type": "scatter"
                },
                {
                  "xaxis": "x1",
                  "colorbar": {
                    "title": ""
                  },
                  "yaxis": "y1",
                  "x": [
                    2
                  ],
                  "showlegend": false,
                  "mode": "markers",
                  "name": "y1",
                  "zmin": 1,
                  "legendgroup": "y1",
                  "marker": {
                    "symbol": "circle",
                    "color": "rgba(204, 76, 204, 1.000)",
                    "line": {
                      "color": "rgba(0, 0, 0, 1.000)",
                      "width": 1
                    },
                    "size": 8
                  },
                  "zmax": 3,
                  "y": [
                    3.17
                  ],
                  "type": "scatter"
                },
                {
                  "xaxis": "x1",
                  "colorbar": {
                    "title": ""
                  },
                  "yaxis": "y1",
                  "x": [
                    2
                  ],
                  "showlegend": false,
                  "mode": "markers",
                  "name": "y1",
                  "zmin": 1,
                  "legendgroup": "y1",
                  "marker": {
                    "symbol": "circle",
                    "color": "rgba(204, 76, 204, 1.000)",
                    "line": {
                      "color": "rgba(0, 0, 0, 1.000)",
                      "width": 1
                    },
                    "size": 8
                  },
                  "zmax": 3,
                  "y": [
                    2.85
                  ],
                  "type": "scatter"
                },
                {
                  "xaxis": "x1",
                  "colorbar": {
                    "title": ""
                  },
                  "yaxis": "y1",
                  "x": [
                    2
                  ],
                  "showlegend": false,
                  "mode": "markers",
                  "name": "y1",
                  "zmin": 1,
                  "legendgroup": "y1",
                  "marker": {
                    "symbol": "circle",
                    "color": "rgba(204, 76, 204, 1.000)",
                    "line": {
                      "color": "rgba(0, 0, 0, 1.000)",
                      "width": 1
                    },
                    "size": 8
                  },
                  "zmax": 3,
                  "y": [
                    3.05
                  ],
                  "type": "scatter"
                },
                {
                  "xaxis": "x1",
                  "colorbar": {
                    "title": ""
                  },
                  "yaxis": "y1",
                  "x": [
                    2
                  ],
                  "showlegend": false,
                  "mode": "markers",
                  "name": "y1",
                  "zmin": 1,
                  "legendgroup": "y1",
                  "marker": {
                    "symbol": "circle",
                    "color": "rgba(204, 76, 204, 1.000)",
                    "line": {
                      "color": "rgba(0, 0, 0, 1.000)",
                      "width": 1
                    },
                    "size": 8
                  },
                  "zmax": 3,
                  "y": [
                    3.38
                  ],
                  "type": "scatter"
                },
                {
                  "xaxis": "x1",
                  "colorbar": {
                    "title": ""
                  },
                  "yaxis": "y1",
                  "x": [
                    2
                  ],
                  "showlegend": false,
                  "mode": "markers",
                  "name": "y1",
                  "zmin": 1,
                  "legendgroup": "y1",
                  "marker": {
                    "symbol": "circle",
                    "color": "rgba(204, 76, 204, 1.000)",
                    "line": {
                      "color": "rgba(0, 0, 0, 1.000)",
                      "width": 1
                    },
                    "size": 8
                  },
                  "zmax": 3,
                  "y": [
                    3.74
                  ],
                  "type": "scatter"
                },
                {
                  "xaxis": "x1",
                  "colorbar": {
                    "title": ""
                  },
                  "yaxis": "y1",
                  "x": [
                    2
                  ],
                  "showlegend": false,
                  "mode": "markers",
                  "name": "y1",
                  "zmin": 1,
                  "legendgroup": "y1",
                  "marker": {
                    "symbol": "circle",
                    "color": "rgba(204, 76, 204, 1.000)",
                    "line": {
                      "color": "rgba(0, 0, 0, 1.000)",
                      "width": 1
                    },
                    "size": 8
                  },
                  "zmax": 3,
                  "y": [
                    3.35
                  ],
                  "type": "scatter"
                },
                {
                  "xaxis": "x1",
                  "colorbar": {
                    "title": ""
                  },
                  "yaxis": "y1",
                  "x": [
                    2
                  ],
                  "showlegend": false,
                  "mode": "markers",
                  "name": "y1",
                  "zmin": 1,
                  "legendgroup": "y1",
                  "marker": {
                    "symbol": "circle",
                    "color": "rgba(204, 76, 204, 1.000)",
                    "line": {
                      "color": "rgba(0, 0, 0, 1.000)",
                      "width": 1
                    },
                    "size": 8
                  },
                  "zmax": 3,
                  "y": [
                    3.21
                  ],
                  "type": "scatter"
                },
                {
                  "xaxis": "x1",
                  "colorbar": {
                    "title": ""
                  },
                  "yaxis": "y1",
                  "x": [
                    2
                  ],
                  "showlegend": false,
                  "mode": "markers",
                  "name": "y1",
                  "zmin": 1,
                  "legendgroup": "y1",
                  "marker": {
                    "symbol": "circle",
                    "color": "rgba(204, 76, 204, 1.000)",
                    "line": {
                      "color": "rgba(0, 0, 0, 1.000)",
                      "width": 1
                    },
                    "size": 8
                  },
                  "zmax": 3,
                  "y": [
                    3.8
                  ],
                  "type": "scatter"
                },
                {
                  "xaxis": "x1",
                  "colorbar": {
                    "title": ""
                  },
                  "yaxis": "y1",
                  "x": [
                    2
                  ],
                  "showlegend": false,
                  "mode": "markers",
                  "name": "y1",
                  "zmin": 1,
                  "legendgroup": "y1",
                  "marker": {
                    "symbol": "circle",
                    "color": "rgba(255, 76, 76, 1.000)",
                    "line": {
                      "color": "rgba(0, 0, 0, 1.000)",
                      "width": 1
                    },
                    "size": 8
                  },
                  "zmax": 3,
                  "y": [
                    4.6
                  ],
                  "type": "scatter"
                },
                {
                  "xaxis": "x1",
                  "colorbar": {
                    "title": ""
                  },
                  "yaxis": "y1",
                  "x": [
                    2
                  ],
                  "showlegend": false,
                  "mode": "markers",
                  "name": "y1",
                  "zmin": 1,
                  "legendgroup": "y1",
                  "marker": {
                    "symbol": "circle",
                    "color": "rgba(204, 76, 204, 1.000)",
                    "line": {
                      "color": "rgba(0, 0, 0, 1.000)",
                      "width": 1
                    },
                    "size": 8
                  },
                  "zmax": 3,
                  "y": [
                    2.65
                  ],
                  "type": "scatter"
                },
                {
                  "xaxis": "x1",
                  "colorbar": {
                    "title": ""
                  },
                  "yaxis": "y1",
                  "x": [
                    2
                  ],
                  "showlegend": false,
                  "mode": "markers",
                  "name": "y1",
                  "zmin": 1,
                  "legendgroup": "y1",
                  "marker": {
                    "symbol": "circle",
                    "color": "rgba(204, 76, 204, 1.000)",
                    "line": {
                      "color": "rgba(0, 0, 0, 1.000)",
                      "width": 1
                    },
                    "size": 8
                  },
                  "zmax": 3,
                  "y": [
                    3.4
                  ],
                  "type": "scatter"
                },
                {
                  "xaxis": "x1",
                  "colorbar": {
                    "title": ""
                  },
                  "yaxis": "y1",
                  "x": [
                    2
                  ],
                  "showlegend": false,
                  "mode": "markers",
                  "name": "y1",
                  "zmin": 1,
                  "legendgroup": "y1",
                  "marker": {
                    "symbol": "circle",
                    "color": "rgba(204, 76, 204, 1.000)",
                    "line": {
                      "color": "rgba(0, 0, 0, 1.000)",
                      "width": 1
                    },
                    "size": 8
                  },
                  "zmax": 3,
                  "y": [
                    2.57
                  ],
                  "type": "scatter"
                },
                {
                  "xaxis": "x1",
                  "colorbar": {
                    "title": ""
                  },
                  "yaxis": "y1",
                  "x": [
                    2
                  ],
                  "showlegend": false,
                  "mode": "markers",
                  "name": "y1",
                  "zmin": 1,
                  "legendgroup": "y1",
                  "marker": {
                    "symbol": "circle",
                    "color": "rgba(204, 76, 204, 1.000)",
                    "line": {
                      "color": "rgba(0, 0, 0, 1.000)",
                      "width": 1
                    },
                    "size": 8
                  },
                  "zmax": 3,
                  "y": [
                    2.5
                  ],
                  "type": "scatter"
                },
                {
                  "xaxis": "x1",
                  "colorbar": {
                    "title": ""
                  },
                  "yaxis": "y1",
                  "x": [
                    2
                  ],
                  "showlegend": false,
                  "mode": "markers",
                  "name": "y1",
                  "zmin": 1,
                  "legendgroup": "y1",
                  "marker": {
                    "symbol": "circle",
                    "color": "rgba(204, 76, 204, 1.000)",
                    "line": {
                      "color": "rgba(0, 0, 0, 1.000)",
                      "width": 1
                    },
                    "size": 8
                  },
                  "zmax": 3,
                  "y": [
                    3.9
                  ],
                  "type": "scatter"
                },
                {
                  "xaxis": "x1",
                  "colorbar": {
                    "title": ""
                  },
                  "yaxis": "y1",
                  "x": [
                    2
                  ],
                  "showlegend": false,
                  "mode": "markers",
                  "name": "y1",
                  "zmin": 1,
                  "legendgroup": "y1",
                  "marker": {
                    "symbol": "circle",
                    "color": "rgba(204, 76, 204, 1.000)",
                    "line": {
                      "color": "rgba(0, 0, 0, 1.000)",
                      "width": 1
                    },
                    "size": 8
                  },
                  "zmax": 3,
                  "y": [
                    2.2
                  ],
                  "type": "scatter"
                },
                {
                  "xaxis": "x1",
                  "colorbar": {
                    "title": ""
                  },
                  "yaxis": "y1",
                  "x": [
                    2
                  ],
                  "showlegend": false,
                  "mode": "markers",
                  "name": "y1",
                  "zmin": 1,
                  "legendgroup": "y1",
                  "marker": {
                    "symbol": "circle",
                    "color": "rgba(255, 76, 76, 1.000)",
                    "line": {
                      "color": "rgba(0, 0, 0, 1.000)",
                      "width": 1
                    },
                    "size": 8
                  },
                  "zmax": 3,
                  "y": [
                    4.8
                  ],
                  "type": "scatter"
                },
                {
                  "xaxis": "x1",
                  "colorbar": {
                    "title": ""
                  },
                  "yaxis": "y1",
                  "x": [
                    2
                  ],
                  "showlegend": false,
                  "mode": "markers",
                  "name": "y1",
                  "zmin": 1,
                  "legendgroup": "y1",
                  "marker": {
                    "symbol": "circle",
                    "color": "rgba(204, 76, 204, 1.000)",
                    "line": {
                      "color": "rgba(0, 0, 0, 1.000)",
                      "width": 1
                    },
                    "size": 8
                  },
                  "zmax": 3,
                  "y": [
                    3.05
                  ],
                  "type": "scatter"
                },
                {
                  "xaxis": "x1",
                  "colorbar": {
                    "title": ""
                  },
                  "yaxis": "y1",
                  "x": [
                    2
                  ],
                  "showlegend": false,
                  "mode": "markers",
                  "name": "y1",
                  "zmin": 1,
                  "legendgroup": "y1",
                  "marker": {
                    "symbol": "circle",
                    "color": "rgba(204, 76, 204, 1.000)",
                    "line": {
                      "color": "rgba(0, 0, 0, 1.000)",
                      "width": 1
                    },
                    "size": 8
                  },
                  "zmax": 3,
                  "y": [
                    2.62
                  ],
                  "type": "scatter"
                },
                {
                  "xaxis": "x1",
                  "colorbar": {
                    "title": ""
                  },
                  "yaxis": "y1",
                  "x": [
                    2
                  ],
                  "showlegend": false,
                  "mode": "markers",
                  "name": "y1",
                  "zmin": 1,
                  "legendgroup": "y1",
                  "marker": {
                    "symbol": "circle",
                    "color": "rgba(204, 76, 204, 1.000)",
                    "line": {
                      "color": "rgba(0, 0, 0, 1.000)",
                      "width": 1
                    },
                    "size": 8
                  },
                  "zmax": 3,
                  "y": [
                    2.45
                  ],
                  "type": "scatter"
                },
                {
                  "xaxis": "x1",
                  "colorbar": {
                    "title": ""
                  },
                  "yaxis": "y1",
                  "x": [
                    2
                  ],
                  "showlegend": false,
                  "mode": "markers",
                  "name": "y1",
                  "zmin": 1,
                  "legendgroup": "y1",
                  "marker": {
                    "symbol": "circle",
                    "color": "rgba(204, 76, 204, 1.000)",
                    "line": {
                      "color": "rgba(0, 0, 0, 1.000)",
                      "width": 1
                    },
                    "size": 8
                  },
                  "zmax": 3,
                  "y": [
                    2.6
                  ],
                  "type": "scatter"
                },
                {
                  "xaxis": "x1",
                  "colorbar": {
                    "title": ""
                  },
                  "yaxis": "y1",
                  "x": [
                    2
                  ],
                  "showlegend": false,
                  "mode": "markers",
                  "name": "y1",
                  "zmin": 1,
                  "legendgroup": "y1",
                  "marker": {
                    "symbol": "circle",
                    "color": "rgba(204, 76, 204, 1.000)",
                    "line": {
                      "color": "rgba(0, 0, 0, 1.000)",
                      "width": 1
                    },
                    "size": 8
                  },
                  "zmax": 3,
                  "y": [
                    2.8
                  ],
                  "type": "scatter"
                },
                {
                  "xaxis": "x1",
                  "colorbar": {
                    "title": ""
                  },
                  "yaxis": "y1",
                  "x": [
                    2
                  ],
                  "showlegend": false,
                  "mode": "markers",
                  "name": "y1",
                  "zmin": 1,
                  "legendgroup": "y1",
                  "marker": {
                    "symbol": "circle",
                    "color": "rgba(204, 76, 204, 1.000)",
                    "line": {
                      "color": "rgba(0, 0, 0, 1.000)",
                      "width": 1
                    },
                    "size": 8
                  },
                  "zmax": 3,
                  "y": [
                    1.74
                  ],
                  "type": "scatter"
                },
                {
                  "xaxis": "x1",
                  "colorbar": {
                    "title": ""
                  },
                  "yaxis": "y1",
                  "x": [
                    2
                  ],
                  "showlegend": false,
                  "mode": "markers",
                  "name": "y1",
                  "zmin": 1,
                  "legendgroup": "y1",
                  "marker": {
                    "symbol": "circle",
                    "color": "rgba(204, 76, 204, 1.000)",
                    "line": {
                      "color": "rgba(0, 0, 0, 1.000)",
                      "width": 1
                    },
                    "size": 8
                  },
                  "zmax": 3,
                  "y": [
                    2.4
                  ],
                  "type": "scatter"
                },
                {
                  "xaxis": "x1",
                  "colorbar": {
                    "title": ""
                  },
                  "yaxis": "y1",
                  "x": [
                    2
                  ],
                  "showlegend": false,
                  "mode": "markers",
                  "name": "y1",
                  "zmin": 1,
                  "legendgroup": "y1",
                  "marker": {
                    "symbol": "circle",
                    "color": "rgba(204, 76, 204, 1.000)",
                    "line": {
                      "color": "rgba(0, 0, 0, 1.000)",
                      "width": 1
                    },
                    "size": 8
                  },
                  "zmax": 3,
                  "y": [
                    3.6
                  ],
                  "type": "scatter"
                },
                {
                  "xaxis": "x1",
                  "colorbar": {
                    "title": ""
                  },
                  "yaxis": "y1",
                  "x": [
                    2
                  ],
                  "showlegend": false,
                  "mode": "markers",
                  "name": "y1",
                  "zmin": 1,
                  "legendgroup": "y1",
                  "marker": {
                    "symbol": "circle",
                    "color": "rgba(204, 76, 204, 1.000)",
                    "line": {
                      "color": "rgba(0, 0, 0, 1.000)",
                      "width": 1
                    },
                    "size": 8
                  },
                  "zmax": 3,
                  "y": [
                    3.05
                  ],
                  "type": "scatter"
                },
                {
                  "xaxis": "x1",
                  "colorbar": {
                    "title": ""
                  },
                  "yaxis": "y1",
                  "x": [
                    2
                  ],
                  "showlegend": false,
                  "mode": "markers",
                  "name": "y1",
                  "zmin": 1,
                  "legendgroup": "y1",
                  "marker": {
                    "symbol": "circle",
                    "color": "rgba(204, 76, 204, 1.000)",
                    "line": {
                      "color": "rgba(0, 0, 0, 1.000)",
                      "width": 1
                    },
                    "size": 8
                  },
                  "zmax": 3,
                  "y": [
                    2.15
                  ],
                  "type": "scatter"
                },
                {
                  "xaxis": "x1",
                  "colorbar": {
                    "title": ""
                  },
                  "yaxis": "y1",
                  "x": [
                    2
                  ],
                  "showlegend": false,
                  "mode": "markers",
                  "name": "y1",
                  "zmin": 1,
                  "legendgroup": "y1",
                  "marker": {
                    "symbol": "circle",
                    "color": "rgba(204, 76, 204, 1.000)",
                    "line": {
                      "color": "rgba(0, 0, 0, 1.000)",
                      "width": 1
                    },
                    "size": 8
                  },
                  "zmax": 3,
                  "y": [
                    3.25
                  ],
                  "type": "scatter"
                },
                {
                  "xaxis": "x1",
                  "colorbar": {
                    "title": ""
                  },
                  "yaxis": "y1",
                  "x": [
                    2
                  ],
                  "showlegend": false,
                  "mode": "markers",
                  "name": "y1",
                  "zmin": 1,
                  "legendgroup": "y1",
                  "marker": {
                    "symbol": "circle",
                    "color": "rgba(204, 76, 204, 1.000)",
                    "line": {
                      "color": "rgba(0, 0, 0, 1.000)",
                      "width": 1
                    },
                    "size": 8
                  },
                  "zmax": 3,
                  "y": [
                    2.6
                  ],
                  "type": "scatter"
                },
                {
                  "xaxis": "x1",
                  "colorbar": {
                    "title": ""
                  },
                  "yaxis": "y1",
                  "x": [
                    2
                  ],
                  "showlegend": false,
                  "mode": "markers",
                  "name": "y1",
                  "zmin": 1,
                  "legendgroup": "y1",
                  "marker": {
                    "symbol": "circle",
                    "color": "rgba(204, 76, 204, 1.000)",
                    "line": {
                      "color": "rgba(0, 0, 0, 1.000)",
                      "width": 1
                    },
                    "size": 8
                  },
                  "zmax": 3,
                  "y": [
                    2.5
                  ],
                  "type": "scatter"
                },
                {
                  "xaxis": "x1",
                  "colorbar": {
                    "title": ""
                  },
                  "yaxis": "y1",
                  "x": [
                    2
                  ],
                  "showlegend": false,
                  "mode": "markers",
                  "name": "y1",
                  "zmin": 1,
                  "legendgroup": "y1",
                  "marker": {
                    "symbol": "circle",
                    "color": "rgba(204, 76, 204, 1.000)",
                    "line": {
                      "color": "rgba(0, 0, 0, 1.000)",
                      "width": 1
                    },
                    "size": 8
                  },
                  "zmax": 3,
                  "y": [
                    2.9
                  ],
                  "type": "scatter"
                },
                {
                  "xaxis": "x1",
                  "colorbar": {
                    "title": ""
                  },
                  "yaxis": "y1",
                  "x": [
                    2
                  ],
                  "showlegend": false,
                  "mode": "markers",
                  "name": "y1",
                  "zmin": 1,
                  "legendgroup": "y1",
                  "marker": {
                    "symbol": "circle",
                    "color": "rgba(255, 76, 76, 1.000)",
                    "line": {
                      "color": "rgba(0, 0, 0, 1.000)",
                      "width": 1
                    },
                    "size": 8
                  },
                  "zmax": 3,
                  "y": [
                    4.5
                  ],
                  "type": "scatter"
                },
                {
                  "xaxis": "x1",
                  "colorbar": {
                    "title": ""
                  },
                  "yaxis": "y1",
                  "x": [
                    2
                  ],
                  "showlegend": false,
                  "mode": "markers",
                  "name": "y1",
                  "zmin": 1,
                  "legendgroup": "y1",
                  "marker": {
                    "symbol": "circle",
                    "color": "rgba(204, 76, 204, 1.000)",
                    "line": {
                      "color": "rgba(0, 0, 0, 1.000)",
                      "width": 1
                    },
                    "size": 8
                  },
                  "zmax": 3,
                  "y": [
                    2.3
                  ],
                  "type": "scatter"
                },
                {
                  "xaxis": "x1",
                  "colorbar": {
                    "title": ""
                  },
                  "yaxis": "y1",
                  "x": [
                    2
                  ],
                  "showlegend": false,
                  "mode": "markers",
                  "name": "y1",
                  "zmin": 1,
                  "legendgroup": "y1",
                  "marker": {
                    "symbol": "circle",
                    "color": "rgba(204, 76, 204, 1.000)",
                    "line": {
                      "color": "rgba(0, 0, 0, 1.000)",
                      "width": 1
                    },
                    "size": 8
                  },
                  "zmax": 3,
                  "y": [
                    3.3
                  ],
                  "type": "scatter"
                },
                {
                  "xaxis": "x1",
                  "colorbar": {
                    "title": ""
                  },
                  "yaxis": "y1",
                  "x": [
                    2
                  ],
                  "showlegend": false,
                  "mode": "markers",
                  "name": "y1",
                  "zmin": 1,
                  "legendgroup": "y1",
                  "marker": {
                    "symbol": "circle",
                    "color": "rgba(204, 76, 204, 1.000)",
                    "line": {
                      "color": "rgba(0, 0, 0, 1.000)",
                      "width": 1
                    },
                    "size": 8
                  },
                  "zmax": 3,
                  "y": [
                    2.45
                  ],
                  "type": "scatter"
                },
                {
                  "xaxis": "x1",
                  "colorbar": {
                    "title": ""
                  },
                  "yaxis": "y1",
                  "x": [
                    2
                  ],
                  "showlegend": false,
                  "mode": "markers",
                  "name": "y1",
                  "zmin": 1,
                  "legendgroup": "y1",
                  "marker": {
                    "symbol": "circle",
                    "color": "rgba(204, 76, 204, 1.000)",
                    "line": {
                      "color": "rgba(0, 0, 0, 1.000)",
                      "width": 1
                    },
                    "size": 8
                  },
                  "zmax": 3,
                  "y": [
                    2.8
                  ],
                  "type": "scatter"
                },
                {
                  "xaxis": "x1",
                  "colorbar": {
                    "title": ""
                  },
                  "yaxis": "y1",
                  "x": [
                    2
                  ],
                  "showlegend": false,
                  "mode": "markers",
                  "name": "y1",
                  "zmin": 1,
                  "legendgroup": "y1",
                  "marker": {
                    "symbol": "circle",
                    "color": "rgba(204, 76, 204, 1.000)",
                    "line": {
                      "color": "rgba(0, 0, 0, 1.000)",
                      "width": 1
                    },
                    "size": 8
                  },
                  "zmax": 3,
                  "y": [
                    2.06
                  ],
                  "type": "scatter"
                },
                {
                  "xaxis": "x1",
                  "colorbar": {
                    "title": ""
                  },
                  "yaxis": "y1",
                  "x": [
                    2
                  ],
                  "showlegend": false,
                  "mode": "markers",
                  "name": "y1",
                  "zmin": 1,
                  "legendgroup": "y1",
                  "marker": {
                    "symbol": "circle",
                    "color": "rgba(204, 76, 204, 1.000)",
                    "line": {
                      "color": "rgba(0, 0, 0, 1.000)",
                      "width": 1
                    },
                    "size": 8
                  },
                  "zmax": 3,
                  "y": [
                    2.94
                  ],
                  "type": "scatter"
                },
                {
                  "xaxis": "x1",
                  "colorbar": {
                    "title": ""
                  },
                  "yaxis": "y1",
                  "x": [
                    2
                  ],
                  "showlegend": false,
                  "mode": "markers",
                  "name": "y1",
                  "zmin": 1,
                  "legendgroup": "y1",
                  "marker": {
                    "symbol": "circle",
                    "color": "rgba(204, 76, 204, 1.000)",
                    "line": {
                      "color": "rgba(0, 0, 0, 1.000)",
                      "width": 1
                    },
                    "size": 8
                  },
                  "zmax": 3,
                  "y": [
                    2.7
                  ],
                  "type": "scatter"
                },
                {
                  "xaxis": "x1",
                  "colorbar": {
                    "title": ""
                  },
                  "yaxis": "y1",
                  "x": [
                    2
                  ],
                  "showlegend": false,
                  "mode": "markers",
                  "name": "y1",
                  "zmin": 1,
                  "legendgroup": "y1",
                  "marker": {
                    "symbol": "circle",
                    "color": "rgba(204, 76, 204, 1.000)",
                    "line": {
                      "color": "rgba(0, 0, 0, 1.000)",
                      "width": 1
                    },
                    "size": 8
                  },
                  "zmax": 3,
                  "y": [
                    3.4
                  ],
                  "type": "scatter"
                },
                {
                  "xaxis": "x1",
                  "colorbar": {
                    "title": ""
                  },
                  "yaxis": "y1",
                  "x": [
                    2
                  ],
                  "showlegend": false,
                  "mode": "markers",
                  "name": "y1",
                  "zmin": 1,
                  "legendgroup": "y1",
                  "marker": {
                    "symbol": "circle",
                    "color": "rgba(204, 76, 204, 1.000)",
                    "line": {
                      "color": "rgba(0, 0, 0, 1.000)",
                      "width": 1
                    },
                    "size": 8
                  },
                  "zmax": 3,
                  "y": [
                    3.3
                  ],
                  "type": "scatter"
                },
                {
                  "xaxis": "x1",
                  "colorbar": {
                    "title": ""
                  },
                  "yaxis": "y1",
                  "x": [
                    2
                  ],
                  "showlegend": false,
                  "mode": "markers",
                  "name": "y1",
                  "zmin": 1,
                  "legendgroup": "y1",
                  "marker": {
                    "symbol": "circle",
                    "color": "rgba(204, 76, 204, 1.000)",
                    "line": {
                      "color": "rgba(0, 0, 0, 1.000)",
                      "width": 1
                    },
                    "size": 8
                  },
                  "zmax": 3,
                  "y": [
                    2.7
                  ],
                  "type": "scatter"
                },
                {
                  "xaxis": "x1",
                  "colorbar": {
                    "title": ""
                  },
                  "yaxis": "y1",
                  "x": [
                    2
                  ],
                  "showlegend": false,
                  "mode": "markers",
                  "name": "y1",
                  "zmin": 1,
                  "legendgroup": "y1",
                  "marker": {
                    "symbol": "circle",
                    "color": "rgba(204, 76, 204, 1.000)",
                    "line": {
                      "color": "rgba(0, 0, 0, 1.000)",
                      "width": 1
                    },
                    "size": 8
                  },
                  "zmax": 3,
                  "y": [
                    2.65
                  ],
                  "type": "scatter"
                },
                {
                  "xaxis": "x1",
                  "colorbar": {
                    "title": ""
                  },
                  "yaxis": "y1",
                  "x": [
                    2
                  ],
                  "showlegend": false,
                  "mode": "markers",
                  "name": "y1",
                  "zmin": 1,
                  "legendgroup": "y1",
                  "marker": {
                    "symbol": "circle",
                    "color": "rgba(204, 76, 204, 1.000)",
                    "line": {
                      "color": "rgba(0, 0, 0, 1.000)",
                      "width": 1
                    },
                    "size": 8
                  },
                  "zmax": 3,
                  "y": [
                    2.9
                  ],
                  "type": "scatter"
                },
                {
                  "xaxis": "x1",
                  "colorbar": {
                    "title": ""
                  },
                  "yaxis": "y1",
                  "x": [
                    2
                  ],
                  "showlegend": false,
                  "mode": "markers",
                  "name": "y1",
                  "zmin": 1,
                  "legendgroup": "y1",
                  "marker": {
                    "symbol": "circle",
                    "color": "rgba(204, 76, 204, 1.000)",
                    "line": {
                      "color": "rgba(0, 0, 0, 1.000)",
                      "width": 1
                    },
                    "size": 8
                  },
                  "zmax": 3,
                  "y": [
                    2
                  ],
                  "type": "scatter"
                },
                {
                  "xaxis": "x1",
                  "colorbar": {
                    "title": ""
                  },
                  "yaxis": "y1",
                  "x": [
                    2
                  ],
                  "showlegend": false,
                  "mode": "markers",
                  "name": "y1",
                  "zmin": 1,
                  "legendgroup": "y1",
                  "marker": {
                    "symbol": "circle",
                    "color": "rgba(204, 76, 204, 1.000)",
                    "line": {
                      "color": "rgba(0, 0, 0, 1.000)",
                      "width": 1
                    },
                    "size": 8
                  },
                  "zmax": 3,
                  "y": [
                    3.8
                  ],
                  "type": "scatter"
                },
                {
                  "xaxis": "x1",
                  "colorbar": {
                    "title": ""
                  },
                  "yaxis": "y1",
                  "x": [
                    2
                  ],
                  "showlegend": false,
                  "mode": "markers",
                  "name": "y1",
                  "zmin": 1,
                  "legendgroup": "y1",
                  "marker": {
                    "symbol": "circle",
                    "color": "rgba(204, 76, 204, 1.000)",
                    "line": {
                      "color": "rgba(0, 0, 0, 1.000)",
                      "width": 1
                    },
                    "size": 8
                  },
                  "zmax": 3,
                  "y": [
                    3.08
                  ],
                  "type": "scatter"
                },
                {
                  "xaxis": "x1",
                  "colorbar": {
                    "title": ""
                  },
                  "yaxis": "y1",
                  "x": [
                    2
                  ],
                  "showlegend": false,
                  "mode": "markers",
                  "name": "y1",
                  "zmin": 1,
                  "legendgroup": "y1",
                  "marker": {
                    "symbol": "circle",
                    "color": "rgba(204, 76, 204, 1.000)",
                    "line": {
                      "color": "rgba(0, 0, 0, 1.000)",
                      "width": 1
                    },
                    "size": 8
                  },
                  "zmax": 3,
                  "y": [
                    2.9
                  ],
                  "type": "scatter"
                },
                {
                  "xaxis": "x1",
                  "colorbar": {
                    "title": ""
                  },
                  "yaxis": "y1",
                  "x": [
                    2
                  ],
                  "showlegend": false,
                  "mode": "markers",
                  "name": "y1",
                  "zmin": 1,
                  "legendgroup": "y1",
                  "marker": {
                    "symbol": "circle",
                    "color": "rgba(204, 76, 204, 1.000)",
                    "line": {
                      "color": "rgba(0, 0, 0, 1.000)",
                      "width": 1
                    },
                    "size": 8
                  },
                  "zmax": 3,
                  "y": [
                    1.9
                  ],
                  "type": "scatter"
                },
                {
                  "xaxis": "x1",
                  "colorbar": {
                    "title": ""
                  },
                  "yaxis": "y1",
                  "x": [
                    2
                  ],
                  "showlegend": false,
                  "mode": "markers",
                  "name": "y1",
                  "zmin": 1,
                  "legendgroup": "y1",
                  "marker": {
                    "symbol": "circle",
                    "color": "rgba(204, 76, 204, 1.000)",
                    "line": {
                      "color": "rgba(0, 0, 0, 1.000)",
                      "width": 1
                    },
                    "size": 8
                  },
                  "zmax": 3,
                  "y": [
                    1.95
                  ],
                  "type": "scatter"
                },
                {
                  "xaxis": "x1",
                  "colorbar": {
                    "title": ""
                  },
                  "yaxis": "y1",
                  "x": [
                    2
                  ],
                  "showlegend": false,
                  "mode": "markers",
                  "name": "y1",
                  "zmin": 1,
                  "legendgroup": "y1",
                  "marker": {
                    "symbol": "circle",
                    "color": "rgba(204, 76, 204, 1.000)",
                    "line": {
                      "color": "rgba(0, 0, 0, 1.000)",
                      "width": 1
                    },
                    "size": 8
                  },
                  "zmax": 3,
                  "y": [
                    2.06
                  ],
                  "type": "scatter"
                },
                {
                  "xaxis": "x1",
                  "colorbar": {
                    "title": ""
                  },
                  "yaxis": "y1",
                  "x": [
                    2
                  ],
                  "showlegend": false,
                  "mode": "markers",
                  "name": "y1",
                  "zmin": 1,
                  "legendgroup": "y1",
                  "marker": {
                    "symbol": "circle",
                    "color": "rgba(204, 76, 204, 1.000)",
                    "line": {
                      "color": "rgba(0, 0, 0, 1.000)",
                      "width": 1
                    },
                    "size": 8
                  },
                  "zmax": 3,
                  "y": [
                    3.4
                  ],
                  "type": "scatter"
                },
                {
                  "xaxis": "x1",
                  "colorbar": {
                    "title": ""
                  },
                  "yaxis": "y1",
                  "x": [
                    2
                  ],
                  "showlegend": false,
                  "mode": "markers",
                  "name": "y1",
                  "zmin": 1,
                  "legendgroup": "y1",
                  "marker": {
                    "symbol": "circle",
                    "color": "rgba(204, 76, 204, 1.000)",
                    "line": {
                      "color": "rgba(0, 0, 0, 1.000)",
                      "width": 1
                    },
                    "size": 8
                  },
                  "zmax": 3,
                  "y": [
                    1.28
                  ],
                  "type": "scatter"
                },
                {
                  "xaxis": "x1",
                  "colorbar": {
                    "title": ""
                  },
                  "yaxis": "y1",
                  "x": [
                    2
                  ],
                  "showlegend": false,
                  "mode": "markers",
                  "name": "y1",
                  "zmin": 1,
                  "legendgroup": "y1",
                  "marker": {
                    "symbol": "circle",
                    "color": "rgba(204, 76, 204, 1.000)",
                    "line": {
                      "color": "rgba(0, 0, 0, 1.000)",
                      "width": 1
                    },
                    "size": 8
                  },
                  "zmax": 3,
                  "y": [
                    3.25
                  ],
                  "type": "scatter"
                },
                {
                  "xaxis": "x1",
                  "colorbar": {
                    "title": ""
                  },
                  "yaxis": "y1",
                  "x": [
                    2
                  ],
                  "showlegend": false,
                  "mode": "markers",
                  "name": "y1",
                  "zmin": 1,
                  "legendgroup": "y1",
                  "marker": {
                    "symbol": "circle",
                    "color": "rgba(255, 76, 76, 1.000)",
                    "line": {
                      "color": "rgba(0, 0, 0, 1.000)",
                      "width": 1
                    },
                    "size": 8
                  },
                  "zmax": 3,
                  "y": [
                    6
                  ],
                  "type": "scatter"
                },
                {
                  "xaxis": "x1",
                  "colorbar": {
                    "title": ""
                  },
                  "yaxis": "y1",
                  "x": [
                    2
                  ],
                  "showlegend": false,
                  "mode": "markers",
                  "name": "y1",
                  "zmin": 1,
                  "legendgroup": "y1",
                  "marker": {
                    "symbol": "circle",
                    "color": "rgba(204, 76, 204, 1.000)",
                    "line": {
                      "color": "rgba(0, 0, 0, 1.000)",
                      "width": 1
                    },
                    "size": 8
                  },
                  "zmax": 3,
                  "y": [
                    2.08
                  ],
                  "type": "scatter"
                },
                {
                  "xaxis": "x1",
                  "colorbar": {
                    "title": ""
                  },
                  "yaxis": "y1",
                  "x": [
                    2
                  ],
                  "showlegend": false,
                  "mode": "markers",
                  "name": "y1",
                  "zmin": 1,
                  "legendgroup": "y1",
                  "marker": {
                    "symbol": "circle",
                    "color": "rgba(204, 76, 204, 1.000)",
                    "line": {
                      "color": "rgba(0, 0, 0, 1.000)",
                      "width": 1
                    },
                    "size": 8
                  },
                  "zmax": 3,
                  "y": [
                    2.6
                  ],
                  "type": "scatter"
                },
                {
                  "xaxis": "x1",
                  "colorbar": {
                    "title": ""
                  },
                  "yaxis": "y1",
                  "x": [
                    2
                  ],
                  "showlegend": false,
                  "mode": "markers",
                  "name": "y1",
                  "zmin": 1,
                  "legendgroup": "y1",
                  "marker": {
                    "symbol": "circle",
                    "color": "rgba(204, 76, 204, 1.000)",
                    "line": {
                      "color": "rgba(0, 0, 0, 1.000)",
                      "width": 1
                    },
                    "size": 8
                  },
                  "zmax": 3,
                  "y": [
                    2.8
                  ],
                  "type": "scatter"
                },
                {
                  "xaxis": "x1",
                  "colorbar": {
                    "title": ""
                  },
                  "yaxis": "y1",
                  "x": [
                    2
                  ],
                  "showlegend": false,
                  "mode": "markers",
                  "name": "y1",
                  "zmin": 1,
                  "legendgroup": "y1",
                  "marker": {
                    "symbol": "circle",
                    "color": "rgba(204, 76, 204, 1.000)",
                    "line": {
                      "color": "rgba(0, 0, 0, 1.000)",
                      "width": 1
                    },
                    "size": 8
                  },
                  "zmax": 3,
                  "y": [
                    2.76
                  ],
                  "type": "scatter"
                },
                {
                  "xaxis": "x1",
                  "colorbar": {
                    "title": ""
                  },
                  "yaxis": "y1",
                  "x": [
                    2
                  ],
                  "showlegend": false,
                  "mode": "markers",
                  "name": "y1",
                  "zmin": 1,
                  "legendgroup": "y1",
                  "marker": {
                    "symbol": "circle",
                    "color": "rgba(204, 76, 204, 1.000)",
                    "line": {
                      "color": "rgba(0, 0, 0, 1.000)",
                      "width": 1
                    },
                    "size": 8
                  },
                  "zmax": 3,
                  "y": [
                    3.94
                  ],
                  "type": "scatter"
                },
                {
                  "xaxis": "x1",
                  "colorbar": {
                    "title": ""
                  },
                  "yaxis": "y1",
                  "x": [
                    2
                  ],
                  "showlegend": false,
                  "mode": "markers",
                  "name": "y1",
                  "zmin": 1,
                  "legendgroup": "y1",
                  "marker": {
                    "symbol": "circle",
                    "color": "rgba(204, 76, 204, 1.000)",
                    "line": {
                      "color": "rgba(0, 0, 0, 1.000)",
                      "width": 1
                    },
                    "size": 8
                  },
                  "zmax": 3,
                  "y": [
                    3
                  ],
                  "type": "scatter"
                },
                {
                  "xaxis": "x1",
                  "colorbar": {
                    "title": ""
                  },
                  "yaxis": "y1",
                  "x": [
                    2
                  ],
                  "showlegend": false,
                  "mode": "markers",
                  "name": "y1",
                  "zmin": 1,
                  "legendgroup": "y1",
                  "marker": {
                    "symbol": "circle",
                    "color": "rgba(204, 76, 204, 1.000)",
                    "line": {
                      "color": "rgba(0, 0, 0, 1.000)",
                      "width": 1
                    },
                    "size": 8
                  },
                  "zmax": 3,
                  "y": [
                    2.12
                  ],
                  "type": "scatter"
                },
                {
                  "xaxis": "x1",
                  "colorbar": {
                    "title": ""
                  },
                  "yaxis": "y1",
                  "x": [
                    2
                  ],
                  "showlegend": false,
                  "mode": "markers",
                  "name": "y1",
                  "zmin": 1,
                  "legendgroup": "y1",
                  "marker": {
                    "symbol": "circle",
                    "color": "rgba(204, 76, 204, 1.000)",
                    "line": {
                      "color": "rgba(0, 0, 0, 1.000)",
                      "width": 1
                    },
                    "size": 8
                  },
                  "zmax": 3,
                  "y": [
                    2.6
                  ],
                  "type": "scatter"
                },
                {
                  "xaxis": "x1",
                  "colorbar": {
                    "title": ""
                  },
                  "yaxis": "y1",
                  "x": [
                    3
                  ],
                  "showlegend": false,
                  "mode": "markers",
                  "name": "y1",
                  "zmin": 1,
                  "legendgroup": "y1",
                  "marker": {
                    "symbol": "circle",
                    "color": "rgba(204, 76, 204, 1.000)",
                    "line": {
                      "color": "rgba(0, 0, 0, 1.000)",
                      "width": 1
                    },
                    "size": 8
                  },
                  "zmax": 3,
                  "y": [
                    4.1
                  ],
                  "type": "scatter"
                },
                {
                  "xaxis": "x1",
                  "colorbar": {
                    "title": ""
                  },
                  "yaxis": "y1",
                  "x": [
                    3
                  ],
                  "showlegend": false,
                  "mode": "markers",
                  "name": "y1",
                  "zmin": 1,
                  "legendgroup": "y1",
                  "marker": {
                    "symbol": "circle",
                    "color": "rgba(255, 76, 76, 1.000)",
                    "line": {
                      "color": "rgba(0, 0, 0, 1.000)",
                      "width": 1
                    },
                    "size": 8
                  },
                  "zmax": 3,
                  "y": [
                    5.4
                  ],
                  "type": "scatter"
                },
                {
                  "xaxis": "x1",
                  "colorbar": {
                    "title": ""
                  },
                  "yaxis": "y1",
                  "x": [
                    3
                  ],
                  "showlegend": false,
                  "mode": "markers",
                  "name": "y1",
                  "zmin": 1,
                  "legendgroup": "y1",
                  "marker": {
                    "symbol": "circle",
                    "color": "rgba(255, 76, 76, 1.000)",
                    "line": {
                      "color": "rgba(0, 0, 0, 1.000)",
                      "width": 1
                    },
                    "size": 8
                  },
                  "zmax": 3,
                  "y": [
                    5.7
                  ],
                  "type": "scatter"
                },
                {
                  "xaxis": "x1",
                  "colorbar": {
                    "title": ""
                  },
                  "yaxis": "y1",
                  "x": [
                    3
                  ],
                  "showlegend": false,
                  "mode": "markers",
                  "name": "y1",
                  "zmin": 1,
                  "legendgroup": "y1",
                  "marker": {
                    "symbol": "circle",
                    "color": "rgba(255, 76, 76, 1.000)",
                    "line": {
                      "color": "rgba(0, 0, 0, 1.000)",
                      "width": 1
                    },
                    "size": 8
                  },
                  "zmax": 3,
                  "y": [
                    5
                  ],
                  "type": "scatter"
                },
                {
                  "xaxis": "x1",
                  "colorbar": {
                    "title": ""
                  },
                  "yaxis": "y1",
                  "x": [
                    3
                  ],
                  "showlegend": false,
                  "mode": "markers",
                  "name": "y1",
                  "zmin": 1,
                  "legendgroup": "y1",
                  "marker": {
                    "symbol": "circle",
                    "color": "rgba(255, 76, 76, 1.000)",
                    "line": {
                      "color": "rgba(0, 0, 0, 1.000)",
                      "width": 1
                    },
                    "size": 8
                  },
                  "zmax": 3,
                  "y": [
                    5.45
                  ],
                  "type": "scatter"
                },
                {
                  "xaxis": "x1",
                  "colorbar": {
                    "title": ""
                  },
                  "yaxis": "y1",
                  "x": [
                    3
                  ],
                  "showlegend": false,
                  "mode": "markers",
                  "name": "y1",
                  "zmin": 1,
                  "legendgroup": "y1",
                  "marker": {
                    "symbol": "circle",
                    "color": "rgba(76, 204, 76, 1.000)",
                    "line": {
                      "color": "rgba(0, 0, 0, 1.000)",
                      "width": 1
                    },
                    "size": 8
                  },
                  "zmax": 3,
                  "y": [
                    7.1
                  ],
                  "type": "scatter"
                },
                {
                  "xaxis": "x1",
                  "colorbar": {
                    "title": ""
                  },
                  "yaxis": "y1",
                  "x": [
                    3
                  ],
                  "showlegend": false,
                  "mode": "markers",
                  "name": "y1",
                  "zmin": 1,
                  "legendgroup": "y1",
                  "marker": {
                    "symbol": "circle",
                    "color": "rgba(204, 76, 204, 1.000)",
                    "line": {
                      "color": "rgba(0, 0, 0, 1.000)",
                      "width": 1
                    },
                    "size": 8
                  },
                  "zmax": 3,
                  "y": [
                    3.85
                  ],
                  "type": "scatter"
                },
                {
                  "xaxis": "x1",
                  "colorbar": {
                    "title": ""
                  },
                  "yaxis": "y1",
                  "x": [
                    3
                  ],
                  "showlegend": false,
                  "mode": "markers",
                  "name": "y1",
                  "zmin": 1,
                  "legendgroup": "y1",
                  "marker": {
                    "symbol": "circle",
                    "color": "rgba(255, 76, 76, 1.000)",
                    "line": {
                      "color": "rgba(0, 0, 0, 1.000)",
                      "width": 1
                    },
                    "size": 8
                  },
                  "zmax": 3,
                  "y": [
                    5
                  ],
                  "type": "scatter"
                },
                {
                  "xaxis": "x1",
                  "colorbar": {
                    "title": ""
                  },
                  "yaxis": "y1",
                  "x": [
                    3
                  ],
                  "showlegend": false,
                  "mode": "markers",
                  "name": "y1",
                  "zmin": 1,
                  "legendgroup": "y1",
                  "marker": {
                    "symbol": "circle",
                    "color": "rgba(255, 76, 76, 1.000)",
                    "line": {
                      "color": "rgba(0, 0, 0, 1.000)",
                      "width": 1
                    },
                    "size": 8
                  },
                  "zmax": 3,
                  "y": [
                    5.7
                  ],
                  "type": "scatter"
                },
                {
                  "xaxis": "x1",
                  "colorbar": {
                    "title": ""
                  },
                  "yaxis": "y1",
                  "x": [
                    3
                  ],
                  "showlegend": false,
                  "mode": "markers",
                  "name": "y1",
                  "zmin": 1,
                  "legendgroup": "y1",
                  "marker": {
                    "symbol": "circle",
                    "color": "rgba(255, 76, 76, 1.000)",
                    "line": {
                      "color": "rgba(0, 0, 0, 1.000)",
                      "width": 1
                    },
                    "size": 8
                  },
                  "zmax": 3,
                  "y": [
                    4.92
                  ],
                  "type": "scatter"
                },
                {
                  "xaxis": "x1",
                  "colorbar": {
                    "title": ""
                  },
                  "yaxis": "y1",
                  "x": [
                    3
                  ],
                  "showlegend": false,
                  "mode": "markers",
                  "name": "y1",
                  "zmin": 1,
                  "legendgroup": "y1",
                  "marker": {
                    "symbol": "circle",
                    "color": "rgba(255, 76, 76, 1.000)",
                    "line": {
                      "color": "rgba(0, 0, 0, 1.000)",
                      "width": 1
                    },
                    "size": 8
                  },
                  "zmax": 3,
                  "y": [
                    4.6
                  ],
                  "type": "scatter"
                },
                {
                  "xaxis": "x1",
                  "colorbar": {
                    "title": ""
                  },
                  "yaxis": "y1",
                  "x": [
                    3
                  ],
                  "showlegend": false,
                  "mode": "markers",
                  "name": "y1",
                  "zmin": 1,
                  "legendgroup": "y1",
                  "marker": {
                    "symbol": "circle",
                    "color": "rgba(255, 76, 76, 1.000)",
                    "line": {
                      "color": "rgba(0, 0, 0, 1.000)",
                      "width": 1
                    },
                    "size": 8
                  },
                  "zmax": 3,
                  "y": [
                    5.6
                  ],
                  "type": "scatter"
                },
                {
                  "xaxis": "x1",
                  "colorbar": {
                    "title": ""
                  },
                  "yaxis": "y1",
                  "x": [
                    3
                  ],
                  "showlegend": false,
                  "mode": "markers",
                  "name": "y1",
                  "zmin": 1,
                  "legendgroup": "y1",
                  "marker": {
                    "symbol": "circle",
                    "color": "rgba(255, 76, 76, 1.000)",
                    "line": {
                      "color": "rgba(0, 0, 0, 1.000)",
                      "width": 1
                    },
                    "size": 8
                  },
                  "zmax": 3,
                  "y": [
                    4.35
                  ],
                  "type": "scatter"
                },
                {
                  "xaxis": "x1",
                  "colorbar": {
                    "title": ""
                  },
                  "yaxis": "y1",
                  "x": [
                    3
                  ],
                  "showlegend": false,
                  "mode": "markers",
                  "name": "y1",
                  "zmin": 1,
                  "legendgroup": "y1",
                  "marker": {
                    "symbol": "circle",
                    "color": "rgba(255, 76, 76, 1.000)",
                    "line": {
                      "color": "rgba(0, 0, 0, 1.000)",
                      "width": 1
                    },
                    "size": 8
                  },
                  "zmax": 3,
                  "y": [
                    4.4
                  ],
                  "type": "scatter"
                },
                {
                  "xaxis": "x1",
                  "colorbar": {
                    "title": ""
                  },
                  "yaxis": "y1",
                  "x": [
                    3
                  ],
                  "showlegend": false,
                  "mode": "markers",
                  "name": "y1",
                  "zmin": 1,
                  "legendgroup": "y1",
                  "marker": {
                    "symbol": "circle",
                    "color": "rgba(76, 204, 76, 1.000)",
                    "line": {
                      "color": "rgba(0, 0, 0, 1.000)",
                      "width": 1
                    },
                    "size": 8
                  },
                  "zmax": 3,
                  "y": [
                    8.21
                  ],
                  "type": "scatter"
                },
                {
                  "xaxis": "x1",
                  "colorbar": {
                    "title": ""
                  },
                  "yaxis": "y1",
                  "x": [
                    3
                  ],
                  "showlegend": false,
                  "mode": "markers",
                  "name": "y1",
                  "zmin": 1,
                  "legendgroup": "y1",
                  "marker": {
                    "symbol": "circle",
                    "color": "rgba(204, 76, 204, 1.000)",
                    "line": {
                      "color": "rgba(0, 0, 0, 1.000)",
                      "width": 1
                    },
                    "size": 8
                  },
                  "zmax": 3,
                  "y": [
                    4
                  ],
                  "type": "scatter"
                },
                {
                  "xaxis": "x1",
                  "colorbar": {
                    "title": ""
                  },
                  "yaxis": "y1",
                  "x": [
                    3
                  ],
                  "showlegend": false,
                  "mode": "markers",
                  "name": "y1",
                  "zmin": 1,
                  "legendgroup": "y1",
                  "marker": {
                    "symbol": "circle",
                    "color": "rgba(255, 76, 76, 1.000)",
                    "line": {
                      "color": "rgba(0, 0, 0, 1.000)",
                      "width": 1
                    },
                    "size": 8
                  },
                  "zmax": 3,
                  "y": [
                    4.9
                  ],
                  "type": "scatter"
                },
                {
                  "xaxis": "x1",
                  "colorbar": {
                    "title": ""
                  },
                  "yaxis": "y1",
                  "x": [
                    3
                  ],
                  "showlegend": false,
                  "mode": "markers",
                  "name": "y1",
                  "zmin": 1,
                  "legendgroup": "y1",
                  "marker": {
                    "symbol": "circle",
                    "color": "rgba(76, 204, 76, 1.000)",
                    "line": {
                      "color": "rgba(0, 0, 0, 1.000)",
                      "width": 1
                    },
                    "size": 8
                  },
                  "zmax": 3,
                  "y": [
                    7.65
                  ],
                  "type": "scatter"
                },
                {
                  "xaxis": "x1",
                  "colorbar": {
                    "title": ""
                  },
                  "yaxis": "y1",
                  "x": [
                    3
                  ],
                  "showlegend": false,
                  "mode": "markers",
                  "name": "y1",
                  "zmin": 1,
                  "legendgroup": "y1",
                  "marker": {
                    "symbol": "circle",
                    "color": "rgba(76, 204, 76, 1.000)",
                    "line": {
                      "color": "rgba(0, 0, 0, 1.000)",
                      "width": 1
                    },
                    "size": 8
                  },
                  "zmax": 3,
                  "y": [
                    8.42
                  ],
                  "type": "scatter"
                },
                {
                  "xaxis": "x1",
                  "colorbar": {
                    "title": ""
                  },
                  "yaxis": "y1",
                  "x": [
                    3
                  ],
                  "showlegend": false,
                  "mode": "markers",
                  "name": "y1",
                  "zmin": 1,
                  "legendgroup": "y1",
                  "marker": {
                    "symbol": "circle",
                    "color": "rgba(76, 204, 76, 1.000)",
                    "line": {
                      "color": "rgba(0, 0, 0, 1.000)",
                      "width": 1
                    },
                    "size": 8
                  },
                  "zmax": 3,
                  "y": [
                    9.4
                  ],
                  "type": "scatter"
                },
                {
                  "xaxis": "x1",
                  "colorbar": {
                    "title": ""
                  },
                  "yaxis": "y1",
                  "x": [
                    3
                  ],
                  "showlegend": false,
                  "mode": "markers",
                  "name": "y1",
                  "zmin": 1,
                  "legendgroup": "y1",
                  "marker": {
                    "symbol": "circle",
                    "color": "rgba(76, 204, 76, 1.000)",
                    "line": {
                      "color": "rgba(0, 0, 0, 1.000)",
                      "width": 1
                    },
                    "size": 8
                  },
                  "zmax": 3,
                  "y": [
                    8.6
                  ],
                  "type": "scatter"
                },
                {
                  "xaxis": "x1",
                  "colorbar": {
                    "title": ""
                  },
                  "yaxis": "y1",
                  "x": [
                    3
                  ],
                  "showlegend": false,
                  "mode": "markers",
                  "name": "y1",
                  "zmin": 1,
                  "legendgroup": "y1",
                  "marker": {
                    "symbol": "circle",
                    "color": "rgba(76, 204, 76, 1.000)",
                    "line": {
                      "color": "rgba(0, 0, 0, 1.000)",
                      "width": 1
                    },
                    "size": 8
                  },
                  "zmax": 3,
                  "y": [
                    10.8
                  ],
                  "type": "scatter"
                },
                {
                  "xaxis": "x1",
                  "colorbar": {
                    "title": ""
                  },
                  "yaxis": "y1",
                  "x": [
                    3
                  ],
                  "showlegend": false,
                  "mode": "markers",
                  "name": "y1",
                  "zmin": 1,
                  "legendgroup": "y1",
                  "marker": {
                    "symbol": "circle",
                    "color": "rgba(76, 204, 76, 1.000)",
                    "line": {
                      "color": "rgba(0, 0, 0, 1.000)",
                      "width": 1
                    },
                    "size": 8
                  },
                  "zmax": 3,
                  "y": [
                    7.1
                  ],
                  "type": "scatter"
                },
                {
                  "xaxis": "x1",
                  "colorbar": {
                    "title": ""
                  },
                  "yaxis": "y1",
                  "x": [
                    3
                  ],
                  "showlegend": false,
                  "mode": "markers",
                  "name": "y1",
                  "zmin": 1,
                  "legendgroup": "y1",
                  "marker": {
                    "symbol": "circle",
                    "color": "rgba(76, 204, 76, 1.000)",
                    "line": {
                      "color": "rgba(0, 0, 0, 1.000)",
                      "width": 1
                    },
                    "size": 8
                  },
                  "zmax": 3,
                  "y": [
                    10.52
                  ],
                  "type": "scatter"
                },
                {
                  "xaxis": "x1",
                  "colorbar": {
                    "title": ""
                  },
                  "yaxis": "y1",
                  "x": [
                    3
                  ],
                  "showlegend": false,
                  "mode": "markers",
                  "name": "y1",
                  "zmin": 1,
                  "legendgroup": "y1",
                  "marker": {
                    "symbol": "circle",
                    "color": "rgba(76, 204, 76, 1.000)",
                    "line": {
                      "color": "rgba(0, 0, 0, 1.000)",
                      "width": 1
                    },
                    "size": 8
                  },
                  "zmax": 3,
                  "y": [
                    7.6
                  ],
                  "type": "scatter"
                },
                {
                  "xaxis": "x1",
                  "colorbar": {
                    "title": ""
                  },
                  "yaxis": "y1",
                  "x": [
                    3
                  ],
                  "showlegend": false,
                  "mode": "markers",
                  "name": "y1",
                  "zmin": 1,
                  "legendgroup": "y1",
                  "marker": {
                    "symbol": "circle",
                    "color": "rgba(76, 204, 76, 1.000)",
                    "line": {
                      "color": "rgba(0, 0, 0, 1.000)",
                      "width": 1
                    },
                    "size": 8
                  },
                  "zmax": 3,
                  "y": [
                    7.9
                  ],
                  "type": "scatter"
                },
                {
                  "xaxis": "x1",
                  "colorbar": {
                    "title": ""
                  },
                  "yaxis": "y1",
                  "x": [
                    3
                  ],
                  "showlegend": false,
                  "mode": "markers",
                  "name": "y1",
                  "zmin": 1,
                  "legendgroup": "y1",
                  "marker": {
                    "symbol": "circle",
                    "color": "rgba(76, 204, 76, 1.000)",
                    "line": {
                      "color": "rgba(0, 0, 0, 1.000)",
                      "width": 1
                    },
                    "size": 8
                  },
                  "zmax": 3,
                  "y": [
                    9.01
                  ],
                  "type": "scatter"
                },
                {
                  "xaxis": "x1",
                  "colorbar": {
                    "title": ""
                  },
                  "yaxis": "y1",
                  "x": [
                    3
                  ],
                  "showlegend": false,
                  "mode": "markers",
                  "name": "y1",
                  "zmin": 1,
                  "legendgroup": "y1",
                  "marker": {
                    "symbol": "circle",
                    "color": "rgba(76, 204, 76, 1.000)",
                    "line": {
                      "color": "rgba(0, 0, 0, 1.000)",
                      "width": 1
                    },
                    "size": 8
                  },
                  "zmax": 3,
                  "y": [
                    7.5
                  ],
                  "type": "scatter"
                },
                {
                  "xaxis": "x1",
                  "colorbar": {
                    "title": ""
                  },
                  "yaxis": "y1",
                  "x": [
                    3
                  ],
                  "showlegend": false,
                  "mode": "markers",
                  "name": "y1",
                  "zmin": 1,
                  "legendgroup": "y1",
                  "marker": {
                    "symbol": "circle",
                    "color": "rgba(76, 204, 76, 1.000)",
                    "line": {
                      "color": "rgba(0, 0, 0, 1.000)",
                      "width": 1
                    },
                    "size": 8
                  },
                  "zmax": 3,
                  "y": [
                    13
                  ],
                  "type": "scatter"
                },
                {
                  "xaxis": "x1",
                  "colorbar": {
                    "title": ""
                  },
                  "yaxis": "y1",
                  "x": [
                    3
                  ],
                  "showlegend": false,
                  "mode": "markers",
                  "name": "y1",
                  "zmin": 1,
                  "legendgroup": "y1",
                  "marker": {
                    "symbol": "circle",
                    "color": "rgba(76, 204, 76, 1.000)",
                    "line": {
                      "color": "rgba(0, 0, 0, 1.000)",
                      "width": 1
                    },
                    "size": 8
                  },
                  "zmax": 3,
                  "y": [
                    11.75
                  ],
                  "type": "scatter"
                },
                {
                  "xaxis": "x1",
                  "colorbar": {
                    "title": ""
                  },
                  "yaxis": "y1",
                  "x": [
                    3
                  ],
                  "showlegend": false,
                  "mode": "markers",
                  "name": "y1",
                  "zmin": 1,
                  "legendgroup": "y1",
                  "marker": {
                    "symbol": "circle",
                    "color": "rgba(76, 204, 76, 1.000)",
                    "line": {
                      "color": "rgba(0, 0, 0, 1.000)",
                      "width": 1
                    },
                    "size": 8
                  },
                  "zmax": 3,
                  "y": [
                    7.65
                  ],
                  "type": "scatter"
                },
                {
                  "xaxis": "x1",
                  "colorbar": {
                    "title": ""
                  },
                  "yaxis": "y1",
                  "x": [
                    3
                  ],
                  "showlegend": false,
                  "mode": "markers",
                  "name": "y1",
                  "zmin": 1,
                  "legendgroup": "y1",
                  "marker": {
                    "symbol": "circle",
                    "color": "rgba(255, 76, 76, 1.000)",
                    "line": {
                      "color": "rgba(0, 0, 0, 1.000)",
                      "width": 1
                    },
                    "size": 8
                  },
                  "zmax": 3,
                  "y": [
                    5.88
                  ],
                  "type": "scatter"
                },
                {
                  "xaxis": "x1",
                  "colorbar": {
                    "title": ""
                  },
                  "yaxis": "y1",
                  "x": [
                    3
                  ],
                  "showlegend": false,
                  "mode": "markers",
                  "name": "y1",
                  "zmin": 1,
                  "legendgroup": "y1",
                  "marker": {
                    "symbol": "circle",
                    "color": "rgba(255, 76, 76, 1.000)",
                    "line": {
                      "color": "rgba(0, 0, 0, 1.000)",
                      "width": 1
                    },
                    "size": 8
                  },
                  "zmax": 3,
                  "y": [
                    5.58
                  ],
                  "type": "scatter"
                },
                {
                  "xaxis": "x1",
                  "colorbar": {
                    "title": ""
                  },
                  "yaxis": "y1",
                  "x": [
                    3
                  ],
                  "showlegend": false,
                  "mode": "markers",
                  "name": "y1",
                  "zmin": 1,
                  "legendgroup": "y1",
                  "marker": {
                    "symbol": "circle",
                    "color": "rgba(255, 76, 76, 1.000)",
                    "line": {
                      "color": "rgba(0, 0, 0, 1.000)",
                      "width": 1
                    },
                    "size": 8
                  },
                  "zmax": 3,
                  "y": [
                    5.28
                  ],
                  "type": "scatter"
                },
                {
                  "xaxis": "x1",
                  "colorbar": {
                    "title": ""
                  },
                  "yaxis": "y1",
                  "x": [
                    3
                  ],
                  "showlegend": false,
                  "mode": "markers",
                  "name": "y1",
                  "zmin": 1,
                  "legendgroup": "y1",
                  "marker": {
                    "symbol": "circle",
                    "color": "rgba(76, 204, 76, 1.000)",
                    "line": {
                      "color": "rgba(0, 0, 0, 1.000)",
                      "width": 1
                    },
                    "size": 8
                  },
                  "zmax": 3,
                  "y": [
                    9.58
                  ],
                  "type": "scatter"
                },
                {
                  "xaxis": "x1",
                  "colorbar": {
                    "title": ""
                  },
                  "yaxis": "y1",
                  "x": [
                    3
                  ],
                  "showlegend": false,
                  "mode": "markers",
                  "name": "y1",
                  "zmin": 1,
                  "legendgroup": "y1",
                  "marker": {
                    "symbol": "circle",
                    "color": "rgba(255, 76, 76, 1.000)",
                    "line": {
                      "color": "rgba(0, 0, 0, 1.000)",
                      "width": 1
                    },
                    "size": 8
                  },
                  "zmax": 3,
                  "y": [
                    6.62
                  ],
                  "type": "scatter"
                },
                {
                  "xaxis": "x1",
                  "colorbar": {
                    "title": ""
                  },
                  "yaxis": "y1",
                  "x": [
                    3
                  ],
                  "showlegend": false,
                  "mode": "markers",
                  "name": "y1",
                  "zmin": 1,
                  "legendgroup": "y1",
                  "marker": {
                    "symbol": "circle",
                    "color": "rgba(76, 204, 76, 1.000)",
                    "line": {
                      "color": "rgba(0, 0, 0, 1.000)",
                      "width": 1
                    },
                    "size": 8
                  },
                  "zmax": 3,
                  "y": [
                    10.68
                  ],
                  "type": "scatter"
                },
                {
                  "xaxis": "x1",
                  "colorbar": {
                    "title": ""
                  },
                  "yaxis": "y1",
                  "x": [
                    3
                  ],
                  "showlegend": false,
                  "mode": "markers",
                  "name": "y1",
                  "zmin": 1,
                  "legendgroup": "y1",
                  "marker": {
                    "symbol": "circle",
                    "color": "rgba(76, 204, 76, 1.000)",
                    "line": {
                      "color": "rgba(0, 0, 0, 1.000)",
                      "width": 1
                    },
                    "size": 8
                  },
                  "zmax": 3,
                  "y": [
                    10.26
                  ],
                  "type": "scatter"
                },
                {
                  "xaxis": "x1",
                  "colorbar": {
                    "title": ""
                  },
                  "yaxis": "y1",
                  "x": [
                    3
                  ],
                  "showlegend": false,
                  "mode": "markers",
                  "name": "y1",
                  "zmin": 1,
                  "legendgroup": "y1",
                  "marker": {
                    "symbol": "circle",
                    "color": "rgba(76, 204, 76, 1.000)",
                    "line": {
                      "color": "rgba(0, 0, 0, 1.000)",
                      "width": 1
                    },
                    "size": 8
                  },
                  "zmax": 3,
                  "y": [
                    8.66
                  ],
                  "type": "scatter"
                },
                {
                  "xaxis": "x1",
                  "colorbar": {
                    "title": ""
                  },
                  "yaxis": "y1",
                  "x": [
                    3
                  ],
                  "showlegend": false,
                  "mode": "markers",
                  "name": "y1",
                  "zmin": 1,
                  "legendgroup": "y1",
                  "marker": {
                    "symbol": "circle",
                    "color": "rgba(76, 204, 76, 1.000)",
                    "line": {
                      "color": "rgba(0, 0, 0, 1.000)",
                      "width": 1
                    },
                    "size": 8
                  },
                  "zmax": 3,
                  "y": [
                    8.5
                  ],
                  "type": "scatter"
                },
                {
                  "xaxis": "x1",
                  "colorbar": {
                    "title": ""
                  },
                  "yaxis": "y1",
                  "x": [
                    3
                  ],
                  "showlegend": false,
                  "mode": "markers",
                  "name": "y1",
                  "zmin": 1,
                  "legendgroup": "y1",
                  "marker": {
                    "symbol": "circle",
                    "color": "rgba(255, 76, 76, 1.000)",
                    "line": {
                      "color": "rgba(0, 0, 0, 1.000)",
                      "width": 1
                    },
                    "size": 8
                  },
                  "zmax": 3,
                  "y": [
                    5.5
                  ],
                  "type": "scatter"
                },
                {
                  "xaxis": "x1",
                  "colorbar": {
                    "title": ""
                  },
                  "yaxis": "y1",
                  "x": [
                    3
                  ],
                  "showlegend": false,
                  "mode": "markers",
                  "name": "y1",
                  "zmin": 1,
                  "legendgroup": "y1",
                  "marker": {
                    "symbol": "circle",
                    "color": "rgba(76, 204, 76, 1.000)",
                    "line": {
                      "color": "rgba(0, 0, 0, 1.000)",
                      "width": 1
                    },
                    "size": 8
                  },
                  "zmax": 3,
                  "y": [
                    9.9
                  ],
                  "type": "scatter"
                },
                {
                  "xaxis": "x1",
                  "colorbar": {
                    "title": ""
                  },
                  "yaxis": "y1",
                  "x": [
                    3
                  ],
                  "showlegend": false,
                  "mode": "markers",
                  "name": "y1",
                  "zmin": 1,
                  "legendgroup": "y1",
                  "marker": {
                    "symbol": "circle",
                    "color": "rgba(76, 204, 76, 1.000)",
                    "line": {
                      "color": "rgba(0, 0, 0, 1.000)",
                      "width": 1
                    },
                    "size": 8
                  },
                  "zmax": 3,
                  "y": [
                    9.7
                  ],
                  "type": "scatter"
                },
                {
                  "xaxis": "x1",
                  "colorbar": {
                    "title": ""
                  },
                  "yaxis": "y1",
                  "x": [
                    3
                  ],
                  "showlegend": false,
                  "mode": "markers",
                  "name": "y1",
                  "zmin": 1,
                  "legendgroup": "y1",
                  "marker": {
                    "symbol": "circle",
                    "color": "rgba(76, 204, 76, 1.000)",
                    "line": {
                      "color": "rgba(0, 0, 0, 1.000)",
                      "width": 1
                    },
                    "size": 8
                  },
                  "zmax": 3,
                  "y": [
                    7.7
                  ],
                  "type": "scatter"
                },
                {
                  "xaxis": "x1",
                  "colorbar": {
                    "title": ""
                  },
                  "yaxis": "y1",
                  "x": [
                    3
                  ],
                  "showlegend": false,
                  "mode": "markers",
                  "name": "y1",
                  "zmin": 1,
                  "legendgroup": "y1",
                  "marker": {
                    "symbol": "circle",
                    "color": "rgba(76, 204, 76, 1.000)",
                    "line": {
                      "color": "rgba(0, 0, 0, 1.000)",
                      "width": 1
                    },
                    "size": 8
                  },
                  "zmax": 3,
                  "y": [
                    7.3
                  ],
                  "type": "scatter"
                },
                {
                  "xaxis": "x1",
                  "colorbar": {
                    "title": ""
                  },
                  "yaxis": "y1",
                  "x": [
                    3
                  ],
                  "showlegend": false,
                  "mode": "markers",
                  "name": "y1",
                  "zmin": 1,
                  "legendgroup": "y1",
                  "marker": {
                    "symbol": "circle",
                    "color": "rgba(76, 204, 76, 1.000)",
                    "line": {
                      "color": "rgba(0, 0, 0, 1.000)",
                      "width": 1
                    },
                    "size": 8
                  },
                  "zmax": 3,
                  "y": [
                    10.2
                  ],
                  "type": "scatter"
                },
                {
                  "xaxis": "x1",
                  "colorbar": {
                    "title": ""
                  },
                  "yaxis": "y1",
                  "x": [
                    3
                  ],
                  "showlegend": false,
                  "mode": "markers",
                  "name": "y1",
                  "zmin": 1,
                  "legendgroup": "y1",
                  "marker": {
                    "symbol": "circle",
                    "color": "rgba(76, 204, 76, 1.000)",
                    "line": {
                      "color": "rgba(0, 0, 0, 1.000)",
                      "width": 1
                    },
                    "size": 8
                  },
                  "zmax": 3,
                  "y": [
                    9.3
                  ],
                  "type": "scatter"
                },
                {
                  "xaxis": "x1",
                  "colorbar": {
                    "title": ""
                  },
                  "yaxis": "y1",
                  "x": [
                    3
                  ],
                  "showlegend": false,
                  "mode": "markers",
                  "name": "y1",
                  "zmin": 1,
                  "legendgroup": "y1",
                  "marker": {
                    "symbol": "circle",
                    "color": "rgba(76, 204, 76, 1.000)",
                    "line": {
                      "color": "rgba(0, 0, 0, 1.000)",
                      "width": 1
                    },
                    "size": 8
                  },
                  "zmax": 3,
                  "y": [
                    9.2
                  ],
                  "type": "scatter"
                },
                {
                  "xaxis": "x1",
                  "colorbar": {
                    "title": ""
                  },
                  "yaxis": "y1",
                  "x": [
                    1
                  ],
                  "showlegend": false,
                  "mode": "markers",
                  "name": "y1",
                  "zmin": 1,
                  "marker": {
                    "color": [
                      0.5
                    ],
                    "cmin": 1,
                    "opacity": 0,
                    "size": 0,
                    "colorscale": [
                      [
                        0,
                        "rgba(204, 76, 204, 1.000)"
                      ],
                      [
                        0.25,
                        "rgba(76, 76, 255, 1.000)"
                      ],
                      [
                        0.5,
                        "rgba(76, 204, 76, 1.000)"
                      ],
                      [
                        0.75,
                        "rgba(255, 242, 76, 1.000)"
                      ],
                      [
                        1,
                        "rgba(255, 76, 76, 1.000)"
                      ]
                    ],
                    "cmax": 3,
                    "showscale": false
                  },
                  "zmax": 3,
                  "y": [
                    5.64
                  ],
                  "type": "scatter",
                  "hoverinfo": "none"
                }
              ]
            }
          },
          "metadata": {}
        }
      ],
      "execution_count": 5,
      "metadata": {
        "collapsed": true,
        "jupyter": {
          "source_hidden": false,
          "outputs_hidden": false
        },
        "nteract": {
          "transient": {
            "deleting": false
          }
        },
        "execution": {
          "iopub.status.busy": "2020-10-27T19:38:56.622Z",
          "iopub.execute_input": "2020-10-27T19:38:56.645Z",
          "iopub.status.idle": "2020-10-27T19:38:57.051Z"
        }
      }
    }
  ],
  "metadata": {
    "kernel_info": {
      "name": "julia-1.5"
    },
    "language_info": {
      "file_extension": ".jl",
      "name": "julia",
      "mimetype": "application/julia",
      "version": "1.5.0"
    },
    "kernelspec": {
      "argv": [
        "C:\\Users\\theve\\AppData\\Local\\Programs\\Julia 1.5.0\\bin\\julia.exe",
        "-i",
        "--startup-file=yes",
        "--color=yes",
        "--project=@.",
        "C:\\Users\\theve\\.julia\\packages\\IJulia\\tOM8L\\src\\kernel.jl",
        "{connection_file}"
      ],
      "display_name": "Julia 1.5.0",
      "env": {},
      "interrupt_mode": "message",
      "language": "julia",
      "name": "julia-1.5"
    },
    "nteract": {
      "version": "0.25.1"
    }
  },
  "nbformat": 4,
  "nbformat_minor": 0
}